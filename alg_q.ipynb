{
 "cells": [
  {
   "cell_type": "code",
   "execution_count": 84,
   "metadata": {},
   "outputs": [],
   "source": [
    "import numpy as np\n",
    "N = 4\n",
    "M = 5\n",
    "G = 1\n",
    "\n",
    "# stud = [1,1,3,3,3]\n",
    "stud = [1,2,1,2,2]"
   ]
  },
  {
   "cell_type": "code",
   "execution_count": 85,
   "metadata": {},
   "outputs": [
    {
     "data": {
      "text/plain": [
       "{1: (0, 2), 2: (1, 4)}"
      ]
     },
     "execution_count": 85,
     "metadata": {},
     "output_type": "execute_result"
    }
   ],
   "source": [
    "from collections import defaultdict\n",
    "\n",
    "def minmax_range(lis):\n",
    "    start = defaultdict(lambda: float('inf'))\n",
    "    end = defaultdict(lambda: float('-inf'))\n",
    "\n",
    "    for i in range(len(lis)):\n",
    "        v = stud[i]\n",
    "        start[v] = min(start[v], i)\n",
    "        end[v] = max(end[v], i)\n",
    "    minmax = {k:(start[k],end[k]) for k in start.keys()}\n",
    "    return minmax\n",
    "\n",
    "minmax_range(stud)"
   ]
  },
  {
   "cell_type": "code",
   "execution_count": 86,
   "metadata": {},
   "outputs": [
    {
     "data": {
      "text/plain": [
       "'NO'"
      ]
     },
     "execution_count": 86,
     "metadata": {},
     "output_type": "execute_result"
    }
   ],
   "source": [
    "def overlap(lis, N, M, G):\n",
    "    cnt = np.zeros(M)\n",
    "    minmax = minmax_range(lis)\n",
    "    for k, (start, end) in minmax.items():\n",
    "        cnt[start:end+1] += 1\n",
    "        \n",
    "    if any(cnt > G):\n",
    "        return 'NO'\n",
    "    return 'YES'\n",
    "\n",
    "overlap(stud, N, M, G)"
   ]
  },
  {
   "cell_type": "code",
   "execution_count": 159,
   "metadata": {},
   "outputs": [
    {
     "name": "stdout",
     "output_type": "stream",
     "text": [
      "10 6 4\n",
      "[ 2  8 10  8  6 10]\n"
     ]
    },
    {
     "data": {
      "text/plain": [
       "'YES'"
      ]
     },
     "execution_count": 159,
     "metadata": {},
     "output_type": "execute_result"
    }
   ],
   "source": [
    "from numpy.random import randint\n",
    "N = randint(10) + 1\n",
    "M = randint(20) + 1\n",
    "G = randint(5) + 1\n",
    "print(N, M, G)\n",
    "stud = randint(N, size=M) + 1\n",
    "print(stud)\n",
    "\n",
    "overlap(stud, N, M, G)"
   ]
  }
 ],
 "metadata": {
  "kernelspec": {
   "display_name": "Python 3.10.8 64-bit (microsoft store)",
   "language": "python",
   "name": "python3"
  },
  "language_info": {
   "codemirror_mode": {
    "name": "ipython",
    "version": 3
   },
   "file_extension": ".py",
   "mimetype": "text/x-python",
   "name": "python",
   "nbconvert_exporter": "python",
   "pygments_lexer": "ipython3",
   "version": "3.10.8"
  },
  "orig_nbformat": 4,
  "vscode": {
   "interpreter": {
    "hash": "d0d9de1bd73e5057d6899d8fb9583eaa7e585bedee5ed3c304303aa57f28dd3f"
   }
  }
 },
 "nbformat": 4,
 "nbformat_minor": 2
}
