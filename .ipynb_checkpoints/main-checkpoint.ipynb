{
 "cells": [
  {
   "cell_type": "markdown",
   "id": "6aa50845-f5cf-4119-9be2-c31d0b4b84e4",
   "metadata": {
    "id": "2a4c3a65",
    "tags": []
   },
   "source": [
    "# 2.1 Getting your data + feature engineering\n",
    "___"
   ]
  },
  {
   "cell_type": "markdown",
   "id": "011a6d56-3f97-45e1-9708-3389d2336e0a",
   "metadata": {
    "id": "2a4c3a65",
    "tags": []
   },
   "source": [
    "## 2.1.1\n",
    "\n",
    "*Access to the data found in [this dataset](https://www.kaggle.com/datasets/shivamb/bank-customer-segmentation) (it is the same dataset from the previous question 1.1).*"
   ]
  },
  {
   "cell_type": "code",
   "execution_count": 1,
   "id": "21cc570c-72b1-44a4-895c-f79c1ee1e4a8",
   "metadata": {
    "id": "cc1da086"
   },
   "outputs": [],
   "source": [
    "import pandas as pd\n",
    "import numpy as np\n",
    "from tqdm import tqdm, tqdm_notebook\n",
    "tqdm.pandas()"
   ]
  },
  {
   "cell_type": "markdown",
   "id": "79a2e9ad-2aef-4f98-b5f3-4c908048a001",
   "metadata": {},
   "source": [
    "To start brom the beginning"
   ]
  },
  {
   "cell_type": "code",
   "execution_count": 2,
   "id": "bf744e1a-5679-46fa-bf76-ec58452e04e5",
   "metadata": {
    "scrolled": true
   },
   "outputs": [
    {
     "data": {
      "text/html": [
       "<div>\n",
       "<style scoped>\n",
       "    .dataframe tbody tr th:only-of-type {\n",
       "        vertical-align: middle;\n",
       "    }\n",
       "\n",
       "    .dataframe tbody tr th {\n",
       "        vertical-align: top;\n",
       "    }\n",
       "\n",
       "    .dataframe thead th {\n",
       "        text-align: right;\n",
       "    }\n",
       "</style>\n",
       "<table border=\"1\" class=\"dataframe\">\n",
       "  <thead>\n",
       "    <tr style=\"text-align: right;\">\n",
       "      <th></th>\n",
       "      <th>TransactionID</th>\n",
       "      <th>CustomerID</th>\n",
       "      <th>CustomerDOB</th>\n",
       "      <th>CustGender</th>\n",
       "      <th>CustLocation</th>\n",
       "      <th>CustAccountBalance</th>\n",
       "      <th>TransactionDate</th>\n",
       "      <th>TransactionTime</th>\n",
       "      <th>TransactionAmount (INR)</th>\n",
       "    </tr>\n",
       "  </thead>\n",
       "  <tbody>\n",
       "    <tr>\n",
       "      <th>0</th>\n",
       "      <td>T1</td>\n",
       "      <td>C5841053</td>\n",
       "      <td>10/1/94</td>\n",
       "      <td>F</td>\n",
       "      <td>JAMSHEDPUR</td>\n",
       "      <td>17819.05</td>\n",
       "      <td>2/8/16</td>\n",
       "      <td>143207</td>\n",
       "      <td>25.0</td>\n",
       "    </tr>\n",
       "    <tr>\n",
       "      <th>1</th>\n",
       "      <td>T2</td>\n",
       "      <td>C2142763</td>\n",
       "      <td>4/4/57</td>\n",
       "      <td>M</td>\n",
       "      <td>JHAJJAR</td>\n",
       "      <td>2270.69</td>\n",
       "      <td>2/8/16</td>\n",
       "      <td>141858</td>\n",
       "      <td>27999.0</td>\n",
       "    </tr>\n",
       "    <tr>\n",
       "      <th>2</th>\n",
       "      <td>T3</td>\n",
       "      <td>C4417068</td>\n",
       "      <td>26/11/96</td>\n",
       "      <td>F</td>\n",
       "      <td>MUMBAI</td>\n",
       "      <td>17874.44</td>\n",
       "      <td>2/8/16</td>\n",
       "      <td>142712</td>\n",
       "      <td>459.0</td>\n",
       "    </tr>\n",
       "    <tr>\n",
       "      <th>3</th>\n",
       "      <td>T4</td>\n",
       "      <td>C5342380</td>\n",
       "      <td>14/9/73</td>\n",
       "      <td>F</td>\n",
       "      <td>MUMBAI</td>\n",
       "      <td>866503.21</td>\n",
       "      <td>2/8/16</td>\n",
       "      <td>142714</td>\n",
       "      <td>2060.0</td>\n",
       "    </tr>\n",
       "    <tr>\n",
       "      <th>4</th>\n",
       "      <td>T5</td>\n",
       "      <td>C9031234</td>\n",
       "      <td>24/3/88</td>\n",
       "      <td>F</td>\n",
       "      <td>NAVI MUMBAI</td>\n",
       "      <td>6714.43</td>\n",
       "      <td>2/8/16</td>\n",
       "      <td>181156</td>\n",
       "      <td>1762.5</td>\n",
       "    </tr>\n",
       "  </tbody>\n",
       "</table>\n",
       "</div>"
      ],
      "text/plain": [
       "  TransactionID CustomerID CustomerDOB CustGender CustLocation  \\\n",
       "0            T1   C5841053     10/1/94          F   JAMSHEDPUR   \n",
       "1            T2   C2142763      4/4/57          M      JHAJJAR   \n",
       "2            T3   C4417068    26/11/96          F       MUMBAI   \n",
       "3            T4   C5342380     14/9/73          F       MUMBAI   \n",
       "4            T5   C9031234     24/3/88          F  NAVI MUMBAI   \n",
       "\n",
       "   CustAccountBalance TransactionDate  TransactionTime  \\\n",
       "0            17819.05          2/8/16           143207   \n",
       "1             2270.69          2/8/16           141858   \n",
       "2            17874.44          2/8/16           142712   \n",
       "3           866503.21          2/8/16           142714   \n",
       "4             6714.43          2/8/16           181156   \n",
       "\n",
       "   TransactionAmount (INR)  \n",
       "0                     25.0  \n",
       "1                  27999.0  \n",
       "2                    459.0  \n",
       "3                   2060.0  \n",
       "4                   1762.5  "
      ]
     },
     "execution_count": 2,
     "metadata": {},
     "output_type": "execute_result"
    }
   ],
   "source": [
    "tras = pd.read_csv(\"bank_transactions.csv\")\n",
    "tras.head()"
   ]
  },
  {
   "cell_type": "code",
   "execution_count": 3,
   "id": "3414e844-1c8a-4fa6-8b1b-3822ff4286be",
   "metadata": {
    "id": "e1c9f2e8",
    "outputId": "d7bce11c-bb41-4222-de02-7d2966f513d6"
   },
   "outputs": [
    {
     "name": "stdout",
     "output_type": "stream",
     "text": [
      "<class 'pandas.core.frame.DataFrame'>\n",
      "RangeIndex: 1048567 entries, 0 to 1048566\n",
      "Data columns (total 9 columns):\n",
      " #   Column                   Non-Null Count    Dtype  \n",
      "---  ------                   --------------    -----  \n",
      " 0   TransactionID            1048567 non-null  object \n",
      " 1   CustomerID               1048567 non-null  object \n",
      " 2   CustomerDOB              1045170 non-null  object \n",
      " 3   CustGender               1047467 non-null  object \n",
      " 4   CustLocation             1048416 non-null  object \n",
      " 5   CustAccountBalance       1046198 non-null  float64\n",
      " 6   TransactionDate          1048567 non-null  object \n",
      " 7   TransactionTime          1048567 non-null  int64  \n",
      " 8   TransactionAmount (INR)  1048567 non-null  float64\n",
      "dtypes: float64(2), int64(1), object(6)\n",
      "memory usage: 72.0+ MB\n"
     ]
    }
   ],
   "source": [
    "tras.info()"
   ]
  },
  {
   "cell_type": "markdown",
   "id": "f9266d76-43ff-4129-921c-be4563f18f52",
   "metadata": {
    "id": "8f2ed250",
    "tags": []
   },
   "source": [
    "## Data Cleaning\n",
    "\n",
    "### Dates\n",
    "___"
   ]
  },
  {
   "cell_type": "code",
   "execution_count": 4,
   "id": "2269eada-dec8-4a39-8026-43cacf4ec143",
   "metadata": {
    "id": "0addd4d7"
   },
   "outputs": [],
   "source": [
    "tras['CustomerDOB'] = pd.to_datetime(tras.CustomerDOB, dayfirst=True)"
   ]
  },
  {
   "cell_type": "code",
   "execution_count": 5,
   "id": "c3564673-a4fc-422c-a5da-34abde98d336",
   "metadata": {
    "id": "b25a4231",
    "outputId": "96840b24-8989-46b3-aace-386e8266676b"
   },
   "outputs": [
    {
     "data": {
      "text/plain": [
       "<AxesSubplot: >"
      ]
     },
     "execution_count": 5,
     "metadata": {},
     "output_type": "execute_result"
    },
    {
     "data": {
      "image/png": "[encoded data removed]",
      "text/plain": [
       "<Figure size 640x480 with 1 Axes>"
      ]
     },
     "metadata": {},
     "output_type": "display_data"
    }
   ],
   "source": [
    "tras.CustomerDOB.dt.year.hist(bins=50)"
   ]
  },
  {
   "cell_type": "markdown",
   "id": "879e2573-da4f-4134-8d56-f26a9d70eb21",
   "metadata": {},
   "source": [
    "We can see \n",
    "1. people being born in the future => millanium bug\n",
    "2. people being born in 1800 => we consider there DOB to be unknown"
   ]
  },
  {
   "cell_type": "code",
   "execution_count": 6,
   "id": "38d94b69-7df3-46a5-a699-bc53a89efa73",
   "metadata": {
    "id": "66688a54"
   },
   "outputs": [],
   "source": [
    "tras.loc[tras.CustomerDOB.dt.year > 2016, 'CustomerDOB'] = \\\n",
    "tras.loc[tras.CustomerDOB.dt.year > 2016, 'CustomerDOB']\\\n",
    "- pd.DateOffset(years = 100)"
   ]
  },
  {
   "cell_type": "code",
   "execution_count": 7,
   "id": "8aa0a10d-11f1-4fc9-a50e-0daf170d2805",
   "metadata": {
    "id": "596ab891"
   },
   "outputs": [],
   "source": [
    "tras.loc[tras.CustomerDOB.dt.year == 1800, \"CustomerDOB\"] = pd.to_datetime(np.NaN)"
   ]
  },
  {
   "cell_type": "code",
   "execution_count": 8,
   "id": "7caea5f4-096e-404b-a132-2a0aeea5e77f",
   "metadata": {
    "id": "3ed2fb3f",
    "outputId": "c57a48c9-5bc9-4555-c5b3-da293bdb20e6"
   },
   "outputs": [
    {
     "data": {
      "text/plain": [
       "<AxesSubplot: >"
      ]
     },
     "execution_count": 8,
     "metadata": {},
     "output_type": "execute_result"
    },
    {
     "data": {
      "image/png": "[encoded data removed]",
      "text/plain": [
       "<Figure size 640x480 with 1 Axes>"
      ]
     },
     "metadata": {},
     "output_type": "display_data"
    }
   ],
   "source": [
    "tras.CustomerDOB.dt.year.hist(bins=50)"
   ]
  },
  {
   "cell_type": "code",
   "execution_count": 9,
   "id": "8ea0c4ff-652a-4354-8f66-64dc0feb7903",
   "metadata": {
    "id": "b1098f17"
   },
   "outputs": [],
   "source": [
    "tras.TransactionDate = pd.to_datetime(tras.TransactionDate)"
   ]
  },
  {
   "cell_type": "code",
   "execution_count": 10,
   "id": "2983bca6-7423-435d-bfc2-f6ef309e600c",
   "metadata": {
    "id": "329c80a5"
   },
   "outputs": [],
   "source": [
    "from datetime import datetime\n",
    "tras.TransactionTime = tras.TransactionTime.apply(lambda x: datetime.strptime(str(x).zfill(6), '%H%M%S'))"
   ]
  },
  {
   "cell_type": "markdown",
   "id": "dbb6757a-c4a2-4a7a-a89a-b80720321947",
   "metadata": {},
   "source": [
    "Missing values are not too many, so we drop them"
   ]
  },
  {
   "cell_type": "code",
   "execution_count": 11,
   "id": "c3641aef-281a-4b2c-a79b-83cc04e09c57",
   "metadata": {
    "id": "64a5611b",
    "outputId": "39f7dd99-b3a2-49fa-e1cd-1b56e1b0e8ea"
   },
   "outputs": [
    {
     "data": {
      "text/plain": [
       "0.0603156498344884"
      ]
     },
     "execution_count": 11,
     "metadata": {},
     "output_type": "execute_result"
    }
   ],
   "source": [
    "tras.isna().any(axis=1).sum() / tras.shape[0]"
   ]
  },
  {
   "cell_type": "code",
   "execution_count": 12,
   "id": "8b832b6b-06bb-4bf5-a00d-b5e01f7d19cd",
   "metadata": {
    "id": "801e6946"
   },
   "outputs": [],
   "source": [
    "tras.dropna(inplace=True)"
   ]
  },
  {
   "cell_type": "markdown",
   "id": "e26753f7-4edb-4fbd-afb0-ce66da5fd9f5",
   "metadata": {},
   "source": [
    "We make the age of the customer new featue"
   ]
  },
  {
   "cell_type": "code",
   "execution_count": 13,
   "id": "c3dbb6a8-6d8b-4d18-b292-3d0dab283f40",
   "metadata": {
    "id": "54f969f5",
    "scrolled": true
   },
   "outputs": [],
   "source": [
    "tras['CustomerAge'] = ((tras.TransactionDate - tras.CustomerDOB) / np.timedelta64(1, 'Y')).round(0).astype(int)"
   ]
  },
  {
   "cell_type": "markdown",
   "id": "5e0f4bc3-51b0-495d-acf5-5f4bc4a45279",
   "metadata": {},
   "source": [
    "Checkpoint!"
   ]
  },
  {
   "cell_type": "code",
   "execution_count": 14,
   "id": "2559eee4-1b99-468a-940f-159e60bf4193",
   "metadata": {
    "id": "2d1a7867"
   },
   "outputs": [],
   "source": [
    "tras.to_pickle('transactions.pkl')"
   ]
  },
  {
   "cell_type": "markdown",
   "id": "7bdae4d3-277c-4ea8-97da-1cae894ab486",
   "metadata": {},
   "source": [
    "### Locations\n",
    "___"
   ]
  },
  {
   "cell_type": "code",
   "execution_count": 15,
   "id": "6dead1c2-766c-4a53-aedf-bee0aab11851",
   "metadata": {},
   "outputs": [
    {
     "data": {
      "text/plain": [
       "8164"
      ]
     },
     "execution_count": 15,
     "metadata": {},
     "output_type": "execute_result"
    }
   ],
   "source": [
    "tras.CustLocation.unique().size"
   ]
  },
  {
   "cell_type": "markdown",
   "id": "1e5724e7-1c80-4e25-8e1e-1c78e7feab09",
   "metadata": {},
   "source": [
    "Removing punctuation"
   ]
  },
  {
   "cell_type": "code",
   "execution_count": 16,
   "id": "efadf725-5020-4108-a302-b3f7095a9149",
   "metadata": {},
   "outputs": [
    {
     "name": "stderr",
     "output_type": "stream",
     "text": [
      "100%|██████| 985322/985322 [00:04<00:00, 229646.37it/s]\n"
     ]
    }
   ],
   "source": [
    "import string\n",
    "tras['CleanLocation'] =\\\n",
    "tras.CustLocation.progress_apply(lambda loc : loc.translate({ord(i): None for i in string.punctuation }))"
   ]
  },
  {
   "cell_type": "code",
   "execution_count": 17,
   "id": "8ddafc18-2b22-4a21-93c7-5694c1971a7d",
   "metadata": {},
   "outputs": [
    {
     "data": {
      "text/plain": [
       "8012"
      ]
     },
     "execution_count": 17,
     "metadata": {},
     "output_type": "execute_result"
    }
   ],
   "source": [
    "tras.CleanLocation.unique().size"
   ]
  },
  {
   "cell_type": "markdown",
   "id": "0d8610c4-0fc2-4e99-8493-68f09e068055",
   "metadata": {},
   "source": [
    "Droping empty strings, as they are not too many"
   ]
  },
  {
   "cell_type": "code",
   "execution_count": 18,
   "id": "58a35631-d7fc-46ed-ae71-fea35dc7e544",
   "metadata": {},
   "outputs": [
    {
     "data": {
      "text/plain": [
       "86"
      ]
     },
     "execution_count": 18,
     "metadata": {},
     "output_type": "execute_result"
    }
   ],
   "source": [
    "tras.CleanLocation.value_counts()[\"\"]"
   ]
  },
  {
   "cell_type": "code",
   "execution_count": 19,
   "id": "5b5ee4f7-ba22-40e7-b19c-6e3ef02a5a75",
   "metadata": {},
   "outputs": [],
   "source": [
    "tras.loc[tras.CleanLocation == \"\", \"CleanLocation\"] = np.NaN\n",
    "tras.dropna(inplace=True)"
   ]
  },
  {
   "cell_type": "markdown",
   "id": "d47928e2-4c41-4203-bb52-e9501608132c",
   "metadata": {},
   "source": [
    "Now for every location we search for a shorter name that is present in the dataset. We check if the shorter version is a sub-string of the original name, if yes then we concider it to be the same location"
   ]
  },
  {
   "cell_type": "code",
   "execution_count": 20,
   "id": "cea31571-1d7a-4228-a95e-a3c739979ec1",
   "metadata": {},
   "outputs": [
    {
     "name": "stderr",
     "output_type": "stream",
     "text": [
      "100%|█████████| 985236/985236 [19:08<00:00, 858.08it/s]\n"
     ]
    }
   ],
   "source": [
    "unique_locations = tras.CleanLocation.value_counts().index.to_numpy()\n",
    "\n",
    "def Clean(location):\n",
    "    \n",
    "    def Check(short):\n",
    "        nonlocal location\n",
    "        if short in location:\n",
    "            location = short\n",
    "            \n",
    "    Check = np.vectorize(Check)\n",
    "    \n",
    "    global unique_locations\n",
    "    Check(unique_locations)\n",
    "    \n",
    "    return location\n",
    "\n",
    "    \n",
    "tras.CleanLocation = tras.CleanLocation.progress_apply(Clean)"
   ]
  },
  {
   "cell_type": "code",
   "execution_count": 21,
   "id": "0f599af7-2ec3-4484-ac89-4188acd03eda",
   "metadata": {},
   "outputs": [
    {
     "data": {
      "text/plain": [
       "2632"
      ]
     },
     "execution_count": 21,
     "metadata": {},
     "output_type": "execute_result"
    }
   ],
   "source": [
    "tras.CleanLocation.unique().size"
   ]
  },
  {
   "cell_type": "markdown",
   "id": "79c27405-f669-4343-a29c-fb89ff3fe5ee",
   "metadata": {
    "id": "c0a62675",
    "tags": []
   },
   "source": [
    "## 2.1.2\n",
    "\n",
    "Sometimes, the features (variables, fields) are not given in a dataset but can be created from it. The previous step is known as feature engineering. For example, the original dataset has several transactions done by the same customer. Then, we suggest you to group data by the client (using CustomerId) and, based on it, create the following new features for each CustomerId:\n",
    "\n",
    "*a) Number of transactions*\n",
    "\n",
    "*b) Number of transactions with a balance bigger than 100 USD*\n",
    "\n",
    "*c) Average amount of the transactions*\n",
    "\n",
    "*d) Average balance*\n",
    "\n",
    "*e) Average difference between the balance and the transaction amount for each customer (this is mainly known in the banking world as utilisation).*\n",
    "\n",
    "*f) Most common gender of the customer*\n",
    "\n",
    "*h) Most frequent location of the customer*\n",
    "\n",
    "*So, in the end, you should have for each CustomerID seven features.*"
   ]
  },
  {
   "cell_type": "code",
   "execution_count": null,
   "id": "f9c89206-09f0-4fcc-b440-221cf2cd0a1b",
   "metadata": {},
   "outputs": [],
   "source": [
    "custs = tras.groupby('CustomerID')[['CustomerAge', 'CustGender', 'CleanLocation']].\\\n",
    "agg(lambda x : x.value_counts().index[0])"
   ]
  },
  {
   "cell_type": "code",
   "execution_count": 24,
   "id": "2614f8bc-343e-475c-bbae-81fcde6f41cc",
   "metadata": {},
   "outputs": [],
   "source": [
    "custs[['CustAccountBalance_avrg', 'TransactionAmount_avrg (INR)']] = \\\n",
    "tras.groupby('CustomerID')[['CustAccountBalance', 'TransactionAmount (INR)']].mean()"
   ]
  },
  {
   "cell_type": "code",
   "execution_count": 25,
   "id": "d4a4aa2c-12db-4608-96e1-81df887cd189",
   "metadata": {},
   "outputs": [],
   "source": [
    "custs['TransactionNum'] = tras.groupby('CustomerID').count().TransactionID.astype(int)"
   ]
  },
  {
   "cell_type": "code",
   "execution_count": 26,
   "id": "da82723e-c913-4a7e-b240-231bc00e706c",
   "metadata": {},
   "outputs": [],
   "source": [
    "custs['TransactionNumGT100'] = tras.loc[tras.CustAccountBalance > 100].groupby('CustomerID').count().TransactionID\n",
    "custs.TransactionNumGT100.fillna(0, inplace=True)\n",
    "custs.TransactionNumGT100 = custs.TransactionNumGT100.astype(int)"
   ]
  },
  {
   "cell_type": "code",
   "execution_count": 27,
   "id": "26a97a57-ccc7-4a50-88a6-31eacd85e021",
   "metadata": {
    "id": "50c6c2f2"
   },
   "outputs": [],
   "source": [
    "custs['utilisation'] = custs.CustAccountBalance_avrg - custs['TransactionAmount_avrg (INR)']"
   ]
  },
  {
   "cell_type": "code",
   "execution_count": 28,
   "id": "0a62f6c5-5e15-4381-82ba-dd5e088afb5a",
   "metadata": {},
   "outputs": [
    {
     "data": {
      "text/html": [
       "<div>\n",
       "<style scoped>\n",
       "    .dataframe tbody tr th:only-of-type {\n",
       "        vertical-align: middle;\n",
       "    }\n",
       "\n",
       "    .dataframe tbody tr th {\n",
       "        vertical-align: top;\n",
       "    }\n",
       "\n",
       "    .dataframe thead th {\n",
       "        text-align: right;\n",
       "    }\n",
       "</style>\n",
       "<table border=\"1\" class=\"dataframe\">\n",
       "  <thead>\n",
       "    <tr style=\"text-align: right;\">\n",
       "      <th></th>\n",
       "      <th>CustomerAge</th>\n",
       "      <th>CustGender</th>\n",
       "      <th>CleanLocation</th>\n",
       "      <th>CustAccountBalance_avrg</th>\n",
       "      <th>TransactionAmount_avrg (INR)</th>\n",
       "      <th>TransactionNum</th>\n",
       "      <th>TransactionNumGT100</th>\n",
       "      <th>utilisation</th>\n",
       "    </tr>\n",
       "    <tr>\n",
       "      <th>CustomerID</th>\n",
       "      <th></th>\n",
       "      <th></th>\n",
       "      <th></th>\n",
       "      <th></th>\n",
       "      <th></th>\n",
       "      <th></th>\n",
       "      <th></th>\n",
       "      <th></th>\n",
       "    </tr>\n",
       "  </thead>\n",
       "  <tbody>\n",
       "    <tr>\n",
       "      <th>C1010011</th>\n",
       "      <td>24</td>\n",
       "      <td>F</td>\n",
       "      <td>NOIDA</td>\n",
       "      <td>76340.635</td>\n",
       "      <td>2553.0</td>\n",
       "      <td>2</td>\n",
       "      <td>2</td>\n",
       "      <td>73787.635</td>\n",
       "    </tr>\n",
       "    <tr>\n",
       "      <th>C1010012</th>\n",
       "      <td>22</td>\n",
       "      <td>M</td>\n",
       "      <td>MUMBAI</td>\n",
       "      <td>24204.490</td>\n",
       "      <td>1499.0</td>\n",
       "      <td>1</td>\n",
       "      <td>1</td>\n",
       "      <td>22705.490</td>\n",
       "    </tr>\n",
       "    <tr>\n",
       "      <th>C1010014</th>\n",
       "      <td>24</td>\n",
       "      <td>F</td>\n",
       "      <td>MUMBAI</td>\n",
       "      <td>100112.950</td>\n",
       "      <td>727.5</td>\n",
       "      <td>2</td>\n",
       "      <td>2</td>\n",
       "      <td>99385.450</td>\n",
       "    </tr>\n",
       "    <tr>\n",
       "      <th>C1010018</th>\n",
       "      <td>26</td>\n",
       "      <td>F</td>\n",
       "      <td>ARA</td>\n",
       "      <td>496.180</td>\n",
       "      <td>30.0</td>\n",
       "      <td>1</td>\n",
       "      <td>1</td>\n",
       "      <td>466.180</td>\n",
       "    </tr>\n",
       "    <tr>\n",
       "      <th>C1010024</th>\n",
       "      <td>51</td>\n",
       "      <td>M</td>\n",
       "      <td>KOLKATA</td>\n",
       "      <td>87058.650</td>\n",
       "      <td>5000.0</td>\n",
       "      <td>1</td>\n",
       "      <td>1</td>\n",
       "      <td>82058.650</td>\n",
       "    </tr>\n",
       "    <tr>\n",
       "      <th>...</th>\n",
       "      <td>...</td>\n",
       "      <td>...</td>\n",
       "      <td>...</td>\n",
       "      <td>...</td>\n",
       "      <td>...</td>\n",
       "      <td>...</td>\n",
       "      <td>...</td>\n",
       "      <td>...</td>\n",
       "    </tr>\n",
       "    <tr>\n",
       "      <th>C9099836</th>\n",
       "      <td>26</td>\n",
       "      <td>M</td>\n",
       "      <td>BHIWANDI</td>\n",
       "      <td>133067.230</td>\n",
       "      <td>691.0</td>\n",
       "      <td>1</td>\n",
       "      <td>1</td>\n",
       "      <td>132376.230</td>\n",
       "    </tr>\n",
       "    <tr>\n",
       "      <th>C9099877</th>\n",
       "      <td>20</td>\n",
       "      <td>M</td>\n",
       "      <td>BANGA</td>\n",
       "      <td>96063.460</td>\n",
       "      <td>222.0</td>\n",
       "      <td>1</td>\n",
       "      <td>1</td>\n",
       "      <td>95841.460</td>\n",
       "    </tr>\n",
       "    <tr>\n",
       "      <th>C9099919</th>\n",
       "      <td>23</td>\n",
       "      <td>M</td>\n",
       "      <td>GUNTUR</td>\n",
       "      <td>5559.750</td>\n",
       "      <td>126.0</td>\n",
       "      <td>1</td>\n",
       "      <td>1</td>\n",
       "      <td>5433.750</td>\n",
       "    </tr>\n",
       "    <tr>\n",
       "      <th>C9099941</th>\n",
       "      <td>21</td>\n",
       "      <td>M</td>\n",
       "      <td>CHENNAI</td>\n",
       "      <td>35295.920</td>\n",
       "      <td>50.0</td>\n",
       "      <td>1</td>\n",
       "      <td>1</td>\n",
       "      <td>35245.920</td>\n",
       "    </tr>\n",
       "    <tr>\n",
       "      <th>C9099956</th>\n",
       "      <td>34</td>\n",
       "      <td>M</td>\n",
       "      <td>MUSSOORIE</td>\n",
       "      <td>6968.930</td>\n",
       "      <td>855.0</td>\n",
       "      <td>1</td>\n",
       "      <td>1</td>\n",
       "      <td>6113.930</td>\n",
       "    </tr>\n",
       "  </tbody>\n",
       "</table>\n",
       "<p>839018 rows × 8 columns</p>\n",
       "</div>"
      ],
      "text/plain": [
       "            CustomerAge CustGender CleanLocation  CustAccountBalance_avrg  \\\n",
       "CustomerID                                                                  \n",
       "C1010011             24          F         NOIDA                76340.635   \n",
       "C1010012             22          M        MUMBAI                24204.490   \n",
       "C1010014             24          F        MUMBAI               100112.950   \n",
       "C1010018             26          F           ARA                  496.180   \n",
       "C1010024             51          M       KOLKATA                87058.650   \n",
       "...                 ...        ...           ...                      ...   \n",
       "C9099836             26          M      BHIWANDI               133067.230   \n",
       "C9099877             20          M         BANGA                96063.460   \n",
       "C9099919             23          M        GUNTUR                 5559.750   \n",
       "C9099941             21          M       CHENNAI                35295.920   \n",
       "C9099956             34          M     MUSSOORIE                 6968.930   \n",
       "\n",
       "            TransactionAmount_avrg (INR)  TransactionNum  TransactionNumGT100  \\\n",
       "CustomerID                                                                      \n",
       "C1010011                          2553.0               2                    2   \n",
       "C1010012                          1499.0               1                    1   \n",
       "C1010014                           727.5               2                    2   \n",
       "C1010018                            30.0               1                    1   \n",
       "C1010024                          5000.0               1                    1   \n",
       "...                                  ...             ...                  ...   \n",
       "C9099836                           691.0               1                    1   \n",
       "C9099877                           222.0               1                    1   \n",
       "C9099919                           126.0               1                    1   \n",
       "C9099941                            50.0               1                    1   \n",
       "C9099956                           855.0               1                    1   \n",
       "\n",
       "            utilisation  \n",
       "CustomerID               \n",
       "C1010011      73787.635  \n",
       "C1010012      22705.490  \n",
       "C1010014      99385.450  \n",
       "C1010018        466.180  \n",
       "C1010024      82058.650  \n",
       "...                 ...  \n",
       "C9099836     132376.230  \n",
       "C9099877      95841.460  \n",
       "C9099919       5433.750  \n",
       "C9099941      35245.920  \n",
       "C9099956       6113.930  \n",
       "\n",
       "[839018 rows x 8 columns]"
      ]
     },
     "execution_count": 28,
     "metadata": {},
     "output_type": "execute_result"
    }
   ],
   "source": [
    "custs.to_csv('customers.tsv', sep=\"\\t\")\n",
    "custs"
   ]
  },
  {
   "cell_type": "markdown",
   "id": "5da70003-3571-4914-8507-2693e1405791",
   "metadata": {
    "id": "862f41d9",
    "jp-MarkdownHeadingCollapsed": true,
    "tags": []
   },
   "source": [
    "## 2.1.3\n",
    "\n",
    "Consider at least 20 additional features that can be generated for each CustomerId. Describe each of them and why you believe they will be helpful. Moreover, add it to the previous dataset (the one with seven features). In the end, you should have for each CustomerID at least 27 features (7 recommended + 20 suggested by you).\n",
    "\n",
    "*Hints for feature engineering:*\n",
    "\n",
    "\n",
    ">- Instead of only using the average, you could use other functions such as minimum, maximum, percentiles, etc.\n",
    ">- Think of adding filters to your features. For instance, in \"Number of transactions with balance bigger than 100 USD”, \n",
    "   the filter was \"bigger than 100 USD\". Can you think about other filters, even including other variables?\n",
    ">- Think of including the information given by the fields transaction date and time in your calculations.\n",
    ">- Think about getting information from a customer’s birthday, even comparing it to other fields.\n",
    ">- You could also calculate percentages in your features. Think of a plausible set of percentages worth to be calculated.\n",
    "\n",
    "\n",
    "##### time\n",
    "\n",
    "Representing time of transaction on a line is actually not convenien, because in that case we will concider 23:59 and 00:00 to be the most distant moments which is not what we are looking for. To overcome this problem we can represent the time on a circle. Doing so not only with time of day but also with all the cyclic parameters has meny advantages that we will see later. Such cyles are also week, month and year"
   ]
  },
  {
   "cell_type": "code",
   "execution_count": 30,
   "id": "1bf1a46c-15d0-48d7-b78b-335422d2bb02",
   "metadata": {},
   "outputs": [],
   "source": [
    "tras['cos_Time'] = np.cos((tras.TransactionTime - pd.to_datetime('1900-1-1')).dt.total_seconds() * (2*np.pi)/(24*60*60))\n",
    "tras['sin_Time'] = np.sin((tras.TransactionTime - pd.to_datetime('1900-1-1')).dt.total_seconds() * (2*np.pi)/(24*60*60))"
   ]
  },
  {
   "cell_type": "code",
   "execution_count": 31,
   "id": "8f232637-21c1-47b4-94fb-e5f0f5dc5daa",
   "metadata": {},
   "outputs": [],
   "source": [
    "tras['cos_DayOfWeek'] = np.cos(tras.TransactionDate.dt.dayofweek * (2*np.pi) / 7)\n",
    "tras['sin_DayOfWeek'] = np.sin(tras.TransactionDate.dt.dayofweek * (2*np.pi) / 7)"
   ]
  },
  {
   "cell_type": "code",
   "execution_count": 32,
   "id": "f8471e7f-a389-446d-915d-1c3f53205d28",
   "metadata": {},
   "outputs": [],
   "source": [
    "tras['cos_DayOfMonth'] = np.cos(tras.TransactionDate.dt.day * (2*np.pi) / tras.TransactionDate.dt.daysinmonth)\n",
    "tras['sin_DayOfMonth'] = np.sin(tras.TransactionDate.dt.day * (2*np.pi) / tras.TransactionDate.dt.daysinmonth)"
   ]
  },
  {
   "cell_type": "code",
   "execution_count": 33,
   "id": "75067c9c-25b6-4cd8-8768-82e2ad569d85",
   "metadata": {},
   "outputs": [],
   "source": [
    "tras['cos_DayOfYear'] = np.cos(tras.TransactionDate.dt.dayofyear * (2*np.pi) / 366)\n",
    "tras['sin_DayOfYear'] = np.sin(tras.TransactionDate.dt.dayofyear * (2*np.pi) / 366)"
   ]
  },
  {
   "cell_type": "markdown",
   "id": "c98cd7b4-3be9-4cee-8672-a275041df44f",
   "metadata": {},
   "source": [
    "To prevent the rich from grtting there one cluster we analyse the logarithms of both Balance and Amont"
   ]
  },
  {
   "cell_type": "code",
   "execution_count": 34,
   "id": "9194ab98-0634-475a-a79f-adc31cf5da00",
   "metadata": {},
   "outputs": [],
   "source": [
    "tras['log_Balance'] = tras['CustAccountBalance'].apply(np.log10)\n",
    "tras['log_Amount'] = tras['TransactionAmount (INR)'].apply(np.log10)"
   ]
  },
  {
   "cell_type": "code",
   "execution_count": 35,
   "id": "d84635dd-845e-4710-9240-f275f45e7e0b",
   "metadata": {},
   "outputs": [],
   "source": [
    "custs[['MeanCosTime',       'MeanSinTime',\n",
    "       'MeanCosDayOfWeek',  'MeanSinDayOfWeek',\n",
    "       'MeanCosDayOfMonth', 'MeanSinDayOfMonth',\n",
    "       'MeanCosDayOfYear',  'MeanSinDayOfYear',\n",
    "       'MeanLogBalance',    'MeanLogAmount']] = \\\n",
    "tras.groupby('CustomerID')[['cos_Time',       'sin_Time',\n",
    "                            'cos_DayOfWeek',  'sin_DayOfWeek',\n",
    "                            'cos_DayOfMonth', 'sin_DayOfMonth',\n",
    "                            'cos_DayOfYear',  'sin_DayOfYear',\n",
    "                            'log_Balance',    'log_Amount']].mean()"
   ]
  },
  {
   "cell_type": "code",
   "execution_count": 36,
   "id": "410a13ee-e606-4c87-84ba-223e0c8ae86d",
   "metadata": {},
   "outputs": [],
   "source": [
    "custs[['VarCosTime',       'VarSinTime',\n",
    "       'VarCosDayOfWeek',  'VarSinDayOfWeek',\n",
    "       'VarCosDayOfMonth', 'VarSinDayOfMonth',\n",
    "       'VarCosDayOfYear',  'VarSinDayOfYear',\n",
    "       'VarLogBalance',    'VarLogAmount']] = \\\n",
    "tras.groupby('CustomerID')[['cos_Time',       'sin_Time',\n",
    "                            'cos_DayOfWeek',  'sin_DayOfWeek',\n",
    "                            'cos_DayOfMonth', 'sin_DayOfMonth',\n",
    "                            'cos_DayOfYear',  'sin_DayOfYear',\n",
    "                            'log_Balance',    'log_Amount']].var()"
   ]
  },
  {
   "cell_type": "code",
   "execution_count": 37,
   "id": "47135e65-1e94-44c4-abdd-c02dd2154b5f",
   "metadata": {},
   "outputs": [],
   "source": [
    "custs[['StdCosTime',       'StdSinTime',\n",
    "       'StdCosDayOfWeek',  'StdSinDayOfWeek',\n",
    "       'StdCosDayOfMonth', 'StdSinDayOfMonth',\n",
    "       'StdCosDayOfYear',  'StdSinDayOfYear',\n",
    "       'StdLogBalance',    'StdLogAmount']] = \\\n",
    "tras.groupby('CustomerID')[['cos_Time',       'sin_Time',\n",
    "                            'cos_DayOfWeek',  'sin_DayOfWeek',\n",
    "                            'cos_DayOfMonth', 'sin_DayOfMonth',\n",
    "                            'cos_DayOfYear',  'sin_DayOfYear',\n",
    "                            'log_Balance',    'log_Amount']].std()"
   ]
  },
  {
   "cell_type": "code",
   "execution_count": 38,
   "id": "3b219f2e-2829-46ee-9a14-1bd0c5374e48",
   "metadata": {},
   "outputs": [],
   "source": [
    "custs.fillna(0, inplace=True)"
   ]
  },
  {
   "cell_type": "markdown",
   "id": "b19bd383-326a-4f1f-8729-7b693c562bcc",
   "metadata": {},
   "source": [
    "Checkpoint!"
   ]
  },
  {
   "cell_type": "code",
   "execution_count": 39,
   "id": "1956fcf3-5a4b-434a-8ac5-84d55acb3d51",
   "metadata": {},
   "outputs": [],
   "source": [
    "custs.to_csv('customers.tsv', sep=\"\\t\")"
   ]
  },
  {
   "cell_type": "markdown",
   "id": "2ea087eb-cb79-4081-9fa9-0a4345c78453",
   "metadata": {
    "tags": []
   },
   "source": [
    "## 2.2 Choose your features!\n",
    "Now that we have this many features we want to apply some dimensionality reduction to it, in order to ease the training of our model later.\n",
    "\n",
    "We will first perform some preprocessing to our data by making use of the `Pipeline` library of _scikit-learn_, and then apply the PCA."
   ]
  },
  {
   "cell_type": "code",
   "execution_count": 40,
   "id": "1ec53e7b-7977-4920-af6e-4370d744f32f",
   "metadata": {
    "cell_id": "eed9eb8bf344463ca4e8903fd708b774",
    "deepnote_cell_type": "code",
    "deepnote_to_be_reexecuted": false,
    "execution_millis": 1683,
    "execution_start": 1670676987556,
    "source_hash": "8acf73a4",
    "tags": []
   },
   "outputs": [],
   "source": [
    "import pandas as pd\n",
    "import numpy as np\n",
    "from sklearn.pipeline import make_pipeline\n",
    "from sklearn.preprocessing import OneHotEncoder, Normalizer\n",
    "from sklearn.compose import make_column_transformer\n",
    "from sklearn.compose import make_column_selector as col_selector\n",
    "from sklearn.decomposition import IncrementalPCA"
   ]
  },
  {
   "cell_type": "code",
   "execution_count": 41,
   "id": "a94a9bb6-b0b1-49d7-aec1-87e9954c4747",
   "metadata": {
    "cell_id": "3228eb0d6a9c44a98324b3709d1adb2b",
    "deepnote_cell_type": "code",
    "deepnote_to_be_reexecuted": false,
    "execution_millis": 11213,
    "execution_start": 1670676989246,
    "source_hash": "668300fd",
    "tags": []
   },
   "outputs": [
    {
     "data": {
      "text/html": [
       "<div>\n",
       "<style scoped>\n",
       "    .dataframe tbody tr th:only-of-type {\n",
       "        vertical-align: middle;\n",
       "    }\n",
       "\n",
       "    .dataframe tbody tr th {\n",
       "        vertical-align: top;\n",
       "    }\n",
       "\n",
       "    .dataframe thead th {\n",
       "        text-align: right;\n",
       "    }\n",
       "</style>\n",
       "<table border=\"1\" class=\"dataframe\">\n",
       "  <thead>\n",
       "    <tr style=\"text-align: right;\">\n",
       "      <th></th>\n",
       "      <th>CustomerID</th>\n",
       "      <th>CustomerAge</th>\n",
       "      <th>CustGender</th>\n",
       "      <th>CleanLocation</th>\n",
       "      <th>CustAccountBalance_avrg</th>\n",
       "      <th>TransactionAmount_avrg (INR)</th>\n",
       "      <th>TransactionNum</th>\n",
       "      <th>TransactionNumGT100</th>\n",
       "      <th>utilisation</th>\n",
       "      <th>MeanCosTime</th>\n",
       "      <th>...</th>\n",
       "      <th>StdCosTime</th>\n",
       "      <th>StdSinTime</th>\n",
       "      <th>StdCosDayOfWeek</th>\n",
       "      <th>StdSinDayOfWeek</th>\n",
       "      <th>StdCosDayOfMonth</th>\n",
       "      <th>StdSinDayOfMonth</th>\n",
       "      <th>StdCosDayOfYear</th>\n",
       "      <th>StdSinDayOfYear</th>\n",
       "      <th>StdLogBalance</th>\n",
       "      <th>StdLogAmount</th>\n",
       "    </tr>\n",
       "  </thead>\n",
       "  <tbody>\n",
       "    <tr>\n",
       "      <th>0</th>\n",
       "      <td>C1010011</td>\n",
       "      <td>24</td>\n",
       "      <td>F</td>\n",
       "      <td>NOIDA</td>\n",
       "      <td>76340.635</td>\n",
       "      <td>2553.0</td>\n",
       "      <td>2</td>\n",
       "      <td>2</td>\n",
       "      <td>73787.635</td>\n",
       "      <td>-0.017863</td>\n",
       "      <td>...</td>\n",
       "      <td>1.369335</td>\n",
       "      <td>0.337291</td>\n",
       "      <td>1.344188</td>\n",
       "      <td>0.306802</td>\n",
       "      <td>0.54706</td>\n",
       "      <td>1.228716</td>\n",
       "      <td>0.211816</td>\n",
       "      <td>0.049988</td>\n",
       "      <td>0.401595</td>\n",
       "      <td>0.795667</td>\n",
       "    </tr>\n",
       "    <tr>\n",
       "      <th>1</th>\n",
       "      <td>C1010012</td>\n",
       "      <td>22</td>\n",
       "      <td>M</td>\n",
       "      <td>MUMBAI</td>\n",
       "      <td>24204.490</td>\n",
       "      <td>1499.0</td>\n",
       "      <td>1</td>\n",
       "      <td>1</td>\n",
       "      <td>22705.490</td>\n",
       "      <td>0.656553</td>\n",
       "      <td>...</td>\n",
       "      <td>0.000000</td>\n",
       "      <td>0.000000</td>\n",
       "      <td>0.000000</td>\n",
       "      <td>0.000000</td>\n",
       "      <td>0.00000</td>\n",
       "      <td>0.000000</td>\n",
       "      <td>0.000000</td>\n",
       "      <td>0.000000</td>\n",
       "      <td>0.000000</td>\n",
       "      <td>0.000000</td>\n",
       "    </tr>\n",
       "    <tr>\n",
       "      <th>2</th>\n",
       "      <td>C1010014</td>\n",
       "      <td>24</td>\n",
       "      <td>F</td>\n",
       "      <td>MUMBAI</td>\n",
       "      <td>100112.950</td>\n",
       "      <td>727.5</td>\n",
       "      <td>2</td>\n",
       "      <td>2</td>\n",
       "      <td>99385.450</td>\n",
       "      <td>0.158280</td>\n",
       "      <td>...</td>\n",
       "      <td>1.010306</td>\n",
       "      <td>0.242398</td>\n",
       "      <td>0.000000</td>\n",
       "      <td>0.000000</td>\n",
       "      <td>0.00000</td>\n",
       "      <td>0.000000</td>\n",
       "      <td>1.402456</td>\n",
       "      <td>0.181576</td>\n",
       "      <td>0.441968</td>\n",
       "      <td>0.482987</td>\n",
       "    </tr>\n",
       "    <tr>\n",
       "      <th>3</th>\n",
       "      <td>C1010018</td>\n",
       "      <td>26</td>\n",
       "      <td>F</td>\n",
       "      <td>ARA</td>\n",
       "      <td>496.180</td>\n",
       "      <td>30.0</td>\n",
       "      <td>1</td>\n",
       "      <td>1</td>\n",
       "      <td>466.180</td>\n",
       "      <td>-0.246576</td>\n",
       "      <td>...</td>\n",
       "      <td>0.000000</td>\n",
       "      <td>0.000000</td>\n",
       "      <td>0.000000</td>\n",
       "      <td>0.000000</td>\n",
       "      <td>0.00000</td>\n",
       "      <td>0.000000</td>\n",
       "      <td>0.000000</td>\n",
       "      <td>0.000000</td>\n",
       "      <td>0.000000</td>\n",
       "      <td>0.000000</td>\n",
       "    </tr>\n",
       "    <tr>\n",
       "      <th>4</th>\n",
       "      <td>C1010024</td>\n",
       "      <td>51</td>\n",
       "      <td>M</td>\n",
       "      <td>KOLKATA</td>\n",
       "      <td>87058.650</td>\n",
       "      <td>5000.0</td>\n",
       "      <td>1</td>\n",
       "      <td>1</td>\n",
       "      <td>82058.650</td>\n",
       "      <td>-0.840921</td>\n",
       "      <td>...</td>\n",
       "      <td>0.000000</td>\n",
       "      <td>0.000000</td>\n",
       "      <td>0.000000</td>\n",
       "      <td>0.000000</td>\n",
       "      <td>0.00000</td>\n",
       "      <td>0.000000</td>\n",
       "      <td>0.000000</td>\n",
       "      <td>0.000000</td>\n",
       "      <td>0.000000</td>\n",
       "      <td>0.000000</td>\n",
       "    </tr>\n",
       "  </tbody>\n",
       "</table>\n",
       "<p>5 rows × 39 columns</p>\n",
       "</div>"
      ],
      "text/plain": [
       "  CustomerID  CustomerAge CustGender CleanLocation  CustAccountBalance_avrg  \\\n",
       "0   C1010011           24          F         NOIDA                76340.635   \n",
       "1   C1010012           22          M        MUMBAI                24204.490   \n",
       "2   C1010014           24          F        MUMBAI               100112.950   \n",
       "3   C1010018           26          F           ARA                  496.180   \n",
       "4   C1010024           51          M       KOLKATA                87058.650   \n",
       "\n",
       "   TransactionAmount_avrg (INR)  TransactionNum  TransactionNumGT100  \\\n",
       "0                        2553.0               2                    2   \n",
       "1                        1499.0               1                    1   \n",
       "2                         727.5               2                    2   \n",
       "3                          30.0               1                    1   \n",
       "4                        5000.0               1                    1   \n",
       "\n",
       "   utilisation  MeanCosTime  ...  StdCosTime  StdSinTime  StdCosDayOfWeek  \\\n",
       "0    73787.635    -0.017863  ...    1.369335    0.337291         1.344188   \n",
       "1    22705.490     0.656553  ...    0.000000    0.000000         0.000000   \n",
       "2    99385.450     0.158280  ...    1.010306    0.242398         0.000000   \n",
       "3      466.180    -0.246576  ...    0.000000    0.000000         0.000000   \n",
       "4    82058.650    -0.840921  ...    0.000000    0.000000         0.000000   \n",
       "\n",
       "   StdSinDayOfWeek  StdCosDayOfMonth  StdSinDayOfMonth  StdCosDayOfYear  \\\n",
       "0         0.306802           0.54706          1.228716         0.211816   \n",
       "1         0.000000           0.00000          0.000000         0.000000   \n",
       "2         0.000000           0.00000          0.000000         1.402456   \n",
       "3         0.000000           0.00000          0.000000         0.000000   \n",
       "4         0.000000           0.00000          0.000000         0.000000   \n",
       "\n",
       "   StdSinDayOfYear  StdLogBalance  StdLogAmount  \n",
       "0         0.049988       0.401595      0.795667  \n",
       "1         0.000000       0.000000      0.000000  \n",
       "2         0.181576       0.441968      0.482987  \n",
       "3         0.000000       0.000000      0.000000  \n",
       "4         0.000000       0.000000      0.000000  \n",
       "\n",
       "[5 rows x 39 columns]"
      ]
     },
     "execution_count": 41,
     "metadata": {},
     "output_type": "execute_result"
    }
   ],
   "source": [
    "data = pd.read_csv('customers.tsv', sep='\\t')\n",
    "data.head()"
   ]
  },
  {
   "cell_type": "markdown",
   "id": "1317d375-dedb-4043-a928-7f9620165c68",
   "metadata": {},
   "source": [
    "Our original dataset has some problems: the columns regarding the logarithms of a quantity suffer from having some `-inf` values, so we cast all of the negative values to 0. This shouldn't be a problem. "
   ]
  },
  {
   "cell_type": "code",
   "execution_count": 42,
   "id": "64fb3665-9517-4268-9173-0e15bad5fe12",
   "metadata": {
    "cell_id": "76909b95a6464fe49e93fa30c79ed929",
    "deepnote_cell_type": "code",
    "deepnote_to_be_reexecuted": false,
    "execution_millis": 2242,
    "execution_start": 1670677000473,
    "source_hash": "ae2957fe",
    "tags": []
   },
   "outputs": [
    {
     "data": {
      "text/html": [
       "<div>\n",
       "<style scoped>\n",
       "    .dataframe tbody tr th:only-of-type {\n",
       "        vertical-align: middle;\n",
       "    }\n",
       "\n",
       "    .dataframe tbody tr th {\n",
       "        vertical-align: top;\n",
       "    }\n",
       "\n",
       "    .dataframe thead th {\n",
       "        text-align: right;\n",
       "    }\n",
       "</style>\n",
       "<table border=\"1\" class=\"dataframe\">\n",
       "  <thead>\n",
       "    <tr style=\"text-align: right;\">\n",
       "      <th></th>\n",
       "      <th>CustomerAge</th>\n",
       "      <th>CustAccountBalance_avrg</th>\n",
       "      <th>TransactionAmount_avrg (INR)</th>\n",
       "      <th>TransactionNum</th>\n",
       "      <th>TransactionNumGT100</th>\n",
       "      <th>utilisation</th>\n",
       "      <th>MeanCosTime</th>\n",
       "      <th>MeanSinTime</th>\n",
       "      <th>MeanCosDayOfWeek</th>\n",
       "      <th>MeanSinDayOfWeek</th>\n",
       "      <th>...</th>\n",
       "      <th>StdCosTime</th>\n",
       "      <th>StdSinTime</th>\n",
       "      <th>StdCosDayOfWeek</th>\n",
       "      <th>StdSinDayOfWeek</th>\n",
       "      <th>StdCosDayOfMonth</th>\n",
       "      <th>StdSinDayOfMonth</th>\n",
       "      <th>StdCosDayOfYear</th>\n",
       "      <th>StdSinDayOfYear</th>\n",
       "      <th>StdLogBalance</th>\n",
       "      <th>StdLogAmount</th>\n",
       "    </tr>\n",
       "  </thead>\n",
       "  <tbody>\n",
       "    <tr>\n",
       "      <th>count</th>\n",
       "      <td>839018.000000</td>\n",
       "      <td>8.390180e+05</td>\n",
       "      <td>8.390180e+05</td>\n",
       "      <td>839018.000000</td>\n",
       "      <td>839018.000000</td>\n",
       "      <td>8.390180e+05</td>\n",
       "      <td>839018.000000</td>\n",
       "      <td>839018.000000</td>\n",
       "      <td>839018.000000</td>\n",
       "      <td>839018.000000</td>\n",
       "      <td>...</td>\n",
       "      <td>839018.000000</td>\n",
       "      <td>839018.000000</td>\n",
       "      <td>839018.000000</td>\n",
       "      <td>839018.000000</td>\n",
       "      <td>839018.000000</td>\n",
       "      <td>839018.000000</td>\n",
       "      <td>839018.000000</td>\n",
       "      <td>839018.000000</td>\n",
       "      <td>839018.000000</td>\n",
       "      <td>839018.000000</td>\n",
       "    </tr>\n",
       "    <tr>\n",
       "      <th>mean</th>\n",
       "      <td>31.088934</td>\n",
       "      <td>1.056321e+05</td>\n",
       "      <td>1.453407e+03</td>\n",
       "      <td>1.174273</td>\n",
       "      <td>1.102568</td>\n",
       "      <td>1.041787e+05</td>\n",
       "      <td>-0.088785</td>\n",
       "      <td>-0.445301</td>\n",
       "      <td>0.000941</td>\n",
       "      <td>0.006384</td>\n",
       "      <td>...</td>\n",
       "      <td>0.088119</td>\n",
       "      <td>0.065648</td>\n",
       "      <td>0.084591</td>\n",
       "      <td>0.090573</td>\n",
       "      <td>0.062510</td>\n",
       "      <td>0.090312</td>\n",
       "      <td>0.070398</td>\n",
       "      <td>0.075660</td>\n",
       "      <td>0.124471</td>\n",
       "      <td>0.084980</td>\n",
       "    </tr>\n",
       "    <tr>\n",
       "      <th>std</th>\n",
       "      <td>8.758333</td>\n",
       "      <td>7.843302e+05</td>\n",
       "      <td>6.044735e+03</td>\n",
       "      <td>0.435111</td>\n",
       "      <td>0.483515</td>\n",
       "      <td>7.840215e+05</td>\n",
       "      <td>0.670012</td>\n",
       "      <td>0.530464</td>\n",
       "      <td>0.663847</td>\n",
       "      <td>0.692272</td>\n",
       "      <td>...</td>\n",
       "      <td>0.259181</td>\n",
       "      <td>0.206333</td>\n",
       "      <td>0.257073</td>\n",
       "      <td>0.268394</td>\n",
       "      <td>0.195110</td>\n",
       "      <td>0.284240</td>\n",
       "      <td>0.219458</td>\n",
       "      <td>0.247673</td>\n",
       "      <td>0.400988</td>\n",
       "      <td>0.259095</td>\n",
       "    </tr>\n",
       "    <tr>\n",
       "      <th>min</th>\n",
       "      <td>0.000000</td>\n",
       "      <td>0.000000e+00</td>\n",
       "      <td>0.000000e+00</td>\n",
       "      <td>1.000000</td>\n",
       "      <td>0.000000</td>\n",
       "      <td>-1.517547e+06</td>\n",
       "      <td>-1.000000</td>\n",
       "      <td>-1.000000</td>\n",
       "      <td>-0.900969</td>\n",
       "      <td>-0.974928</td>\n",
       "      <td>...</td>\n",
       "      <td>0.000000</td>\n",
       "      <td>0.000000</td>\n",
       "      <td>0.000000</td>\n",
       "      <td>0.000000</td>\n",
       "      <td>0.000000</td>\n",
       "      <td>0.000000</td>\n",
       "      <td>0.000000</td>\n",
       "      <td>0.000000</td>\n",
       "      <td>0.000000</td>\n",
       "      <td>0.000000</td>\n",
       "    </tr>\n",
       "    <tr>\n",
       "      <th>25%</th>\n",
       "      <td>25.000000</td>\n",
       "      <td>5.364666e+03</td>\n",
       "      <td>1.800000e+02</td>\n",
       "      <td>1.000000</td>\n",
       "      <td>1.000000</td>\n",
       "      <td>4.560395e+03</td>\n",
       "      <td>-0.758845</td>\n",
       "      <td>-0.881990</td>\n",
       "      <td>-0.561745</td>\n",
       "      <td>-0.781831</td>\n",
       "      <td>...</td>\n",
       "      <td>0.000000</td>\n",
       "      <td>0.000000</td>\n",
       "      <td>0.000000</td>\n",
       "      <td>0.000000</td>\n",
       "      <td>0.000000</td>\n",
       "      <td>0.000000</td>\n",
       "      <td>0.000000</td>\n",
       "      <td>0.000000</td>\n",
       "      <td>0.000000</td>\n",
       "      <td>0.000000</td>\n",
       "    </tr>\n",
       "    <tr>\n",
       "      <th>50%</th>\n",
       "      <td>29.000000</td>\n",
       "      <td>1.768083e+04</td>\n",
       "      <td>4.749950e+02</td>\n",
       "      <td>1.000000</td>\n",
       "      <td>1.000000</td>\n",
       "      <td>1.663460e+04</td>\n",
       "      <td>-0.109445</td>\n",
       "      <td>-0.615432</td>\n",
       "      <td>-0.222521</td>\n",
       "      <td>0.000000</td>\n",
       "      <td>...</td>\n",
       "      <td>0.000000</td>\n",
       "      <td>0.000000</td>\n",
       "      <td>0.000000</td>\n",
       "      <td>0.000000</td>\n",
       "      <td>0.000000</td>\n",
       "      <td>0.000000</td>\n",
       "      <td>0.000000</td>\n",
       "      <td>0.000000</td>\n",
       "      <td>0.000000</td>\n",
       "      <td>0.000000</td>\n",
       "    </tr>\n",
       "    <tr>\n",
       "      <th>75%</th>\n",
       "      <td>34.000000</td>\n",
       "      <td>5.722422e+04</td>\n",
       "      <td>1.175060e+03</td>\n",
       "      <td>1.000000</td>\n",
       "      <td>1.000000</td>\n",
       "      <td>5.571657e+04</td>\n",
       "      <td>0.534598</td>\n",
       "      <td>-0.142629</td>\n",
       "      <td>0.623490</td>\n",
       "      <td>0.781831</td>\n",
       "      <td>...</td>\n",
       "      <td>0.000000</td>\n",
       "      <td>0.000000</td>\n",
       "      <td>0.000000</td>\n",
       "      <td>0.000000</td>\n",
       "      <td>0.000000</td>\n",
       "      <td>0.000000</td>\n",
       "      <td>0.000000</td>\n",
       "      <td>0.000000</td>\n",
       "      <td>0.000000</td>\n",
       "      <td>0.000000</td>\n",
       "    </tr>\n",
       "    <tr>\n",
       "      <th>max</th>\n",
       "      <td>99.000000</td>\n",
       "      <td>1.150355e+08</td>\n",
       "      <td>1.560035e+06</td>\n",
       "      <td>6.000000</td>\n",
       "      <td>6.000000</td>\n",
       "      <td>1.150339e+08</td>\n",
       "      <td>1.000000</td>\n",
       "      <td>1.000000</td>\n",
       "      <td>1.000000</td>\n",
       "      <td>0.974928</td>\n",
       "      <td>...</td>\n",
       "      <td>1.414181</td>\n",
       "      <td>1.414057</td>\n",
       "      <td>1.344188</td>\n",
       "      <td>1.378756</td>\n",
       "      <td>1.414214</td>\n",
       "      <td>1.412398</td>\n",
       "      <td>1.402456</td>\n",
       "      <td>1.408335</td>\n",
       "      <td>5.843120</td>\n",
       "      <td>3.903807</td>\n",
       "    </tr>\n",
       "  </tbody>\n",
       "</table>\n",
       "<p>8 rows × 36 columns</p>\n",
       "</div>"
      ],
      "text/plain": [
       "         CustomerAge  CustAccountBalance_avrg  TransactionAmount_avrg (INR)  \\\n",
       "count  839018.000000             8.390180e+05                  8.390180e+05   \n",
       "mean       31.088934             1.056321e+05                  1.453407e+03   \n",
       "std         8.758333             7.843302e+05                  6.044735e+03   \n",
       "min         0.000000             0.000000e+00                  0.000000e+00   \n",
       "25%        25.000000             5.364666e+03                  1.800000e+02   \n",
       "50%        29.000000             1.768083e+04                  4.749950e+02   \n",
       "75%        34.000000             5.722422e+04                  1.175060e+03   \n",
       "max        99.000000             1.150355e+08                  1.560035e+06   \n",
       "\n",
       "       TransactionNum  TransactionNumGT100   utilisation    MeanCosTime  \\\n",
       "count   839018.000000        839018.000000  8.390180e+05  839018.000000   \n",
       "mean         1.174273             1.102568  1.041787e+05      -0.088785   \n",
       "std          0.435111             0.483515  7.840215e+05       0.670012   \n",
       "min          1.000000             0.000000 -1.517547e+06      -1.000000   \n",
       "25%          1.000000             1.000000  4.560395e+03      -0.758845   \n",
       "50%          1.000000             1.000000  1.663460e+04      -0.109445   \n",
       "75%          1.000000             1.000000  5.571657e+04       0.534598   \n",
       "max          6.000000             6.000000  1.150339e+08       1.000000   \n",
       "\n",
       "         MeanSinTime  MeanCosDayOfWeek  MeanSinDayOfWeek  ...     StdCosTime  \\\n",
       "count  839018.000000     839018.000000     839018.000000  ...  839018.000000   \n",
       "mean       -0.445301          0.000941          0.006384  ...       0.088119   \n",
       "std         0.530464          0.663847          0.692272  ...       0.259181   \n",
       "min        -1.000000         -0.900969         -0.974928  ...       0.000000   \n",
       "25%        -0.881990         -0.561745         -0.781831  ...       0.000000   \n",
       "50%        -0.615432         -0.222521          0.000000  ...       0.000000   \n",
       "75%        -0.142629          0.623490          0.781831  ...       0.000000   \n",
       "max         1.000000          1.000000          0.974928  ...       1.414181   \n",
       "\n",
       "          StdSinTime  StdCosDayOfWeek  StdSinDayOfWeek  StdCosDayOfMonth  \\\n",
       "count  839018.000000    839018.000000    839018.000000     839018.000000   \n",
       "mean        0.065648         0.084591         0.090573          0.062510   \n",
       "std         0.206333         0.257073         0.268394          0.195110   \n",
       "min         0.000000         0.000000         0.000000          0.000000   \n",
       "25%         0.000000         0.000000         0.000000          0.000000   \n",
       "50%         0.000000         0.000000         0.000000          0.000000   \n",
       "75%         0.000000         0.000000         0.000000          0.000000   \n",
       "max         1.414057         1.344188         1.378756          1.414214   \n",
       "\n",
       "       StdSinDayOfMonth  StdCosDayOfYear  StdSinDayOfYear  StdLogBalance  \\\n",
       "count     839018.000000    839018.000000    839018.000000  839018.000000   \n",
       "mean           0.090312         0.070398         0.075660       0.124471   \n",
       "std            0.284240         0.219458         0.247673       0.400988   \n",
       "min            0.000000         0.000000         0.000000       0.000000   \n",
       "25%            0.000000         0.000000         0.000000       0.000000   \n",
       "50%            0.000000         0.000000         0.000000       0.000000   \n",
       "75%            0.000000         0.000000         0.000000       0.000000   \n",
       "max            1.412398         1.402456         1.408335       5.843120   \n",
       "\n",
       "        StdLogAmount  \n",
       "count  839018.000000  \n",
       "mean        0.084980  \n",
       "std         0.259095  \n",
       "min         0.000000  \n",
       "25%         0.000000  \n",
       "50%         0.000000  \n",
       "75%         0.000000  \n",
       "max         3.903807  \n",
       "\n",
       "[8 rows x 36 columns]"
      ]
     },
     "execution_count": 42,
     "metadata": {},
     "output_type": "execute_result"
    }
   ],
   "source": [
    "data[['MeanLogBalance', 'MeanLogAmount']] = data[['MeanLogBalance', 'MeanLogAmount']].applymap(lambda x: 0 if x<0 else x)\n",
    "data.describe()"
   ]
  },
  {
   "cell_type": "markdown",
   "id": "969fcd86-4240-4bb0-9b6a-5bdf7d8b4227",
   "metadata": {},
   "source": [
    "Now we build the Pipeline that will handle our preprocessing, as it can be seen it's composed by two parts:\n",
    "- A `OneHotEncoder` for the **categorical** columns, as otherwise the PCA wouldn't be able to handle them. While in literature this is not optimal and FAMD would have been a better choice, due to shortage of time this is what we implemented.\n",
    "- A Normalizer for the **numerical** columns, as the PCA works so much better with normalised columns."
   ]
  },
  {
   "cell_type": "code",
   "execution_count": 46,
   "id": "8a13941c-c3f5-4647-b483-ee725285c0d9",
   "metadata": {
    "cell_id": "9cab6ef810754b35809fdf961d176006",
    "deepnote_cell_type": "code",
    "deepnote_to_be_reexecuted": false,
    "execution_millis": 159883,
    "execution_start": 1670677002762,
    "source_hash": "37dff1f2",
    "tags": []
   },
   "outputs": [
    {
     "data": {
      "text/html": [
       "<style>#sk-container-id-2 {color: black;background-color: white;}#sk-container-id-2 pre{padding: 0;}#sk-container-id-2 div.sk-toggleable {background-color: white;}#sk-container-id-2 label.sk-toggleable__label {cursor: pointer;display: block;width: 100%;margin-bottom: 0;padding: 0.3em;box-sizing: border-box;text-align: center;}#sk-container-id-2 label.sk-toggleable__label-arrow:before {content: \"▸\";float: left;margin-right: 0.25em;color: #696969;}#sk-container-id-2 label.sk-toggleable__label-arrow:hover:before {color: black;}#sk-container-id-2 div.sk-estimator:hover label.sk-toggleable__label-arrow:before {color: black;}#sk-container-id-2 div.sk-toggleable__content {max-height: 0;max-width: 0;overflow: hidden;text-align: left;background-color: #f0f8ff;}#sk-container-id-2 div.sk-toggleable__content pre {margin: 0.2em;color: black;border-radius: 0.25em;background-color: #f0f8ff;}#sk-container-id-2 input.sk-toggleable__control:checked~div.sk-toggleable__content {max-height: 200px;max-width: 100%;overflow: auto;}#sk-container-id-2 input.sk-toggleable__control:checked~label.sk-toggleable__label-arrow:before {content: \"▾\";}#sk-container-id-2 div.sk-estimator input.sk-toggleable__control:checked~label.sk-toggleable__label {background-color: #d4ebff;}#sk-container-id-2 div.sk-label input.sk-toggleable__control:checked~label.sk-toggleable__label {background-color: #d4ebff;}#sk-container-id-2 input.sk-hidden--visually {border: 0;clip: rect(1px 1px 1px 1px);clip: rect(1px, 1px, 1px, 1px);height: 1px;margin: -1px;overflow: hidden;padding: 0;position: absolute;width: 1px;}#sk-container-id-2 div.sk-estimator {font-family: monospace;background-color: #f0f8ff;border: 1px dotted black;border-radius: 0.25em;box-sizing: border-box;margin-bottom: 0.5em;}#sk-container-id-2 div.sk-estimator:hover {background-color: #d4ebff;}#sk-container-id-2 div.sk-parallel-item::after {content: \"\";width: 100%;border-bottom: 1px solid gray;flex-grow: 1;}#sk-container-id-2 div.sk-label:hover label.sk-toggleable__label {background-color: #d4ebff;}#sk-container-id-2 div.sk-serial::before {content: \"\";position: absolute;border-left: 1px solid gray;box-sizing: border-box;top: 0;bottom: 0;left: 50%;z-index: 0;}#sk-container-id-2 div.sk-serial {display: flex;flex-direction: column;align-items: center;background-color: white;padding-right: 0.2em;padding-left: 0.2em;position: relative;}#sk-container-id-2 div.sk-item {position: relative;z-index: 1;}#sk-container-id-2 div.sk-parallel {display: flex;align-items: stretch;justify-content: center;background-color: white;position: relative;}#sk-container-id-2 div.sk-item::before, #sk-container-id-2 div.sk-parallel-item::before {content: \"\";position: absolute;border-left: 1px solid gray;box-sizing: border-box;top: 0;bottom: 0;left: 50%;z-index: -1;}#sk-container-id-2 div.sk-parallel-item {display: flex;flex-direction: column;z-index: 1;position: relative;background-color: white;}#sk-container-id-2 div.sk-parallel-item:first-child::after {align-self: flex-end;width: 50%;}#sk-container-id-2 div.sk-parallel-item:last-child::after {align-self: flex-start;width: 50%;}#sk-container-id-2 div.sk-parallel-item:only-child::after {width: 0;}#sk-container-id-2 div.sk-dashed-wrapped {border: 1px dashed gray;margin: 0 0.4em 0.5em 0.4em;box-sizing: border-box;padding-bottom: 0.4em;background-color: white;}#sk-container-id-2 div.sk-label label {font-family: monospace;font-weight: bold;display: inline-block;line-height: 1.2em;}#sk-container-id-2 div.sk-label-container {text-align: center;}#sk-container-id-2 div.sk-container {/* jupyter's `normalize.less` sets `[hidden] { display: none; }` but bootstrap.min.css set `[hidden] { display: none !important; }` so we also need the `!important` here to be able to override the default hidden behavior on the sphinx rendered scikit-learn.org. See: https://github.com/scikit-learn/scikit-learn/issues/21755 */display: inline-block !important;position: relative;}#sk-container-id-2 div.sk-text-repr-fallback {display: none;}</style><div id=\"sk-container-id-2\" class=\"sk-top-container\"><div class=\"sk-text-repr-fallback\"><pre>ColumnTransformer(transformers=[(&#x27;onehotencoder&#x27;,\n",
       "                                 OneHotEncoder(handle_unknown=&#x27;infrequent_if_exist&#x27;,\n",
       "                                               min_frequency=0.001),\n",
       "                                 &lt;sklearn.compose._column_transformer.make_column_selector object at 0x7f07f47fbfd0&gt;),\n",
       "                                (&#x27;normalizer&#x27;, Normalizer(),\n",
       "                                 &lt;sklearn.compose._column_transformer.make_column_selector object at 0x7f07f47fa650&gt;)])</pre><b>In a Jupyter environment, please rerun this cell to show the HTML representation or trust the notebook. <br />On GitHub, the HTML representation is unable to render, please try loading this page with nbviewer.org.</b></div><div class=\"sk-container\" hidden><div class=\"sk-item sk-dashed-wrapped\"><div class=\"sk-label-container\"><div class=\"sk-label sk-toggleable\"><input class=\"sk-toggleable__control sk-hidden--visually\" id=\"sk-estimator-id-6\" type=\"checkbox\" ><label for=\"sk-estimator-id-6\" class=\"sk-toggleable__label sk-toggleable__label-arrow\">ColumnTransformer</label><div class=\"sk-toggleable__content\"><pre>ColumnTransformer(transformers=[(&#x27;onehotencoder&#x27;,\n",
       "                                 OneHotEncoder(handle_unknown=&#x27;infrequent_if_exist&#x27;,\n",
       "                                               min_frequency=0.001),\n",
       "                                 &lt;sklearn.compose._column_transformer.make_column_selector object at 0x7f07f47fbfd0&gt;),\n",
       "                                (&#x27;normalizer&#x27;, Normalizer(),\n",
       "                                 &lt;sklearn.compose._column_transformer.make_column_selector object at 0x7f07f47fa650&gt;)])</pre></div></div></div><div class=\"sk-parallel\"><div class=\"sk-parallel-item\"><div class=\"sk-item\"><div class=\"sk-label-container\"><div class=\"sk-label sk-toggleable\"><input class=\"sk-toggleable__control sk-hidden--visually\" id=\"sk-estimator-id-7\" type=\"checkbox\" ><label for=\"sk-estimator-id-7\" class=\"sk-toggleable__label sk-toggleable__label-arrow\">onehotencoder</label><div class=\"sk-toggleable__content\"><pre>&lt;sklearn.compose._column_transformer.make_column_selector object at 0x7f07f47fbfd0&gt;</pre></div></div></div><div class=\"sk-serial\"><div class=\"sk-item\"><div class=\"sk-estimator sk-toggleable\"><input class=\"sk-toggleable__control sk-hidden--visually\" id=\"sk-estimator-id-8\" type=\"checkbox\" ><label for=\"sk-estimator-id-8\" class=\"sk-toggleable__label sk-toggleable__label-arrow\">OneHotEncoder</label><div class=\"sk-toggleable__content\"><pre>OneHotEncoder(handle_unknown=&#x27;infrequent_if_exist&#x27;, min_frequency=0.001)</pre></div></div></div></div></div></div><div class=\"sk-parallel-item\"><div class=\"sk-item\"><div class=\"sk-label-container\"><div class=\"sk-label sk-toggleable\"><input class=\"sk-toggleable__control sk-hidden--visually\" id=\"sk-estimator-id-9\" type=\"checkbox\" ><label for=\"sk-estimator-id-9\" class=\"sk-toggleable__label sk-toggleable__label-arrow\">normalizer</label><div class=\"sk-toggleable__content\"><pre>&lt;sklearn.compose._column_transformer.make_column_selector object at 0x7f07f47fa650&gt;</pre></div></div></div><div class=\"sk-serial\"><div class=\"sk-item\"><div class=\"sk-estimator sk-toggleable\"><input class=\"sk-toggleable__control sk-hidden--visually\" id=\"sk-estimator-id-10\" type=\"checkbox\" ><label for=\"sk-estimator-id-10\" class=\"sk-toggleable__label sk-toggleable__label-arrow\">Normalizer</label><div class=\"sk-toggleable__content\"><pre>Normalizer()</pre></div></div></div></div></div></div></div></div></div></div>"
      ],
      "text/plain": [
       "ColumnTransformer(transformers=[('onehotencoder',\n",
       "                                 OneHotEncoder(handle_unknown='infrequent_if_exist',\n",
       "                                               min_frequency=0.001),\n",
       "                                 <sklearn.compose._column_transformer.make_column_selector object at 0x7f07f47fbfd0>),\n",
       "                                ('normalizer', Normalizer(),\n",
       "                                 <sklearn.compose._column_transformer.make_column_selector object at 0x7f07f47fa650>)])"
      ]
     },
     "execution_count": 46,
     "metadata": {},
     "output_type": "execute_result"
    }
   ],
   "source": [
    "preprocess = make_column_transformer(\n",
    "    (OneHotEncoder(\n",
    "        handle_unknown='infrequent_if_exist', \n",
    "        min_frequency=1e-3,\n",
    "        ),col_selector(pattern='CustGender|CleanLocation',dtype_include=object)),\n",
    "    (Normalizer(), col_selector(dtype_include=np.number))\n",
    ")\n",
    "preprocess"
   ]
  },
  {
   "cell_type": "markdown",
   "id": "30f3b007-a946-48cd-be3e-b04f2f344b38",
   "metadata": {},
   "source": [
    "Then we build the final pipeline which includes the PCA, note that we used `IncrementalPCA` because it is able to make use of sparse matrices."
   ]
  },
  {
   "cell_type": "code",
   "execution_count": 47,
   "id": "42fdb26d-d1af-4938-bf45-274277ec3422",
   "metadata": {
    "cell_id": "9cab6ef810754b35809fdf961d176006",
    "deepnote_cell_type": "code",
    "deepnote_to_be_reexecuted": false,
    "execution_millis": 159883,
    "execution_start": 1670677002762,
    "source_hash": "37dff1f2",
    "tags": []
   },
   "outputs": [
    {
     "data": {
      "text/html": [
       "<style>#sk-container-id-3 {color: black;background-color: white;}#sk-container-id-3 pre{padding: 0;}#sk-container-id-3 div.sk-toggleable {background-color: white;}#sk-container-id-3 label.sk-toggleable__label {cursor: pointer;display: block;width: 100%;margin-bottom: 0;padding: 0.3em;box-sizing: border-box;text-align: center;}#sk-container-id-3 label.sk-toggleable__label-arrow:before {content: \"▸\";float: left;margin-right: 0.25em;color: #696969;}#sk-container-id-3 label.sk-toggleable__label-arrow:hover:before {color: black;}#sk-container-id-3 div.sk-estimator:hover label.sk-toggleable__label-arrow:before {color: black;}#sk-container-id-3 div.sk-toggleable__content {max-height: 0;max-width: 0;overflow: hidden;text-align: left;background-color: #f0f8ff;}#sk-container-id-3 div.sk-toggleable__content pre {margin: 0.2em;color: black;border-radius: 0.25em;background-color: #f0f8ff;}#sk-container-id-3 input.sk-toggleable__control:checked~div.sk-toggleable__content {max-height: 200px;max-width: 100%;overflow: auto;}#sk-container-id-3 input.sk-toggleable__control:checked~label.sk-toggleable__label-arrow:before {content: \"▾\";}#sk-container-id-3 div.sk-estimator input.sk-toggleable__control:checked~label.sk-toggleable__label {background-color: #d4ebff;}#sk-container-id-3 div.sk-label input.sk-toggleable__control:checked~label.sk-toggleable__label {background-color: #d4ebff;}#sk-container-id-3 input.sk-hidden--visually {border: 0;clip: rect(1px 1px 1px 1px);clip: rect(1px, 1px, 1px, 1px);height: 1px;margin: -1px;overflow: hidden;padding: 0;position: absolute;width: 1px;}#sk-container-id-3 div.sk-estimator {font-family: monospace;background-color: #f0f8ff;border: 1px dotted black;border-radius: 0.25em;box-sizing: border-box;margin-bottom: 0.5em;}#sk-container-id-3 div.sk-estimator:hover {background-color: #d4ebff;}#sk-container-id-3 div.sk-parallel-item::after {content: \"\";width: 100%;border-bottom: 1px solid gray;flex-grow: 1;}#sk-container-id-3 div.sk-label:hover label.sk-toggleable__label {background-color: #d4ebff;}#sk-container-id-3 div.sk-serial::before {content: \"\";position: absolute;border-left: 1px solid gray;box-sizing: border-box;top: 0;bottom: 0;left: 50%;z-index: 0;}#sk-container-id-3 div.sk-serial {display: flex;flex-direction: column;align-items: center;background-color: white;padding-right: 0.2em;padding-left: 0.2em;position: relative;}#sk-container-id-3 div.sk-item {position: relative;z-index: 1;}#sk-container-id-3 div.sk-parallel {display: flex;align-items: stretch;justify-content: center;background-color: white;position: relative;}#sk-container-id-3 div.sk-item::before, #sk-container-id-3 div.sk-parallel-item::before {content: \"\";position: absolute;border-left: 1px solid gray;box-sizing: border-box;top: 0;bottom: 0;left: 50%;z-index: -1;}#sk-container-id-3 div.sk-parallel-item {display: flex;flex-direction: column;z-index: 1;position: relative;background-color: white;}#sk-container-id-3 div.sk-parallel-item:first-child::after {align-self: flex-end;width: 50%;}#sk-container-id-3 div.sk-parallel-item:last-child::after {align-self: flex-start;width: 50%;}#sk-container-id-3 div.sk-parallel-item:only-child::after {width: 0;}#sk-container-id-3 div.sk-dashed-wrapped {border: 1px dashed gray;margin: 0 0.4em 0.5em 0.4em;box-sizing: border-box;padding-bottom: 0.4em;background-color: white;}#sk-container-id-3 div.sk-label label {font-family: monospace;font-weight: bold;display: inline-block;line-height: 1.2em;}#sk-container-id-3 div.sk-label-container {text-align: center;}#sk-container-id-3 div.sk-container {/* jupyter's `normalize.less` sets `[hidden] { display: none; }` but bootstrap.min.css set `[hidden] { display: none !important; }` so we also need the `!important` here to be able to override the default hidden behavior on the sphinx rendered scikit-learn.org. See: https://github.com/scikit-learn/scikit-learn/issues/21755 */display: inline-block !important;position: relative;}#sk-container-id-3 div.sk-text-repr-fallback {display: none;}</style><div id=\"sk-container-id-3\" class=\"sk-top-container\"><div class=\"sk-text-repr-fallback\"><pre>Pipeline(steps=[(&#x27;columntransformer&#x27;,\n",
       "                 ColumnTransformer(transformers=[(&#x27;onehotencoder&#x27;,\n",
       "                                                  OneHotEncoder(handle_unknown=&#x27;infrequent_if_exist&#x27;,\n",
       "                                                                min_frequency=0.001),\n",
       "                                                  &lt;sklearn.compose._column_transformer.make_column_selector object at 0x7f07f47fbfd0&gt;),\n",
       "                                                 (&#x27;normalizer&#x27;, Normalizer(),\n",
       "                                                  &lt;sklearn.compose._column_transformer.make_column_selector object at 0x7f07f47fa650&gt;)])),\n",
       "                (&#x27;incrementalpca&#x27;, IncrementalPCA(n_components=20))])</pre><b>In a Jupyter environment, please rerun this cell to show the HTML representation or trust the notebook. <br />On GitHub, the HTML representation is unable to render, please try loading this page with nbviewer.org.</b></div><div class=\"sk-container\" hidden><div class=\"sk-item sk-dashed-wrapped\"><div class=\"sk-label-container\"><div class=\"sk-label sk-toggleable\"><input class=\"sk-toggleable__control sk-hidden--visually\" id=\"sk-estimator-id-11\" type=\"checkbox\" ><label for=\"sk-estimator-id-11\" class=\"sk-toggleable__label sk-toggleable__label-arrow\">Pipeline</label><div class=\"sk-toggleable__content\"><pre>Pipeline(steps=[(&#x27;columntransformer&#x27;,\n",
       "                 ColumnTransformer(transformers=[(&#x27;onehotencoder&#x27;,\n",
       "                                                  OneHotEncoder(handle_unknown=&#x27;infrequent_if_exist&#x27;,\n",
       "                                                                min_frequency=0.001),\n",
       "                                                  &lt;sklearn.compose._column_transformer.make_column_selector object at 0x7f07f47fbfd0&gt;),\n",
       "                                                 (&#x27;normalizer&#x27;, Normalizer(),\n",
       "                                                  &lt;sklearn.compose._column_transformer.make_column_selector object at 0x7f07f47fa650&gt;)])),\n",
       "                (&#x27;incrementalpca&#x27;, IncrementalPCA(n_components=20))])</pre></div></div></div><div class=\"sk-serial\"><div class=\"sk-item sk-dashed-wrapped\"><div class=\"sk-label-container\"><div class=\"sk-label sk-toggleable\"><input class=\"sk-toggleable__control sk-hidden--visually\" id=\"sk-estimator-id-12\" type=\"checkbox\" ><label for=\"sk-estimator-id-12\" class=\"sk-toggleable__label sk-toggleable__label-arrow\">columntransformer: ColumnTransformer</label><div class=\"sk-toggleable__content\"><pre>ColumnTransformer(transformers=[(&#x27;onehotencoder&#x27;,\n",
       "                                 OneHotEncoder(handle_unknown=&#x27;infrequent_if_exist&#x27;,\n",
       "                                               min_frequency=0.001),\n",
       "                                 &lt;sklearn.compose._column_transformer.make_column_selector object at 0x7f07f47fbfd0&gt;),\n",
       "                                (&#x27;normalizer&#x27;, Normalizer(),\n",
       "                                 &lt;sklearn.compose._column_transformer.make_column_selector object at 0x7f07f47fa650&gt;)])</pre></div></div></div><div class=\"sk-parallel\"><div class=\"sk-parallel-item\"><div class=\"sk-item\"><div class=\"sk-label-container\"><div class=\"sk-label sk-toggleable\"><input class=\"sk-toggleable__control sk-hidden--visually\" id=\"sk-estimator-id-13\" type=\"checkbox\" ><label for=\"sk-estimator-id-13\" class=\"sk-toggleable__label sk-toggleable__label-arrow\">onehotencoder</label><div class=\"sk-toggleable__content\"><pre>&lt;sklearn.compose._column_transformer.make_column_selector object at 0x7f07f47fbfd0&gt;</pre></div></div></div><div class=\"sk-serial\"><div class=\"sk-item\"><div class=\"sk-estimator sk-toggleable\"><input class=\"sk-toggleable__control sk-hidden--visually\" id=\"sk-estimator-id-14\" type=\"checkbox\" ><label for=\"sk-estimator-id-14\" class=\"sk-toggleable__label sk-toggleable__label-arrow\">OneHotEncoder</label><div class=\"sk-toggleable__content\"><pre>OneHotEncoder(handle_unknown=&#x27;infrequent_if_exist&#x27;, min_frequency=0.001)</pre></div></div></div></div></div></div><div class=\"sk-parallel-item\"><div class=\"sk-item\"><div class=\"sk-label-container\"><div class=\"sk-label sk-toggleable\"><input class=\"sk-toggleable__control sk-hidden--visually\" id=\"sk-estimator-id-15\" type=\"checkbox\" ><label for=\"sk-estimator-id-15\" class=\"sk-toggleable__label sk-toggleable__label-arrow\">normalizer</label><div class=\"sk-toggleable__content\"><pre>&lt;sklearn.compose._column_transformer.make_column_selector object at 0x7f07f47fa650&gt;</pre></div></div></div><div class=\"sk-serial\"><div class=\"sk-item\"><div class=\"sk-estimator sk-toggleable\"><input class=\"sk-toggleable__control sk-hidden--visually\" id=\"sk-estimator-id-16\" type=\"checkbox\" ><label for=\"sk-estimator-id-16\" class=\"sk-toggleable__label sk-toggleable__label-arrow\">Normalizer</label><div class=\"sk-toggleable__content\"><pre>Normalizer()</pre></div></div></div></div></div></div></div></div><div class=\"sk-item\"><div class=\"sk-estimator sk-toggleable\"><input class=\"sk-toggleable__control sk-hidden--visually\" id=\"sk-estimator-id-17\" type=\"checkbox\" ><label for=\"sk-estimator-id-17\" class=\"sk-toggleable__label sk-toggleable__label-arrow\">IncrementalPCA</label><div class=\"sk-toggleable__content\"><pre>IncrementalPCA(n_components=20)</pre></div></div></div></div></div></div></div>"
      ],
      "text/plain": [
       "Pipeline(steps=[('columntransformer',\n",
       "                 ColumnTransformer(transformers=[('onehotencoder',\n",
       "                                                  OneHotEncoder(handle_unknown='infrequent_if_exist',\n",
       "                                                                min_frequency=0.001),\n",
       "                                                  <sklearn.compose._column_transformer.make_column_selector object at 0x7f07f47fbfd0>),\n",
       "                                                 ('normalizer', Normalizer(),\n",
       "                                                  <sklearn.compose._column_transformer.make_column_selector object at 0x7f07f47fa650>)])),\n",
       "                ('incrementalpca', IncrementalPCA(n_components=20))])"
      ]
     },
     "execution_count": 47,
     "metadata": {},
     "output_type": "execute_result"
    }
   ],
   "source": [
    "pipe = make_pipeline(\n",
    "    preprocess,\n",
    "    IncrementalPCA(n_components=20)\n",
    ")\n",
    "\n",
    "pipe.fit(data)"
   ]
  },
  {
   "cell_type": "markdown",
   "id": "282c356e-389c-475c-af72-7cbe4bc153d6",
   "metadata": {},
   "source": [
    "Finally we see how many features we need to explain the variability of at least 70% of the data."
   ]
  },
  {
   "cell_type": "code",
   "execution_count": 48,
   "id": "7edcc021-e3dc-48e3-8e95-4b1f5e46da4d",
   "metadata": {
    "cell_id": "db9a4e6dff6d4a3da94b597127272b79",
    "deepnote_cell_type": "code",
    "deepnote_to_be_reexecuted": false,
    "execution_millis": 2,
    "execution_start": 1670677162643,
    "source_hash": "e222122",
    "tags": []
   },
   "outputs": [
    {
     "name": "stdout",
     "output_type": "stream",
     "text": [
      " 1 features explain 26.3% of the data\n",
      " 2 features explain 38.5% of the data\n",
      " 3 features explain 47.8% of the data\n",
      " 4 features explain 56.4% of the data\n",
      " 5 features explain 63.1% of the data\n",
      " 6 features explain 68.3% of the data\n",
      " 7 features explain 71.9% of the data\n",
      " 8 features explain 74.1% of the data\n",
      " 9 features explain 76.0% of the data\n",
      "10 features explain 77.8% of the data\n",
      "11 features explain 79.4% of the data\n",
      "12 features explain 80.8% of the data\n",
      "13 features explain 82.0% of the data\n",
      "14 features explain 83.0% of the data\n",
      "15 features explain 83.9% of the data\n",
      "16 features explain 84.8% of the data\n",
      "17 features explain 85.5% of the data\n",
      "18 features explain 86.1% of the data\n",
      "19 features explain 86.8% of the data\n"
     ]
    }
   ],
   "source": [
    "n_features = 0\n",
    "pca_variance = pipe.named_steps['incrementalpca'].explained_variance_ratio_\n",
    "\n",
    "for i in range(1,len(pca_variance)):\n",
    "    variance_explained = pca_variance[:i].sum()\n",
    "    print(f'{i:2} features explain {round(variance_explained*100,1)}% of the data')\n",
    "    if n_features == 0 and variance_explained > .7:\n",
    "        n_features = i"
   ]
  },
  {
   "cell_type": "markdown",
   "id": "c44486ec-5e2e-46e2-9415-b99d396bccf0",
   "metadata": {},
   "source": [
    "And we can save the new features as csv."
   ]
  },
  {
   "cell_type": "code",
   "execution_count": 53,
   "id": "1f922402-8a33-40c0-87bf-58d97dda6e1e",
   "metadata": {
    "cell_id": "db9a4e6dff6d4a3da94b597127272b79",
    "deepnote_cell_type": "code",
    "deepnote_to_be_reexecuted": false,
    "execution_millis": 2,
    "execution_start": 1670677162643,
    "source_hash": "e222122",
    "tags": []
   },
   "outputs": [
    {
     "data": {
      "text/html": [
       "<div>\n",
       "<style scoped>\n",
       "    .dataframe tbody tr th:only-of-type {\n",
       "        vertical-align: middle;\n",
       "    }\n",
       "\n",
       "    .dataframe tbody tr th {\n",
       "        vertical-align: top;\n",
       "    }\n",
       "\n",
       "    .dataframe thead th {\n",
       "        text-align: right;\n",
       "    }\n",
       "</style>\n",
       "<table border=\"1\" class=\"dataframe\">\n",
       "  <thead>\n",
       "    <tr style=\"text-align: right;\">\n",
       "      <th></th>\n",
       "      <th>0</th>\n",
       "      <th>1</th>\n",
       "      <th>2</th>\n",
       "      <th>3</th>\n",
       "      <th>4</th>\n",
       "      <th>5</th>\n",
       "      <th>6</th>\n",
       "    </tr>\n",
       "  </thead>\n",
       "  <tbody>\n",
       "    <tr>\n",
       "      <th>0</th>\n",
       "      <td>1.026374</td>\n",
       "      <td>0.116969</td>\n",
       "      <td>-0.081275</td>\n",
       "      <td>0.030366</td>\n",
       "      <td>0.150238</td>\n",
       "      <td>0.099498</td>\n",
       "      <td>-0.467079</td>\n",
       "    </tr>\n",
       "    <tr>\n",
       "      <th>1</th>\n",
       "      <td>-0.367674</td>\n",
       "      <td>0.187829</td>\n",
       "      <td>-0.318898</td>\n",
       "      <td>-0.718129</td>\n",
       "      <td>-0.423124</td>\n",
       "      <td>-0.096773</td>\n",
       "      <td>0.122170</td>\n",
       "    </tr>\n",
       "    <tr>\n",
       "      <th>2</th>\n",
       "      <td>1.044230</td>\n",
       "      <td>0.151382</td>\n",
       "      <td>-0.364142</td>\n",
       "      <td>-0.666898</td>\n",
       "      <td>-0.433807</td>\n",
       "      <td>-0.109266</td>\n",
       "      <td>0.094200</td>\n",
       "    </tr>\n",
       "    <tr>\n",
       "      <th>3</th>\n",
       "      <td>1.021462</td>\n",
       "      <td>0.091433</td>\n",
       "      <td>-0.073196</td>\n",
       "      <td>0.030904</td>\n",
       "      <td>0.114524</td>\n",
       "      <td>0.065475</td>\n",
       "      <td>-0.240427</td>\n",
       "    </tr>\n",
       "    <tr>\n",
       "      <th>4</th>\n",
       "      <td>-0.381817</td>\n",
       "      <td>0.164692</td>\n",
       "      <td>-0.031258</td>\n",
       "      <td>-0.017554</td>\n",
       "      <td>0.129882</td>\n",
       "      <td>0.081558</td>\n",
       "      <td>-0.237350</td>\n",
       "    </tr>\n",
       "  </tbody>\n",
       "</table>\n",
       "</div>"
      ],
      "text/plain": [
       "          0         1         2         3         4         5         6\n",
       "0  1.026374  0.116969 -0.081275  0.030366  0.150238  0.099498 -0.467079\n",
       "1 -0.367674  0.187829 -0.318898 -0.718129 -0.423124 -0.096773  0.122170\n",
       "2  1.044230  0.151382 -0.364142 -0.666898 -0.433807 -0.109266  0.094200\n",
       "3  1.021462  0.091433 -0.073196  0.030904  0.114524  0.065475 -0.240427\n",
       "4 -0.381817  0.164692 -0.031258 -0.017554  0.129882  0.081558 -0.237350"
      ]
     },
     "execution_count": 53,
     "metadata": {},
     "output_type": "execute_result"
    }
   ],
   "source": [
    "X = pipe.transform(data)\n",
    "\n",
    "reducted_data = pd.DataFrame(X)\n",
    "# Take only most important features\n",
    "reducted_data = reducted_data.iloc[:,:n_features]\n",
    "reducted_data.to_csv('reducted_data.csv', index=False)\n",
    "reducted_data.head()"
   ]
  },
  {
   "cell_type": "markdown",
   "id": "04d86022-eb0b-4c79-b76a-50e1118bfcbc",
   "metadata": {},
   "source": [
    "## 2.3 Clustering!\n",
    "We will implement K-means through MapReduce and try to get the optimal number of clusters, then we will compare the results with `scikit`'s KMeans++.\n",
    "\n",
    "We start by importing the necessary libraries and setup of `pyspark`."
   ]
  },
  {
   "cell_type": "code",
   "execution_count": 14,
   "id": "70ec1ff7-5f0a-4c28-8deb-522c648a1670",
   "metadata": {
    "cell_id": "88f560067d8b42ad80af0630de4df60f",
    "deepnote_cell_type": "code",
    "deepnote_to_be_reexecuted": false,
    "execution_millis": 93665,
    "execution_start": 1670604095532,
    "is_output_hidden": true,
    "source_hash": "ad9c9606",
    "tags": []
   },
   "outputs": [
    {
     "ename": "ModuleNotFoundError",
     "evalue": "No module named 'clustering'",
     "output_type": "error",
     "traceback": [
      "\u001b[0;31m---------------------------------------------------------------------------\u001b[0m",
      "\u001b[0;31mModuleNotFoundError\u001b[0m                       Traceback (most recent call last)",
      "Cell \u001b[0;32mIn [14], line 12\u001b[0m\n\u001b[1;32m      9\u001b[0m \u001b[38;5;28;01mimport\u001b[39;00m \u001b[38;5;21;01mpandas\u001b[39;00m \u001b[38;5;28;01mas\u001b[39;00m \u001b[38;5;21;01mpd\u001b[39;00m\n\u001b[1;32m     10\u001b[0m get_ipython()\u001b[38;5;241m.\u001b[39mrun_line_magic(\u001b[38;5;124m'\u001b[39m\u001b[38;5;124mmatplotlib\u001b[39m\u001b[38;5;124m'\u001b[39m, \u001b[38;5;124m'\u001b[39m\u001b[38;5;124minline\u001b[39m\u001b[38;5;124m'\u001b[39m)\n\u001b[0;32m---> 12\u001b[0m \u001b[38;5;28;01mfrom\u001b[39;00m \u001b[38;5;21;01mfunctions\u001b[39;00m \u001b[38;5;28;01mimport\u001b[39;00m k_means\n\u001b[1;32m     13\u001b[0m \u001b[38;5;28;01mfrom\u001b[39;00m \u001b[38;5;21;01msklearn\u001b[39;00m\u001b[38;5;21;01m.\u001b[39;00m\u001b[38;5;21;01mmetrics\u001b[39;00m \u001b[38;5;28;01mimport\u001b[39;00m silhouette_score\n\u001b[1;32m     14\u001b[0m \u001b[38;5;28;01mfrom\u001b[39;00m \u001b[38;5;21;01mfunctions\u001b[39;00m \u001b[38;5;28;01mimport\u001b[39;00m avg_inter_cluster_distance, avg_intra_cluster_distance, elbow\n",
      "File \u001b[0;32m~/Documenti/GitHub/ADM_HW_4/functions/__init__.py:1\u001b[0m\n\u001b[0;32m----> 1\u001b[0m \u001b[38;5;28;01mfrom\u001b[39;00m \u001b[38;5;21;01mclustering\u001b[39;00m \u001b[38;5;28;01mimport\u001b[39;00m \u001b[38;5;241m*\u001b[39m\n",
      "\u001b[0;31mModuleNotFoundError\u001b[0m: No module named 'clustering'"
     ]
    }
   ],
   "source": [
    "# Setup pyspark\n",
    "# ! sudo apt-get update\n",
    "# ! sudo mkdir -p /usr/share/man/man1\n",
    "# ! sudo apt-get install -y openjdk-11-jdk\n",
    "# ! pip install pyspark\n",
    "import pyspark\n",
    "import matplotlib.pyplot as plt\n",
    "import numpy as np\n",
    "import pandas as pd\n",
    "%matplotlib inline\n",
    "\n",
    "from functions import k_means\n",
    "from sklearn.metrics import silhouette_score\n",
    "from functions import avg_inter_cluster_distance, avg_intra_cluster_distance, elbow\n",
    "%load_ext autoreload\n",
    "%autoreload 2\n",
    "\n",
    "sc = pyspark.SparkContext('local')"
   ]
  },
  {
   "cell_type": "markdown",
   "id": "f710fc15-4d9f-4742-8d8c-55147596e50d",
   "metadata": {},
   "source": [
    "We can visualize in part our dataset by plotting some of the dimensions."
   ]
  },
  {
   "cell_type": "code",
   "execution_count": 8,
   "id": "a1bec120-c287-4271-b8bd-1d0f07a4b553",
   "metadata": {
    "cell_id": "8adf1865e8ab474f8cc582c2f403f123",
    "deepnote_cell_type": "code",
    "deepnote_to_be_reexecuted": false,
    "execution_millis": 1761,
    "execution_start": 1670006803991,
    "source_hash": "20bf3700",
    "tags": []
   },
   "outputs": [
    {
     "data": {
      "image/png": "[encoded data removed]",
      "text/plain": [
       "<Figure size 640x480 with 1 Axes>"
      ]
     },
     "metadata": {},
     "output_type": "display_data"
    }
   ],
   "source": [
    "X = pd.read_csv('reducted_data.csv').to_numpy()\n",
    "\n",
    "plt.scatter(X[:, 0], X[:, 1])\n",
    "plt.show()"
   ]
  },
  {
   "cell_type": "code",
   "execution_count": 10,
   "id": "34041ae3-f0d4-4741-9752-dc27dd801ec5",
   "metadata": {
    "cell_id": "91bfea2068994995a97ca692a8d779c3",
    "deepnote_cell_type": "code",
    "deepnote_to_be_reexecuted": false,
    "execution_millis": 10151,
    "execution_start": 1670006805761,
    "output_cleared": false,
    "source_hash": "12c3cec",
    "tags": []
   },
   "outputs": [
    {
     "name": "stdout",
     "output_type": "stream",
     "text": [
      "22/12/10 18:51:19 WARN TaskSetManager: Stage 11 contains a task of very large size (70582 KiB). The maximum recommended task size is 1000 KiB.\n"
     ]
    },
    {
     "name": "stderr",
     "output_type": "stream",
     "text": [
      "                                                                                \r"
     ]
    },
    {
     "name": "stdout",
     "output_type": "stream",
     "text": [
      "22/12/10 18:51:21 WARN TaskSetManager: Stage 12 contains a task of very large size (70582 KiB). The maximum recommended task size is 1000 KiB.\n"
     ]
    },
    {
     "name": "stderr",
     "output_type": "stream",
     "text": [
      "                                                                                \r"
     ]
    },
    {
     "data": {
      "image/png": "[encoded data removed]",
      "text/plain": [
       "<Figure size 640x480 with 1 Axes>"
      ]
     },
     "metadata": {},
     "output_type": "display_data"
    },
    {
     "name": "stdout",
     "output_type": "stream",
     "text": [
      "22/12/10 18:51:24 WARN TaskSetManager: Stage 13 contains a task of very large size (70582 KiB). The maximum recommended task size is 1000 KiB.\n"
     ]
    },
    {
     "name": "stderr",
     "output_type": "stream",
     "text": [
      "                                                                                \r"
     ]
    },
    {
     "name": "stdout",
     "output_type": "stream",
     "text": [
      "22/12/10 18:51:55 WARN TaskSetManager: Stage 14 contains a task of very large size (70582 KiB). The maximum recommended task size is 1000 KiB.\n"
     ]
    },
    {
     "name": "stderr",
     "output_type": "stream",
     "text": [
      "                                                                                \r"
     ]
    },
    {
     "name": "stdout",
     "output_type": "stream",
     "text": [
      "22/12/10 18:52:22 WARN TaskSetManager: Stage 15 contains a task of very large size (70582 KiB). The maximum recommended task size is 1000 KiB.\n"
     ]
    },
    {
     "name": "stderr",
     "output_type": "stream",
     "text": [
      "                                                                                \r"
     ]
    },
    {
     "data": {
      "image/png": "[encoded data removed]",
      "text/plain": [
       "<Figure size 640x480 with 1 Axes>"
      ]
     },
     "metadata": {},
     "output_type": "display_data"
    },
    {
     "name": "stdout",
     "output_type": "stream",
     "text": [
      "22/12/10 18:53:05 WARN TaskSetManager: Stage 17 contains a task of very large size (70582 KiB). The maximum recommended task size is 1000 KiB.\n"
     ]
    },
    {
     "name": "stderr",
     "output_type": "stream",
     "text": [
      "                                                                                \r"
     ]
    },
    {
     "name": "stdout",
     "output_type": "stream",
     "text": [
      "22/12/10 18:53:35 WARN TaskSetManager: Stage 18 contains a task of very large size (70582 KiB). The maximum recommended task size is 1000 KiB.\n"
     ]
    },
    {
     "name": "stderr",
     "output_type": "stream",
     "text": [
      "                                                                                \r"
     ]
    },
    {
     "name": "stdout",
     "output_type": "stream",
     "text": [
      "22/12/10 18:54:02 WARN TaskSetManager: Stage 19 contains a task of very large size (70582 KiB). The maximum recommended task size is 1000 KiB.\n"
     ]
    },
    {
     "name": "stderr",
     "output_type": "stream",
     "text": [
      "                                                                                \r"
     ]
    },
    {
     "data": {
      "image/png": "[encoded data removed]",
      "text/plain": [
       "<Figure size 640x480 with 1 Axes>"
      ]
     },
     "metadata": {},
     "output_type": "display_data"
    },
    {
     "name": "stdout",
     "output_type": "stream",
     "text": [
      "22/12/10 18:54:46 WARN TaskSetManager: Stage 21 contains a task of very large size (70582 KiB). The maximum recommended task size is 1000 KiB.\n"
     ]
    },
    {
     "name": "stderr",
     "output_type": "stream",
     "text": [
      "                                                                                \r"
     ]
    },
    {
     "name": "stdout",
     "output_type": "stream",
     "text": [
      "22/12/10 18:55:15 WARN TaskSetManager: Stage 22 contains a task of very large size (70582 KiB). The maximum recommended task size is 1000 KiB.\n"
     ]
    },
    {
     "name": "stderr",
     "output_type": "stream",
     "text": [
      "                                                                                \r"
     ]
    },
    {
     "name": "stdout",
     "output_type": "stream",
     "text": [
      "22/12/10 18:55:40 WARN TaskSetManager: Stage 23 contains a task of very large size (70582 KiB). The maximum recommended task size is 1000 KiB.\n"
     ]
    },
    {
     "name": "stderr",
     "output_type": "stream",
     "text": [
      "                                                                                \r"
     ]
    },
    {
     "data": {
      "image/png": "[encoded data removed]",
      "text/plain": [
       "<Figure size 640x480 with 1 Axes>"
      ]
     },
     "metadata": {},
     "output_type": "display_data"
    },
    {
     "name": "stdout",
     "output_type": "stream",
     "text": [
      "22/12/10 18:56:23 WARN TaskSetManager: Stage 25 contains a task of very large size (70582 KiB). The maximum recommended task size is 1000 KiB.\n"
     ]
    },
    {
     "name": "stderr",
     "output_type": "stream",
     "text": [
      "                                                                                \r"
     ]
    },
    {
     "name": "stdout",
     "output_type": "stream",
     "text": [
      "22/12/10 18:56:53 WARN TaskSetManager: Stage 26 contains a task of very large size (70582 KiB). The maximum recommended task size is 1000 KiB.\n"
     ]
    },
    {
     "name": "stderr",
     "output_type": "stream",
     "text": [
      "                                                                                \r"
     ]
    },
    {
     "name": "stdout",
     "output_type": "stream",
     "text": [
      "22/12/10 18:57:20 WARN TaskSetManager: Stage 27 contains a task of very large size (70582 KiB). The maximum recommended task size is 1000 KiB.\n"
     ]
    },
    {
     "name": "stderr",
     "output_type": "stream",
     "text": [
      "                                                                                \r"
     ]
    },
    {
     "data": {
      "image/png": "[encoded data removed]",
      "text/plain": [
       "<Figure size 640x480 with 1 Axes>"
      ]
     },
     "metadata": {},
     "output_type": "display_data"
    },
    {
     "name": "stdout",
     "output_type": "stream",
     "text": [
      "22/12/10 18:58:05 WARN TaskSetManager: Stage 29 contains a task of very large size (70582 KiB). The maximum recommended task size is 1000 KiB.\n"
     ]
    },
    {
     "name": "stderr",
     "output_type": "stream",
     "text": [
      "                                                                                \r"
     ]
    },
    {
     "name": "stdout",
     "output_type": "stream",
     "text": [
      "22/12/10 18:58:34 WARN TaskSetManager: Stage 30 contains a task of very large size (70582 KiB). The maximum recommended task size is 1000 KiB.\n"
     ]
    },
    {
     "name": "stderr",
     "output_type": "stream",
     "text": [
      "                                                                                \r"
     ]
    },
    {
     "name": "stdout",
     "output_type": "stream",
     "text": [
      "22/12/10 18:59:00 WARN TaskSetManager: Stage 31 contains a task of very large size (70582 KiB). The maximum recommended task size is 1000 KiB.\n"
     ]
    },
    {
     "name": "stderr",
     "output_type": "stream",
     "text": [
      "                                                                                \r"
     ]
    },
    {
     "data": {
      "image/png": "[encoded data removed]",
      "text/plain": [
       "<Figure size 640x480 with 1 Axes>"
      ]
     },
     "metadata": {},
     "output_type": "display_data"
    },
    {
     "name": "stdout",
     "output_type": "stream",
     "text": [
      "22/12/10 18:59:43 WARN TaskSetManager: Stage 33 contains a task of very large size (70582 KiB). The maximum recommended task size is 1000 KiB.\n"
     ]
    },
    {
     "name": "stderr",
     "output_type": "stream",
     "text": [
      "                                                                                \r"
     ]
    }
   ],
   "source": [
    "y, means = k_means(X,6, display=True)"
   ]
  },
  {
   "cell_type": "code",
   "execution_count": 25,
   "id": "3e50a619-eb51-42b9-9a4b-0ea9fe88c793",
   "metadata": {
    "cell_id": "5874f7a0ff334ea3b6870990a1d42bfc",
    "deepnote_cell_type": "code",
    "deepnote_to_be_reexecuted": false,
    "execution_millis": 104,
    "execution_start": 1670008191112,
    "source_hash": "64c00a1",
    "tags": []
   },
   "outputs": [
    {
     "data": {
      "text/plain": [
       "(565161.059484747, 5.981179661731826)"
      ]
     },
     "execution_count": 25,
     "metadata": {},
     "output_type": "execute_result"
    }
   ],
   "source": [
    "avg_inter_cluster_distance(X,y,means), avg_intra_cluster_distance(X,y,means)"
   ]
  },
  {
   "cell_type": "markdown",
   "id": "b17a9580-b979-4dff-b62f-73d34439bca8",
   "metadata": {},
   "source": [
    "We can now start the search for the optimal value of **K**. We will do by grid searching through the values $[2,7]$."
   ]
  },
  {
   "cell_type": "code",
   "execution_count": 12,
   "id": "3d0911b8-1de2-45dc-abd5-f6954a88b56a",
   "metadata": {},
   "outputs": [
    {
     "name": "stdout",
     "output_type": "stream",
     "text": [
      "22/12/10 19:31:27 WARN TaskSetManager: Stage 36 contains a task of very large size (70582 KiB). The maximum recommended task size is 1000 KiB.\n"
     ]
    },
    {
     "name": "stderr",
     "output_type": "stream",
     "text": [
      "                                                                                \r"
     ]
    },
    {
     "name": "stdout",
     "output_type": "stream",
     "text": [
      "22/12/10 19:31:28 WARN TaskSetManager: Stage 37 contains a task of very large size (70582 KiB). The maximum recommended task size is 1000 KiB.\n"
     ]
    },
    {
     "name": "stderr",
     "output_type": "stream",
     "text": [
      "                                                                                \r"
     ]
    },
    {
     "name": "stdout",
     "output_type": "stream",
     "text": [
      "22/12/10 19:31:29 WARN TaskSetManager: Stage 38 contains a task of very large size (70582 KiB). The maximum recommended task size is 1000 KiB.\n"
     ]
    },
    {
     "name": "stderr",
     "output_type": "stream",
     "text": [
      "Exception in thread \"serve RDD 59\" java.net.SocketTimeoutException: Accept timed out\n",
      "\tat java.base/java.net.PlainSocketImpl.socketAccept(Native Method)\n",
      "\tat java.base/java.net.AbstractPlainSocketImpl.accept(AbstractPlainSocketImpl.java:474)\n",
      "\tat java.base/java.net.ServerSocket.implAccept(ServerSocket.java:565)\n",
      "\tat java.base/java.net.ServerSocket.accept(ServerSocket.java:533)\n",
      "\tat org.apache.spark.security.SocketAuthServer$$anon$1.run(SocketAuthServer.scala:64)\n",
      "                                                                                \r"
     ]
    },
    {
     "name": "stdout",
     "output_type": "stream",
     "text": [
      "22/12/10 19:31:45 WARN TaskSetManager: Stage 39 contains a task of very large size (70582 KiB). The maximum recommended task size is 1000 KiB.\n"
     ]
    },
    {
     "name": "stderr",
     "output_type": "stream",
     "text": [
      "                                                                                \r"
     ]
    },
    {
     "name": "stdout",
     "output_type": "stream",
     "text": [
      "22/12/10 19:31:58 WARN TaskSetManager: Stage 40 contains a task of very large size (70582 KiB). The maximum recommended task size is 1000 KiB.\n"
     ]
    },
    {
     "name": "stderr",
     "output_type": "stream",
     "text": [
      "                                                                                \r"
     ]
    },
    {
     "name": "stdout",
     "output_type": "stream",
     "text": [
      "22/12/10 19:32:11 WARN TaskSetManager: Stage 42 contains a task of very large size (70582 KiB). The maximum recommended task size is 1000 KiB.\n"
     ]
    },
    {
     "name": "stderr",
     "output_type": "stream",
     "text": [
      "                                                                                \r"
     ]
    },
    {
     "name": "stdout",
     "output_type": "stream",
     "text": [
      "22/12/10 19:32:31 WARN TaskSetManager: Stage 43 contains a task of very large size (70582 KiB). The maximum recommended task size is 1000 KiB.\n"
     ]
    },
    {
     "name": "stderr",
     "output_type": "stream",
     "text": [
      "                                                                                \r"
     ]
    },
    {
     "name": "stdout",
     "output_type": "stream",
     "text": [
      "22/12/10 19:32:32 WARN TaskSetManager: Stage 44 contains a task of very large size (70582 KiB). The maximum recommended task size is 1000 KiB.\n"
     ]
    },
    {
     "name": "stderr",
     "output_type": "stream",
     "text": [
      "                                                                                \r"
     ]
    },
    {
     "name": "stdout",
     "output_type": "stream",
     "text": [
      "22/12/10 19:32:33 WARN TaskSetManager: Stage 45 contains a task of very large size (70582 KiB). The maximum recommended task size is 1000 KiB.\n"
     ]
    },
    {
     "name": "stderr",
     "output_type": "stream",
     "text": [
      "                                                                                \r"
     ]
    },
    {
     "name": "stdout",
     "output_type": "stream",
     "text": [
      "22/12/10 19:32:52 WARN TaskSetManager: Stage 46 contains a task of very large size (70582 KiB). The maximum recommended task size is 1000 KiB.\n"
     ]
    },
    {
     "name": "stderr",
     "output_type": "stream",
     "text": [
      "                                                                                \r"
     ]
    },
    {
     "name": "stdout",
     "output_type": "stream",
     "text": [
      "22/12/10 19:33:07 WARN TaskSetManager: Stage 47 contains a task of very large size (70582 KiB). The maximum recommended task size is 1000 KiB.\n"
     ]
    },
    {
     "name": "stderr",
     "output_type": "stream",
     "text": [
      "                                                                                \r"
     ]
    },
    {
     "name": "stdout",
     "output_type": "stream",
     "text": [
      "22/12/10 19:33:23 WARN TaskSetManager: Stage 49 contains a task of very large size (70582 KiB). The maximum recommended task size is 1000 KiB.\n"
     ]
    },
    {
     "name": "stderr",
     "output_type": "stream",
     "text": [
      "                                                                                \r"
     ]
    },
    {
     "name": "stdout",
     "output_type": "stream",
     "text": [
      "22/12/10 19:33:46 WARN TaskSetManager: Stage 50 contains a task of very large size (70582 KiB). The maximum recommended task size is 1000 KiB.\n"
     ]
    },
    {
     "name": "stderr",
     "output_type": "stream",
     "text": [
      "                                                                                \r"
     ]
    },
    {
     "name": "stdout",
     "output_type": "stream",
     "text": [
      "22/12/10 19:33:47 WARN TaskSetManager: Stage 51 contains a task of very large size (70582 KiB). The maximum recommended task size is 1000 KiB.\n"
     ]
    },
    {
     "name": "stderr",
     "output_type": "stream",
     "text": [
      "                                                                                \r"
     ]
    },
    {
     "name": "stdout",
     "output_type": "stream",
     "text": [
      "22/12/10 19:33:48 WARN TaskSetManager: Stage 52 contains a task of very large size (70582 KiB). The maximum recommended task size is 1000 KiB.\n"
     ]
    },
    {
     "name": "stderr",
     "output_type": "stream",
     "text": [
      "                                                                                \r"
     ]
    },
    {
     "name": "stdout",
     "output_type": "stream",
     "text": [
      "22/12/10 19:34:10 WARN TaskSetManager: Stage 53 contains a task of very large size (70582 KiB). The maximum recommended task size is 1000 KiB.\n"
     ]
    },
    {
     "name": "stderr",
     "output_type": "stream",
     "text": [
      "                                                                                \r"
     ]
    },
    {
     "name": "stdout",
     "output_type": "stream",
     "text": [
      "22/12/10 19:34:28 WARN TaskSetManager: Stage 54 contains a task of very large size (70582 KiB). The maximum recommended task size is 1000 KiB.\n"
     ]
    },
    {
     "name": "stderr",
     "output_type": "stream",
     "text": [
      "                                                                                \r"
     ]
    },
    {
     "name": "stdout",
     "output_type": "stream",
     "text": [
      "22/12/10 19:34:47 WARN TaskSetManager: Stage 56 contains a task of very large size (70582 KiB). The maximum recommended task size is 1000 KiB.\n"
     ]
    },
    {
     "name": "stderr",
     "output_type": "stream",
     "text": [
      "                                                                                \r"
     ]
    },
    {
     "name": "stdout",
     "output_type": "stream",
     "text": [
      "22/12/10 19:35:09 WARN TaskSetManager: Stage 57 contains a task of very large size (70582 KiB). The maximum recommended task size is 1000 KiB.\n"
     ]
    },
    {
     "name": "stderr",
     "output_type": "stream",
     "text": [
      "                                                                                \r"
     ]
    },
    {
     "name": "stdout",
     "output_type": "stream",
     "text": [
      "22/12/10 19:35:27 WARN TaskSetManager: Stage 58 contains a task of very large size (70582 KiB). The maximum recommended task size is 1000 KiB.\n"
     ]
    },
    {
     "name": "stderr",
     "output_type": "stream",
     "text": [
      "                                                                                \r"
     ]
    },
    {
     "name": "stdout",
     "output_type": "stream",
     "text": [
      "22/12/10 19:35:47 WARN TaskSetManager: Stage 60 contains a task of very large size (70582 KiB). The maximum recommended task size is 1000 KiB.\n"
     ]
    },
    {
     "name": "stderr",
     "output_type": "stream",
     "text": [
      "                                                                                \r"
     ]
    },
    {
     "name": "stdout",
     "output_type": "stream",
     "text": [
      "22/12/10 19:36:08 WARN TaskSetManager: Stage 61 contains a task of very large size (70582 KiB). The maximum recommended task size is 1000 KiB.\n"
     ]
    },
    {
     "name": "stderr",
     "output_type": "stream",
     "text": [
      "                                                                                \r"
     ]
    },
    {
     "name": "stdout",
     "output_type": "stream",
     "text": [
      "22/12/10 19:36:26 WARN TaskSetManager: Stage 62 contains a task of very large size (70582 KiB). The maximum recommended task size is 1000 KiB.\n"
     ]
    },
    {
     "name": "stderr",
     "output_type": "stream",
     "text": [
      "                                                                                \r"
     ]
    },
    {
     "name": "stdout",
     "output_type": "stream",
     "text": [
      "22/12/10 19:36:46 WARN TaskSetManager: Stage 64 contains a task of very large size (70582 KiB). The maximum recommended task size is 1000 KiB.\n"
     ]
    },
    {
     "name": "stderr",
     "output_type": "stream",
     "text": [
      "                                                                                \r"
     ]
    },
    {
     "name": "stdout",
     "output_type": "stream",
     "text": [
      "22/12/10 19:37:11 WARN TaskSetManager: Stage 65 contains a task of very large size (70582 KiB). The maximum recommended task size is 1000 KiB.\n"
     ]
    },
    {
     "name": "stderr",
     "output_type": "stream",
     "text": [
      "                                                                                \r"
     ]
    },
    {
     "name": "stdout",
     "output_type": "stream",
     "text": [
      "22/12/10 19:37:12 WARN TaskSetManager: Stage 66 contains a task of very large size (70582 KiB). The maximum recommended task size is 1000 KiB.\n"
     ]
    },
    {
     "name": "stderr",
     "output_type": "stream",
     "text": [
      "                                                                                \r"
     ]
    },
    {
     "name": "stdout",
     "output_type": "stream",
     "text": [
      "22/12/10 19:37:14 WARN TaskSetManager: Stage 67 contains a task of very large size (70582 KiB). The maximum recommended task size is 1000 KiB.\n"
     ]
    },
    {
     "name": "stderr",
     "output_type": "stream",
     "text": [
      "                                                                                \r"
     ]
    },
    {
     "name": "stdout",
     "output_type": "stream",
     "text": [
      "22/12/10 19:37:38 WARN TaskSetManager: Stage 68 contains a task of very large size (70582 KiB). The maximum recommended task size is 1000 KiB.\n"
     ]
    },
    {
     "name": "stderr",
     "output_type": "stream",
     "text": [
      "                                                                                \r"
     ]
    },
    {
     "name": "stdout",
     "output_type": "stream",
     "text": [
      "22/12/10 19:38:00 WARN TaskSetManager: Stage 69 contains a task of very large size (70582 KiB). The maximum recommended task size is 1000 KiB.\n"
     ]
    },
    {
     "name": "stderr",
     "output_type": "stream",
     "text": [
      "                                                                                \r"
     ]
    },
    {
     "name": "stdout",
     "output_type": "stream",
     "text": [
      "22/12/10 19:38:22 WARN TaskSetManager: Stage 71 contains a task of very large size (70582 KiB). The maximum recommended task size is 1000 KiB.\n"
     ]
    },
    {
     "name": "stderr",
     "output_type": "stream",
     "text": [
      "                                                                                \r"
     ]
    },
    {
     "name": "stdout",
     "output_type": "stream",
     "text": [
      "22/12/10 19:38:47 WARN TaskSetManager: Stage 72 contains a task of very large size (70582 KiB). The maximum recommended task size is 1000 KiB.\n"
     ]
    },
    {
     "name": "stderr",
     "output_type": "stream",
     "text": [
      "                                                                                \r"
     ]
    },
    {
     "name": "stdout",
     "output_type": "stream",
     "text": [
      "22/12/10 19:39:08 WARN TaskSetManager: Stage 73 contains a task of very large size (70582 KiB). The maximum recommended task size is 1000 KiB.\n"
     ]
    },
    {
     "name": "stderr",
     "output_type": "stream",
     "text": [
      "                                                                                \r"
     ]
    },
    {
     "name": "stdout",
     "output_type": "stream",
     "text": [
      "22/12/10 19:39:30 WARN TaskSetManager: Stage 75 contains a task of very large size (70582 KiB). The maximum recommended task size is 1000 KiB.\n"
     ]
    },
    {
     "name": "stderr",
     "output_type": "stream",
     "text": [
      "                                                                                \r"
     ]
    },
    {
     "name": "stdout",
     "output_type": "stream",
     "text": [
      "22/12/10 19:39:55 WARN TaskSetManager: Stage 76 contains a task of very large size (70582 KiB). The maximum recommended task size is 1000 KiB.\n"
     ]
    },
    {
     "name": "stderr",
     "output_type": "stream",
     "text": [
      "                                                                                \r"
     ]
    },
    {
     "name": "stdout",
     "output_type": "stream",
     "text": [
      "22/12/10 19:40:17 WARN TaskSetManager: Stage 77 contains a task of very large size (70582 KiB). The maximum recommended task size is 1000 KiB.\n"
     ]
    },
    {
     "name": "stderr",
     "output_type": "stream",
     "text": [
      "                                                                                \r"
     ]
    },
    {
     "name": "stdout",
     "output_type": "stream",
     "text": [
      "22/12/10 19:40:41 WARN TaskSetManager: Stage 79 contains a task of very large size (70582 KiB). The maximum recommended task size is 1000 KiB.\n"
     ]
    },
    {
     "name": "stderr",
     "output_type": "stream",
     "text": [
      "                                                                                \r"
     ]
    },
    {
     "name": "stdout",
     "output_type": "stream",
     "text": [
      "22/12/10 19:41:14 WARN TaskSetManager: Stage 80 contains a task of very large size (70582 KiB). The maximum recommended task size is 1000 KiB.\n"
     ]
    },
    {
     "name": "stderr",
     "output_type": "stream",
     "text": [
      "                                                                                \r"
     ]
    },
    {
     "name": "stdout",
     "output_type": "stream",
     "text": [
      "22/12/10 19:41:15 WARN TaskSetManager: Stage 81 contains a task of very large size (70582 KiB). The maximum recommended task size is 1000 KiB.\n"
     ]
    },
    {
     "name": "stderr",
     "output_type": "stream",
     "text": [
      "                                                                                \r"
     ]
    },
    {
     "name": "stdout",
     "output_type": "stream",
     "text": [
      "22/12/10 19:41:17 WARN TaskSetManager: Stage 82 contains a task of very large size (70582 KiB). The maximum recommended task size is 1000 KiB.\n"
     ]
    },
    {
     "name": "stderr",
     "output_type": "stream",
     "text": [
      "                                                                                \r"
     ]
    },
    {
     "name": "stdout",
     "output_type": "stream",
     "text": [
      "22/12/10 19:41:48 WARN TaskSetManager: Stage 83 contains a task of very large size (70582 KiB). The maximum recommended task size is 1000 KiB.\n"
     ]
    },
    {
     "name": "stderr",
     "output_type": "stream",
     "text": [
      "                                                                                \r"
     ]
    },
    {
     "name": "stdout",
     "output_type": "stream",
     "text": [
      "22/12/10 19:42:16 WARN TaskSetManager: Stage 84 contains a task of very large size (70582 KiB). The maximum recommended task size is 1000 KiB.\n"
     ]
    },
    {
     "name": "stderr",
     "output_type": "stream",
     "text": [
      "                                                                                \r"
     ]
    },
    {
     "name": "stdout",
     "output_type": "stream",
     "text": [
      "22/12/10 19:42:45 WARN TaskSetManager: Stage 86 contains a task of very large size (70582 KiB). The maximum recommended task size is 1000 KiB.\n"
     ]
    },
    {
     "name": "stderr",
     "output_type": "stream",
     "text": [
      "                                                                                \r"
     ]
    },
    {
     "name": "stdout",
     "output_type": "stream",
     "text": [
      "22/12/10 19:43:15 WARN TaskSetManager: Stage 87 contains a task of very large size (70582 KiB). The maximum recommended task size is 1000 KiB.\n"
     ]
    },
    {
     "name": "stderr",
     "output_type": "stream",
     "text": [
      "                                                                                \r"
     ]
    },
    {
     "name": "stdout",
     "output_type": "stream",
     "text": [
      "22/12/10 19:43:40 WARN TaskSetManager: Stage 88 contains a task of very large size (70582 KiB). The maximum recommended task size is 1000 KiB.\n"
     ]
    },
    {
     "name": "stderr",
     "output_type": "stream",
     "text": [
      "                                                                                \r"
     ]
    },
    {
     "name": "stdout",
     "output_type": "stream",
     "text": [
      "22/12/10 19:44:07 WARN TaskSetManager: Stage 90 contains a task of very large size (70582 KiB). The maximum recommended task size is 1000 KiB.\n"
     ]
    },
    {
     "name": "stderr",
     "output_type": "stream",
     "text": [
      "                                                                                \r"
     ]
    },
    {
     "name": "stdout",
     "output_type": "stream",
     "text": [
      "22/12/10 19:44:37 WARN TaskSetManager: Stage 91 contains a task of very large size (70582 KiB). The maximum recommended task size is 1000 KiB.\n"
     ]
    },
    {
     "name": "stderr",
     "output_type": "stream",
     "text": [
      "                                                                                \r"
     ]
    },
    {
     "name": "stdout",
     "output_type": "stream",
     "text": [
      "22/12/10 19:45:03 WARN TaskSetManager: Stage 92 contains a task of very large size (70582 KiB). The maximum recommended task size is 1000 KiB.\n"
     ]
    },
    {
     "name": "stderr",
     "output_type": "stream",
     "text": [
      "                                                                                \r"
     ]
    },
    {
     "name": "stdout",
     "output_type": "stream",
     "text": [
      "22/12/10 19:45:31 WARN TaskSetManager: Stage 94 contains a task of very large size (70582 KiB). The maximum recommended task size is 1000 KiB.\n"
     ]
    },
    {
     "name": "stderr",
     "output_type": "stream",
     "text": [
      "                                                                                \r"
     ]
    },
    {
     "name": "stdout",
     "output_type": "stream",
     "text": [
      "22/12/10 19:45:59 WARN TaskSetManager: Stage 95 contains a task of very large size (70582 KiB). The maximum recommended task size is 1000 KiB.\n"
     ]
    },
    {
     "name": "stderr",
     "output_type": "stream",
     "text": [
      "                                                                                \r"
     ]
    },
    {
     "name": "stdout",
     "output_type": "stream",
     "text": [
      "22/12/10 19:46:24 WARN TaskSetManager: Stage 96 contains a task of very large size (70582 KiB). The maximum recommended task size is 1000 KiB.\n"
     ]
    },
    {
     "name": "stderr",
     "output_type": "stream",
     "text": [
      "                                                                                \r"
     ]
    },
    {
     "name": "stdout",
     "output_type": "stream",
     "text": [
      "22/12/10 19:46:50 WARN TaskSetManager: Stage 98 contains a task of very large size (70582 KiB). The maximum recommended task size is 1000 KiB.\n"
     ]
    },
    {
     "name": "stderr",
     "output_type": "stream",
     "text": [
      "                                                                                \r"
     ]
    },
    {
     "ename": "ValueError",
     "evalue": "all input arrays must have the same shape",
     "output_type": "error",
     "traceback": [
      "\u001b[0;31m---------------------------------------------------------------------------\u001b[0m",
      "\u001b[0;31mValueError\u001b[0m                                Traceback (most recent call last)",
      "Cell \u001b[0;32mIn [12], line 9\u001b[0m\n\u001b[1;32m      6\u001b[0m     means\u001b[38;5;241m.\u001b[39mappend(mean)\n\u001b[1;32m      8\u001b[0m Y \u001b[38;5;241m=\u001b[39m np\u001b[38;5;241m.\u001b[39mstack(Y)\n\u001b[0;32m----> 9\u001b[0m means \u001b[38;5;241m=\u001b[39m \u001b[43mnp\u001b[49m\u001b[38;5;241;43m.\u001b[39;49m\u001b[43mstack\u001b[49m\u001b[43m(\u001b[49m\u001b[43mmeans\u001b[49m\u001b[43m)\u001b[49m\u001b[38;5;241m.\u001b[39mT\n",
      "File \u001b[0;32m<__array_function__ internals>:180\u001b[0m, in \u001b[0;36mstack\u001b[0;34m(*args, **kwargs)\u001b[0m\n",
      "File \u001b[0;32m~/.local/lib/python3.10/site-packages/numpy/core/shape_base.py:426\u001b[0m, in \u001b[0;36mstack\u001b[0;34m(arrays, axis, out)\u001b[0m\n\u001b[1;32m    424\u001b[0m shapes \u001b[38;5;241m=\u001b[39m {arr\u001b[38;5;241m.\u001b[39mshape \u001b[38;5;28;01mfor\u001b[39;00m arr \u001b[38;5;129;01min\u001b[39;00m arrays}\n\u001b[1;32m    425\u001b[0m \u001b[38;5;28;01mif\u001b[39;00m \u001b[38;5;28mlen\u001b[39m(shapes) \u001b[38;5;241m!=\u001b[39m \u001b[38;5;241m1\u001b[39m:\n\u001b[0;32m--> 426\u001b[0m     \u001b[38;5;28;01mraise\u001b[39;00m \u001b[38;5;167;01mValueError\u001b[39;00m(\u001b[38;5;124m'\u001b[39m\u001b[38;5;124mall input arrays must have the same shape\u001b[39m\u001b[38;5;124m'\u001b[39m)\n\u001b[1;32m    428\u001b[0m result_ndim \u001b[38;5;241m=\u001b[39m arrays[\u001b[38;5;241m0\u001b[39m]\u001b[38;5;241m.\u001b[39mndim \u001b[38;5;241m+\u001b[39m \u001b[38;5;241m1\u001b[39m\n\u001b[1;32m    429\u001b[0m axis \u001b[38;5;241m=\u001b[39m normalize_axis_index(axis, result_ndim)\n",
      "\u001b[0;31mValueError\u001b[0m: all input arrays must have the same shape"
     ]
    }
   ],
   "source": [
    "Y = []\n",
    "means = []\n",
    "for k in range(2,7):\n",
    "    y, mean = k_means(X,k, display=False)\n",
    "    Y.append(y)\n",
    "    means.append(mean)\n",
    "    \n",
    "Y = np.stack(Y)\n",
    "means = np.stack(means).T"
   ]
  },
  {
   "cell_type": "code",
   "execution_count": 13,
   "id": "45b49d1c-7379-43e0-b892-f5982f951475",
   "metadata": {
    "cell_id": "63e3530c9b8e4b3a9f0c36a9b5b91e91",
    "deepnote_cell_type": "code",
    "deepnote_to_be_reexecuted": false,
    "execution_millis": 190871,
    "execution_start": 1670005157561,
    "source_hash": "9355fbc7",
    "tags": []
   },
   "outputs": [
    {
     "ename": "NameError",
     "evalue": "name 'elbow' is not defined",
     "output_type": "error",
     "traceback": [
      "\u001b[0;31m---------------------------------------------------------------------------\u001b[0m",
      "\u001b[0;31mNameError\u001b[0m                                 Traceback (most recent call last)",
      "Cell \u001b[0;32mIn [13], line 1\u001b[0m\n\u001b[0;32m----> 1\u001b[0m avg_inter_elbow \u001b[38;5;241m=\u001b[39m \u001b[43melbow\u001b[49m(avg_inter_cluster_distance, X, Y, means)\n\u001b[1;32m      2\u001b[0m plt\u001b[38;5;241m.\u001b[39mplot(avg_inter_elbow\u001b[38;5;241m.\u001b[39mkeys(), avg_inter_elbow\u001b[38;5;241m.\u001b[39mvalues())\n\u001b[1;32m      3\u001b[0m plt\u001b[38;5;241m.\u001b[39mtitle(\u001b[38;5;124m'\u001b[39m\u001b[38;5;124mInter-cluster distance\u001b[39m\u001b[38;5;124m'\u001b[39m)\n",
      "\u001b[0;31mNameError\u001b[0m: name 'elbow' is not defined"
     ]
    }
   ],
   "source": [
    "avg_inter_elbow = elbow(avg_inter_cluster_distance, X, Y, means)\n",
    "plt.plot(avg_inter_elbow.keys(), avg_inter_elbow.values())\n",
    "plt.title('Inter-cluster distance')\n",
    "plt.ylabel('distance')\n",
    "plt.xlabel('k')"
   ]
  },
  {
   "cell_type": "code",
   "execution_count": null,
   "id": "b879061f-02dd-4994-83c0-89a184ee3776",
   "metadata": {
    "cell_id": "df2932518ba2441e91cb5dd0098cbcab",
    "deepnote_cell_type": "code",
    "deepnote_to_be_reexecuted": false,
    "execution_millis": 617639,
    "execution_start": 1670008197062,
    "source_hash": "4c2d2c9",
    "tags": []
   },
   "outputs": [],
   "source": [
    "avg_intra_elbow = elbow(avg_intra_cluster_distance, X, Y, means)\n",
    "plt.plot(avg_intra_elbow.keys(), avg_intra_elbow.values())\n",
    "plt.title('Intra-cluster distance')\n",
    "plt.ylabel('distance')\n",
    "plt.xlabel('k')"
   ]
  },
  {
   "cell_type": "code",
   "execution_count": null,
   "id": "3efb957e-dd53-4863-a93c-9d6adf417735",
   "metadata": {
    "cell_id": "0e17678c0aec44b0adb93f33f194cb3c",
    "deepnote_cell_type": "code",
    "deepnote_to_be_reexecuted": false,
    "execution_millis": 246255,
    "execution_start": 1670006964562,
    "source_hash": "23bc1849",
    "tags": []
   },
   "outputs": [],
   "source": [
    "silhouette_func = lambda X, k, means: silhouette_score(X,k)\n",
    "silhouette_elbow = elbow(silhouette_func, X, Y, means)\n",
    "plt.plot(silhouette_elbow.keys(), silhouette_elbow.values())\n",
    "plt.title('Silhouette score')\n",
    "plt.ylabel('score')\n",
    "plt.xlabel('k')"
   ]
  },
  {
   "cell_type": "markdown",
   "id": "ac2b645a-9566-465b-a5b1-7d9af00e10dc",
   "metadata": {},
   "source": [
    "### Compare ag\n",
    "Now we can confront our algorithm with the KMeans++ from `scikit`"
   ]
  },
  {
   "cell_type": "code",
   "execution_count": 21,
   "id": "8ca8339d-6fc0-4dd2-a1d0-800d61958bf7",
   "metadata": {
    "cell_id": "7f0caf71b0034c0196084813ad0d1ff0",
    "deepnote_cell_type": "code",
    "deepnote_to_be_reexecuted": false,
    "execution_millis": 789,
    "execution_start": 1670008021742,
    "source_hash": "8d1291f4",
    "tags": []
   },
   "outputs": [
    {
     "data": {
      "image/png": "[encoded data removed]",
      "text/plain": [
       "<Figure size 640x480 with 1 Axes>"
      ]
     },
     "metadata": {
      "image/png": {
       "height": 413,
       "width": 598
      }
     },
     "output_type": "display_data"
    }
   ],
   "source": [
    "from sklearn.cluster import KMeans\n",
    "\n",
    "kmeans = KMeans(n_clusters=5).fit(X)\n",
    "display_clusters(X, kmeans.labels_, kmeans.cluster_centers_)"
   ]
  },
  {
   "cell_type": "code",
   "execution_count": null,
   "id": "2edd498b-e56e-4d78-81cb-8568d22fb116",
   "metadata": {
    "cell_id": "fa0c384386ce4ebcb140c7342236eaa7",
    "deepnote_cell_type": "code",
    "deepnote_to_be_reexecuted": false,
    "execution_millis": 6732,
    "execution_start": 1670006538526,
    "source_hash": "6b8a2542",
    "tags": []
   },
   "outputs": [
    {
     "data": {
      "text/plain": [
       "Text(0.5, 0, 'k')"
      ]
     },
     "execution_count": 46,
     "metadata": {},
     "output_type": "execute_result"
    },
    {
     "data": {
      "image/png": "[encoded data removed]",
      "text/plain": [
       "<Figure size 640x480 with 1 Axes>"
      ]
     },
     "metadata": {
      "image/png": {
       "height": 455,
       "width": 567
      }
     },
     "output_type": "display_data"
    }
   ],
   "source": [
    "def sk_kmeans(X,k, display): \n",
    "    km = KMeans(n_clusters=k).fit(X)\n",
    "    return km.labels_, km.cluster_centers_\n",
    "\n",
    "avg_inter_elbow = elbow(avg_inter_cluster_distance, X, k_means=sk_kmeans)\n",
    "plt.plot(avg_inter_elbow.keys(), avg_inter_elbow.values())\n",
    "plt.title('Inter-cluster distance')\n",
    "plt.ylabel('distance')\n",
    "plt.xlabel('k')\n"
   ]
  },
  {
   "cell_type": "markdown",
   "id": "40cdec8e-9b24-4a78-9625-efc0b771657f",
   "metadata": {
    "cell_id": "e23c073576154f3386ae127e51d7c8c5",
    "deepnote_cell_type": "text-cell-h3",
    "formattedRanges": [],
    "is_collapsed": false,
    "tags": []
   },
   "source": [
    "### Bonus"
   ]
  },
  {
   "cell_type": "code",
   "execution_count": 23,
   "id": "2b0c42ae-81c4-4868-b798-38d68132c758",
   "metadata": {
    "cell_id": "52ace9b333e24c66ba17e67e0b39a98e",
    "deepnote_cell_type": "code",
    "deepnote_to_be_reexecuted": false,
    "execution_millis": 582,
    "execution_start": 1670008125518,
    "source_hash": "8b084232",
    "tags": []
   },
   "outputs": [
    {
     "data": {
      "image/png": "[encoded data removed]",
      "text/plain": [
       "<Figure size 640x480 with 1 Axes>"
      ]
     },
     "metadata": {
      "image/png": {
       "height": 413,
       "width": 598
      }
     },
     "output_type": "display_data"
    }
   ],
   "source": [
    "from sklearn.cluster import AgglomerativeClustering\n",
    "\n",
    "birch = AgglomerativeClustering(n_clusters=5).fit(X)\n",
    "display_clusters(X, birch.labels_)"
   ]
  },
  {
   "cell_type": "code",
   "execution_count": null,
   "id": "39a71b25-5e37-497b-8b17-67d87c5c0b8c",
   "metadata": {
    "cell_id": "ea3d19bffe14481a9b7536fe1c369d0e",
    "deepnote_cell_type": "code",
    "tags": []
   },
   "outputs": [],
   "source": [
    "from sklearn.cluster import Birch\n",
    "\n",
    "birch = Birch(n_clusters=5).fit(X)\n",
    "display_clusters(X, birch.labels_)"
   ]
  }
 ],
 "metadata": {
  "kernelspec": {
   "display_name": "Python 3 (ipykernel)",
   "language": "python",
   "name": "python3"
  },
  "language_info": {
   "codemirror_mode": {
    "name": "ipython",
    "version": 3
   },
   "file_extension": ".py",
   "mimetype": "text/x-python",
   "name": "python",
   "nbconvert_exporter": "python",
   "pygments_lexer": "ipython3",
   "version": "3.10.8"
  }
 },
 "nbformat": 4,
 "nbformat_minor": 5
}
