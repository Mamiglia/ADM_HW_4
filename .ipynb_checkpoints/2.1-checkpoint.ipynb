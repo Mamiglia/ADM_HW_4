{
 "cells": [
  {
   "cell_type": "markdown",
   "id": "2a4c3a65",
   "metadata": {
    "id": "2a4c3a65"
   },
   "source": [
    "# 2.1 Getting your data + feature engineering\n",
    "___\n",
    "\n",
    "## 2.1.1\n",
    "\n",
    "*Access to the data found in [this dataset](https://www.kaggle.com/datasets/shivamb/bank-customer-segmentation) (it is the same dataset from the previous question 1.1).*"
   ]
  },
  {
   "cell_type": "code",
   "execution_count": 1,
   "id": "cc1da086",
   "metadata": {
    "id": "cc1da086"
   },
   "outputs": [],
   "source": [
    "import pandas as pd\n",
    "import numpy as np\n",
    "from tqdm import tqdm, tqdm_notebook\n",
    "tqdm.pandas()"
   ]
  },
  {
   "cell_type": "markdown",
   "id": "07ee2d3d",
   "metadata": {},
   "source": [
    "To use the results of the lates checkpoint and not run the entire notebook every time"
   ]
  },
  {
   "cell_type": "code",
   "execution_count": 5,
   "id": "3cf1bf9f",
   "metadata": {
    "id": "6559b8f3"
   },
   "outputs": [],
   "source": [
    "tras = pd.read_pickle('transactions.pkl')\n",
    "custs = pd.read_csv('customers.tsv')"
   ]
  },
  {
   "cell_type": "markdown",
   "id": "157d7572",
   "metadata": {},
   "source": [
    "To start brom the beginning"
   ]
  },
  {
   "cell_type": "code",
   "execution_count": 4,
   "id": "d1d2276a",
   "metadata": {
    "scrolled": true
   },
   "outputs": [],
   "source": [
    "tras = pd.read_csv(\"bank_transactions.csv\")"
   ]
  },
  {
   "cell_type": "code",
   "execution_count": 4,
   "id": "0681f53c",
   "metadata": {
    "id": "0681f53c",
    "outputId": "be35e23d-d806-496b-d3b9-114320059316"
   },
   "outputs": [
    {
     "data": {
      "text/html": [
       "<div>\n",
       "<style scoped>\n",
       "    .dataframe tbody tr th:only-of-type {\n",
       "        vertical-align: middle;\n",
       "    }\n",
       "\n",
       "    .dataframe tbody tr th {\n",
       "        vertical-align: top;\n",
       "    }\n",
       "\n",
       "    .dataframe thead th {\n",
       "        text-align: right;\n",
       "    }\n",
       "</style>\n",
       "<table border=\"1\" class=\"dataframe\">\n",
       "  <thead>\n",
       "    <tr style=\"text-align: right;\">\n",
       "      <th></th>\n",
       "      <th>TransactionID</th>\n",
       "      <th>CustomerID</th>\n",
       "      <th>CustomerDOB</th>\n",
       "      <th>CustGender</th>\n",
       "      <th>CustLocation</th>\n",
       "      <th>CustAccountBalance</th>\n",
       "      <th>TransactionDate</th>\n",
       "      <th>TransactionTime</th>\n",
       "      <th>TransactionAmount (INR)</th>\n",
       "    </tr>\n",
       "  </thead>\n",
       "  <tbody>\n",
       "    <tr>\n",
       "      <th>0</th>\n",
       "      <td>T1</td>\n",
       "      <td>C5841053</td>\n",
       "      <td>10/1/94</td>\n",
       "      <td>F</td>\n",
       "      <td>JAMSHEDPUR</td>\n",
       "      <td>17819.05</td>\n",
       "      <td>2/8/16</td>\n",
       "      <td>143207</td>\n",
       "      <td>25.0</td>\n",
       "    </tr>\n",
       "    <tr>\n",
       "      <th>1</th>\n",
       "      <td>T2</td>\n",
       "      <td>C2142763</td>\n",
       "      <td>4/4/57</td>\n",
       "      <td>M</td>\n",
       "      <td>JHAJJAR</td>\n",
       "      <td>2270.69</td>\n",
       "      <td>2/8/16</td>\n",
       "      <td>141858</td>\n",
       "      <td>27999.0</td>\n",
       "    </tr>\n",
       "    <tr>\n",
       "      <th>2</th>\n",
       "      <td>T3</td>\n",
       "      <td>C4417068</td>\n",
       "      <td>26/11/96</td>\n",
       "      <td>F</td>\n",
       "      <td>MUMBAI</td>\n",
       "      <td>17874.44</td>\n",
       "      <td>2/8/16</td>\n",
       "      <td>142712</td>\n",
       "      <td>459.0</td>\n",
       "    </tr>\n",
       "    <tr>\n",
       "      <th>3</th>\n",
       "      <td>T4</td>\n",
       "      <td>C5342380</td>\n",
       "      <td>14/9/73</td>\n",
       "      <td>F</td>\n",
       "      <td>MUMBAI</td>\n",
       "      <td>866503.21</td>\n",
       "      <td>2/8/16</td>\n",
       "      <td>142714</td>\n",
       "      <td>2060.0</td>\n",
       "    </tr>\n",
       "    <tr>\n",
       "      <th>4</th>\n",
       "      <td>T5</td>\n",
       "      <td>C9031234</td>\n",
       "      <td>24/3/88</td>\n",
       "      <td>F</td>\n",
       "      <td>NAVI MUMBAI</td>\n",
       "      <td>6714.43</td>\n",
       "      <td>2/8/16</td>\n",
       "      <td>181156</td>\n",
       "      <td>1762.5</td>\n",
       "    </tr>\n",
       "  </tbody>\n",
       "</table>\n",
       "</div>"
      ],
      "text/plain": [
       "  TransactionID CustomerID CustomerDOB CustGender CustLocation  \\\n",
       "0            T1   C5841053     10/1/94          F   JAMSHEDPUR   \n",
       "1            T2   C2142763      4/4/57          M      JHAJJAR   \n",
       "2            T3   C4417068    26/11/96          F       MUMBAI   \n",
       "3            T4   C5342380     14/9/73          F       MUMBAI   \n",
       "4            T5   C9031234     24/3/88          F  NAVI MUMBAI   \n",
       "\n",
       "   CustAccountBalance TransactionDate  TransactionTime  \\\n",
       "0            17819.05          2/8/16           143207   \n",
       "1             2270.69          2/8/16           141858   \n",
       "2            17874.44          2/8/16           142712   \n",
       "3           866503.21          2/8/16           142714   \n",
       "4             6714.43          2/8/16           181156   \n",
       "\n",
       "   TransactionAmount (INR)  \n",
       "0                     25.0  \n",
       "1                  27999.0  \n",
       "2                    459.0  \n",
       "3                   2060.0  \n",
       "4                   1762.5  "
      ]
     },
     "execution_count": 4,
     "metadata": {},
     "output_type": "execute_result"
    }
   ],
   "source": [
    "tras.head()"
   ]
  },
  {
   "cell_type": "code",
   "execution_count": 5,
   "id": "e1c9f2e8",
   "metadata": {
    "id": "e1c9f2e8",
    "outputId": "d7bce11c-bb41-4222-de02-7d2966f513d6"
   },
   "outputs": [
    {
     "name": "stdout",
     "output_type": "stream",
     "text": [
      "<class 'pandas.core.frame.DataFrame'>\n",
      "RangeIndex: 1048567 entries, 0 to 1048566\n",
      "Data columns (total 9 columns):\n",
      " #   Column                   Non-Null Count    Dtype  \n",
      "---  ------                   --------------    -----  \n",
      " 0   TransactionID            1048567 non-null  object \n",
      " 1   CustomerID               1048567 non-null  object \n",
      " 2   CustomerDOB              1045170 non-null  object \n",
      " 3   CustGender               1047467 non-null  object \n",
      " 4   CustLocation             1048416 non-null  object \n",
      " 5   CustAccountBalance       1046198 non-null  float64\n",
      " 6   TransactionDate          1048567 non-null  object \n",
      " 7   TransactionTime          1048567 non-null  int64  \n",
      " 8   TransactionAmount (INR)  1048567 non-null  float64\n",
      "dtypes: float64(2), int64(1), object(6)\n",
      "memory usage: 72.0+ MB\n"
     ]
    }
   ],
   "source": [
    "tras.info()"
   ]
  },
  {
   "cell_type": "markdown",
   "id": "8f2ed250",
   "metadata": {
    "id": "8f2ed250"
   },
   "source": [
    "## Data Cleaning\n",
    "\n",
    "### Dates\n",
    "___"
   ]
  },
  {
   "cell_type": "code",
   "execution_count": 6,
   "id": "0addd4d7",
   "metadata": {
    "id": "0addd4d7"
   },
   "outputs": [],
   "source": [
    "tras['CustomerDOB'] = pd.to_datetime(tras.CustomerDOB, dayfirst=True)"
   ]
  },
  {
   "cell_type": "code",
   "execution_count": 7,
   "id": "b25a4231",
   "metadata": {
    "id": "b25a4231",
    "outputId": "96840b24-8989-46b3-aace-386e8266676b"
   },
   "outputs": [
    {
     "name": "stderr",
     "output_type": "stream",
     "text": [
      "Matplotlib is building the font cache; this may take a moment.\n"
     ]
    },
    {
     "data": {
      "text/plain": [
       "<AxesSubplot:>"
      ]
     },
     "execution_count": 7,
     "metadata": {},
     "output_type": "execute_result"
    },
    {
     "data": {
      "image/png": "[encoded data removed]",
      "text/plain": [
       "<Figure size 432x288 with 1 Axes>"
      ]
     },
     "metadata": {
      "needs_background": "light"
     },
     "output_type": "display_data"
    }
   ],
   "source": [
    "tras.CustomerDOB.dt.year.hist(bins=50)"
   ]
  },
  {
   "cell_type": "markdown",
   "id": "5b362249",
   "metadata": {},
   "source": [
    "We can see \n",
    "1. people being born in the future => millanium bug\n",
    "2. people being born in 1800 => we consider there DOB to be unknown"
   ]
  },
  {
   "cell_type": "code",
   "execution_count": 8,
   "id": "66688a54",
   "metadata": {
    "id": "66688a54"
   },
   "outputs": [],
   "source": [
    "tras.loc[tras.CustomerDOB.dt.year > 2016, 'CustomerDOB'] = \\\n",
    "tras.loc[tras.CustomerDOB.dt.year > 2016, 'CustomerDOB']\\\n",
    "- pd.DateOffset(years = 100)"
   ]
  },
  {
   "cell_type": "code",
   "execution_count": 9,
   "id": "596ab891",
   "metadata": {
    "id": "596ab891"
   },
   "outputs": [],
   "source": [
    "tras.loc[tras.CustomerDOB.dt.year == 1800, \"CustomerDOB\"] = pd.to_datetime(np.NaN)"
   ]
  },
  {
   "cell_type": "code",
   "execution_count": 10,
   "id": "3ed2fb3f",
   "metadata": {
    "id": "3ed2fb3f",
    "outputId": "c57a48c9-5bc9-4555-c5b3-da293bdb20e6"
   },
   "outputs": [
    {
     "data": {
      "text/plain": [
       "<AxesSubplot:>"
      ]
     },
     "execution_count": 10,
     "metadata": {},
     "output_type": "execute_result"
    },
    {
     "data": {
      "image/png": "[encoded data removed]",
      "text/plain": [
       "<Figure size 432x288 with 1 Axes>"
      ]
     },
     "metadata": {
      "needs_background": "light"
     },
     "output_type": "display_data"
    }
   ],
   "source": [
    "tras.CustomerDOB.dt.year.hist(bins=50)"
   ]
  },
  {
   "cell_type": "code",
   "execution_count": 11,
   "id": "b1098f17",
   "metadata": {
    "id": "b1098f17"
   },
   "outputs": [],
   "source": [
    "tras.TransactionDate = pd.to_datetime(tras.TransactionDate)"
   ]
  },
  {
   "cell_type": "code",
   "execution_count": 12,
   "id": "329c80a5",
   "metadata": {
    "id": "329c80a5"
   },
   "outputs": [],
   "source": [
    "from datetime import datetime\n",
    "tras.TransactionTime = tras.TransactionTime.apply(lambda x: datetime.strptime(str(x).zfill(6), '%H%M%S'))"
   ]
  },
  {
   "cell_type": "markdown",
   "id": "dd00d061",
   "metadata": {},
   "source": [
    "Missing values are not too many, so we drop them"
   ]
  },
  {
   "cell_type": "code",
   "execution_count": null,
   "id": "64a5611b",
   "metadata": {
    "id": "64a5611b",
    "outputId": "39f7dd99-b3a2-49fa-e1cd-1b56e1b0e8ea"
   },
   "outputs": [],
   "source": [
    "tras.isna().any(axis=1).sum() / tras.shape[0]"
   ]
  },
  {
   "cell_type": "code",
   "execution_count": 15,
   "id": "801e6946",
   "metadata": {
    "id": "801e6946"
   },
   "outputs": [],
   "source": [
    "tras.dropna(inplace=True)"
   ]
  },
  {
   "cell_type": "markdown",
   "id": "3137ce63",
   "metadata": {},
   "source": [
    "We make the age of the customer new featue"
   ]
  },
  {
   "cell_type": "code",
   "execution_count": 16,
   "id": "54f969f5",
   "metadata": {
    "id": "54f969f5",
    "scrolled": true
   },
   "outputs": [],
   "source": [
    "tras['CustomerAge'] = ((tras.TransactionDate - tras.CustomerDOB) / np.timedelta64(1, 'Y')).round(0).astype(int)"
   ]
  },
  {
   "cell_type": "markdown",
   "id": "1d36ccd1",
   "metadata": {},
   "source": [
    "Checkpoint!"
   ]
  },
  {
   "cell_type": "code",
   "execution_count": 17,
   "id": "2d1a7867",
   "metadata": {
    "id": "2d1a7867"
   },
   "outputs": [],
   "source": [
    "tras.to_pickle('transactions.pkl')"
   ]
  },
  {
   "cell_type": "markdown",
   "id": "a2835679",
   "metadata": {},
   "source": [
    "### Locations\n",
    "___"
   ]
  },
  {
   "cell_type": "code",
   "execution_count": 5,
   "id": "c22ab59d",
   "metadata": {},
   "outputs": [
    {
     "data": {
      "text/plain": [
       "8164"
      ]
     },
     "execution_count": 5,
     "metadata": {},
     "output_type": "execute_result"
    }
   ],
   "source": [
    "tras.CustLocation.unique().size"
   ]
  },
  {
   "cell_type": "markdown",
   "id": "5d24d26b",
   "metadata": {},
   "source": [
    "Removing punctuation"
   ]
  },
  {
   "cell_type": "code",
   "execution_count": 8,
   "id": "fa9b7f30",
   "metadata": {},
   "outputs": [
    {
     "name": "stderr",
     "output_type": "stream",
     "text": [
      "100%|██████████| 985322/985322 [00:04<00:00, 216018.95it/s]\n"
     ]
    }
   ],
   "source": [
    "import string\n",
    "tras['CleanLocation'] =\\\n",
    "tras.CustLocation.progress_apply(lambda loc : loc.translate({ord(i): None for i in string.punctuation }))"
   ]
  },
  {
   "cell_type": "code",
   "execution_count": 9,
   "id": "4bf9cb6d",
   "metadata": {},
   "outputs": [
    {
     "data": {
      "text/plain": [
       "8012"
      ]
     },
     "execution_count": 9,
     "metadata": {},
     "output_type": "execute_result"
    }
   ],
   "source": [
    "tras.CleanLocation.unique().size"
   ]
  },
  {
   "cell_type": "markdown",
   "id": "751634bd",
   "metadata": {},
   "source": [
    "Droping empty strings, as they are not too many"
   ]
  },
  {
   "cell_type": "code",
   "execution_count": 10,
   "id": "25927210",
   "metadata": {},
   "outputs": [
    {
     "data": {
      "text/plain": [
       "86"
      ]
     },
     "execution_count": 10,
     "metadata": {},
     "output_type": "execute_result"
    }
   ],
   "source": [
    "tras.CleanLocation.value_counts()[\"\"]"
   ]
  },
  {
   "cell_type": "code",
   "execution_count": 11,
   "id": "0ed445eb",
   "metadata": {},
   "outputs": [],
   "source": [
    "tras.loc[tras.CleanLocation == \"\", \"CleanLocation\"] = np.NaN\n",
    "tras.dropna(inplace=True)"
   ]
  },
  {
   "cell_type": "markdown",
   "id": "362c943d",
   "metadata": {},
   "source": [
    "Now for every location we search for a shorter name that is present in the dataset. We check if the shorter version is a sub-string of the original name, if yes then we concider it to be the same location"
   ]
  },
  {
   "cell_type": "code",
   "execution_count": 13,
   "id": "ceb50e55",
   "metadata": {},
   "outputs": [
    {
     "name": "stderr",
     "output_type": "stream",
     "text": [
      "100%|██████████| 985236/985236 [19:25<00:00, 845.03it/s]\n"
     ]
    }
   ],
   "source": [
    "unique_locations = tras.CleanLocation.value_counts().index.to_numpy()\n",
    "\n",
    "def Clean(location):\n",
    "    \n",
    "    def Check(short):\n",
    "        nonlocal location\n",
    "        if short in location:\n",
    "            location = short\n",
    "            \n",
    "    Check = np.vectorize(Check)\n",
    "    \n",
    "    global unique_locations\n",
    "    Check(unique_locations)\n",
    "    \n",
    "    return location\n",
    "\n",
    "    \n",
    "tras.CleanLocation = tras.CleanLocation.progress_apply(Clean)"
   ]
  },
  {
   "cell_type": "code",
   "execution_count": 14,
   "id": "44f01ddf",
   "metadata": {},
   "outputs": [
    {
     "data": {
      "text/plain": [
       "2632"
      ]
     },
     "execution_count": 14,
     "metadata": {},
     "output_type": "execute_result"
    }
   ],
   "source": [
    "tras.CleanLocation.unique().size"
   ]
  },
  {
   "cell_type": "markdown",
   "id": "f0d39498",
   "metadata": {},
   "source": [
    "Checkpoint!"
   ]
  },
  {
   "cell_type": "code",
   "execution_count": 16,
   "id": "2e2649ac",
   "metadata": {},
   "outputs": [],
   "source": [
    "tras.to_pickle('transactions.pkl')"
   ]
  },
  {
   "cell_type": "markdown",
   "id": "c0a62675",
   "metadata": {
    "id": "c0a62675"
   },
   "source": [
    "## 2.1.2\n",
    "\n",
    "*Sometimes, the features (variables, fields) are not given in a dataset but can be created from it. The previous step is known as feature engineering. For example, the original dataset has several transactions done by the same customer. Then, we suggest you to group data by the client (using CustomerId) and, based on it, create the following new features for each CustomerId:*\n",
    "\n",
    "*a) Number of transactions*\n",
    "\n",
    "*b) Number of transactions with a balance bigger than 100 USD*\n",
    "\n",
    "*c) Average amount of the transactions*\n",
    "\n",
    "*d) Average balance*\n",
    "\n",
    "*e) Average difference between the balance and the transaction amount for each customer (this is mainly known in the banking world as utilisation).*\n",
    "\n",
    "*f) Most common gender of the customer*\n",
    "\n",
    "*h) Most frequent location of the customer*\n",
    "\n",
    "*So, in the end, you should have for each CustomerID seven features.*"
   ]
  },
  {
   "cell_type": "code",
   "execution_count": 65,
   "id": "4db00ca9",
   "metadata": {},
   "outputs": [],
   "source": [
    "custs = tras.groupby('CustomerID')[['CustomerAge', 'CustGender', 'CleanLocation']].\\\n",
    "agg(lambda x : x.value_counts().index[0])"
   ]
  },
  {
   "cell_type": "code",
   "execution_count": 66,
   "id": "018662d9",
   "metadata": {},
   "outputs": [],
   "source": [
    "custs[['CustAccountBalance_avrg', 'TransactionAmount_avrg (INR)']] = \\\n",
    "tras.groupby('CustomerID')[['CustAccountBalance', 'TransactionAmount (INR)']].mean()"
   ]
  },
  {
   "cell_type": "code",
   "execution_count": 67,
   "id": "c07d8b7e",
   "metadata": {},
   "outputs": [],
   "source": [
    "custs['TransactionNum'] = tras.groupby('CustomerID').count().TransactionID.astype(int)"
   ]
  },
  {
   "cell_type": "code",
   "execution_count": 68,
   "id": "aa1d402c",
   "metadata": {},
   "outputs": [],
   "source": [
    "custs['TransactionNumGT100'] = tras.loc[tras.CustAccountBalance > 100].groupby('CustomerID').count().TransactionID\n",
    "custs.TransactionNumGT100.fillna(0, inplace=True)\n",
    "custs.TransactionNumGT100 = custs.TransactionNumGT100.astype(int)"
   ]
  },
  {
   "cell_type": "code",
   "execution_count": 69,
   "id": "50c6c2f2",
   "metadata": {
    "id": "50c6c2f2"
   },
   "outputs": [],
   "source": [
    "custs['utilisation'] = custs.CustAccountBalance_avrg - custs['TransactionAmount_avrg (INR)']"
   ]
  },
  {
   "cell_type": "code",
   "execution_count": 70,
   "id": "07272366",
   "metadata": {},
   "outputs": [
    {
     "data": {
      "text/html": [
       "<div>\n",
       "<style scoped>\n",
       "    .dataframe tbody tr th:only-of-type {\n",
       "        vertical-align: middle;\n",
       "    }\n",
       "\n",
       "    .dataframe tbody tr th {\n",
       "        vertical-align: top;\n",
       "    }\n",
       "\n",
       "    .dataframe thead th {\n",
       "        text-align: right;\n",
       "    }\n",
       "</style>\n",
       "<table border=\"1\" class=\"dataframe\">\n",
       "  <thead>\n",
       "    <tr style=\"text-align: right;\">\n",
       "      <th></th>\n",
       "      <th>CustomerAge</th>\n",
       "      <th>CustGender</th>\n",
       "      <th>CleanLocation</th>\n",
       "      <th>CustAccountBalance_avrg</th>\n",
       "      <th>TransactionAmount_avrg (INR)</th>\n",
       "      <th>TransactionNum</th>\n",
       "      <th>TransactionNumGT100</th>\n",
       "      <th>utilisation</th>\n",
       "    </tr>\n",
       "    <tr>\n",
       "      <th>CustomerID</th>\n",
       "      <th></th>\n",
       "      <th></th>\n",
       "      <th></th>\n",
       "      <th></th>\n",
       "      <th></th>\n",
       "      <th></th>\n",
       "      <th></th>\n",
       "      <th></th>\n",
       "    </tr>\n",
       "  </thead>\n",
       "  <tbody>\n",
       "    <tr>\n",
       "      <th>C1010011</th>\n",
       "      <td>24</td>\n",
       "      <td>F</td>\n",
       "      <td>NOIDA</td>\n",
       "      <td>76340.635</td>\n",
       "      <td>2553.0</td>\n",
       "      <td>2</td>\n",
       "      <td>2</td>\n",
       "      <td>73787.635</td>\n",
       "    </tr>\n",
       "    <tr>\n",
       "      <th>C1010012</th>\n",
       "      <td>22</td>\n",
       "      <td>M</td>\n",
       "      <td>MUMBAI</td>\n",
       "      <td>24204.490</td>\n",
       "      <td>1499.0</td>\n",
       "      <td>1</td>\n",
       "      <td>1</td>\n",
       "      <td>22705.490</td>\n",
       "    </tr>\n",
       "    <tr>\n",
       "      <th>C1010014</th>\n",
       "      <td>24</td>\n",
       "      <td>F</td>\n",
       "      <td>MUMBAI</td>\n",
       "      <td>100112.950</td>\n",
       "      <td>727.5</td>\n",
       "      <td>2</td>\n",
       "      <td>2</td>\n",
       "      <td>99385.450</td>\n",
       "    </tr>\n",
       "    <tr>\n",
       "      <th>C1010018</th>\n",
       "      <td>26</td>\n",
       "      <td>F</td>\n",
       "      <td>ARA</td>\n",
       "      <td>496.180</td>\n",
       "      <td>30.0</td>\n",
       "      <td>1</td>\n",
       "      <td>1</td>\n",
       "      <td>466.180</td>\n",
       "    </tr>\n",
       "    <tr>\n",
       "      <th>C1010024</th>\n",
       "      <td>51</td>\n",
       "      <td>M</td>\n",
       "      <td>KOLKATA</td>\n",
       "      <td>87058.650</td>\n",
       "      <td>5000.0</td>\n",
       "      <td>1</td>\n",
       "      <td>1</td>\n",
       "      <td>82058.650</td>\n",
       "    </tr>\n",
       "    <tr>\n",
       "      <th>...</th>\n",
       "      <td>...</td>\n",
       "      <td>...</td>\n",
       "      <td>...</td>\n",
       "      <td>...</td>\n",
       "      <td>...</td>\n",
       "      <td>...</td>\n",
       "      <td>...</td>\n",
       "      <td>...</td>\n",
       "    </tr>\n",
       "    <tr>\n",
       "      <th>C9099836</th>\n",
       "      <td>26</td>\n",
       "      <td>M</td>\n",
       "      <td>BHIWANDI</td>\n",
       "      <td>133067.230</td>\n",
       "      <td>691.0</td>\n",
       "      <td>1</td>\n",
       "      <td>1</td>\n",
       "      <td>132376.230</td>\n",
       "    </tr>\n",
       "    <tr>\n",
       "      <th>C9099877</th>\n",
       "      <td>20</td>\n",
       "      <td>M</td>\n",
       "      <td>BANGA</td>\n",
       "      <td>96063.460</td>\n",
       "      <td>222.0</td>\n",
       "      <td>1</td>\n",
       "      <td>1</td>\n",
       "      <td>95841.460</td>\n",
       "    </tr>\n",
       "    <tr>\n",
       "      <th>C9099919</th>\n",
       "      <td>23</td>\n",
       "      <td>M</td>\n",
       "      <td>GUNTUR</td>\n",
       "      <td>5559.750</td>\n",
       "      <td>126.0</td>\n",
       "      <td>1</td>\n",
       "      <td>1</td>\n",
       "      <td>5433.750</td>\n",
       "    </tr>\n",
       "    <tr>\n",
       "      <th>C9099941</th>\n",
       "      <td>21</td>\n",
       "      <td>M</td>\n",
       "      <td>CHENNAI</td>\n",
       "      <td>35295.920</td>\n",
       "      <td>50.0</td>\n",
       "      <td>1</td>\n",
       "      <td>1</td>\n",
       "      <td>35245.920</td>\n",
       "    </tr>\n",
       "    <tr>\n",
       "      <th>C9099956</th>\n",
       "      <td>34</td>\n",
       "      <td>M</td>\n",
       "      <td>MUSSOORIE</td>\n",
       "      <td>6968.930</td>\n",
       "      <td>855.0</td>\n",
       "      <td>1</td>\n",
       "      <td>1</td>\n",
       "      <td>6113.930</td>\n",
       "    </tr>\n",
       "  </tbody>\n",
       "</table>\n",
       "<p>839018 rows × 8 columns</p>\n",
       "</div>"
      ],
      "text/plain": [
       "            CustomerAge CustGender CleanLocation  CustAccountBalance_avrg  \\\n",
       "CustomerID                                                                  \n",
       "C1010011             24          F         NOIDA                76340.635   \n",
       "C1010012             22          M        MUMBAI                24204.490   \n",
       "C1010014             24          F        MUMBAI               100112.950   \n",
       "C1010018             26          F           ARA                  496.180   \n",
       "C1010024             51          M       KOLKATA                87058.650   \n",
       "...                 ...        ...           ...                      ...   \n",
       "C9099836             26          M      BHIWANDI               133067.230   \n",
       "C9099877             20          M         BANGA                96063.460   \n",
       "C9099919             23          M        GUNTUR                 5559.750   \n",
       "C9099941             21          M       CHENNAI                35295.920   \n",
       "C9099956             34          M     MUSSOORIE                 6968.930   \n",
       "\n",
       "            TransactionAmount_avrg (INR)  TransactionNum  TransactionNumGT100  \\\n",
       "CustomerID                                                                      \n",
       "C1010011                          2553.0               2                    2   \n",
       "C1010012                          1499.0               1                    1   \n",
       "C1010014                           727.5               2                    2   \n",
       "C1010018                            30.0               1                    1   \n",
       "C1010024                          5000.0               1                    1   \n",
       "...                                  ...             ...                  ...   \n",
       "C9099836                           691.0               1                    1   \n",
       "C9099877                           222.0               1                    1   \n",
       "C9099919                           126.0               1                    1   \n",
       "C9099941                            50.0               1                    1   \n",
       "C9099956                           855.0               1                    1   \n",
       "\n",
       "            utilisation  \n",
       "CustomerID               \n",
       "C1010011      73787.635  \n",
       "C1010012      22705.490  \n",
       "C1010014      99385.450  \n",
       "C1010018        466.180  \n",
       "C1010024      82058.650  \n",
       "...                 ...  \n",
       "C9099836     132376.230  \n",
       "C9099877      95841.460  \n",
       "C9099919       5433.750  \n",
       "C9099941      35245.920  \n",
       "C9099956       6113.930  \n",
       "\n",
       "[839018 rows x 8 columns]"
      ]
     },
     "execution_count": 70,
     "metadata": {},
     "output_type": "execute_result"
    }
   ],
   "source": [
    "custs"
   ]
  },
  {
   "cell_type": "markdown",
   "id": "64908294",
   "metadata": {},
   "source": [
    "Checkpoint!"
   ]
  },
  {
   "cell_type": "code",
   "execution_count": 71,
   "id": "472ca67d",
   "metadata": {
    "id": "472ca67d"
   },
   "outputs": [],
   "source": [
    "custs.to_csv('customers.tsv', sep=\"\\t\")"
   ]
  },
  {
   "cell_type": "markdown",
   "id": "862f41d9",
   "metadata": {
    "id": "862f41d9"
   },
   "source": [
    "## 2.1.3\n",
    "\n",
    "Consider at least 20 additional features that can be generated for each CustomerId. Describe each of them and why you believe they will be helpful. Moreover, add it to the previous dataset (the one with seven features). In the end, you should have for each CustomerID at least 27 features (7 recommended + 20 suggested by you).\n",
    "\n",
    "*Hints for feature engineering:*\n",
    "\n",
    "\n",
    ">- Instead of only using the average, you could use other functions such as minimum, maximum, percentiles, etc.\n",
    ">- Think of adding filters to your features. For instance, in \"Number of transactions with balance bigger than 100 USD”, \n",
    "   the filter was \"bigger than 100 USD\". Can you think about other filters, even including other variables?\n",
    ">- Think of including the information given by the fields transaction date and time in your calculations.\n",
    ">- Think about getting information from a customer’s birthday, even comparing it to other fields.\n",
    ">- You could also calculate percentages in your features. Think of a plausible set of percentages worth to be calculated.\n",
    "\n",
    "\n",
    "##### time\n",
    "\n",
    "Representing time of transaction on a line is actually not convenien, because in that case we will concider 23:59 and 00:00 to be the most distant moments which is not what we are looking for. To overcome this problem we can represent the time on a circle. Doing so not only with time of day but also with all the cyclic parameters has meny advantages that we will see later. Such cyles are also week, month and year"
   ]
  },
  {
   "cell_type": "code",
   "execution_count": 58,
   "id": "7cccfd55",
   "metadata": {},
   "outputs": [],
   "source": [
    "tras['cos_Time'] = np.cos((tras.TransactionTime - pd.to_datetime('1900-1-1')).dt.total_seconds() * (2*np.pi)/(24*60*60))\n",
    "tras['sin_Time'] = np.sin((tras.TransactionTime - pd.to_datetime('1900-1-1')).dt.total_seconds() * (2*np.pi)/(24*60*60))"
   ]
  },
  {
   "cell_type": "code",
   "execution_count": 59,
   "id": "966221f3",
   "metadata": {},
   "outputs": [],
   "source": [
    "tras['cos_DayOfWeek'] = np.cos(tras.TransactionDate.dt.dayofweek * (2*np.pi) / 7)\n",
    "tras['sin_DayOfWeek'] = np.sin(tras.TransactionDate.dt.dayofweek * (2*np.pi) / 7)"
   ]
  },
  {
   "cell_type": "code",
   "execution_count": 60,
   "id": "9e17a1d1",
   "metadata": {},
   "outputs": [],
   "source": [
    "tras['cos_DayOfMonth'] = np.cos(tras.TransactionDate.dt.day * (2*np.pi) / tras.TransactionDate.dt.daysinmonth)\n",
    "tras['sin_DayOfMonth'] = np.sin(tras.TransactionDate.dt.day * (2*np.pi) / tras.TransactionDate.dt.daysinmonth)"
   ]
  },
  {
   "cell_type": "code",
   "execution_count": 61,
   "id": "5cd2302d",
   "metadata": {},
   "outputs": [],
   "source": [
    "tras['cos_DayOfYear'] = np.cos(tras.TransactionDate.dt.dayofyear * (2*np.pi) / 366)\n",
    "tras['sin_DayOfYear'] = np.sin(tras.TransactionDate.dt.dayofyear * (2*np.pi) / 366)"
   ]
  },
  {
   "cell_type": "markdown",
   "id": "86301320",
   "metadata": {},
   "source": [
    "To prevent the rich from grtting there one cluster we analyse the logarithms of both Balance and Amont"
   ]
  },
  {
   "cell_type": "code",
   "execution_count": 62,
   "id": "4eaeb3c6",
   "metadata": {},
   "outputs": [],
   "source": [
    "tras['log_Balance'] = tras['CustAccountBalance'].apply(np.log10)\n",
    "tras['log_Amount'] = tras['TransactionAmount (INR)'].apply(np.log10)"
   ]
  },
  {
   "cell_type": "markdown",
   "id": "0e730aee",
   "metadata": {},
   "source": [
    "Checkpoint!"
   ]
  },
  {
   "cell_type": "code",
   "execution_count": 64,
   "id": "1c512dcc",
   "metadata": {},
   "outputs": [],
   "source": [
    "tras.to_pickle('transactions.pkl')"
   ]
  },
  {
   "cell_type": "markdown",
   "id": "0efee593",
   "metadata": {},
   "source": []
  },
  {
   "cell_type": "code",
   "execution_count": 72,
   "id": "2501143a",
   "metadata": {},
   "outputs": [],
   "source": [
    "custs[['MeanCosTime',       'MeanSinTime',\n",
    "       'MeanCosDayOfWeek',  'MeanSinDayOfWeek',\n",
    "       'MeanCosDayOfMonth', 'MeanSinDayOfMonth',\n",
    "       'MeanCosDayOfYear',  'MeanSinDayOfYear',\n",
    "       'MeanLogBalance',    'MeanLogAmount']] = \\\n",
    "tras.groupby('CustomerID')[['cos_Time',       'sin_Time',\n",
    "                            'cos_DayOfWeek',  'sin_DayOfWeek',\n",
    "                            'cos_DayOfMonth', 'sin_DayOfMonth',\n",
    "                            'cos_DayOfYear',  'sin_DayOfYear',\n",
    "                            'log_Balance',    'log_Amount']].mean()"
   ]
  },
  {
   "cell_type": "code",
   "execution_count": 73,
   "id": "2e826e2e",
   "metadata": {},
   "outputs": [],
   "source": [
    "custs[['VarCosTime',       'VarSinTime',\n",
    "       'VarCosDayOfWeek',  'VarSinDayOfWeek',\n",
    "       'VarCosDayOfMonth', 'VarSinDayOfMonth',\n",
    "       'VarCosDayOfYear',  'VarSinDayOfYear',\n",
    "       'VarLogBalance',    'VarLogAmount']] = \\\n",
    "tras.groupby('CustomerID')[['cos_Time',       'sin_Time',\n",
    "                            'cos_DayOfWeek',  'sin_DayOfWeek',\n",
    "                            'cos_DayOfMonth', 'sin_DayOfMonth',\n",
    "                            'cos_DayOfYear',  'sin_DayOfYear',\n",
    "                            'log_Balance',    'log_Amount']].var()"
   ]
  },
  {
   "cell_type": "code",
   "execution_count": 74,
   "id": "6eb53ea5",
   "metadata": {},
   "outputs": [],
   "source": [
    "custs[['StdCosTime',       'StdSinTime',\n",
    "       'StdCosDayOfWeek',  'StdSinDayOfWeek',\n",
    "       'StdCosDayOfMonth', 'StdSinDayOfMonth',\n",
    "       'StdCosDayOfYear',  'StdSinDayOfYear',\n",
    "       'StdLogBalance',    'StdLogAmount']] = \\\n",
    "tras.groupby('CustomerID')[['cos_Time',       'sin_Time',\n",
    "                            'cos_DayOfWeek',  'sin_DayOfWeek',\n",
    "                            'cos_DayOfMonth', 'sin_DayOfMonth',\n",
    "                            'cos_DayOfYear',  'sin_DayOfYear',\n",
    "                            'log_Balance',    'log_Amount']].std()"
   ]
  },
  {
   "cell_type": "code",
   "execution_count": 78,
   "id": "fca63af9",
   "metadata": {},
   "outputs": [],
   "source": [
    "custs.fillna(0, inplace=True)"
   ]
  },
  {
   "cell_type": "markdown",
   "id": "d7fb021b",
   "metadata": {},
   "source": [
    "Checkpoint!"
   ]
  },
  {
   "cell_type": "code",
   "execution_count": 83,
   "id": "ba2e92cd",
   "metadata": {},
   "outputs": [],
   "source": [
    "custs.to_csv('customers.tsv', sep=\"\\t\")"
   ]
  },
  {
   "cell_type": "code",
   "execution_count": null,
   "id": "74a5bd55",
   "metadata": {},
   "outputs": [],
   "source": []
  }
 ],
 "metadata": {
  "colab": {
   "provenance": []
  },
  "kernelspec": {
   "display_name": "Python 3 (ipykernel)",
   "language": "python",
   "name": "python3"
  },
  "language_info": {
   "codemirror_mode": {
    "name": "ipython",
    "version": 3
   },
   "file_extension": ".py",
   "mimetype": "text/x-python",
   "name": "python",
   "nbconvert_exporter": "python",
   "pygments_lexer": "ipython3",
   "version": "3.10.4"
  }
 },
 "nbformat": 4,
 "nbformat_minor": 5
}
