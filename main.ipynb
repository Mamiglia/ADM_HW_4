{
 "cells": [
  {
   "cell_type": "markdown",
   "id": "5d6c8f06-39ef-4e08-97e3-8e3485e6e6bd",
   "metadata": {
    "cell_id": "b734a0fe85a248f8b683dfdeb7403ea8",
    "deepnote_cell_type": "markdown"
   },
   "source": [
    "- Matteo Migliarini\n",
    "- Flavio Brizzolari\n",
    "- Davit Gevorgyan\n",
    "\n",
    "# 1. Finding Similar Costumers\n",
    "---"
   ]
  },
  {
   "cell_type": "code",
   "execution_count": 1,
   "id": "61fb7a17-ad34-4a78-bb46-93e9fca762d1",
   "metadata": {
    "cell_id": "6d45a1a63cf6491487eaf9854f55c53b",
    "deepnote_cell_type": "code",
    "deepnote_to_be_reexecuted": false,
    "execution_millis": 1452,
    "execution_start": 1670777437029,
    "source_hash": "3a9b31f5"
   },
   "outputs": [],
   "source": [
    "import pandas as pd\n",
    "from datetime import datetime\n",
    "import numpy as np\n",
    "from tqdm import tqdm\n",
    "from sklearn.preprocessing import OneHotEncoder, StandardScaler, KBinsDiscretizer\n",
    "from sklearn.impute import SimpleImputer\n",
    "from sklearn.pipeline import Pipeline\n",
    "from sklearn.compose import ColumnTransformer\n",
    "import random\n",
    "from collections import defaultdict\n",
    "from functions import *"
   ]
  },
  {
   "cell_type": "markdown",
   "id": "6b81eb95-3448-4788-b48c-b578aa4e593f",
   "metadata": {
    "cell_id": "5af0b2d1844344caaf0784a62e9abf5e",
    "deepnote_cell_type": "markdown"
   },
   "source": [
    "# 1.1 Set up the data"
   ]
  },
  {
   "cell_type": "markdown",
   "id": "3799d504-0271-43ec-9207-4e9874f95239",
   "metadata": {
    "cell_id": "5a38c2e4fdf440098ce45be97fb86082",
    "deepnote_cell_type": "markdown"
   },
   "source": [
    " First thing we need to do is download the dataset and have a look at it."
   ]
  },
  {
   "cell_type": "code",
   "execution_count": null,
   "id": "a942d361-9563-4336-9fc4-b14a71a57297",
   "metadata": {
    "cell_id": "f312a9e5030c4a2fb74d6fb69134a6a2",
    "deepnote_cell_type": "code",
    "deepnote_to_be_reexecuted": false,
    "execution_millis": 1980,
    "execution_start": 1670777438532,
    "source_hash": "c5b90ef1"
   },
   "outputs": [
    {
     "data": {
      "application/vnd.deepnote.dataframe.v3+json": {
       "column_count": 9,
       "columns": [
        {
         "dtype": "object",
         "name": "TransactionID"
        },
        {
         "dtype": "object",
         "name": "CustomerID"
        },
        {
         "dtype": "object",
         "name": "CustomerDOB"
        },
        {
         "dtype": "object",
         "name": "CustGender"
        },
        {
         "dtype": "object",
         "name": "CustLocation"
        },
        {
         "dtype": "float64",
         "name": "CustAccountBalance"
        },
        {
         "dtype": "object",
         "name": "TransactionDate"
        },
        {
         "dtype": "int64",
         "name": "TransactionTime"
        },
        {
         "dtype": "float64",
         "name": "TransactionAmount (INR)"
        },
        {
         "dtype": "int64",
         "name": "_deepnote_index_column"
        }
       ],
       "row_count": 1048567,
       "rows": [
        {
         "CustAccountBalance": "17819.05",
         "CustGender": "F",
         "CustLocation": "JAMSHEDPUR",
         "CustomerDOB": "10/1/94",
         "CustomerID": "C5841053",
         "TransactionAmount (INR)": "25.0",
         "TransactionDate": "2/8/16",
         "TransactionID": "T1",
         "TransactionTime": "143207",
         "_deepnote_index_column": "0"
        },
        {
         "CustAccountBalance": "2270.69",
         "CustGender": "M",
         "CustLocation": "JHAJJAR",
         "CustomerDOB": "4/4/57",
         "CustomerID": "C2142763",
         "TransactionAmount (INR)": "27999.0",
         "TransactionDate": "2/8/16",
         "TransactionID": "T2",
         "TransactionTime": "141858",
         "_deepnote_index_column": "1"
        },
        {
         "CustAccountBalance": "17874.44",
         "CustGender": "F",
         "CustLocation": "MUMBAI",
         "CustomerDOB": "26/11/96",
         "CustomerID": "C4417068",
         "TransactionAmount (INR)": "459.0",
         "TransactionDate": "2/8/16",
         "TransactionID": "T3",
         "TransactionTime": "142712",
         "_deepnote_index_column": "2"
        },
        {
         "CustAccountBalance": "866503.21",
         "CustGender": "F",
         "CustLocation": "MUMBAI",
         "CustomerDOB": "14/9/73",
         "CustomerID": "C5342380",
         "TransactionAmount (INR)": "2060.0",
         "TransactionDate": "2/8/16",
         "TransactionID": "T4",
         "TransactionTime": "142714",
         "_deepnote_index_column": "3"
        },
        {
         "CustAccountBalance": "6714.43",
         "CustGender": "F",
         "CustLocation": "NAVI MUMBAI",
         "CustomerDOB": "24/3/88",
         "CustomerID": "C9031234",
         "TransactionAmount (INR)": "1762.5",
         "TransactionDate": "2/8/16",
         "TransactionID": "T5",
         "TransactionTime": "181156",
         "_deepnote_index_column": "4"
        },
        {
         "CustAccountBalance": "53609.2",
         "CustGender": "F",
         "CustLocation": "ITANAGAR",
         "CustomerDOB": "8/10/72",
         "CustomerID": "C1536588",
         "TransactionAmount (INR)": "676.0",
         "TransactionDate": "2/8/16",
         "TransactionID": "T6",
         "TransactionTime": "173940",
         "_deepnote_index_column": "5"
        },
        {
         "CustAccountBalance": "973.46",
         "CustGender": "F",
         "CustLocation": "MUMBAI",
         "CustomerDOB": "26/1/92",
         "CustomerID": "C7126560",
         "TransactionAmount (INR)": "566.0",
         "TransactionDate": "2/8/16",
         "TransactionID": "T7",
         "TransactionTime": "173806",
         "_deepnote_index_column": "6"
        },
        {
         "CustAccountBalance": "95075.54",
         "CustGender": "M",
         "CustLocation": "MUMBAI",
         "CustomerDOB": "27/1/82",
         "CustomerID": "C1220223",
         "TransactionAmount (INR)": "148.0",
         "TransactionDate": "2/8/16",
         "TransactionID": "T8",
         "TransactionTime": "170537",
         "_deepnote_index_column": "7"
        },
        {
         "CustAccountBalance": "14906.96",
         "CustGender": "F",
         "CustLocation": "GURGAON",
         "CustomerDOB": "19/4/88",
         "CustomerID": "C8536061",
         "TransactionAmount (INR)": "833.0",
         "TransactionDate": "2/8/16",
         "TransactionID": "T9",
         "TransactionTime": "192825",
         "_deepnote_index_column": "8"
        },
        {
         "CustAccountBalance": "4279.22",
         "CustGender": "M",
         "CustLocation": "MUMBAI",
         "CustomerDOB": "22/6/84",
         "CustomerID": "C6638934",
         "TransactionAmount (INR)": "289.11",
         "TransactionDate": "2/8/16",
         "TransactionID": "T10",
         "TransactionTime": "192446",
         "_deepnote_index_column": "9"
        }
       ]
      },
      "text/html": [
       "<div>\n",
       "<style scoped>\n",
       "    .dataframe tbody tr th:only-of-type {\n",
       "        vertical-align: middle;\n",
       "    }\n",
       "\n",
       "    .dataframe tbody tr th {\n",
       "        vertical-align: top;\n",
       "    }\n",
       "\n",
       "    .dataframe thead th {\n",
       "        text-align: right;\n",
       "    }\n",
       "</style>\n",
       "<table border=\"1\" class=\"dataframe\">\n",
       "  <thead>\n",
       "    <tr style=\"text-align: right;\">\n",
       "      <th></th>\n",
       "      <th>TransactionID</th>\n",
       "      <th>CustomerID</th>\n",
       "      <th>CustomerDOB</th>\n",
       "      <th>CustGender</th>\n",
       "      <th>CustLocation</th>\n",
       "      <th>CustAccountBalance</th>\n",
       "      <th>TransactionDate</th>\n",
       "      <th>TransactionTime</th>\n",
       "      <th>TransactionAmount (INR)</th>\n",
       "    </tr>\n",
       "  </thead>\n",
       "  <tbody>\n",
       "    <tr>\n",
       "      <th>0</th>\n",
       "      <td>T1</td>\n",
       "      <td>C5841053</td>\n",
       "      <td>10/1/94</td>\n",
       "      <td>F</td>\n",
       "      <td>JAMSHEDPUR</td>\n",
       "      <td>17819.05</td>\n",
       "      <td>2/8/16</td>\n",
       "      <td>143207</td>\n",
       "      <td>25.0</td>\n",
       "    </tr>\n",
       "    <tr>\n",
       "      <th>1</th>\n",
       "      <td>T2</td>\n",
       "      <td>C2142763</td>\n",
       "      <td>4/4/57</td>\n",
       "      <td>M</td>\n",
       "      <td>JHAJJAR</td>\n",
       "      <td>2270.69</td>\n",
       "      <td>2/8/16</td>\n",
       "      <td>141858</td>\n",
       "      <td>27999.0</td>\n",
       "    </tr>\n",
       "    <tr>\n",
       "      <th>2</th>\n",
       "      <td>T3</td>\n",
       "      <td>C4417068</td>\n",
       "      <td>26/11/96</td>\n",
       "      <td>F</td>\n",
       "      <td>MUMBAI</td>\n",
       "      <td>17874.44</td>\n",
       "      <td>2/8/16</td>\n",
       "      <td>142712</td>\n",
       "      <td>459.0</td>\n",
       "    </tr>\n",
       "    <tr>\n",
       "      <th>3</th>\n",
       "      <td>T4</td>\n",
       "      <td>C5342380</td>\n",
       "      <td>14/9/73</td>\n",
       "      <td>F</td>\n",
       "      <td>MUMBAI</td>\n",
       "      <td>866503.21</td>\n",
       "      <td>2/8/16</td>\n",
       "      <td>142714</td>\n",
       "      <td>2060.0</td>\n",
       "    </tr>\n",
       "    <tr>\n",
       "      <th>4</th>\n",
       "      <td>T5</td>\n",
       "      <td>C9031234</td>\n",
       "      <td>24/3/88</td>\n",
       "      <td>F</td>\n",
       "      <td>NAVI MUMBAI</td>\n",
       "      <td>6714.43</td>\n",
       "      <td>2/8/16</td>\n",
       "      <td>181156</td>\n",
       "      <td>1762.5</td>\n",
       "    </tr>\n",
       "    <tr>\n",
       "      <th>...</th>\n",
       "      <td>...</td>\n",
       "      <td>...</td>\n",
       "      <td>...</td>\n",
       "      <td>...</td>\n",
       "      <td>...</td>\n",
       "      <td>...</td>\n",
       "      <td>...</td>\n",
       "      <td>...</td>\n",
       "      <td>...</td>\n",
       "    </tr>\n",
       "    <tr>\n",
       "      <th>1048562</th>\n",
       "      <td>T1048563</td>\n",
       "      <td>C8020229</td>\n",
       "      <td>8/4/90</td>\n",
       "      <td>M</td>\n",
       "      <td>NEW DELHI</td>\n",
       "      <td>7635.19</td>\n",
       "      <td>18/9/16</td>\n",
       "      <td>184824</td>\n",
       "      <td>799.0</td>\n",
       "    </tr>\n",
       "    <tr>\n",
       "      <th>1048563</th>\n",
       "      <td>T1048564</td>\n",
       "      <td>C6459278</td>\n",
       "      <td>20/2/92</td>\n",
       "      <td>M</td>\n",
       "      <td>NASHIK</td>\n",
       "      <td>27311.42</td>\n",
       "      <td>18/9/16</td>\n",
       "      <td>183734</td>\n",
       "      <td>460.0</td>\n",
       "    </tr>\n",
       "    <tr>\n",
       "      <th>1048564</th>\n",
       "      <td>T1048565</td>\n",
       "      <td>C6412354</td>\n",
       "      <td>18/5/89</td>\n",
       "      <td>M</td>\n",
       "      <td>HYDERABAD</td>\n",
       "      <td>221757.06</td>\n",
       "      <td>18/9/16</td>\n",
       "      <td>183313</td>\n",
       "      <td>770.0</td>\n",
       "    </tr>\n",
       "    <tr>\n",
       "      <th>1048565</th>\n",
       "      <td>T1048566</td>\n",
       "      <td>C6420483</td>\n",
       "      <td>30/8/78</td>\n",
       "      <td>M</td>\n",
       "      <td>VISAKHAPATNAM</td>\n",
       "      <td>10117.87</td>\n",
       "      <td>18/9/16</td>\n",
       "      <td>184706</td>\n",
       "      <td>1000.0</td>\n",
       "    </tr>\n",
       "    <tr>\n",
       "      <th>1048566</th>\n",
       "      <td>T1048567</td>\n",
       "      <td>C8337524</td>\n",
       "      <td>5/3/84</td>\n",
       "      <td>M</td>\n",
       "      <td>PUNE</td>\n",
       "      <td>75734.42</td>\n",
       "      <td>18/9/16</td>\n",
       "      <td>181222</td>\n",
       "      <td>1166.0</td>\n",
       "    </tr>\n",
       "  </tbody>\n",
       "</table>\n",
       "<p>1048567 rows × 9 columns</p>\n",
       "</div>"
      ],
      "text/plain": [
       "        TransactionID CustomerID CustomerDOB CustGender   CustLocation  \\\n",
       "0                  T1   C5841053     10/1/94          F     JAMSHEDPUR   \n",
       "1                  T2   C2142763      4/4/57          M        JHAJJAR   \n",
       "2                  T3   C4417068    26/11/96          F         MUMBAI   \n",
       "3                  T4   C5342380     14/9/73          F         MUMBAI   \n",
       "4                  T5   C9031234     24/3/88          F    NAVI MUMBAI   \n",
       "...               ...        ...         ...        ...            ...   \n",
       "1048562      T1048563   C8020229      8/4/90          M      NEW DELHI   \n",
       "1048563      T1048564   C6459278     20/2/92          M         NASHIK   \n",
       "1048564      T1048565   C6412354     18/5/89          M      HYDERABAD   \n",
       "1048565      T1048566   C6420483     30/8/78          M  VISAKHAPATNAM   \n",
       "1048566      T1048567   C8337524      5/3/84          M           PUNE   \n",
       "\n",
       "         CustAccountBalance TransactionDate  TransactionTime  \\\n",
       "0                  17819.05          2/8/16           143207   \n",
       "1                   2270.69          2/8/16           141858   \n",
       "2                  17874.44          2/8/16           142712   \n",
       "3                 866503.21          2/8/16           142714   \n",
       "4                   6714.43          2/8/16           181156   \n",
       "...                     ...             ...              ...   \n",
       "1048562             7635.19         18/9/16           184824   \n",
       "1048563            27311.42         18/9/16           183734   \n",
       "1048564           221757.06         18/9/16           183313   \n",
       "1048565            10117.87         18/9/16           184706   \n",
       "1048566            75734.42         18/9/16           181222   \n",
       "\n",
       "         TransactionAmount (INR)  \n",
       "0                           25.0  \n",
       "1                        27999.0  \n",
       "2                          459.0  \n",
       "3                         2060.0  \n",
       "4                         1762.5  \n",
       "...                          ...  \n",
       "1048562                    799.0  \n",
       "1048563                    460.0  \n",
       "1048564                    770.0  \n",
       "1048565                   1000.0  \n",
       "1048566                   1166.0  \n",
       "\n",
       "[1048567 rows x 9 columns]"
      ]
     },
     "execution_count": 2,
     "metadata": {},
     "output_type": "execute_result"
    }
   ],
   "source": [
    "transactions = r'bank_transactions.csv'\n",
    "bank = pd.read_csv(transactions, delimiter=',')\n",
    "bank.head()"
   ]
  },
  {
   "cell_type": "markdown",
   "id": "43143bdd-9466-4ff9-a9b6-2b3258c3038d",
   "metadata": {
    "cell_id": "d272ed828da245cea2a532c78ec3ebd0",
    "deepnote_cell_type": "markdown"
   },
   "source": [
    " We can see that is is comprised of more than 1 milion rows and 9 columns, take a further look."
   ]
  },
  {
   "cell_type": "code",
   "execution_count": 3,
   "id": "5ad59e72-88fa-4194-bf0a-62e8a828c5f1",
   "metadata": {
    "cell_id": "fa143aee54b74330bf5f0d178585556b",
    "deepnote_cell_type": "code",
    "deepnote_to_be_reexecuted": false,
    "execution_millis": 242,
    "execution_start": 1670777440555,
    "source_hash": "336bf8c1"
   },
   "outputs": [
    {
     "name": "stdout",
     "output_type": "stream",
     "text": [
      "<class 'pandas.core.frame.DataFrame'>\n",
      "RangeIndex: 1048567 entries, 0 to 1048566\n",
      "Data columns (total 9 columns):\n",
      " #   Column                   Non-Null Count    Dtype  \n",
      "---  ------                   --------------    -----  \n",
      " 0   TransactionID            1048567 non-null  object \n",
      " 1   CustomerID               1048567 non-null  object \n",
      " 2   CustomerDOB              1045170 non-null  object \n",
      " 3   CustGender               1047467 non-null  object \n",
      " 4   CustLocation             1048416 non-null  object \n",
      " 5   CustAccountBalance       1046198 non-null  float64\n",
      " 6   TransactionDate          1048567 non-null  object \n",
      " 7   TransactionTime          1048567 non-null  int64  \n",
      " 8   TransactionAmount (INR)  1048567 non-null  float64\n",
      "dtypes: float64(2), int64(1), object(6)\n",
      "memory usage: 72.0+ MB\n"
     ]
    }
   ],
   "source": [
    "bank.info()"
   ]
  },
  {
   "cell_type": "markdown",
   "id": "8f901e81-564c-4864-ad62-0cc5bd929f2f",
   "metadata": {
    "cell_id": "c1f9cf5baab84c739cd8ce93a229766f",
    "deepnote_cell_type": "markdown"
   },
   "source": [
    " We see that of what type all our elements really are, so we will have to change a few things, like looking at missing values."
   ]
  },
  {
   "cell_type": "code",
   "execution_count": 4,
   "id": "e7a275ac-b1c3-444a-ad9d-30c2782a5897",
   "metadata": {
    "cell_id": "610548abfbac49cc8c3d8ec750e07180",
    "deepnote_cell_type": "code",
    "deepnote_to_be_reexecuted": false,
    "execution_millis": 278,
    "execution_start": 1670777440812,
    "source_hash": "119a9ca3"
   },
   "outputs": [
    {
     "data": {
      "text/plain": [
       "TransactionID                 0\n",
       "CustomerID                    0\n",
       "CustomerDOB                3397\n",
       "CustGender                 1100\n",
       "CustLocation                151\n",
       "CustAccountBalance         2369\n",
       "TransactionDate               0\n",
       "TransactionTime               0\n",
       "TransactionAmount (INR)       0\n",
       "dtype: int64"
      ]
     },
     "execution_count": 4,
     "metadata": {},
     "output_type": "execute_result"
    }
   ],
   "source": [
    "bank.isna().sum()"
   ]
  },
  {
   "cell_type": "markdown",
   "id": "c29a871f-510f-437e-8e0a-4e671ee7b336",
   "metadata": {
    "cell_id": "39883e5cc014445fa222bbe0165efe73",
    "deepnote_cell_type": "markdown"
   },
   "source": [
    "I can see that diffferent columns have multiple Na's, my approach is that of:  \n",
    "\n",
    "- transforming Na's to 0 in the customer Account Balance, because i would imagine, the balance would be low for this an Na appeared.  \n",
    "\n",
    "- changing the Na's in CustGender randomly to M or F, this is based on the assumption that the CustomerID is refered to a bankaccount where multiple can access it, so to not change the overall percentages of Male and Female we have decided to assign randomly the M and F to our dataset\n",
    "\n",
    "- dropping Na's in the other columns"
   ]
  },
  {
   "cell_type": "code",
   "execution_count": 5,
   "id": "466ded92-cc13-47bc-94cf-53d35b455857",
   "metadata": {
    "cell_id": "ffe4d743313e4b68b7da4f2252ff4a6d",
    "deepnote_cell_type": "code",
    "deepnote_to_be_reexecuted": false,
    "execution_millis": 651,
    "execution_start": 1670777441247,
    "source_hash": "73b1e316"
   },
   "outputs": [
    {
     "name": "stderr",
     "output_type": "stream",
     "text": [
      "/shared-libs/python3.9/py/lib/python3.9/site-packages/pandas/core/series.py:4463: SettingWithCopyWarning: \n",
      "A value is trying to be set on a copy of a slice from a DataFrame\n",
      "\n",
      "See the caveats in the documentation: https://pandas.pydata.org/pandas-docs/stable/user_guide/indexing.html#returning-a-view-versus-a-copy\n",
      "  return super().fillna(\n",
      "/shared-libs/python3.9/py/lib/python3.9/site-packages/pandas/core/frame.py:4308: SettingWithCopyWarning: \n",
      "A value is trying to be set on a copy of a slice from a DataFrame\n",
      "\n",
      "See the caveats in the documentation: https://pandas.pydata.org/pandas-docs/stable/user_guide/indexing.html#returning-a-view-versus-a-copy\n",
      "  return super().drop(\n"
     ]
    },
    {
     "data": {
      "text/plain": [
       "TransactionID              0\n",
       "CustomerID                 0\n",
       "CustomerDOB                0\n",
       "CustGender                 0\n",
       "CustLocation               0\n",
       "CustAccountBalance         0\n",
       "TransactionDate            0\n",
       "TransactionTime            0\n",
       "TransactionAmount (INR)    0\n",
       "dtype: int64"
      ]
     },
     "execution_count": 5,
     "metadata": {},
     "output_type": "execute_result"
    }
   ],
   "source": [
    "#for the moment dropping also gender\n",
    "bank = bank.dropna(subset=['CustomerDOB','CustLocation','CustGender'])\n",
    "bank['CustAccountBalance'].fillna(0,inplace=True)\n",
    "bank.drop(bank.index[bank['CustGender'] == 'T'], inplace = True)\n",
    "bank.isna().sum()"
   ]
  },
  {
   "cell_type": "markdown",
   "id": "94d91ee5-6081-4bd3-acde-4e32aff8293e",
   "metadata": {
    "cell_id": "56f2d0d6e13b4fee983ac8e2236c3696",
    "deepnote_cell_type": "markdown",
    "tags": []
   },
   "source": [
    "  "
   ]
  },
  {
   "cell_type": "markdown",
   "id": "d8819e6b-990a-4e11-81f3-d08d10394c6e",
   "metadata": {
    "cell_id": "962987a56c3c4657b8f5ca8e701a92fb",
    "deepnote_cell_type": "markdown"
   },
   "source": [
    " Looking at the Date of Birth we see some inconsistencies."
   ]
  },
  {
   "cell_type": "code",
   "execution_count": 6,
   "id": "f329db8c-cc72-4dd5-b689-ee885ac90bd6",
   "metadata": {
    "cell_id": "c576388aecc645b0b83c51eb4fbdef7d",
    "deepnote_cell_type": "code",
    "deepnote_to_be_reexecuted": false,
    "execution_millis": 12,
    "execution_start": 1670777442033,
    "source_hash": "bc9a6a25"
   },
   "outputs": [
    {
     "data": {
      "text/plain": [
       "1/1/1800    56465\n",
       "1/1/89        809\n",
       "1/1/90        784\n",
       "6/8/91        699\n",
       "1/1/91        666\n",
       "            ...  \n",
       "17/8/59         1\n",
       "18/3/69         1\n",
       "4/6/51          1\n",
       "1/3/35          1\n",
       "30/5/33         1\n",
       "Name: CustomerDOB, Length: 17253, dtype: int64"
      ]
     },
     "execution_count": 6,
     "metadata": {},
     "output_type": "execute_result"
    }
   ],
   "source": [
    "bank['CustomerDOB'].value_counts()"
   ]
  },
  {
   "cell_type": "markdown",
   "id": "66a4ac38-5668-4d9b-8e7b-3ac676f0bf8b",
   "metadata": {
    "cell_id": "d64f65c21cb34edaaf697868396aeeb6",
    "deepnote_cell_type": "markdown"
   },
   "source": [
    "Different people born in 1800 and some dates without the full year so first we drop the 1800 because we wouldn't know what year to assign and then we reshape the years of this column, we also found people born after 2020 so we decided to change those taking away 100 years believing that they where from older people with maybe difficulties working the computer."
   ]
  },
  {
   "cell_type": "code",
   "execution_count": 7,
   "id": "e2743da5-f7e5-4df3-be4d-6f129cc415e5",
   "metadata": {
    "cell_id": "6565d655da9d4256a7d90e22e3b391e6",
    "deepnote_cell_type": "code",
    "deepnote_to_be_reexecuted": false,
    "execution_millis": 63625,
    "execution_start": 1670777442123,
    "source_hash": "7623246e"
   },
   "outputs": [],
   "source": [
    "bank = bank.drop(bank[bank['CustomerDOB'] == '1/1/1800'].index,axis = 0)\n",
    "bank['CustomerDOB'] = pd.to_datetime(bank['CustomerDOB'])\n",
    "bank.loc[bank.CustomerDOB.dt.year > 2000, 'CustomerDOB'] = bank.loc[bank.CustomerDOB.dt.year > 2000, 'CustomerDOB'] - pd.DateOffset(years = 100)"
   ]
  },
  {
   "cell_type": "code",
   "execution_count": 8,
   "id": "eac72f3c-d9a8-48c6-8825-6338ad668e2d",
   "metadata": {
    "cell_id": "acb255e5e9414e318e049742dbf4088e",
    "deepnote_cell_type": "code",
    "deepnote_to_be_reexecuted": false,
    "execution_millis": 2,
    "execution_start": 1670777505792,
    "source_hash": "bc9a6a25"
   },
   "outputs": [
    {
     "data": {
      "text/plain": [
       "1989-01-01    809\n",
       "1990-01-01    784\n",
       "1991-06-08    699\n",
       "1991-01-01    666\n",
       "1992-01-01    633\n",
       "             ... \n",
       "1952-06-18      1\n",
       "1950-07-11      1\n",
       "1932-04-04      1\n",
       "1939-12-10      1\n",
       "2000-04-10      1\n",
       "Name: CustomerDOB, Length: 17252, dtype: int64"
      ]
     },
     "execution_count": 8,
     "metadata": {},
     "output_type": "execute_result"
    }
   ],
   "source": [
    "bank['CustomerDOB'].value_counts()"
   ]
  },
  {
   "cell_type": "markdown",
   "id": "913078d6-4a0d-4ab5-8abf-6c41b712eada",
   "metadata": {
    "cell_id": "cbd49ed32e6844279566bdd994460350",
    "deepnote_cell_type": "markdown",
    "tags": []
   },
   "source": [
    "  "
   ]
  },
  {
   "cell_type": "markdown",
   "id": "cc5791fd-7578-4094-9618-71915945287e",
   "metadata": {
    "cell_id": "a4ac9a0498d04a4ea1b93d29d97b73e2",
    "deepnote_cell_type": "markdown"
   },
   "source": [
    "Let's change also the Transaction time to an workable element"
   ]
  },
  {
   "cell_type": "code",
   "execution_count": 9,
   "id": "4220d080-6ac6-43b6-9ddd-957863dbe0e5",
   "metadata": {
    "cell_id": "31abe8af1d744db09a7e3d458f8f4776",
    "deepnote_cell_type": "code",
    "deepnote_to_be_reexecuted": false,
    "execution_millis": 182,
    "execution_start": 1670777505810,
    "source_hash": "84179f00"
   },
   "outputs": [
    {
     "data": {
      "application/vnd.deepnote.dataframe.v3+json": {
       "column_count": 9,
       "columns": [
        {
         "dtype": "object",
         "name": "TransactionID",
         "stats": {
          "categories": [
           {
            "count": 1,
            "name": "T1"
           },
           {
            "count": 1,
            "name": "T2"
           },
           {
            "count": 3,
            "name": "3 others"
           }
          ],
          "nan_count": 0,
          "unique_count": 5
         }
        },
        {
         "dtype": "object",
         "name": "CustomerID",
         "stats": {
          "categories": [
           {
            "count": 1,
            "name": "C5841053"
           },
           {
            "count": 1,
            "name": "C2142763"
           },
           {
            "count": 3,
            "name": "3 others"
           }
          ],
          "nan_count": 0,
          "unique_count": 5
         }
        },
        {
         "dtype": "datetime64[ns]",
         "name": "CustomerDOB",
         "stats": {
          "histogram": [
           {
            "bin_end": -277076160000000000,
            "bin_start": -402192000000000000,
            "count": 1
           },
           {
            "bin_end": -151960320000000000,
            "bin_start": -277076160000000000,
            "count": 0
           },
           {
            "bin_end": -26844480000000000,
            "bin_start": -151960320000000000,
            "count": 0
           },
           {
            "bin_end": 98271360000000000,
            "bin_start": -26844480000000000,
            "count": 0
           },
           {
            "bin_end": 223387200000000000,
            "bin_start": 98271360000000000,
            "count": 1
           },
           {
            "bin_end": 348503040000000000,
            "bin_start": 223387200000000000,
            "count": 0
           },
           {
            "bin_end": 473618880000000000,
            "bin_start": 348503040000000000,
            "count": 0
           },
           {
            "bin_end": 598734720000000000,
            "bin_start": 473618880000000000,
            "count": 1
           },
           {
            "bin_end": 723850560000000000,
            "bin_start": 598734720000000000,
            "count": 0
           },
           {
            "bin_end": 848966400000000000,
            "bin_start": 723850560000000000,
            "count": 2
           }
          ],
          "max": "1996-11-26 00:00:00",
          "min": "1957-04-04 00:00:00",
          "nan_count": 0,
          "unique_count": 5
         }
        },
        {
         "dtype": "object",
         "name": "CustGender",
         "stats": {
          "categories": [
           {
            "count": 4,
            "name": "F"
           },
           {
            "count": 1,
            "name": "M"
           }
          ],
          "nan_count": 0,
          "unique_count": 2
         }
        },
        {
         "dtype": "object",
         "name": "CustLocation",
         "stats": {
          "categories": [
           {
            "count": 2,
            "name": "MUMBAI"
           },
           {
            "count": 1,
            "name": "JAMSHEDPUR"
           },
           {
            "count": 2,
            "name": "2 others"
           }
          ],
          "nan_count": 0,
          "unique_count": 4
         }
        },
        {
         "dtype": "float64",
         "name": "CustAccountBalance",
         "stats": {
          "histogram": [
           {
            "bin_end": 88693.94200000001,
            "bin_start": 2270.69,
            "count": 4
           },
           {
            "bin_end": 175117.19400000002,
            "bin_start": 88693.94200000001,
            "count": 0
           },
           {
            "bin_end": 261540.44600000003,
            "bin_start": 175117.19400000002,
            "count": 0
           },
           {
            "bin_end": 347963.69800000003,
            "bin_start": 261540.44600000003,
            "count": 0
           },
           {
            "bin_end": 434386.95,
            "bin_start": 347963.69800000003,
            "count": 0
           },
           {
            "bin_end": 520810.20200000005,
            "bin_start": 434386.95,
            "count": 0
           },
           {
            "bin_end": 607233.454,
            "bin_start": 520810.20200000005,
            "count": 0
           },
           {
            "bin_end": 693656.706,
            "bin_start": 607233.454,
            "count": 0
           },
           {
            "bin_end": 780079.958,
            "bin_start": 693656.706,
            "count": 0
           },
           {
            "bin_end": 866503.21,
            "bin_start": 780079.958,
            "count": 1
           }
          ],
          "max": "866503.21",
          "min": "2270.69",
          "nan_count": 0,
          "unique_count": 5
         }
        },
        {
         "dtype": "datetime64[ns]",
         "name": "TransactionDate",
         "stats": {
          "histogram": null,
          "max": "2016-02-08 00:00:00",
          "min": "2016-02-08 00:00:00",
          "nan_count": 0,
          "unique_count": 1
         }
        },
        {
         "dtype": "int64",
         "name": "TransactionTime",
         "stats": {
          "histogram": [
           {
            "bin_end": 145787.8,
            "bin_start": 141858,
            "count": 4
           },
           {
            "bin_end": 149717.6,
            "bin_start": 145787.8,
            "count": 0
           },
           {
            "bin_end": 153647.4,
            "bin_start": 149717.6,
            "count": 0
           },
           {
            "bin_end": 157577.2,
            "bin_start": 153647.4,
            "count": 0
           },
           {
            "bin_end": 161507,
            "bin_start": 157577.2,
            "count": 0
           },
           {
            "bin_end": 165436.8,
            "bin_start": 161507,
            "count": 0
           },
           {
            "bin_end": 169366.6,
            "bin_start": 165436.8,
            "count": 0
           },
           {
            "bin_end": 173296.4,
            "bin_start": 169366.6,
            "count": 0
           },
           {
            "bin_end": 177226.2,
            "bin_start": 173296.4,
            "count": 0
           },
           {
            "bin_end": 181156,
            "bin_start": 177226.2,
            "count": 1
           }
          ],
          "max": "181156",
          "min": "141858",
          "nan_count": 0,
          "unique_count": 5
         }
        },
        {
         "dtype": "float64",
         "name": "TransactionAmount (INR)",
         "stats": {
          "histogram": [
           {
            "bin_end": 2822.4,
            "bin_start": 25,
            "count": 4
           },
           {
            "bin_end": 5619.8,
            "bin_start": 2822.4,
            "count": 0
           },
           {
            "bin_end": 8417.2,
            "bin_start": 5619.8,
            "count": 0
           },
           {
            "bin_end": 11214.6,
            "bin_start": 8417.2,
            "count": 0
           },
           {
            "bin_end": 14012,
            "bin_start": 11214.6,
            "count": 0
           },
           {
            "bin_end": 16809.4,
            "bin_start": 14012,
            "count": 0
           },
           {
            "bin_end": 19606.8,
            "bin_start": 16809.4,
            "count": 0
           },
           {
            "bin_end": 22404.2,
            "bin_start": 19606.8,
            "count": 0
           },
           {
            "bin_end": 25201.600000000002,
            "bin_start": 22404.2,
            "count": 0
           },
           {
            "bin_end": 27999,
            "bin_start": 25201.600000000002,
            "count": 1
           }
          ],
          "max": "27999.0",
          "min": "25.0",
          "nan_count": 0,
          "unique_count": 5
         }
        },
        {
         "dtype": "int64",
         "name": "_deepnote_index_column"
        }
       ],
       "row_count": 5,
       "rows": [
        {
         "CustAccountBalance": "17819.05",
         "CustGender": "F",
         "CustLocation": "JAMSHEDPUR",
         "CustomerDOB": "1994-10-01 00:00:00",
         "CustomerID": "C5841053",
         "TransactionAmount (INR)": "25.0",
         "TransactionDate": "2016-02-08 00:00:00",
         "TransactionID": "T1",
         "TransactionTime": "143207",
         "_deepnote_index_column": "0"
        },
        {
         "CustAccountBalance": "2270.69",
         "CustGender": "M",
         "CustLocation": "JHAJJAR",
         "CustomerDOB": "1957-04-04 00:00:00",
         "CustomerID": "C2142763",
         "TransactionAmount (INR)": "27999.0",
         "TransactionDate": "2016-02-08 00:00:00",
         "TransactionID": "T2",
         "TransactionTime": "141858",
         "_deepnote_index_column": "1"
        },
        {
         "CustAccountBalance": "17874.44",
         "CustGender": "F",
         "CustLocation": "MUMBAI",
         "CustomerDOB": "1996-11-26 00:00:00",
         "CustomerID": "C4417068",
         "TransactionAmount (INR)": "459.0",
         "TransactionDate": "2016-02-08 00:00:00",
         "TransactionID": "T3",
         "TransactionTime": "142712",
         "_deepnote_index_column": "2"
        },
        {
         "CustAccountBalance": "866503.21",
         "CustGender": "F",
         "CustLocation": "MUMBAI",
         "CustomerDOB": "1973-09-14 00:00:00",
         "CustomerID": "C5342380",
         "TransactionAmount (INR)": "2060.0",
         "TransactionDate": "2016-02-08 00:00:00",
         "TransactionID": "T4",
         "TransactionTime": "142714",
         "_deepnote_index_column": "3"
        },
        {
         "CustAccountBalance": "6714.43",
         "CustGender": "F",
         "CustLocation": "NAVI MUMBAI",
         "CustomerDOB": "1988-03-24 00:00:00",
         "CustomerID": "C9031234",
         "TransactionAmount (INR)": "1762.5",
         "TransactionDate": "2016-02-08 00:00:00",
         "TransactionID": "T5",
         "TransactionTime": "181156",
         "_deepnote_index_column": "4"
        }
       ]
      },
      "text/html": [
       "<div>\n",
       "<style scoped>\n",
       "    .dataframe tbody tr th:only-of-type {\n",
       "        vertical-align: middle;\n",
       "    }\n",
       "\n",
       "    .dataframe tbody tr th {\n",
       "        vertical-align: top;\n",
       "    }\n",
       "\n",
       "    .dataframe thead th {\n",
       "        text-align: right;\n",
       "    }\n",
       "</style>\n",
       "<table border=\"1\" class=\"dataframe\">\n",
       "  <thead>\n",
       "    <tr style=\"text-align: right;\">\n",
       "      <th></th>\n",
       "      <th>TransactionID</th>\n",
       "      <th>CustomerID</th>\n",
       "      <th>CustomerDOB</th>\n",
       "      <th>CustGender</th>\n",
       "      <th>CustLocation</th>\n",
       "      <th>CustAccountBalance</th>\n",
       "      <th>TransactionDate</th>\n",
       "      <th>TransactionTime</th>\n",
       "      <th>TransactionAmount (INR)</th>\n",
       "    </tr>\n",
       "  </thead>\n",
       "  <tbody>\n",
       "    <tr>\n",
       "      <th>0</th>\n",
       "      <td>T1</td>\n",
       "      <td>C5841053</td>\n",
       "      <td>1994-10-01</td>\n",
       "      <td>F</td>\n",
       "      <td>JAMSHEDPUR</td>\n",
       "      <td>17819.05</td>\n",
       "      <td>2016-02-08</td>\n",
       "      <td>143207</td>\n",
       "      <td>25.0</td>\n",
       "    </tr>\n",
       "    <tr>\n",
       "      <th>1</th>\n",
       "      <td>T2</td>\n",
       "      <td>C2142763</td>\n",
       "      <td>1957-04-04</td>\n",
       "      <td>M</td>\n",
       "      <td>JHAJJAR</td>\n",
       "      <td>2270.69</td>\n",
       "      <td>2016-02-08</td>\n",
       "      <td>141858</td>\n",
       "      <td>27999.0</td>\n",
       "    </tr>\n",
       "    <tr>\n",
       "      <th>2</th>\n",
       "      <td>T3</td>\n",
       "      <td>C4417068</td>\n",
       "      <td>1996-11-26</td>\n",
       "      <td>F</td>\n",
       "      <td>MUMBAI</td>\n",
       "      <td>17874.44</td>\n",
       "      <td>2016-02-08</td>\n",
       "      <td>142712</td>\n",
       "      <td>459.0</td>\n",
       "    </tr>\n",
       "    <tr>\n",
       "      <th>3</th>\n",
       "      <td>T4</td>\n",
       "      <td>C5342380</td>\n",
       "      <td>1973-09-14</td>\n",
       "      <td>F</td>\n",
       "      <td>MUMBAI</td>\n",
       "      <td>866503.21</td>\n",
       "      <td>2016-02-08</td>\n",
       "      <td>142714</td>\n",
       "      <td>2060.0</td>\n",
       "    </tr>\n",
       "    <tr>\n",
       "      <th>4</th>\n",
       "      <td>T5</td>\n",
       "      <td>C9031234</td>\n",
       "      <td>1988-03-24</td>\n",
       "      <td>F</td>\n",
       "      <td>NAVI MUMBAI</td>\n",
       "      <td>6714.43</td>\n",
       "      <td>2016-02-08</td>\n",
       "      <td>181156</td>\n",
       "      <td>1762.5</td>\n",
       "    </tr>\n",
       "  </tbody>\n",
       "</table>\n",
       "</div>"
      ],
      "text/plain": [
       "  TransactionID CustomerID CustomerDOB CustGender CustLocation  \\\n",
       "0            T1   C5841053  1994-10-01          F   JAMSHEDPUR   \n",
       "1            T2   C2142763  1957-04-04          M      JHAJJAR   \n",
       "2            T3   C4417068  1996-11-26          F       MUMBAI   \n",
       "3            T4   C5342380  1973-09-14          F       MUMBAI   \n",
       "4            T5   C9031234  1988-03-24          F  NAVI MUMBAI   \n",
       "\n",
       "   CustAccountBalance TransactionDate  TransactionTime  \\\n",
       "0            17819.05      2016-02-08           143207   \n",
       "1             2270.69      2016-02-08           141858   \n",
       "2            17874.44      2016-02-08           142712   \n",
       "3           866503.21      2016-02-08           142714   \n",
       "4             6714.43      2016-02-08           181156   \n",
       "\n",
       "   TransactionAmount (INR)  \n",
       "0                     25.0  \n",
       "1                  27999.0  \n",
       "2                    459.0  \n",
       "3                   2060.0  \n",
       "4                   1762.5  "
      ]
     },
     "execution_count": 9,
     "metadata": {},
     "output_type": "execute_result"
    }
   ],
   "source": [
    "bank['TransactionDate'] = pd.to_datetime(bank['TransactionDate'])\n",
    "bank.head()"
   ]
  },
  {
   "cell_type": "markdown",
   "id": "0b1a63f1-bf9c-493f-a9dc-7a95a16fcfc7",
   "metadata": {
    "cell_id": "90c44ba6b3cf469b8a630de98b544732",
    "deepnote_cell_type": "markdown"
   },
   "source": [
    " we won't do the same with the transaction time as the queries use the predefinite version of the dataset for the time."
   ]
  },
  {
   "cell_type": "code",
   "execution_count": 10,
   "id": "e3d2eb46-bd9f-4311-b2e2-95cb8ca11c79",
   "metadata": {
    "cell_id": "406edb22338244e7aff618fe72287762",
    "deepnote_cell_type": "code",
    "deepnote_to_be_reexecuted": false,
    "execution_millis": 55,
    "execution_start": 1670777505994,
    "source_hash": "25ec9b17"
   },
   "outputs": [
    {
     "data": {
      "text/plain": [
       "100.00     33238\n",
       "50.00      30189\n",
       "200.00     30093\n",
       "500.00     27012\n",
       "1000.00    20511\n",
       "           ...  \n",
       "1821.04        1\n",
       "124.60         1\n",
       "339.82         1\n",
       "2570.65        1\n",
       "738.50         1\n",
       "Name: TransactionAmount (INR), Length: 86936, dtype: int64"
      ]
     },
     "execution_count": 10,
     "metadata": {},
     "output_type": "execute_result"
    }
   ],
   "source": [
    "bank['TransactionAmount (INR)'].value_counts()"
   ]
  },
  {
   "cell_type": "markdown",
   "id": "8416f4c0-9d40-4230-89f0-647f785f6787",
   "metadata": {
    "cell_id": "a26b81ea23524e2897c306b1a8843977",
    "deepnote_cell_type": "markdown",
    "tags": []
   },
   "source": [
    "  "
   ]
  },
  {
   "cell_type": "markdown",
   "id": "4b62a3e8-e300-4f74-840d-877aeded6a71",
   "metadata": {
    "cell_id": "16e161ccbdbf4ffa86a7cf8ea7735df0",
    "deepnote_cell_type": "markdown"
   },
   "source": [
    "looking at transaction amounts maybe the best thing is to omit the cents so that we can work with only int values:"
   ]
  },
  {
   "cell_type": "code",
   "execution_count": 11,
   "id": "2f964d41-d74b-468c-bc81-27e9d51ceec4",
   "metadata": {
    "cell_id": "f0baa5b2a5b94aaf99fd604e0c411dc0",
    "deepnote_cell_type": "code",
    "deepnote_to_be_reexecuted": false,
    "execution_millis": 18,
    "execution_start": 1670777506043,
    "source_hash": "7e018356"
   },
   "outputs": [
    {
     "data": {
      "text/plain": [
       "100      33757\n",
       "50       30358\n",
       "200      30208\n",
       "500      27074\n",
       "1000     20568\n",
       "         ...  \n",
       "18810        1\n",
       "10614        1\n",
       "14034        1\n",
       "9239         1\n",
       "7233         1\n",
       "Name: TransactionAmount (INR), Length: 17382, dtype: int64"
      ]
     },
     "execution_count": 11,
     "metadata": {},
     "output_type": "execute_result"
    }
   ],
   "source": [
    "bank['TransactionAmount (INR)'] = bank['TransactionAmount (INR)'].astype(int)\n",
    "bank['TransactionAmount (INR)'].value_counts()"
   ]
  },
  {
   "cell_type": "markdown",
   "id": "a70194df-1431-42c2-81a7-a74ca85fa97a",
   "metadata": {
    "cell_id": "81ace0804b8a41fbbdc7450d6901f5b7",
    "deepnote_cell_type": "markdown",
    "tags": []
   },
   "source": [
    "  "
   ]
  },
  {
   "cell_type": "markdown",
   "id": "f225a07f-bd0f-44a0-aa79-b2f04baa4ea7",
   "metadata": {
    "cell_id": "254399471b7543359ca7b3ce259e3538",
    "deepnote_cell_type": "markdown"
   },
   "source": [
    " It is time to create a new dataset containing only the columns we need, we use those columns that are present in the query."
   ]
  },
  {
   "cell_type": "code",
   "execution_count": 12,
   "id": "0f520d94-9cd2-4013-9ff1-75a74b384772",
   "metadata": {
    "cell_id": "cefca68977744fe891e7203340ef7998",
    "deepnote_cell_type": "code",
    "deepnote_to_be_reexecuted": false,
    "execution_millis": 37,
    "execution_start": 1670777506103,
    "source_hash": "d62bf5bf"
   },
   "outputs": [
    {
     "data": {
      "application/vnd.deepnote.dataframe.v3+json": {
       "column_count": 7,
       "columns": [
        {
         "dtype": "datetime64[ns]",
         "name": "CustomerDOB",
         "stats": {
          "histogram": [
           {
            "bin_end": -277076160000000000,
            "bin_start": -402192000000000000,
            "count": 1
           },
           {
            "bin_end": -151960320000000000,
            "bin_start": -277076160000000000,
            "count": 0
           },
           {
            "bin_end": -26844480000000000,
            "bin_start": -151960320000000000,
            "count": 0
           },
           {
            "bin_end": 98271360000000000,
            "bin_start": -26844480000000000,
            "count": 0
           },
           {
            "bin_end": 223387200000000000,
            "bin_start": 98271360000000000,
            "count": 1
           },
           {
            "bin_end": 348503040000000000,
            "bin_start": 223387200000000000,
            "count": 0
           },
           {
            "bin_end": 473618880000000000,
            "bin_start": 348503040000000000,
            "count": 0
           },
           {
            "bin_end": 598734720000000000,
            "bin_start": 473618880000000000,
            "count": 1
           },
           {
            "bin_end": 723850560000000000,
            "bin_start": 598734720000000000,
            "count": 0
           },
           {
            "bin_end": 848966400000000000,
            "bin_start": 723850560000000000,
            "count": 2
           }
          ],
          "max": "1996-11-26 00:00:00",
          "min": "1957-04-04 00:00:00",
          "nan_count": 0,
          "unique_count": 5
         }
        },
        {
         "dtype": "object",
         "name": "CustGender",
         "stats": {
          "categories": [
           {
            "count": 4,
            "name": "F"
           },
           {
            "count": 1,
            "name": "M"
           }
          ],
          "nan_count": 0,
          "unique_count": 2
         }
        },
        {
         "dtype": "object",
         "name": "CustLocation",
         "stats": {
          "categories": [
           {
            "count": 2,
            "name": "MUMBAI"
           },
           {
            "count": 1,
            "name": "JAMSHEDPUR"
           },
           {
            "count": 2,
            "name": "2 others"
           }
          ],
          "nan_count": 0,
          "unique_count": 4
         }
        },
        {
         "dtype": "float64",
         "name": "CustAccountBalance",
         "stats": {
          "histogram": [
           {
            "bin_end": 88693.94200000001,
            "bin_start": 2270.69,
            "count": 4
           },
           {
            "bin_end": 175117.19400000002,
            "bin_start": 88693.94200000001,
            "count": 0
           },
           {
            "bin_end": 261540.44600000003,
            "bin_start": 175117.19400000002,
            "count": 0
           },
           {
            "bin_end": 347963.69800000003,
            "bin_start": 261540.44600000003,
            "count": 0
           },
           {
            "bin_end": 434386.95,
            "bin_start": 347963.69800000003,
            "count": 0
           },
           {
            "bin_end": 520810.20200000005,
            "bin_start": 434386.95,
            "count": 0
           },
           {
            "bin_end": 607233.454,
            "bin_start": 520810.20200000005,
            "count": 0
           },
           {
            "bin_end": 693656.706,
            "bin_start": 607233.454,
            "count": 0
           },
           {
            "bin_end": 780079.958,
            "bin_start": 693656.706,
            "count": 0
           },
           {
            "bin_end": 866503.21,
            "bin_start": 780079.958,
            "count": 1
           }
          ],
          "max": "866503.21",
          "min": "2270.69",
          "nan_count": 0,
          "unique_count": 5
         }
        },
        {
         "dtype": "datetime64[ns]",
         "name": "TransactionDate",
         "stats": {
          "histogram": null,
          "max": "2016-02-08 00:00:00",
          "min": "2016-02-08 00:00:00",
          "nan_count": 0,
          "unique_count": 1
         }
        },
        {
         "dtype": "int64",
         "name": "TransactionTime",
         "stats": {
          "histogram": [
           {
            "bin_end": 145787.8,
            "bin_start": 141858,
            "count": 4
           },
           {
            "bin_end": 149717.6,
            "bin_start": 145787.8,
            "count": 0
           },
           {
            "bin_end": 153647.4,
            "bin_start": 149717.6,
            "count": 0
           },
           {
            "bin_end": 157577.2,
            "bin_start": 153647.4,
            "count": 0
           },
           {
            "bin_end": 161507,
            "bin_start": 157577.2,
            "count": 0
           },
           {
            "bin_end": 165436.8,
            "bin_start": 161507,
            "count": 0
           },
           {
            "bin_end": 169366.6,
            "bin_start": 165436.8,
            "count": 0
           },
           {
            "bin_end": 173296.4,
            "bin_start": 169366.6,
            "count": 0
           },
           {
            "bin_end": 177226.2,
            "bin_start": 173296.4,
            "count": 0
           },
           {
            "bin_end": 181156,
            "bin_start": 177226.2,
            "count": 1
           }
          ],
          "max": "181156",
          "min": "141858",
          "nan_count": 0,
          "unique_count": 5
         }
        },
        {
         "dtype": "int64",
         "name": "TransactionAmount (INR)",
         "stats": {
          "histogram": [
           {
            "bin_end": 2822.4,
            "bin_start": 25,
            "count": 4
           },
           {
            "bin_end": 5619.8,
            "bin_start": 2822.4,
            "count": 0
           },
           {
            "bin_end": 8417.2,
            "bin_start": 5619.8,
            "count": 0
           },
           {
            "bin_end": 11214.6,
            "bin_start": 8417.2,
            "count": 0
           },
           {
            "bin_end": 14012,
            "bin_start": 11214.6,
            "count": 0
           },
           {
            "bin_end": 16809.4,
            "bin_start": 14012,
            "count": 0
           },
           {
            "bin_end": 19606.8,
            "bin_start": 16809.4,
            "count": 0
           },
           {
            "bin_end": 22404.2,
            "bin_start": 19606.8,
            "count": 0
           },
           {
            "bin_end": 25201.600000000002,
            "bin_start": 22404.2,
            "count": 0
           },
           {
            "bin_end": 27999,
            "bin_start": 25201.600000000002,
            "count": 1
           }
          ],
          "max": "27999",
          "min": "25",
          "nan_count": 0,
          "unique_count": 5
         }
        },
        {
         "dtype": "int64",
         "name": "_deepnote_index_column"
        }
       ],
       "row_count": 5,
       "rows": [
        {
         "CustAccountBalance": "17819.05",
         "CustGender": "F",
         "CustLocation": "JAMSHEDPUR",
         "CustomerDOB": "1994-10-01 00:00:00",
         "TransactionAmount (INR)": "25",
         "TransactionDate": "2016-02-08 00:00:00",
         "TransactionTime": "143207",
         "_deepnote_index_column": "0"
        },
        {
         "CustAccountBalance": "2270.69",
         "CustGender": "M",
         "CustLocation": "JHAJJAR",
         "CustomerDOB": "1957-04-04 00:00:00",
         "TransactionAmount (INR)": "27999",
         "TransactionDate": "2016-02-08 00:00:00",
         "TransactionTime": "141858",
         "_deepnote_index_column": "1"
        },
        {
         "CustAccountBalance": "17874.44",
         "CustGender": "F",
         "CustLocation": "MUMBAI",
         "CustomerDOB": "1996-11-26 00:00:00",
         "TransactionAmount (INR)": "459",
         "TransactionDate": "2016-02-08 00:00:00",
         "TransactionTime": "142712",
         "_deepnote_index_column": "2"
        },
        {
         "CustAccountBalance": "866503.21",
         "CustGender": "F",
         "CustLocation": "MUMBAI",
         "CustomerDOB": "1973-09-14 00:00:00",
         "TransactionAmount (INR)": "2060",
         "TransactionDate": "2016-02-08 00:00:00",
         "TransactionTime": "142714",
         "_deepnote_index_column": "3"
        },
        {
         "CustAccountBalance": "6714.43",
         "CustGender": "F",
         "CustLocation": "NAVI MUMBAI",
         "CustomerDOB": "1988-03-24 00:00:00",
         "TransactionAmount (INR)": "1762",
         "TransactionDate": "2016-02-08 00:00:00",
         "TransactionTime": "181156",
         "_deepnote_index_column": "4"
        }
       ]
      },
      "text/html": [
       "<div>\n",
       "<style scoped>\n",
       "    .dataframe tbody tr th:only-of-type {\n",
       "        vertical-align: middle;\n",
       "    }\n",
       "\n",
       "    .dataframe tbody tr th {\n",
       "        vertical-align: top;\n",
       "    }\n",
       "\n",
       "    .dataframe thead th {\n",
       "        text-align: right;\n",
       "    }\n",
       "</style>\n",
       "<table border=\"1\" class=\"dataframe\">\n",
       "  <thead>\n",
       "    <tr style=\"text-align: right;\">\n",
       "      <th></th>\n",
       "      <th>CustomerDOB</th>\n",
       "      <th>CustGender</th>\n",
       "      <th>CustLocation</th>\n",
       "      <th>CustAccountBalance</th>\n",
       "      <th>TransactionDate</th>\n",
       "      <th>TransactionTime</th>\n",
       "      <th>TransactionAmount (INR)</th>\n",
       "    </tr>\n",
       "  </thead>\n",
       "  <tbody>\n",
       "    <tr>\n",
       "      <th>0</th>\n",
       "      <td>1994-10-01</td>\n",
       "      <td>F</td>\n",
       "      <td>JAMSHEDPUR</td>\n",
       "      <td>17819.05</td>\n",
       "      <td>2016-02-08</td>\n",
       "      <td>143207</td>\n",
       "      <td>25</td>\n",
       "    </tr>\n",
       "    <tr>\n",
       "      <th>1</th>\n",
       "      <td>1957-04-04</td>\n",
       "      <td>M</td>\n",
       "      <td>JHAJJAR</td>\n",
       "      <td>2270.69</td>\n",
       "      <td>2016-02-08</td>\n",
       "      <td>141858</td>\n",
       "      <td>27999</td>\n",
       "    </tr>\n",
       "    <tr>\n",
       "      <th>2</th>\n",
       "      <td>1996-11-26</td>\n",
       "      <td>F</td>\n",
       "      <td>MUMBAI</td>\n",
       "      <td>17874.44</td>\n",
       "      <td>2016-02-08</td>\n",
       "      <td>142712</td>\n",
       "      <td>459</td>\n",
       "    </tr>\n",
       "    <tr>\n",
       "      <th>3</th>\n",
       "      <td>1973-09-14</td>\n",
       "      <td>F</td>\n",
       "      <td>MUMBAI</td>\n",
       "      <td>866503.21</td>\n",
       "      <td>2016-02-08</td>\n",
       "      <td>142714</td>\n",
       "      <td>2060</td>\n",
       "    </tr>\n",
       "    <tr>\n",
       "      <th>4</th>\n",
       "      <td>1988-03-24</td>\n",
       "      <td>F</td>\n",
       "      <td>NAVI MUMBAI</td>\n",
       "      <td>6714.43</td>\n",
       "      <td>2016-02-08</td>\n",
       "      <td>181156</td>\n",
       "      <td>1762</td>\n",
       "    </tr>\n",
       "  </tbody>\n",
       "</table>\n",
       "</div>"
      ],
      "text/plain": [
       "  CustomerDOB CustGender CustLocation  CustAccountBalance TransactionDate  \\\n",
       "0  1994-10-01          F   JAMSHEDPUR            17819.05      2016-02-08   \n",
       "1  1957-04-04          M      JHAJJAR             2270.69      2016-02-08   \n",
       "2  1996-11-26          F       MUMBAI            17874.44      2016-02-08   \n",
       "3  1973-09-14          F       MUMBAI           866503.21      2016-02-08   \n",
       "4  1988-03-24          F  NAVI MUMBAI             6714.43      2016-02-08   \n",
       "\n",
       "   TransactionTime  TransactionAmount (INR)  \n",
       "0           143207                       25  \n",
       "1           141858                    27999  \n",
       "2           142712                      459  \n",
       "3           142714                     2060  \n",
       "4           181156                     1762  "
      ]
     },
     "execution_count": 12,
     "metadata": {},
     "output_type": "execute_result"
    }
   ],
   "source": [
    "new_bank = bank[[\"CustomerDOB\",\"CustGender\",\"CustLocation\",\"CustAccountBalance\",\"TransactionDate\",\"TransactionTime\",\"TransactionAmount (INR)\"]]\n",
    "new_bank.reset_index(drop=True, inplace = True)\n",
    "new_bank.head()"
   ]
  },
  {
   "cell_type": "code",
   "execution_count": 13,
   "id": "37207d90-7094-48d4-b854-c9b0599f77f5",
   "metadata": {
    "cell_id": "f5210dada56b409cb9056b153c8aa5cf",
    "deepnote_cell_type": "code",
    "deepnote_to_be_reexecuted": false,
    "execution_millis": 30,
    "execution_start": 1670777506145,
    "source_hash": "6a2feff"
   },
   "outputs": [
    {
     "name": "stderr",
     "output_type": "stream",
     "text": [
      "/shared-libs/python3.9/py/lib/python3.9/site-packages/pandas/core/frame.py:4441: SettingWithCopyWarning: \n",
      "A value is trying to be set on a copy of a slice from a DataFrame\n",
      "\n",
      "See the caveats in the documentation: https://pandas.pydata.org/pandas-docs/stable/user_guide/indexing.html#returning-a-view-versus-a-copy\n",
      "  return super().rename(\n"
     ]
    },
    {
     "data": {
      "application/vnd.deepnote.dataframe.v3+json": {
       "column_count": 7,
       "columns": [
        {
         "dtype": "datetime64[ns]",
         "name": "CustomerDOB",
         "stats": {
          "histogram": [
           {
            "bin_end": -277076160000000000,
            "bin_start": -402192000000000000,
            "count": 1
           },
           {
            "bin_end": -151960320000000000,
            "bin_start": -277076160000000000,
            "count": 0
           },
           {
            "bin_end": -26844480000000000,
            "bin_start": -151960320000000000,
            "count": 1
           },
           {
            "bin_end": 98271360000000000,
            "bin_start": -26844480000000000,
            "count": 1
           },
           {
            "bin_end": 223387200000000000,
            "bin_start": 98271360000000000,
            "count": 1
           },
           {
            "bin_end": 348503040000000000,
            "bin_start": 223387200000000000,
            "count": 2
           },
           {
            "bin_end": 473618880000000000,
            "bin_start": 348503040000000000,
            "count": 3
           },
           {
            "bin_end": 598734720000000000,
            "bin_start": 473618880000000000,
            "count": 4
           },
           {
            "bin_end": 723850560000000000,
            "bin_start": 598734720000000000,
            "count": 4
           },
           {
            "bin_end": 848966400000000000,
            "bin_start": 723850560000000000,
            "count": 3
           }
          ],
          "max": "1996-11-26 00:00:00",
          "min": "1957-04-04 00:00:00",
          "nan_count": 0,
          "unique_count": 20
         }
        },
        {
         "dtype": "object",
         "name": "CustGender",
         "stats": {
          "categories": [
           {
            "count": 11,
            "name": "M"
           },
           {
            "count": 9,
            "name": "F"
           }
          ],
          "nan_count": 0,
          "unique_count": 2
         }
        },
        {
         "dtype": "object",
         "name": "CustLocation",
         "stats": {
          "categories": [
           {
            "count": 7,
            "name": "MUMBAI"
           },
           {
            "count": 2,
            "name": "PUNE"
           },
           {
            "count": 11,
            "name": "11 others"
           }
          ],
          "nan_count": 0,
          "unique_count": 13
         }
        },
        {
         "dtype": "float64",
         "name": "CustAccountBalance",
         "stats": {
          "histogram": [
           {
            "bin_end": 87526.43500000001,
            "bin_start": 973.46,
            "count": 18
           },
           {
            "bin_end": 174079.41,
            "bin_start": 87526.43500000001,
            "count": 1
           },
           {
            "bin_end": 260632.385,
            "bin_start": 174079.41,
            "count": 0
           },
           {
            "bin_end": 347185.36000000004,
            "bin_start": 260632.385,
            "count": 0
           },
           {
            "bin_end": 433738.335,
            "bin_start": 347185.36000000004,
            "count": 0
           },
           {
            "bin_end": 520291.31000000006,
            "bin_start": 433738.335,
            "count": 0
           },
           {
            "bin_end": 606844.285,
            "bin_start": 520291.31000000006,
            "count": 0
           },
           {
            "bin_end": 693397.26,
            "bin_start": 606844.285,
            "count": 0
           },
           {
            "bin_end": 779950.235,
            "bin_start": 693397.26,
            "count": 0
           },
           {
            "bin_end": 866503.21,
            "bin_start": 779950.235,
            "count": 1
           }
          ],
          "max": "866503.21",
          "min": "973.46",
          "nan_count": 0,
          "unique_count": 20
         }
        },
        {
         "dtype": "datetime64[ns]",
         "name": "TransactionDate",
         "stats": {
          "histogram": [
           {
            "bin_end": 1452479040000000000,
            "bin_start": 1452211200000000000,
            "count": 7
           },
           {
            "bin_end": 1452746880000000000,
            "bin_start": 1452479040000000000,
            "count": 0
           },
           {
            "bin_end": 1453014720000000000,
            "bin_start": 1452746880000000000,
            "count": 0
           },
           {
            "bin_end": 1453282560000000000,
            "bin_start": 1453014720000000000,
            "count": 0
           },
           {
            "bin_end": 1453550400000000000,
            "bin_start": 1453282560000000000,
            "count": 0
           },
           {
            "bin_end": 1453818240000000000,
            "bin_start": 1453550400000000000,
            "count": 0
           },
           {
            "bin_end": 1454086080000000000,
            "bin_start": 1453818240000000000,
            "count": 0
           },
           {
            "bin_end": 1454353920000000000,
            "bin_start": 1454086080000000000,
            "count": 0
           },
           {
            "bin_end": 1454621760000000000,
            "bin_start": 1454353920000000000,
            "count": 0
           },
           {
            "bin_end": 1454889600000000000,
            "bin_start": 1454621760000000000,
            "count": 13
           }
          ],
          "max": "2016-02-08 00:00:00",
          "min": "2016-01-08 00:00:00",
          "nan_count": 0,
          "unique_count": 2
         }
        },
        {
         "dtype": "int64",
         "name": "TransactionTime",
         "stats": {
          "histogram": [
           {
            "bin_end": 94538.5,
            "bin_start": 82253,
            "count": 2
           },
           {
            "bin_end": 106824,
            "bin_start": 94538.5,
            "count": 0
           },
           {
            "bin_end": 119109.5,
            "bin_start": 106824,
            "count": 0
           },
           {
            "bin_end": 131395,
            "bin_start": 119109.5,
            "count": 3
           },
           {
            "bin_end": 143680.5,
            "bin_start": 131395,
            "count": 4
           },
           {
            "bin_end": 155966,
            "bin_start": 143680.5,
            "count": 2
           },
           {
            "bin_end": 168251.5,
            "bin_start": 155966,
            "count": 0
           },
           {
            "bin_end": 180537,
            "bin_start": 168251.5,
            "count": 3
           },
           {
            "bin_end": 192822.5,
            "bin_start": 180537,
            "count": 2
           },
           {
            "bin_end": 205108,
            "bin_start": 192822.5,
            "count": 4
           }
          ],
          "max": "205108",
          "min": "82253",
          "nan_count": 0,
          "unique_count": 20
         }
        },
        {
         "dtype": "int64",
         "name": "TransactionAmount_INR",
         "stats": {
          "histogram": [
           {
            "bin_end": 2822.4,
            "bin_start": 25,
            "count": 18
           },
           {
            "bin_end": 5619.8,
            "bin_start": 2822.4,
            "count": 0
           },
           {
            "bin_end": 8417.2,
            "bin_start": 5619.8,
            "count": 0
           },
           {
            "bin_end": 11214.6,
            "bin_start": 8417.2,
            "count": 0
           },
           {
            "bin_end": 14012,
            "bin_start": 11214.6,
            "count": 1
           },
           {
            "bin_end": 16809.4,
            "bin_start": 14012,
            "count": 0
           },
           {
            "bin_end": 19606.8,
            "bin_start": 16809.4,
            "count": 0
           },
           {
            "bin_end": 22404.2,
            "bin_start": 19606.8,
            "count": 0
           },
           {
            "bin_end": 25201.600000000002,
            "bin_start": 22404.2,
            "count": 0
           },
           {
            "bin_end": 27999,
            "bin_start": 25201.600000000002,
            "count": 1
           }
          ],
          "max": "27999",
          "min": "25",
          "nan_count": 0,
          "unique_count": 20
         }
        },
        {
         "dtype": "int64",
         "name": "_deepnote_index_column"
        }
       ],
       "row_count": 20,
       "rows": [
        {
         "CustAccountBalance": "17819.05",
         "CustGender": "F",
         "CustLocation": "JAMSHEDPUR",
         "CustomerDOB": "1994-10-01 00:00:00",
         "TransactionAmount_INR": "25",
         "TransactionDate": "2016-02-08 00:00:00",
         "TransactionTime": "143207",
         "_deepnote_index_column": "0"
        },
        {
         "CustAccountBalance": "2270.69",
         "CustGender": "M",
         "CustLocation": "JHAJJAR",
         "CustomerDOB": "1957-04-04 00:00:00",
         "TransactionAmount_INR": "27999",
         "TransactionDate": "2016-02-08 00:00:00",
         "TransactionTime": "141858",
         "_deepnote_index_column": "1"
        },
        {
         "CustAccountBalance": "17874.44",
         "CustGender": "F",
         "CustLocation": "MUMBAI",
         "CustomerDOB": "1996-11-26 00:00:00",
         "TransactionAmount_INR": "459",
         "TransactionDate": "2016-02-08 00:00:00",
         "TransactionTime": "142712",
         "_deepnote_index_column": "2"
        },
        {
         "CustAccountBalance": "866503.21",
         "CustGender": "F",
         "CustLocation": "MUMBAI",
         "CustomerDOB": "1973-09-14 00:00:00",
         "TransactionAmount_INR": "2060",
         "TransactionDate": "2016-02-08 00:00:00",
         "TransactionTime": "142714",
         "_deepnote_index_column": "3"
        },
        {
         "CustAccountBalance": "6714.43",
         "CustGender": "F",
         "CustLocation": "NAVI MUMBAI",
         "CustomerDOB": "1988-03-24 00:00:00",
         "TransactionAmount_INR": "1762",
         "TransactionDate": "2016-02-08 00:00:00",
         "TransactionTime": "181156",
         "_deepnote_index_column": "4"
        },
        {
         "CustAccountBalance": "53609.2",
         "CustGender": "F",
         "CustLocation": "ITANAGAR",
         "CustomerDOB": "1972-08-10 00:00:00",
         "TransactionAmount_INR": "676",
         "TransactionDate": "2016-02-08 00:00:00",
         "TransactionTime": "173940",
         "_deepnote_index_column": "5"
        },
        {
         "CustAccountBalance": "973.46",
         "CustGender": "F",
         "CustLocation": "MUMBAI",
         "CustomerDOB": "1992-01-26 00:00:00",
         "TransactionAmount_INR": "566",
         "TransactionDate": "2016-02-08 00:00:00",
         "TransactionTime": "173806",
         "_deepnote_index_column": "6"
        },
        {
         "CustAccountBalance": "95075.54",
         "CustGender": "M",
         "CustLocation": "MUMBAI",
         "CustomerDOB": "1982-01-27 00:00:00",
         "TransactionAmount_INR": "148",
         "TransactionDate": "2016-02-08 00:00:00",
         "TransactionTime": "170537",
         "_deepnote_index_column": "7"
        },
        {
         "CustAccountBalance": "14906.96",
         "CustGender": "F",
         "CustLocation": "GURGAON",
         "CustomerDOB": "1988-04-19 00:00:00",
         "TransactionAmount_INR": "833",
         "TransactionDate": "2016-02-08 00:00:00",
         "TransactionTime": "192825",
         "_deepnote_index_column": "8"
        },
        {
         "CustAccountBalance": "4279.22",
         "CustGender": "M",
         "CustLocation": "MUMBAI",
         "CustomerDOB": "1984-06-22 00:00:00",
         "TransactionAmount_INR": "289",
         "TransactionDate": "2016-02-08 00:00:00",
         "TransactionTime": "192446",
         "_deepnote_index_column": "9"
        }
       ]
      },
      "text/html": [
       "<div>\n",
       "<style scoped>\n",
       "    .dataframe tbody tr th:only-of-type {\n",
       "        vertical-align: middle;\n",
       "    }\n",
       "\n",
       "    .dataframe tbody tr th {\n",
       "        vertical-align: top;\n",
       "    }\n",
       "\n",
       "    .dataframe thead th {\n",
       "        text-align: right;\n",
       "    }\n",
       "</style>\n",
       "<table border=\"1\" class=\"dataframe\">\n",
       "  <thead>\n",
       "    <tr style=\"text-align: right;\">\n",
       "      <th></th>\n",
       "      <th>CustomerDOB</th>\n",
       "      <th>CustGender</th>\n",
       "      <th>CustLocation</th>\n",
       "      <th>CustAccountBalance</th>\n",
       "      <th>TransactionDate</th>\n",
       "      <th>TransactionTime</th>\n",
       "      <th>TransactionAmount_INR</th>\n",
       "    </tr>\n",
       "  </thead>\n",
       "  <tbody>\n",
       "    <tr>\n",
       "      <th>0</th>\n",
       "      <td>1994-10-01</td>\n",
       "      <td>F</td>\n",
       "      <td>JAMSHEDPUR</td>\n",
       "      <td>17819.05</td>\n",
       "      <td>2016-02-08</td>\n",
       "      <td>143207</td>\n",
       "      <td>25</td>\n",
       "    </tr>\n",
       "    <tr>\n",
       "      <th>1</th>\n",
       "      <td>1957-04-04</td>\n",
       "      <td>M</td>\n",
       "      <td>JHAJJAR</td>\n",
       "      <td>2270.69</td>\n",
       "      <td>2016-02-08</td>\n",
       "      <td>141858</td>\n",
       "      <td>27999</td>\n",
       "    </tr>\n",
       "    <tr>\n",
       "      <th>2</th>\n",
       "      <td>1996-11-26</td>\n",
       "      <td>F</td>\n",
       "      <td>MUMBAI</td>\n",
       "      <td>17874.44</td>\n",
       "      <td>2016-02-08</td>\n",
       "      <td>142712</td>\n",
       "      <td>459</td>\n",
       "    </tr>\n",
       "    <tr>\n",
       "      <th>3</th>\n",
       "      <td>1973-09-14</td>\n",
       "      <td>F</td>\n",
       "      <td>MUMBAI</td>\n",
       "      <td>866503.21</td>\n",
       "      <td>2016-02-08</td>\n",
       "      <td>142714</td>\n",
       "      <td>2060</td>\n",
       "    </tr>\n",
       "    <tr>\n",
       "      <th>4</th>\n",
       "      <td>1988-03-24</td>\n",
       "      <td>F</td>\n",
       "      <td>NAVI MUMBAI</td>\n",
       "      <td>6714.43</td>\n",
       "      <td>2016-02-08</td>\n",
       "      <td>181156</td>\n",
       "      <td>1762</td>\n",
       "    </tr>\n",
       "    <tr>\n",
       "      <th>5</th>\n",
       "      <td>1972-08-10</td>\n",
       "      <td>F</td>\n",
       "      <td>ITANAGAR</td>\n",
       "      <td>53609.20</td>\n",
       "      <td>2016-02-08</td>\n",
       "      <td>173940</td>\n",
       "      <td>676</td>\n",
       "    </tr>\n",
       "    <tr>\n",
       "      <th>6</th>\n",
       "      <td>1992-01-26</td>\n",
       "      <td>F</td>\n",
       "      <td>MUMBAI</td>\n",
       "      <td>973.46</td>\n",
       "      <td>2016-02-08</td>\n",
       "      <td>173806</td>\n",
       "      <td>566</td>\n",
       "    </tr>\n",
       "    <tr>\n",
       "      <th>7</th>\n",
       "      <td>1982-01-27</td>\n",
       "      <td>M</td>\n",
       "      <td>MUMBAI</td>\n",
       "      <td>95075.54</td>\n",
       "      <td>2016-02-08</td>\n",
       "      <td>170537</td>\n",
       "      <td>148</td>\n",
       "    </tr>\n",
       "    <tr>\n",
       "      <th>8</th>\n",
       "      <td>1988-04-19</td>\n",
       "      <td>F</td>\n",
       "      <td>GURGAON</td>\n",
       "      <td>14906.96</td>\n",
       "      <td>2016-02-08</td>\n",
       "      <td>192825</td>\n",
       "      <td>833</td>\n",
       "    </tr>\n",
       "    <tr>\n",
       "      <th>9</th>\n",
       "      <td>1984-06-22</td>\n",
       "      <td>M</td>\n",
       "      <td>MUMBAI</td>\n",
       "      <td>4279.22</td>\n",
       "      <td>2016-02-08</td>\n",
       "      <td>192446</td>\n",
       "      <td>289</td>\n",
       "    </tr>\n",
       "    <tr>\n",
       "      <th>10</th>\n",
       "      <td>1982-07-22</td>\n",
       "      <td>M</td>\n",
       "      <td>MOHALI</td>\n",
       "      <td>48429.49</td>\n",
       "      <td>2016-02-08</td>\n",
       "      <td>204133</td>\n",
       "      <td>259</td>\n",
       "    </tr>\n",
       "    <tr>\n",
       "      <th>11</th>\n",
       "      <td>1988-07-07</td>\n",
       "      <td>M</td>\n",
       "      <td>GUNTUR</td>\n",
       "      <td>14613.46</td>\n",
       "      <td>2016-02-08</td>\n",
       "      <td>205108</td>\n",
       "      <td>202</td>\n",
       "    </tr>\n",
       "    <tr>\n",
       "      <th>12</th>\n",
       "      <td>1978-06-13</td>\n",
       "      <td>M</td>\n",
       "      <td>AHMEDABAD</td>\n",
       "      <td>32274.78</td>\n",
       "      <td>2016-02-08</td>\n",
       "      <td>203834</td>\n",
       "      <td>12300</td>\n",
       "    </tr>\n",
       "    <tr>\n",
       "      <th>13</th>\n",
       "      <td>1992-05-01</td>\n",
       "      <td>F</td>\n",
       "      <td>THANE</td>\n",
       "      <td>59950.44</td>\n",
       "      <td>2016-01-08</td>\n",
       "      <td>84706</td>\n",
       "      <td>50</td>\n",
       "    </tr>\n",
       "    <tr>\n",
       "      <th>14</th>\n",
       "      <td>1978-03-24</td>\n",
       "      <td>M</td>\n",
       "      <td>PUNE</td>\n",
       "      <td>10100.84</td>\n",
       "      <td>2016-01-08</td>\n",
       "      <td>82253</td>\n",
       "      <td>338</td>\n",
       "    </tr>\n",
       "    <tr>\n",
       "      <th>15</th>\n",
       "      <td>1968-10-07</td>\n",
       "      <td>F</td>\n",
       "      <td>NEW DELHI</td>\n",
       "      <td>1283.12</td>\n",
       "      <td>2016-01-08</td>\n",
       "      <td>125725</td>\n",
       "      <td>250</td>\n",
       "    </tr>\n",
       "    <tr>\n",
       "      <th>16</th>\n",
       "      <td>1989-07-16</td>\n",
       "      <td>M</td>\n",
       "      <td>MUMBAI</td>\n",
       "      <td>2177.85</td>\n",
       "      <td>2016-01-08</td>\n",
       "      <td>124734</td>\n",
       "      <td>54</td>\n",
       "    </tr>\n",
       "    <tr>\n",
       "      <th>17</th>\n",
       "      <td>1991-11-01</td>\n",
       "      <td>M</td>\n",
       "      <td>MUMBAI</td>\n",
       "      <td>32816.17</td>\n",
       "      <td>2016-01-08</td>\n",
       "      <td>122135</td>\n",
       "      <td>315</td>\n",
       "    </tr>\n",
       "    <tr>\n",
       "      <th>18</th>\n",
       "      <td>1985-06-24</td>\n",
       "      <td>M</td>\n",
       "      <td>PUNE</td>\n",
       "      <td>10643.50</td>\n",
       "      <td>2016-01-08</td>\n",
       "      <td>152821</td>\n",
       "      <td>945</td>\n",
       "    </tr>\n",
       "    <tr>\n",
       "      <th>19</th>\n",
       "      <td>1993-04-20</td>\n",
       "      <td>M</td>\n",
       "      <td>NO 3 KALYANI NAGAR PUNE</td>\n",
       "      <td>2934.22</td>\n",
       "      <td>2016-01-08</td>\n",
       "      <td>152824</td>\n",
       "      <td>36</td>\n",
       "    </tr>\n",
       "  </tbody>\n",
       "</table>\n",
       "</div>"
      ],
      "text/plain": [
       "   CustomerDOB CustGender             CustLocation  CustAccountBalance  \\\n",
       "0   1994-10-01          F               JAMSHEDPUR            17819.05   \n",
       "1   1957-04-04          M                  JHAJJAR             2270.69   \n",
       "2   1996-11-26          F                   MUMBAI            17874.44   \n",
       "3   1973-09-14          F                   MUMBAI           866503.21   \n",
       "4   1988-03-24          F              NAVI MUMBAI             6714.43   \n",
       "5   1972-08-10          F                 ITANAGAR            53609.20   \n",
       "6   1992-01-26          F                   MUMBAI              973.46   \n",
       "7   1982-01-27          M                   MUMBAI            95075.54   \n",
       "8   1988-04-19          F                  GURGAON            14906.96   \n",
       "9   1984-06-22          M                   MUMBAI             4279.22   \n",
       "10  1982-07-22          M                   MOHALI            48429.49   \n",
       "11  1988-07-07          M                   GUNTUR            14613.46   \n",
       "12  1978-06-13          M                AHMEDABAD            32274.78   \n",
       "13  1992-05-01          F                    THANE            59950.44   \n",
       "14  1978-03-24          M                     PUNE            10100.84   \n",
       "15  1968-10-07          F                NEW DELHI             1283.12   \n",
       "16  1989-07-16          M                   MUMBAI             2177.85   \n",
       "17  1991-11-01          M                   MUMBAI            32816.17   \n",
       "18  1985-06-24          M                     PUNE            10643.50   \n",
       "19  1993-04-20          M  NO 3 KALYANI NAGAR PUNE             2934.22   \n",
       "\n",
       "   TransactionDate  TransactionTime  TransactionAmount_INR  \n",
       "0       2016-02-08           143207                     25  \n",
       "1       2016-02-08           141858                  27999  \n",
       "2       2016-02-08           142712                    459  \n",
       "3       2016-02-08           142714                   2060  \n",
       "4       2016-02-08           181156                   1762  \n",
       "5       2016-02-08           173940                    676  \n",
       "6       2016-02-08           173806                    566  \n",
       "7       2016-02-08           170537                    148  \n",
       "8       2016-02-08           192825                    833  \n",
       "9       2016-02-08           192446                    289  \n",
       "10      2016-02-08           204133                    259  \n",
       "11      2016-02-08           205108                    202  \n",
       "12      2016-02-08           203834                  12300  \n",
       "13      2016-01-08            84706                     50  \n",
       "14      2016-01-08            82253                    338  \n",
       "15      2016-01-08           125725                    250  \n",
       "16      2016-01-08           124734                     54  \n",
       "17      2016-01-08           122135                    315  \n",
       "18      2016-01-08           152821                    945  \n",
       "19      2016-01-08           152824                     36  "
      ]
     },
     "execution_count": 13,
     "metadata": {},
     "output_type": "execute_result"
    }
   ],
   "source": [
    "new_bank.rename(columns = {\"TransactionAmount (INR)\":\"TransactionAmount_INR\"}, inplace = True)\n",
    "new_bank.head(20)"
   ]
  },
  {
   "cell_type": "code",
   "execution_count": 14,
   "id": "98b3356e-60cb-401c-8974-714cbc370d26",
   "metadata": {
    "cell_id": "90d7495d5cad4e7baa5d7105a4b0a8d2",
    "deepnote_cell_type": "code",
    "deepnote_to_be_reexecuted": false,
    "execution_millis": 110,
    "execution_start": 1670777506176,
    "source_hash": "c402772c"
   },
   "outputs": [
    {
     "data": {
      "text/plain": [
       "CustomerDOB              0\n",
       "CustGender               0\n",
       "CustLocation             0\n",
       "CustAccountBalance       0\n",
       "TransactionDate          0\n",
       "TransactionTime          0\n",
       "TransactionAmount_INR    0\n",
       "dtype: int64"
      ]
     },
     "execution_count": 14,
     "metadata": {},
     "output_type": "execute_result"
    }
   ],
   "source": [
    "new_bank.isna().sum()"
   ]
  },
  {
   "cell_type": "code",
   "execution_count": 15,
   "id": "fda10baa-160c-42f6-b4d7-0a4559de9980",
   "metadata": {
    "cell_id": "a68608bd1a0841079fde79335ed6ace5",
    "deepnote_cell_type": "code",
    "deepnote_to_be_reexecuted": false,
    "execution_millis": 12690,
    "execution_start": 1670777506285,
    "source_hash": "672fba64",
    "tags": []
   },
   "outputs": [],
   "source": [
    "new_bank.to_csv('bank_clean.csv', index=False)"
   ]
  },
  {
   "cell_type": "markdown",
   "id": "6c3e0393-836f-4219-bffb-fc6c45b17c0a",
   "metadata": {
    "cell_id": "5d47b648068b475fbc8a999ca3d114a1",
    "deepnote_cell_type": "markdown"
   },
   "source": [
    "# 1.2 fingerprint hashing"
   ]
  },
  {
   "cell_type": "markdown",
   "id": "7f586c53-4d15-456c-8851-0b57adb9b59f",
   "metadata": {
    "cell_id": "414f4eeb28294065a603802c0b70b7b9",
    "deepnote_cell_type": "markdown"
   },
   "source": [
    "  "
   ]
  },
  {
   "cell_type": "code",
   "execution_count": 16,
   "id": "21232699-168a-44d2-a732-e3120e547b8b",
   "metadata": {
    "cell_id": "7b460264250c472fb34fb0705de19ed1",
    "deepnote_cell_type": "code",
    "deepnote_to_be_reexecuted": false,
    "execution_millis": 1084,
    "execution_start": 1670777518976,
    "source_hash": "4cf1998c",
    "tags": []
   },
   "outputs": [],
   "source": [
    "new_bank = pd.read_csv('bank_clean.csv', parse_dates=['TransactionDate', 'CustomerDOB'])"
   ]
  },
  {
   "cell_type": "code",
   "execution_count": 17,
   "id": "e5d7fe4b-ef75-4806-839c-53294a22ba13",
   "metadata": {
    "cell_id": "b67b9a1260364fcabc638127b8fdbe47",
    "deepnote_cell_type": "code",
    "deepnote_table_loading": false,
    "deepnote_table_state": {
     "filters": [],
     "pageIndex": 11,
     "pageSize": 10,
     "sortBy": []
    },
    "deepnote_to_be_reexecuted": false,
    "execution_millis": 43,
    "execution_start": 1670777520066,
    "source_hash": "db14b57e"
   },
   "outputs": [
    {
     "data": {
      "application/vnd.deepnote.dataframe.v3+json": {
       "column_count": 7,
       "columns": [
        {
         "dtype": "int64",
         "name": "CustomerDOB",
         "stats": {
          "histogram": [
           {
            "bin_end": -277076160000000000,
            "bin_start": -402192000000000000,
            "count": 1
           },
           {
            "bin_end": -151960320000000000,
            "bin_start": -277076160000000000,
            "count": 0
           },
           {
            "bin_end": -26844480000000000,
            "bin_start": -151960320000000000,
            "count": 0
           },
           {
            "bin_end": 98271360000000000,
            "bin_start": -26844480000000000,
            "count": 0
           },
           {
            "bin_end": 223387200000000000,
            "bin_start": 98271360000000000,
            "count": 1
           },
           {
            "bin_end": 348503040000000000,
            "bin_start": 223387200000000000,
            "count": 0
           },
           {
            "bin_end": 473618880000000000,
            "bin_start": 348503040000000000,
            "count": 0
           },
           {
            "bin_end": 598734720000000000,
            "bin_start": 473618880000000000,
            "count": 1
           },
           {
            "bin_end": 723850560000000000,
            "bin_start": 598734720000000000,
            "count": 0
           },
           {
            "bin_end": 848966400000000000,
            "bin_start": 723850560000000000,
            "count": 2
           }
          ],
          "max": "848966400000000000",
          "min": "-402192000000000000",
          "nan_count": 0,
          "unique_count": 5
         }
        },
        {
         "dtype": "object",
         "name": "CustGender",
         "stats": {
          "categories": [
           {
            "count": 4,
            "name": "F"
           },
           {
            "count": 1,
            "name": "M"
           }
          ],
          "nan_count": 0,
          "unique_count": 2
         }
        },
        {
         "dtype": "object",
         "name": "CustLocation",
         "stats": {
          "categories": [
           {
            "count": 2,
            "name": "MUMBAI"
           },
           {
            "count": 1,
            "name": "JAMSHEDPUR"
           },
           {
            "count": 2,
            "name": "2 others"
           }
          ],
          "nan_count": 0,
          "unique_count": 4
         }
        },
        {
         "dtype": "float64",
         "name": "CustAccountBalance",
         "stats": {
          "histogram": [
           {
            "bin_end": 88693.94200000001,
            "bin_start": 2270.69,
            "count": 4
           },
           {
            "bin_end": 175117.19400000002,
            "bin_start": 88693.94200000001,
            "count": 0
           },
           {
            "bin_end": 261540.44600000003,
            "bin_start": 175117.19400000002,
            "count": 0
           },
           {
            "bin_end": 347963.69800000003,
            "bin_start": 261540.44600000003,
            "count": 0
           },
           {
            "bin_end": 434386.95,
            "bin_start": 347963.69800000003,
            "count": 0
           },
           {
            "bin_end": 520810.20200000005,
            "bin_start": 434386.95,
            "count": 0
           },
           {
            "bin_end": 607233.454,
            "bin_start": 520810.20200000005,
            "count": 0
           },
           {
            "bin_end": 693656.706,
            "bin_start": 607233.454,
            "count": 0
           },
           {
            "bin_end": 780079.958,
            "bin_start": 693656.706,
            "count": 0
           },
           {
            "bin_end": 866503.21,
            "bin_start": 780079.958,
            "count": 1
           }
          ],
          "max": "866503.21",
          "min": "2270.69",
          "nan_count": 0,
          "unique_count": 5
         }
        },
        {
         "dtype": "int64",
         "name": "TransactionDate",
         "stats": {
          "histogram": null,
          "max": "1454889600000000000",
          "min": "1454889600000000000",
          "nan_count": 0,
          "unique_count": 1
         }
        },
        {
         "dtype": "int64",
         "name": "TransactionTime",
         "stats": {
          "histogram": [
           {
            "bin_end": 145787.8,
            "bin_start": 141858,
            "count": 4
           },
           {
            "bin_end": 149717.6,
            "bin_start": 145787.8,
            "count": 0
           },
           {
            "bin_end": 153647.4,
            "bin_start": 149717.6,
            "count": 0
           },
           {
            "bin_end": 157577.2,
            "bin_start": 153647.4,
            "count": 0
           },
           {
            "bin_end": 161507,
            "bin_start": 157577.2,
            "count": 0
           },
           {
            "bin_end": 165436.8,
            "bin_start": 161507,
            "count": 0
           },
           {
            "bin_end": 169366.6,
            "bin_start": 165436.8,
            "count": 0
           },
           {
            "bin_end": 173296.4,
            "bin_start": 169366.6,
            "count": 0
           },
           {
            "bin_end": 177226.2,
            "bin_start": 173296.4,
            "count": 0
           },
           {
            "bin_end": 181156,
            "bin_start": 177226.2,
            "count": 1
           }
          ],
          "max": "181156",
          "min": "141858",
          "nan_count": 0,
          "unique_count": 5
         }
        },
        {
         "dtype": "int64",
         "name": "TransactionAmount_INR",
         "stats": {
          "histogram": [
           {
            "bin_end": 2822.4,
            "bin_start": 25,
            "count": 4
           },
           {
            "bin_end": 5619.8,
            "bin_start": 2822.4,
            "count": 0
           },
           {
            "bin_end": 8417.2,
            "bin_start": 5619.8,
            "count": 0
           },
           {
            "bin_end": 11214.6,
            "bin_start": 8417.2,
            "count": 0
           },
           {
            "bin_end": 14012,
            "bin_start": 11214.6,
            "count": 0
           },
           {
            "bin_end": 16809.4,
            "bin_start": 14012,
            "count": 0
           },
           {
            "bin_end": 19606.8,
            "bin_start": 16809.4,
            "count": 0
           },
           {
            "bin_end": 22404.2,
            "bin_start": 19606.8,
            "count": 0
           },
           {
            "bin_end": 25201.600000000002,
            "bin_start": 22404.2,
            "count": 0
           },
           {
            "bin_end": 27999,
            "bin_start": 25201.600000000002,
            "count": 1
           }
          ],
          "max": "27999",
          "min": "25",
          "nan_count": 0,
          "unique_count": 5
         }
        },
        {
         "dtype": "int64",
         "name": "_deepnote_index_column"
        }
       ],
       "row_count": 5,
       "rows": [
        {
         "CustAccountBalance": "17819.05",
         "CustGender": "F",
         "CustLocation": "JAMSHEDPUR",
         "CustomerDOB": "780969600000000000",
         "TransactionAmount_INR": "25",
         "TransactionDate": "1454889600000000000",
         "TransactionTime": "143207",
         "_deepnote_index_column": "0"
        },
        {
         "CustAccountBalance": "2270.69",
         "CustGender": "M",
         "CustLocation": "JHAJJAR",
         "CustomerDOB": "-402192000000000000",
         "TransactionAmount_INR": "27999",
         "TransactionDate": "1454889600000000000",
         "TransactionTime": "141858",
         "_deepnote_index_column": "1"
        },
        {
         "CustAccountBalance": "17874.44",
         "CustGender": "F",
         "CustLocation": "MUMBAI",
         "CustomerDOB": "848966400000000000",
         "TransactionAmount_INR": "459",
         "TransactionDate": "1454889600000000000",
         "TransactionTime": "142712",
         "_deepnote_index_column": "2"
        },
        {
         "CustAccountBalance": "866503.21",
         "CustGender": "F",
         "CustLocation": "MUMBAI",
         "CustomerDOB": "116812800000000000",
         "TransactionAmount_INR": "2060",
         "TransactionDate": "1454889600000000000",
         "TransactionTime": "142714",
         "_deepnote_index_column": "3"
        },
        {
         "CustAccountBalance": "6714.43",
         "CustGender": "F",
         "CustLocation": "NAVI MUMBAI",
         "CustomerDOB": "575164800000000000",
         "TransactionAmount_INR": "1762",
         "TransactionDate": "1454889600000000000",
         "TransactionTime": "181156",
         "_deepnote_index_column": "4"
        }
       ]
      },
      "text/html": [
       "<div>\n",
       "<style scoped>\n",
       "    .dataframe tbody tr th:only-of-type {\n",
       "        vertical-align: middle;\n",
       "    }\n",
       "\n",
       "    .dataframe tbody tr th {\n",
       "        vertical-align: top;\n",
       "    }\n",
       "\n",
       "    .dataframe thead th {\n",
       "        text-align: right;\n",
       "    }\n",
       "</style>\n",
       "<table border=\"1\" class=\"dataframe\">\n",
       "  <thead>\n",
       "    <tr style=\"text-align: right;\">\n",
       "      <th></th>\n",
       "      <th>CustomerDOB</th>\n",
       "      <th>CustGender</th>\n",
       "      <th>CustLocation</th>\n",
       "      <th>CustAccountBalance</th>\n",
       "      <th>TransactionDate</th>\n",
       "      <th>TransactionTime</th>\n",
       "      <th>TransactionAmount_INR</th>\n",
       "    </tr>\n",
       "  </thead>\n",
       "  <tbody>\n",
       "    <tr>\n",
       "      <th>0</th>\n",
       "      <td>780969600000000000</td>\n",
       "      <td>F</td>\n",
       "      <td>JAMSHEDPUR</td>\n",
       "      <td>17819.05</td>\n",
       "      <td>1454889600000000000</td>\n",
       "      <td>143207</td>\n",
       "      <td>25</td>\n",
       "    </tr>\n",
       "    <tr>\n",
       "      <th>1</th>\n",
       "      <td>-402192000000000000</td>\n",
       "      <td>M</td>\n",
       "      <td>JHAJJAR</td>\n",
       "      <td>2270.69</td>\n",
       "      <td>1454889600000000000</td>\n",
       "      <td>141858</td>\n",
       "      <td>27999</td>\n",
       "    </tr>\n",
       "    <tr>\n",
       "      <th>2</th>\n",
       "      <td>848966400000000000</td>\n",
       "      <td>F</td>\n",
       "      <td>MUMBAI</td>\n",
       "      <td>17874.44</td>\n",
       "      <td>1454889600000000000</td>\n",
       "      <td>142712</td>\n",
       "      <td>459</td>\n",
       "    </tr>\n",
       "    <tr>\n",
       "      <th>3</th>\n",
       "      <td>116812800000000000</td>\n",
       "      <td>F</td>\n",
       "      <td>MUMBAI</td>\n",
       "      <td>866503.21</td>\n",
       "      <td>1454889600000000000</td>\n",
       "      <td>142714</td>\n",
       "      <td>2060</td>\n",
       "    </tr>\n",
       "    <tr>\n",
       "      <th>4</th>\n",
       "      <td>575164800000000000</td>\n",
       "      <td>F</td>\n",
       "      <td>NAVI MUMBAI</td>\n",
       "      <td>6714.43</td>\n",
       "      <td>1454889600000000000</td>\n",
       "      <td>181156</td>\n",
       "      <td>1762</td>\n",
       "    </tr>\n",
       "  </tbody>\n",
       "</table>\n",
       "</div>"
      ],
      "text/plain": [
       "          CustomerDOB CustGender CustLocation  CustAccountBalance  \\\n",
       "0  780969600000000000          F   JAMSHEDPUR            17819.05   \n",
       "1 -402192000000000000          M      JHAJJAR             2270.69   \n",
       "2  848966400000000000          F       MUMBAI            17874.44   \n",
       "3  116812800000000000          F       MUMBAI           866503.21   \n",
       "4  575164800000000000          F  NAVI MUMBAI             6714.43   \n",
       "\n",
       "       TransactionDate  TransactionTime  TransactionAmount_INR  \n",
       "0  1454889600000000000           143207                     25  \n",
       "1  1454889600000000000           141858                  27999  \n",
       "2  1454889600000000000           142712                    459  \n",
       "3  1454889600000000000           142714                   2060  \n",
       "4  1454889600000000000           181156                   1762  "
      ]
     },
     "execution_count": 17,
     "metadata": {},
     "output_type": "execute_result"
    }
   ],
   "source": [
    "new_bank['CustomerDOB'] = new_bank['CustomerDOB'].astype(int)\n",
    "new_bank['TransactionDate'] = new_bank['TransactionDate'].astype(int)\n",
    "new_bank.head()"
   ]
  },
  {
   "cell_type": "markdown",
   "id": "3389f705-0b84-44d5-91a8-6bd46bc084fd",
   "metadata": {
    "cell_id": "685739cc29e14d7ba681811cfb6272e8",
    "deepnote_cell_type": "markdown",
    "tags": []
   },
   "source": [
    "  "
   ]
  },
  {
   "cell_type": "markdown",
   "id": "68277963-7960-429f-9d91-08eebadd7b32",
   "metadata": {
    "cell_id": "28b364cb281b48429dc768473281a059",
    "deepnote_cell_type": "markdown",
    "tags": []
   },
   "source": [
    "In this graph we can see that a lot of the locations aren't very frequent and that the majority of the density is in a very small subgroup, so in our pipeline we will use min_frequency giving us the possibility to group in bins certain values"
   ]
  },
  {
   "cell_type": "code",
   "execution_count": 38,
   "id": "1ad0eebb-6024-4b54-a366-dc8e4f9cbc91",
   "metadata": {
    "cell_id": "10da7ba91fc640729d5e2a5575743423",
    "deepnote_cell_type": "code",
    "deepnote_to_be_reexecuted": false,
    "execution_millis": 590,
    "execution_start": 1670777930797,
    "source_hash": "c5dda2b5",
    "tags": []
   },
   "outputs": [
    {
     "data": {
      "text/plain": [
       "<AxesSubplot: ylabel='Density'>"
      ]
     },
     "execution_count": 38,
     "metadata": {},
     "output_type": "execute_result"
    },
    {
     "data": {
      "image/png": "[encoded data removed]",
      "text/plain": [
       "<Figure size 640x480 with 1 Axes>"
      ]
     },
     "metadata": {
      "image/png": {
       "height": 413,
       "width": 604
      }
     },
     "output_type": "display_data"
    }
   ],
   "source": [
    "pop_places = new_bank['CustLocation'].value_counts(sort=False)\n",
    "pop_places.plot(kind='kde')"
   ]
  },
  {
   "cell_type": "markdown",
   "id": "d7160a97-6c3c-483d-b62c-00b26e63a65c",
   "metadata": {
    "cell_id": "d154d735dc154e55bc7fe7d05cfdfc9e",
    "deepnote_cell_type": "markdown",
    "tags": []
   },
   "source": [
    "  "
   ]
  },
  {
   "cell_type": "markdown",
   "id": "ebc5b8b9-e1f1-4c14-928c-ff85153bea20",
   "metadata": {
    "cell_id": "e1036a026a8a4370bee11ed30ad807f0",
    "deepnote_cell_type": "markdown"
   },
   "source": [
    " we created a pipeline for our one hot matrix transformation.\n",
    " the transformation had to be done separately for the numerical columns and the categorical columns, we decided to create a pipeline that could fit also non cleaned dataframes, so we inserted an 'imputer' that fills eventual Na's with a value ('median' for the caterogical values, 'most frequent' for the numerical values).  \n",
    " in output we get a sparse matrix, it's a matrix omitted of all the zeros and preserving only the position for each non-zero value in the matrix. It helps computationally to facilitate the work"
   ]
  },
  {
   "cell_type": "code",
   "execution_count": 20,
   "id": "7b944788-fae9-4a64-87a1-7437754a2d1b",
   "metadata": {
    "cell_id": "dfe34dc7d9c94a47ae4150a850696daa",
    "deepnote_cell_type": "code",
    "deepnote_to_be_reexecuted": false,
    "execution_millis": 3534,
    "execution_start": 1670777521416,
    "source_hash": "664b7f89",
    "tags": []
   },
   "outputs": [],
   "source": [
    "sm, pipeline = shingles_matrix_fit(new_bank,['CustGender','CustLocation'],\n",
    "['CustomerDOB','CustAccountBalance','TransactionDate','TransactionTime','TransactionAmount_INR'],30)"
   ]
  },
  {
   "cell_type": "code",
   "execution_count": 21,
   "id": "12b84108-8ffb-4f71-9811-60bbfd6e6109",
   "metadata": {
    "cell_id": "9318b8850c024ef58e77d2263a7d2f11",
    "deepnote_cell_type": "code",
    "deepnote_to_be_reexecuted": false,
    "execution_millis": 3,
    "execution_start": 1670777524953,
    "source_hash": "a6ce0a07",
    "tags": []
   },
   "outputs": [
    {
     "data": {
      "text/plain": [
       "(995, 987516)"
      ]
     },
     "execution_count": 21,
     "metadata": {},
     "output_type": "execute_result"
    }
   ],
   "source": [
    "sm.shape"
   ]
  },
  {
   "cell_type": "markdown",
   "id": "cfba9af6-a7a0-492b-b14f-f059e8631dfd",
   "metadata": {
    "cell_id": "c7fde48151474b22a144109c3279fc25",
    "deepnote_cell_type": "markdown",
    "tags": []
   },
   "source": [
    " we can see here that it returns a matrix of 995 rows, which are our single shingles without repetition, and about a milion columns, which are each indipendent transaction."
   ]
  },
  {
   "cell_type": "markdown",
   "id": "38242276-3de4-41bb-902b-5a53db66c177",
   "metadata": {
    "cell_id": "9f60552d8dc340a99b1e387721bcd593",
    "deepnote_cell_type": "markdown",
    "tags": []
   },
   "source": [
    "  "
   ]
  },
  {
   "cell_type": "markdown",
   "id": "2cbbec7c-5ade-4abb-a68e-a95339c99b0e",
   "metadata": {
    "cell_id": "29d4e6857ecc4e10a7e86843450e2956",
    "deepnote_cell_type": "markdown",
    "tags": []
   },
   "source": [
    " we create a hash function that will mimic pseudo-randomness"
   ]
  },
  {
   "cell_type": "code",
   "execution_count": 22,
   "id": "c1c43c66-68d9-4f74-b36e-67353e662882",
   "metadata": {
    "cell_id": "173d485ad37b4b2f8c5fe9ec2d6014cf",
    "deepnote_cell_type": "code",
    "deepnote_to_be_reexecuted": false,
    "execution_millis": 4,
    "execution_start": 1670777524959,
    "source_hash": "f7485d0a",
    "tags": []
   },
   "outputs": [],
   "source": [
    "from functions import r_hash"
   ]
  },
  {
   "cell_type": "markdown",
   "id": "8bd87f1e-7da1-4e61-9a49-6c2955fd0e3e",
   "metadata": {
    "cell_id": "2da7fc14f006428394db1e89e35435ff",
    "deepnote_cell_type": "markdown",
    "tags": []
   },
   "source": [
    "  "
   ]
  },
  {
   "cell_type": "markdown",
   "id": "50502ee7-1a0b-483e-905f-d6b7d4ed0634",
   "metadata": {
    "cell_id": "f50758c97d30410ca9abf91610723258",
    "deepnote_cell_type": "markdown",
    "tags": []
   },
   "source": [
    "Now our function that, given a dataset, will transform it into a signature matrix. This function will work for both our dataset and our query. "
   ]
  },
  {
   "cell_type": "code",
   "execution_count": 23,
   "id": "c49afc60-ea82-49d2-b7da-40351bc1fbbb",
   "metadata": {
    "cell_id": "87486bf8c88848a488b1007d7cdee1d7",
    "deepnote_cell_type": "code",
    "deepnote_to_be_reexecuted": false,
    "execution_millis": 10,
    "execution_start": 1670777524966,
    "source_hash": "67ed190e"
   },
   "outputs": [],
   "source": [
    "def signature_matrix(shingle_matrix, hashes, N_cols):\n",
    "    # shingle_matrix = a matrix with unique shingles for every document\n",
    "    # hashes = the hash functions to apply to our shingles matrix\n",
    "    # N_cols = number of columns in our matrix\n",
    "    \n",
    "    # in the scipy sparse matrix the indices represent an array of the positions in increasing order\n",
    "    # on each column of the the non zero values, without taking in account the rows.\n",
    "    nnz = shingle_matrix.indices\n",
    "\n",
    "    # by reshaping the indices to get everytime a single transaction, we performed K hash functions\n",
    "    # to mimic pseudo-randomness and a permutation by getting in this way a three-dimensional matrix where \n",
    "    # rows: are the positions of the ones in the shingle matrix\n",
    "    # columns: the transactions\n",
    "    # depth: the number of hash functions of our minhash\n",
    "    hash_idx = np.stack([hash(nnz).reshape((-1,N_cols)) for hash in hashes])\n",
    "\n",
    "    # with matrix.min(axis=2) we go through the third dimension, so the depth\n",
    "    # and we choose the minimum everytime that will give us the first time a one comes up\n",
    "    # in every hash function, so we do the over all the depth giving us the signature for every transaction\n",
    "    signature = hash_idx.min(axis=2)\n",
    "    \n",
    "    return signature"
   ]
  },
  {
   "cell_type": "markdown",
   "id": "5badd037-3749-4760-b546-d48f9a6f9c57",
   "metadata": {
    "cell_id": "925912a3b1cc467baf1a03bac6e7b042",
    "deepnote_cell_type": "markdown",
    "tags": []
   },
   "source": [
    "  "
   ]
  },
  {
   "cell_type": "markdown",
   "id": "ee58e81b-fd2a-4d1d-b2b1-aed324730d9f",
   "metadata": {
    "cell_id": "d2d390a01d504022b8d303d033b4b7e3",
    "deepnote_cell_type": "markdown",
    "tags": []
   },
   "source": [
    "Create a dictionary where we will store our B bands in N bins, where the N of the bins is not decided by us but by the occurences that we will have in our transactions"
   ]
  },
  {
   "cell_type": "markdown",
   "id": "7625e4af-a183-4330-97a7-cb00e6d4e72c",
   "metadata": {
    "cell_id": "75399a7e73874c5492183ef7ad5bcba0",
    "deepnote_cell_type": "markdown",
    "tags": []
   },
   "source": [
    " "
   ]
  },
  {
   "cell_type": "markdown",
   "id": "edd7d4e0-cfbf-490f-9a04-81e7e6d77dbb",
   "metadata": {
    "cell_id": "223827a0bcc744e2bff09a1f068595dc",
    "deepnote_cell_type": "markdown",
    "tags": []
   },
   "source": [
    "**we put all our functions together for our minhash function, where we can tune:**\n",
    "  \n",
    "- K = number of hash functions to apply  \n",
    "- Bands_len = the length of every Bands_len  \n",
    "- num_bins = the number of bins for our pipeline NOT the bins for our minhash, which are random based on width of the bands and number of documents"
   ]
  },
  {
   "cell_type": "markdown",
   "id": "22ee3980-d8ca-4636-b8c1-e2185b0114d2",
   "metadata": {
    "cell_id": "ca142b41ab234d218b2aa19057bab995",
    "deepnote_cell_type": "markdown",
    "tags": []
   },
   "source": [
    "  "
   ]
  },
  {
   "cell_type": "markdown",
   "id": "cb0b0a2e-79d0-4cb4-a56e-f13f5d2f7bf4",
   "metadata": {
    "cell_id": "5fa4f406cefa474ca8ceb70b5057a836",
    "deepnote_cell_type": "markdown",
    "tags": []
   },
   "source": [
    "we set a seed for reproducibility. \n",
    "Given that we chose 20 hash functions because it returned the best efficiency based on time, the question now is: how do we choose the bands?  \n",
    "\n",
    "here a formula comes in handy: $P = 1-(1-S^{r})^{b}$  \n",
    "where:  \n",
    "  \n",
    "**P** = the probability that two sets are similar in at least one of the b bands\n",
    "**S** = true similarity between two sets\n",
    "**r** = width of a single band\n",
    "**b** = number of bands we choose to divide the signature in\n",
    "  \n",
    "if we put our similarity treshold at $0.8$ then choosing $b = 5$ and $r = 4$ we will obtain:  \n",
    "  \n",
    "$P = 0.9282 ≈ 92.8$%\n",
    "$(1-0.8^{4})^{5} = 0.072$. Probability that two sets are not similar in any of the 5 bands, so in other words 7.2% of the similar candidates will be false-negatives"
   ]
  },
  {
   "cell_type": "code",
   "execution_count": 36,
   "id": "ae65efbd-2ddb-4bdd-8e4d-0e438f49f178",
   "metadata": {
    "cell_id": "b14023c71e6f4bfdbf2a28e074e4f522",
    "deepnote_cell_type": "code",
    "deepnote_to_be_reexecuted": false,
    "execution_millis": 222606,
    "execution_start": 1670777708075,
    "source_hash": "24304a0",
    "tags": []
   },
   "outputs": [
    {
     "data": {
      "text/plain": [
       "array([[286,  58, 149, ..., 214, 249, 213],\n",
       "       [166, 219, 231, ..., 160, 112,  83],\n",
       "       [246,  89,  82, ...,   9,  96, 173],\n",
       "       ...,\n",
       "       [175, 272, 133, ...,  62,  74,  74],\n",
       "       [  1,  10,   1, ...,   5,   1,   1],\n",
       "       [474, 574, 385, ..., 807, 267, 102]], dtype=int32)"
      ]
     },
     "execution_count": 36,
     "metadata": {},
     "output_type": "execute_result"
    }
   ],
   "source": [
    "np.random.seed(129821709)\n",
    "\n",
    "\n",
    "CATEGORIC_COLS = ['CustGender','CustLocation']\n",
    "NUMERIC_COLS = ['CustomerDOB','CustAccountBalance','TransactionDate','TransactionTime','TransactionAmount_INR']\n",
    "\n",
    "NUM_BINS = 30\n",
    "HASH_NUM = 20\n",
    "BANDS_WIDTH = 4\n",
    "\n",
    "#retrieve all our information in the time needed\n",
    "signature, bins, pipeline, hashes = minhash(\n",
    "    new_bank, \n",
    "    CATEGORIC_COLS, \n",
    "    NUMERIC_COLS,\n",
    "    NUM_BINS,\n",
    "    HASH_NUM,\n",
    "    BANDS_WIDTH)\n",
    "signature"
   ]
  },
  {
   "cell_type": "code",
   "execution_count": null,
   "id": "e5360ff7-c0d2-45e7-9e45-9f5ac6084952",
   "metadata": {
    "cell_id": "7654a12284bc427d94f9a6daee7c66c0",
    "deepnote_cell_type": "code",
    "deepnote_to_be_reexecuted": true,
    "execution_millis": 2,
    "execution_start": 1670776532236,
    "source_hash": "649a9561",
    "tags": []
   },
   "outputs": [
    {
     "data": {
      "text/plain": [
       "[286,\n",
       " 166,\n",
       " 246,\n",
       " 109,\n",
       " 0,\n",
       " 123,\n",
       " 47,\n",
       " 685,\n",
       " 80,\n",
       " 109,\n",
       " 6,\n",
       " 162,\n",
       " 32,\n",
       " 412,\n",
       " 82,\n",
       " 72,\n",
       " 25,\n",
       " 175,\n",
       " 1,\n",
       " 474]"
      ]
     },
     "execution_count": 25,
     "metadata": {},
     "output_type": "execute_result"
    }
   ],
   "source": [
    "signature.T[0].tolist()"
   ]
  },
  {
   "cell_type": "markdown",
   "id": "7ea417d1-e291-4ad0-9a4c-3b61fbac595e",
   "metadata": {
    "cell_id": "7b6359d18d3a4c6283f053b836b9426e",
    "deepnote_cell_type": "markdown",
    "tags": []
   },
   "source": [
    "this is the signature for our first document"
   ]
  },
  {
   "cell_type": "markdown",
   "id": "7eaf2d76-0e23-4274-bed0-2614d1e14134",
   "metadata": {
    "cell_id": "844a8820438e4fff8dc90076c6bd5a43",
    "deepnote_cell_type": "markdown",
    "tags": []
   },
   "source": [
    " "
   ]
  },
  {
   "cell_type": "markdown",
   "id": "c587b4c5-204d-4b2f-a2f8-4ff1bfc62667",
   "metadata": {
    "cell_id": "3d17be754c744ae7aa3fc38666d17660",
    "deepnote_cell_type": "markdown",
    "tags": []
   },
   "source": [
    "we can find out what the mean is of our keys, so hypothetically how many values we will compute the similarity with. It gives us an idea if we are simplifying the workload"
   ]
  },
  {
   "cell_type": "code",
   "execution_count": null,
   "id": "1c31671a-5f1c-4c52-998d-cbe49c4b7aaa",
   "metadata": {
    "cell_id": "051ce0071ec043da8d2fdc15414cac5f",
    "deepnote_cell_type": "code",
    "deepnote_to_be_reexecuted": true,
    "execution_millis": 205,
    "execution_start": 1670776540471,
    "source_hash": "cc48eb90",
    "tags": []
   },
   "outputs": [
    {
     "data": {
      "text/plain": [
       "3.6097115201848142"
      ]
     },
     "execution_count": 27,
     "metadata": {},
     "output_type": "execute_result"
    }
   ],
   "source": [
    "np.mean([len(bin) for bin in bins.values()])"
   ]
  },
  {
   "cell_type": "markdown",
   "id": "0b2f1ce9-47ea-486f-88ad-8f3869064bb9",
   "metadata": {
    "cell_id": "4db304bd3cfe48e3aae30ba10db00eca",
    "deepnote_cell_type": "markdown",
    "tags": []
   },
   "source": [
    " "
   ]
  },
  {
   "cell_type": "markdown",
   "id": "9f20da67-1196-4009-ad8d-93ee4d031322",
   "metadata": {
    "cell_id": "c39186da790b4ab1a2b61689bd1d5e1d",
    "deepnote_cell_type": "markdown",
    "tags": []
   },
   "source": [
    "# 1.3 Locality Sensitive Hashing"
   ]
  },
  {
   "cell_type": "markdown",
   "id": "a9930148-a9ad-4373-b125-b416e3054b67",
   "metadata": {
    "cell_id": "2acbcbd4a13340dd993e0eb9516ae7d3",
    "deepnote_cell_type": "markdown",
    "tags": []
   },
   "source": [
    "we prep the query like we did with our dataset"
   ]
  },
  {
   "cell_type": "code",
   "execution_count": 29,
   "id": "4dfc2c43-adea-4b02-8810-66cd5ad6ffea",
   "metadata": {
    "cell_id": "e0a5f752700d4d7f851e7fd26f72253e",
    "deepnote_cell_type": "code",
    "deepnote_to_be_reexecuted": false,
    "execution_millis": 13,
    "execution_start": 1670777657654,
    "source_hash": "350a82ec",
    "tags": []
   },
   "outputs": [
    {
     "data": {
      "text/plain": [
       "CustomerDOB                datetime64[ns]\n",
       "CustGender                         object\n",
       "CustLocation                       object\n",
       "CustAccountBalance                float64\n",
       "TransactionDate            datetime64[ns]\n",
       "TransactionTime                     int64\n",
       "TransactionAmount (INR)           float64\n",
       "dtype: object"
      ]
     },
     "execution_count": 29,
     "metadata": {},
     "output_type": "execute_result"
    }
   ],
   "source": [
    "query = pd.read_csv('query_users.csv', parse_dates=['TransactionDate', 'CustomerDOB'])\n",
    "query.dtypes"
   ]
  },
  {
   "cell_type": "code",
   "execution_count": 30,
   "id": "024b4fef-fd9b-4c9b-a79f-237fb2f6b41c",
   "metadata": {
    "cell_id": "88dbc0ad2af84b04846b1a65069276b9",
    "deepnote_cell_type": "code",
    "deepnote_to_be_reexecuted": false,
    "execution_millis": 26,
    "execution_start": 1670777658199,
    "source_hash": "3fc7988e",
    "tags": []
   },
   "outputs": [
    {
     "data": {
      "application/vnd.deepnote.dataframe.v3+json": {
       "column_count": 7,
       "columns": [
        {
         "dtype": "int64",
         "name": "CustomerDOB",
         "stats": {
          "histogram": [
           {
            "bin_end": 322980480000000000,
            "bin_start": 270345600000000000,
            "count": 1
           },
           {
            "bin_end": 375615360000000000,
            "bin_start": 322980480000000000,
            "count": 0
           },
           {
            "bin_end": 428250240000000000,
            "bin_start": 375615360000000000,
            "count": 0
           },
           {
            "bin_end": 480885120000000000,
            "bin_start": 428250240000000000,
            "count": 0
           },
           {
            "bin_end": 533520000000000000,
            "bin_start": 480885120000000000,
            "count": 0
           },
           {
            "bin_end": 586154880000000000,
            "bin_start": 533520000000000000,
            "count": 1
           },
           {
            "bin_end": 638789760000000000,
            "bin_start": 586154880000000000,
            "count": 0
           },
           {
            "bin_end": 691424640000000000,
            "bin_start": 638789760000000000,
            "count": 1
           },
           {
            "bin_end": 744059520000000000,
            "bin_start": 691424640000000000,
            "count": 1
           },
           {
            "bin_end": 796694400000000000,
            "bin_start": 744059520000000000,
            "count": 1
           }
          ],
          "max": "796694400000000000",
          "min": "270345600000000000",
          "nan_count": 0,
          "unique_count": 5
         }
        },
        {
         "dtype": "object",
         "name": "CustGender",
         "stats": {
          "categories": [
           {
            "count": 5,
            "name": "M"
           }
          ],
          "nan_count": 0,
          "unique_count": 1
         }
        },
        {
         "dtype": "object",
         "name": "CustLocation",
         "stats": {
          "categories": [
           {
            "count": 1,
            "name": "DELHI"
           },
           {
            "count": 1,
            "name": "PANCHKULA"
           },
           {
            "count": 3,
            "name": "3 others"
           }
          ],
          "nan_count": 0,
          "unique_count": 5
         }
        },
        {
         "dtype": "float64",
         "name": "CustAccountBalance",
         "stats": {
          "histogram": [
           {
            "bin_end": 15932.101,
            "bin_start": 7180.6,
            "count": 2
           },
           {
            "bin_end": 24683.602,
            "bin_start": 15932.101,
            "count": 0
           },
           {
            "bin_end": 33435.103,
            "bin_start": 24683.602,
            "count": 0
           },
           {
            "bin_end": 42186.604,
            "bin_start": 33435.103,
            "count": 0
           },
           {
            "bin_end": 50938.105,
            "bin_start": 42186.604,
            "count": 0
           },
           {
            "bin_end": 59689.606,
            "bin_start": 50938.105,
            "count": 1
           },
           {
            "bin_end": 68441.107,
            "bin_start": 59689.606,
            "count": 0
           },
           {
            "bin_end": 77192.60800000001,
            "bin_start": 68441.107,
            "count": 0
           },
           {
            "bin_end": 85944.10900000001,
            "bin_start": 77192.60800000001,
            "count": 1
           },
           {
            "bin_end": 94695.61,
            "bin_start": 85944.10900000001,
            "count": 1
           }
          ],
          "max": "94695.61",
          "min": "7180.6",
          "nan_count": 0,
          "unique_count": 5
         }
        },
        {
         "dtype": "int64",
         "name": "TransactionDate",
         "stats": {
          "histogram": [
           {
            "bin_end": 1457066880000000000,
            "bin_start": 1454976000000000000,
            "count": 2
           },
           {
            "bin_end": 1459157760000000000,
            "bin_start": 1457066880000000000,
            "count": 0
           },
           {
            "bin_end": 1461248640000000000,
            "bin_start": 1459157760000000000,
            "count": 0
           },
           {
            "bin_end": 1463339520000000000,
            "bin_start": 1461248640000000000,
            "count": 0
           },
           {
            "bin_end": 1465430400000000000,
            "bin_start": 1463339520000000000,
            "count": 0
           },
           {
            "bin_end": 1467521280000000000,
            "bin_start": 1465430400000000000,
            "count": 0
           },
           {
            "bin_end": 1469612160000000000,
            "bin_start": 1467521280000000000,
            "count": 0
           },
           {
            "bin_end": 1471703040000000000,
            "bin_start": 1469612160000000000,
            "count": 0
           },
           {
            "bin_end": 1473793920000000000,
            "bin_start": 1471703040000000000,
            "count": 1
           },
           {
            "bin_end": 1475884800000000000,
            "bin_start": 1473793920000000000,
            "count": 2
           }
          ],
          "max": "1475884800000000000",
          "min": "1454976000000000000",
          "nan_count": 0,
          "unique_count": 4
         }
        },
        {
         "dtype": "int64",
         "name": "TransactionTime",
         "stats": {
          "histogram": [
           {
            "bin_end": 131523.5,
            "bin_start": 120214,
            "count": 1
           },
           {
            "bin_end": 142833,
            "bin_start": 131523.5,
            "count": 1
           },
           {
            "bin_end": 154142.5,
            "bin_start": 142833,
            "count": 1
           },
           {
            "bin_end": 165452,
            "bin_start": 154142.5,
            "count": 0
           },
           {
            "bin_end": 176761.5,
            "bin_start": 165452,
            "count": 0
           },
           {
            "bin_end": 188071,
            "bin_start": 176761.5,
            "count": 0
           },
           {
            "bin_end": 199380.5,
            "bin_start": 188071,
            "count": 0
           },
           {
            "bin_end": 210690,
            "bin_start": 199380.5,
            "count": 0
           },
           {
            "bin_end": 221999.5,
            "bin_start": 210690,
            "count": 1
           },
           {
            "bin_end": 233309,
            "bin_start": 221999.5,
            "count": 1
           }
          ],
          "max": "233309",
          "min": "120214",
          "nan_count": 0,
          "unique_count": 5
         }
        },
        {
         "dtype": "int64",
         "name": "TransactionAmount_INR",
         "stats": {
          "histogram": [
           {
            "bin_end": 661,
            "bin_start": 65,
            "count": 3
           },
           {
            "bin_end": 1257,
            "bin_start": 661,
            "count": 1
           },
           {
            "bin_end": 1853,
            "bin_start": 1257,
            "count": 0
           },
           {
            "bin_end": 2449,
            "bin_start": 1853,
            "count": 0
           },
           {
            "bin_end": 3045,
            "bin_start": 2449,
            "count": 0
           },
           {
            "bin_end": 3641,
            "bin_start": 3045,
            "count": 0
           },
           {
            "bin_end": 4237,
            "bin_start": 3641,
            "count": 0
           },
           {
            "bin_end": 4833,
            "bin_start": 4237,
            "count": 0
           },
           {
            "bin_end": 5429,
            "bin_start": 4833,
            "count": 0
           },
           {
            "bin_end": 6025,
            "bin_start": 5429,
            "count": 1
           }
          ],
          "max": "6025",
          "min": "65",
          "nan_count": 0,
          "unique_count": 5
         }
        },
        {
         "dtype": "int64",
         "name": "_deepnote_index_column"
        }
       ],
       "row_count": 5,
       "rows": [
        {
         "CustAccountBalance": "94695.61",
         "CustGender": "M",
         "CustLocation": "DELHI",
         "CustomerDOB": "270345600000000000",
         "TransactionAmount_INR": "65",
         "TransactionDate": "1454976000000000000",
         "TransactionTime": "140310",
         "_deepnote_index_column": "0"
        },
        {
         "CustAccountBalance": "7584.09",
         "CustGender": "M",
         "CustLocation": "PANCHKULA",
         "CustomerDOB": "708220800000000000",
         "TransactionAmount_INR": "6025",
         "TransactionDate": "1454976000000000000",
         "TransactionTime": "120214",
         "_deepnote_index_column": "1"
        },
        {
         "CustAccountBalance": "7180.6",
         "CustGender": "M",
         "CustLocation": "PATNA",
         "CustomerDOB": "682128000000000000",
         "TransactionAmount_INR": "541",
         "TransactionDate": "1475884800000000000",
         "TransactionTime": "221732",
         "_deepnote_index_column": "2"
        },
        {
         "CustAccountBalance": "56847.75",
         "CustGender": "M",
         "CustLocation": "CHENNAI",
         "CustomerDOB": "541555200000000000",
         "TransactionAmount_INR": "1000",
         "TransactionDate": "1472428800000000000",
         "TransactionTime": "144138",
         "_deepnote_index_column": "3"
        },
        {
         "CustAccountBalance": "84950.13",
         "CustGender": "M",
         "CustLocation": "GURGAON",
         "CustomerDOB": "796694400000000000",
         "TransactionAmount_INR": "80",
         "TransactionDate": "1474761600000000000",
         "TransactionTime": "233309",
         "_deepnote_index_column": "4"
        }
       ]
      },
      "text/html": [
       "<div>\n",
       "<style scoped>\n",
       "    .dataframe tbody tr th:only-of-type {\n",
       "        vertical-align: middle;\n",
       "    }\n",
       "\n",
       "    .dataframe tbody tr th {\n",
       "        vertical-align: top;\n",
       "    }\n",
       "\n",
       "    .dataframe thead th {\n",
       "        text-align: right;\n",
       "    }\n",
       "</style>\n",
       "<table border=\"1\" class=\"dataframe\">\n",
       "  <thead>\n",
       "    <tr style=\"text-align: right;\">\n",
       "      <th></th>\n",
       "      <th>CustomerDOB</th>\n",
       "      <th>CustGender</th>\n",
       "      <th>CustLocation</th>\n",
       "      <th>CustAccountBalance</th>\n",
       "      <th>TransactionDate</th>\n",
       "      <th>TransactionTime</th>\n",
       "      <th>TransactionAmount_INR</th>\n",
       "    </tr>\n",
       "  </thead>\n",
       "  <tbody>\n",
       "    <tr>\n",
       "      <th>0</th>\n",
       "      <td>270345600000000000</td>\n",
       "      <td>M</td>\n",
       "      <td>DELHI</td>\n",
       "      <td>94695.61</td>\n",
       "      <td>1454976000000000000</td>\n",
       "      <td>140310</td>\n",
       "      <td>65</td>\n",
       "    </tr>\n",
       "    <tr>\n",
       "      <th>1</th>\n",
       "      <td>708220800000000000</td>\n",
       "      <td>M</td>\n",
       "      <td>PANCHKULA</td>\n",
       "      <td>7584.09</td>\n",
       "      <td>1454976000000000000</td>\n",
       "      <td>120214</td>\n",
       "      <td>6025</td>\n",
       "    </tr>\n",
       "    <tr>\n",
       "      <th>2</th>\n",
       "      <td>682128000000000000</td>\n",
       "      <td>M</td>\n",
       "      <td>PATNA</td>\n",
       "      <td>7180.60</td>\n",
       "      <td>1475884800000000000</td>\n",
       "      <td>221732</td>\n",
       "      <td>541</td>\n",
       "    </tr>\n",
       "    <tr>\n",
       "      <th>3</th>\n",
       "      <td>541555200000000000</td>\n",
       "      <td>M</td>\n",
       "      <td>CHENNAI</td>\n",
       "      <td>56847.75</td>\n",
       "      <td>1472428800000000000</td>\n",
       "      <td>144138</td>\n",
       "      <td>1000</td>\n",
       "    </tr>\n",
       "    <tr>\n",
       "      <th>4</th>\n",
       "      <td>796694400000000000</td>\n",
       "      <td>M</td>\n",
       "      <td>GURGAON</td>\n",
       "      <td>84950.13</td>\n",
       "      <td>1474761600000000000</td>\n",
       "      <td>233309</td>\n",
       "      <td>80</td>\n",
       "    </tr>\n",
       "  </tbody>\n",
       "</table>\n",
       "</div>"
      ],
      "text/plain": [
       "          CustomerDOB CustGender CustLocation  CustAccountBalance  \\\n",
       "0  270345600000000000          M        DELHI            94695.61   \n",
       "1  708220800000000000          M    PANCHKULA             7584.09   \n",
       "2  682128000000000000          M        PATNA             7180.60   \n",
       "3  541555200000000000          M      CHENNAI            56847.75   \n",
       "4  796694400000000000          M      GURGAON            84950.13   \n",
       "\n",
       "       TransactionDate  TransactionTime  TransactionAmount_INR  \n",
       "0  1454976000000000000           140310                     65  \n",
       "1  1454976000000000000           120214                   6025  \n",
       "2  1475884800000000000           221732                    541  \n",
       "3  1472428800000000000           144138                   1000  \n",
       "4  1474761600000000000           233309                     80  "
      ]
     },
     "execution_count": 30,
     "metadata": {},
     "output_type": "execute_result"
    }
   ],
   "source": [
    "query['CustomerDOB'] = query['CustomerDOB'].astype(int)\n",
    "query['TransactionDate'] = query['TransactionDate'].astype(int)\n",
    "query.rename(columns={'TransactionAmount (INR)':'TransactionAmount_INR'}, inplace=True)\n",
    "query['TransactionAmount_INR'] = query['TransactionAmount_INR'].astype(int)\n",
    "query.head()"
   ]
  },
  {
   "cell_type": "markdown",
   "id": "3d8dd2dc-18b0-4816-987c-bf37a593c4bf",
   "metadata": {
    "cell_id": "1dd5e24d582a423b9d20cfa393b0e32c",
    "deepnote_cell_type": "markdown",
    "tags": []
   },
   "source": [
    " "
   ]
  },
  {
   "cell_type": "markdown",
   "id": "6ee7d8fa-bc98-42a4-839b-e7ba8d4d7d31",
   "metadata": {
    "cell_id": "032e1094594a40409e6abd84fc182637",
    "deepnote_cell_type": "markdown",
    "tags": []
   },
   "source": [
    "We return the first element of the query to see what type of query we have to work with"
   ]
  },
  {
   "cell_type": "code",
   "execution_count": 31,
   "id": "a09675ed-45e7-4a73-9c4e-74e7b009e8fb",
   "metadata": {
    "cell_id": "bc4e1cd8ad4f4d8f92b80496a02cc2f0",
    "deepnote_cell_type": "code",
    "deepnote_to_be_reexecuted": false,
    "execution_millis": 10,
    "execution_start": 1670777663016,
    "source_hash": "b6274783",
    "tags": []
   },
   "outputs": [
    {
     "data": {
      "text/plain": [
       "[270345600000000000, 'M', 'DELHI', 94695.61, 1454976000000000000, 140310, 65]"
      ]
     },
     "execution_count": 31,
     "metadata": {},
     "output_type": "execute_result"
    }
   ],
   "source": [
    "query.iloc[0].tolist()"
   ]
  },
  {
   "cell_type": "markdown",
   "id": "855e26db-8212-43b1-adb2-87365c956cff",
   "metadata": {
    "cell_id": "91693131c70f438f8f3b332ed58e890e",
    "deepnote_cell_type": "markdown",
    "tags": []
   },
   "source": [
    " "
   ]
  },
  {
   "cell_type": "markdown",
   "id": "e20a06f8-5f64-4046-9330-fa3115c9f7c2",
   "metadata": {
    "cell_id": "a62ae5710d324c6392b7132536f5bf8e",
    "deepnote_cell_type": "markdown",
    "deepnote_to_be_reexecuted": false,
    "execution_millis": 8,
    "execution_start": 1670507524332,
    "source_hash": "8e63aca",
    "tags": []
   },
   "source": [
    "## Query Minhash"
   ]
  },
  {
   "cell_type": "code",
   "execution_count": null,
   "id": "210f8d1c-36d7-4b67-8c78-c819fef7a132",
   "metadata": {
    "cell_id": "1aaae74ad10d4f2abe91d1b4f022549b",
    "deepnote_cell_type": "code",
    "deepnote_to_be_reexecuted": false,
    "execution_millis": 4,
    "execution_start": 1670778965313,
    "source_hash": "8fa5b8a9",
    "tags": []
   },
   "outputs": [
    {
     "data": {
      "text/plain": [
       "'Average number of candidates per query: 590.06'"
      ]
     },
     "execution_count": 51,
     "metadata": {},
     "output_type": "execute_result"
    }
   ],
   "source": [
    "candidates, qs = query_minhash(query, bins, pipeline, hashes, BANDS_WIDTH)\n",
    "'Average number of candidates per query: {}'.format( np.mean([len(cand) for cand in candidates.values()]) )"
   ]
  },
  {
   "cell_type": "code",
   "execution_count": 76,
   "id": "9a33efe4-9c2b-44b2-b5f3-0316224695ce",
   "metadata": {
    "cell_id": "6cfc651a88e243aaae28bc0350fd2eeb",
    "deepnote_cell_type": "code",
    "deepnote_to_be_reexecuted": false,
    "execution_millis": 5748,
    "execution_start": 1670780796271,
    "source_hash": "cd6b97a7",
    "tags": []
   },
   "outputs": [
    {
     "name": "stdout",
     "output_type": "stream",
     "text": [
      "CPU times: user 5.68 s, sys: 19.9 ms, total: 5.7 s\n",
      "Wall time: 5.72 s\n"
     ]
    },
    {
     "data": {
      "application/vnd.deepnote.dataframe.v3+json": {
       "column_count": 3,
       "columns": [
        {
         "dtype": "int64",
         "name": "query_number",
         "stats": {
          "histogram": [
           {
            "bin_end": 0.3,
            "bin_start": 0,
            "count": 2
           },
           {
            "bin_end": 0.6,
            "bin_start": 0.3,
            "count": 0
           },
           {
            "bin_end": 0.8999999999999999,
            "bin_start": 0.6,
            "count": 0
           },
           {
            "bin_end": 1.2,
            "bin_start": 0.8999999999999999,
            "count": 1
           },
           {
            "bin_end": 1.5,
            "bin_start": 1.2,
            "count": 0
           },
           {
            "bin_end": 1.7999999999999998,
            "bin_start": 1.5,
            "count": 0
           },
           {
            "bin_end": 2.1,
            "bin_start": 1.7999999999999998,
            "count": 1
           },
           {
            "bin_end": 2.4,
            "bin_start": 2.1,
            "count": 0
           },
           {
            "bin_end": 2.6999999999999997,
            "bin_start": 2.4,
            "count": 0
           },
           {
            "bin_end": 3,
            "bin_start": 2.6999999999999997,
            "count": 1
           }
          ],
          "max": "3",
          "min": "0",
          "nan_count": 0,
          "unique_count": 4
         }
        },
        {
         "dtype": "int64",
         "name": "candidate",
         "stats": {
          "histogram": [
           {
            "bin_end": 140470,
            "bin_start": 77944,
            "count": 1
           },
           {
            "bin_end": 202996,
            "bin_start": 140470,
            "count": 0
           },
           {
            "bin_end": 265522,
            "bin_start": 202996,
            "count": 0
           },
           {
            "bin_end": 328048,
            "bin_start": 265522,
            "count": 1
           },
           {
            "bin_end": 390574,
            "bin_start": 328048,
            "count": 0
           },
           {
            "bin_end": 453100,
            "bin_start": 390574,
            "count": 0
           },
           {
            "bin_end": 515626,
            "bin_start": 453100,
            "count": 0
           },
           {
            "bin_end": 578152,
            "bin_start": 515626,
            "count": 0
           },
           {
            "bin_end": 640678,
            "bin_start": 578152,
            "count": 1
           },
           {
            "bin_end": 703204,
            "bin_start": 640678,
            "count": 2
           }
          ],
          "max": "703204",
          "min": "77944",
          "nan_count": 0,
          "unique_count": 5
         }
        },
        {
         "dtype": "float64",
         "name": "sim",
         "stats": {
          "histogram": [
           {
            "bin_end": 0.775,
            "bin_start": 0.75,
            "count": 1
           },
           {
            "bin_end": 0.8,
            "bin_start": 0.775,
            "count": 0
           },
           {
            "bin_end": 0.825,
            "bin_start": 0.8,
            "count": 0
           },
           {
            "bin_end": 0.85,
            "bin_start": 0.825,
            "count": 0
           },
           {
            "bin_end": 0.875,
            "bin_start": 0.85,
            "count": 0
           },
           {
            "bin_end": 0.9,
            "bin_start": 0.875,
            "count": 0
           },
           {
            "bin_end": 0.925,
            "bin_start": 0.9,
            "count": 0
           },
           {
            "bin_end": 0.95,
            "bin_start": 0.925,
            "count": 0
           },
           {
            "bin_end": 0.975,
            "bin_start": 0.95,
            "count": 0
           },
           {
            "bin_end": 1,
            "bin_start": 0.975,
            "count": 4
           }
          ],
          "max": "1.0",
          "min": "0.75",
          "nan_count": 0,
          "unique_count": 2
         }
        },
        {
         "dtype": "int64",
         "name": "_deepnote_index_column"
        }
       ],
       "row_count": 5,
       "rows": [
        {
         "_deepnote_index_column": "35",
         "candidate": "77944",
         "query_number": "0",
         "sim": "0.75"
        },
        {
         "_deepnote_index_column": "206",
         "candidate": "703204",
         "query_number": "0",
         "sim": "1.0"
        },
        {
         "_deepnote_index_column": "576",
         "candidate": "685912",
         "query_number": "1",
         "sim": "1.0"
        },
        {
         "_deepnote_index_column": "597",
         "candidate": "297235",
         "query_number": "2",
         "sim": "1.0"
        },
        {
         "_deepnote_index_column": "671",
         "candidate": "602802",
         "query_number": "3",
         "sim": "1.0"
        }
       ]
      },
      "text/html": [
       "<div>\n",
       "<style scoped>\n",
       "    .dataframe tbody tr th:only-of-type {\n",
       "        vertical-align: middle;\n",
       "    }\n",
       "\n",
       "    .dataframe tbody tr th {\n",
       "        vertical-align: top;\n",
       "    }\n",
       "\n",
       "    .dataframe thead th {\n",
       "        text-align: right;\n",
       "    }\n",
       "</style>\n",
       "<table border=\"1\" class=\"dataframe\">\n",
       "  <thead>\n",
       "    <tr style=\"text-align: right;\">\n",
       "      <th></th>\n",
       "      <th>query_number</th>\n",
       "      <th>candidate</th>\n",
       "      <th>sim</th>\n",
       "    </tr>\n",
       "  </thead>\n",
       "  <tbody>\n",
       "    <tr>\n",
       "      <th>35</th>\n",
       "      <td>0</td>\n",
       "      <td>77944</td>\n",
       "      <td>0.75</td>\n",
       "    </tr>\n",
       "    <tr>\n",
       "      <th>206</th>\n",
       "      <td>0</td>\n",
       "      <td>703204</td>\n",
       "      <td>1.00</td>\n",
       "    </tr>\n",
       "    <tr>\n",
       "      <th>576</th>\n",
       "      <td>1</td>\n",
       "      <td>685912</td>\n",
       "      <td>1.00</td>\n",
       "    </tr>\n",
       "    <tr>\n",
       "      <th>597</th>\n",
       "      <td>2</td>\n",
       "      <td>297235</td>\n",
       "      <td>1.00</td>\n",
       "    </tr>\n",
       "    <tr>\n",
       "      <th>671</th>\n",
       "      <td>3</td>\n",
       "      <td>602802</td>\n",
       "      <td>1.00</td>\n",
       "    </tr>\n",
       "  </tbody>\n",
       "</table>\n",
       "</div>"
      ],
      "text/plain": [
       "     query_number  candidate   sim\n",
       "35              0      77944  0.75\n",
       "206             0     703204  1.00\n",
       "576             1     685912  1.00\n",
       "597             2     297235  1.00\n",
       "671             3     602802  1.00"
      ]
     },
     "execution_count": 76,
     "metadata": {},
     "output_type": "execute_result"
    }
   ],
   "source": [
    "%%time\n",
    "result = most_similar(query, bins, pipeline, hashes, BANDS_WIDTH)\n",
    "result.head()"
   ]
  },
  {
   "cell_type": "code",
   "execution_count": 89,
   "id": "3e9fe7d8-2179-416e-bfd3-70edc0607cae",
   "metadata": {
    "cell_id": "7643833823f344e3be9b794bd6931462",
    "deepnote_cell_type": "code",
    "deepnote_to_be_reexecuted": false,
    "execution_millis": 1,
    "execution_start": 1670780932858,
    "source_hash": "eda1cdfe",
    "tags": []
   },
   "outputs": [],
   "source": [
    "def compare_results(transactions,query,results,n1,n2):\n",
    "    print('the real similarity between query {} and transaction {} is: {}\\n'.format(n2,n1,jaccard(set(new_bank.iloc[n1].tolist()),set(query.iloc[n2]))))\n",
    "    print('our algorithm similarity between query {} and transaction {} is: {}\\n'.format(n2,n1,result.sim[35]))\n",
    "    print(new_bank.iloc[n1].tolist(),'\\n',query.iloc[n2].tolist())"
   ]
  },
  {
   "cell_type": "markdown",
   "id": "df853c2d-54f5-4b66-a633-c132811ced2b",
   "metadata": {
    "cell_id": "44ac0c0440f749018e66ca79db168ea7",
    "deepnote_cell_type": "markdown",
    "tags": []
   },
   "source": [
    "our algorithm took roughly 6 seconds to compute the most similar transactions of our query. We preprocessed before our query and getting signatures and plausible candidates for the similarity. We didn't compute the similarity directly on the query and transactions dataframe but on the shingles, with a purpose:  \n",
    "we analyzed the original transactions dataframe and saw that a lot of transactions where identical, only differing by transaction time, where two transactions where only a few minutes apart, or the amount taken differed only a few units. So after we discretized with our pipeline to group in bins al those numerical values that where very close to each other, so based on this reasoning it seemed only logical to also performed the similarity with query and transactions, NOT on the original dataframe but on the shingle matrix.  \n",
    "  \n",
    "if we compare similarities on the shingles and original dataframe we see:\n"
   ]
  },
  {
   "cell_type": "code",
   "execution_count": 90,
   "id": "24e1aaa8-61ec-43af-952e-05186bac4f2f",
   "metadata": {
    "cell_id": "e5231af50d264ff39866140087ccd934",
    "deepnote_cell_type": "code",
    "deepnote_to_be_reexecuted": false,
    "execution_millis": 4,
    "execution_start": 1670780935557,
    "source_hash": "808baaf6",
    "tags": []
   },
   "outputs": [
    {
     "name": "stdout",
     "output_type": "stream",
     "text": [
      "the real similarity between query 0 and transaction 77944 is: 0.556\n",
      "\n",
      "our algorithm similarity between query 0 and transaction 77944 is: 0.75\n",
      "\n",
      "[270345600000000000, 'M', 'DELHI', 94695.61, 1454889600000000000, 140300, 65] \n",
      " [270345600000000000, 'M', 'DELHI', 94695.61, 1454976000000000000, 140310, 65]\n"
     ]
    }
   ],
   "source": [
    "compare_results(new_bank,query,result,77944,0)"
   ]
  },
  {
   "cell_type": "markdown",
   "id": "f90c0c1d-5bc5-4896-910d-b11d5975c80a",
   "metadata": {
    "cell_id": "a0c3332dd1d94a2dbb311043ca03e05e",
    "deepnote_cell_type": "markdown",
    "tags": []
   },
   "source": [
    " As we can see these two transactions are almost indentical only differing in transaction time and transaction date, our algorithm put them in the same bin for transaction time making our similarity, based on the shingles of these two transaction more realistical than getting them straight from their original dataframe. "
   ]
  },
  {
   "cell_type": "markdown",
   "id": "6aa50845-f5cf-4119-9be2-c31d0b4b84e4",
   "metadata": {
    "id": "2a4c3a65",
    "tags": []
   },
   "source": [
    "# 2 feature engineering\n",
    "___"
   ]
  },
  {
   "cell_type": "markdown",
   "id": "011a6d56-3f97-45e1-9708-3389d2336e0a",
   "metadata": {
    "id": "2a4c3a65",
    "tags": []
   },
   "source": [
    "## 2.1.1 Data Cleaning\n",
    "\n",
    "*Access to the data found in [this dataset](https://www.kaggle.com/datasets/shivamb/bank-customer-segmentation) (it is the same dataset from the previous question 1.1).*"
   ]
  },
  {
   "cell_type": "code",
   "execution_count": 1,
   "id": "21cc570c-72b1-44a4-895c-f79c1ee1e4a8",
   "metadata": {
    "id": "cc1da086"
   },
   "outputs": [],
   "source": [
    "import pandas as pd\n",
    "import numpy as np\n",
    "from tqdm import tqdm, tqdm_notebook\n",
    "tqdm.pandas()"
   ]
  },
  {
   "cell_type": "markdown",
   "id": "79a2e9ad-2aef-4f98-b5f3-4c908048a001",
   "metadata": {},
   "source": [
    "To start from the beginning"
   ]
  },
  {
   "cell_type": "code",
   "execution_count": 2,
   "id": "bf744e1a-5679-46fa-bf76-ec58452e04e5",
   "metadata": {
    "scrolled": true
   },
   "outputs": [
    {
     "data": {
      "text/html": [
       "<div>\n",
       "<style scoped>\n",
       "    .dataframe tbody tr th:only-of-type {\n",
       "        vertical-align: middle;\n",
       "    }\n",
       "\n",
       "    .dataframe tbody tr th {\n",
       "        vertical-align: top;\n",
       "    }\n",
       "\n",
       "    .dataframe thead th {\n",
       "        text-align: right;\n",
       "    }\n",
       "</style>\n",
       "<table border=\"1\" class=\"dataframe\">\n",
       "  <thead>\n",
       "    <tr style=\"text-align: right;\">\n",
       "      <th></th>\n",
       "      <th>TransactionID</th>\n",
       "      <th>CustomerID</th>\n",
       "      <th>CustomerDOB</th>\n",
       "      <th>CustGender</th>\n",
       "      <th>CustLocation</th>\n",
       "      <th>CustAccountBalance</th>\n",
       "      <th>TransactionDate</th>\n",
       "      <th>TransactionTime</th>\n",
       "      <th>TransactionAmount (INR)</th>\n",
       "    </tr>\n",
       "  </thead>\n",
       "  <tbody>\n",
       "    <tr>\n",
       "      <th>0</th>\n",
       "      <td>T1</td>\n",
       "      <td>C5841053</td>\n",
       "      <td>1994-10-01</td>\n",
       "      <td>F</td>\n",
       "      <td>JAMSHEDPUR</td>\n",
       "      <td>17819.05</td>\n",
       "      <td>2016-02-08</td>\n",
       "      <td>143207</td>\n",
       "      <td>25.0</td>\n",
       "    </tr>\n",
       "    <tr>\n",
       "      <th>1</th>\n",
       "      <td>T2</td>\n",
       "      <td>C2142763</td>\n",
       "      <td>2057-04-04</td>\n",
       "      <td>M</td>\n",
       "      <td>JHAJJAR</td>\n",
       "      <td>2270.69</td>\n",
       "      <td>2016-02-08</td>\n",
       "      <td>141858</td>\n",
       "      <td>27999.0</td>\n",
       "    </tr>\n",
       "    <tr>\n",
       "      <th>2</th>\n",
       "      <td>T3</td>\n",
       "      <td>C4417068</td>\n",
       "      <td>1996-11-26</td>\n",
       "      <td>F</td>\n",
       "      <td>MUMBAI</td>\n",
       "      <td>17874.44</td>\n",
       "      <td>2016-02-08</td>\n",
       "      <td>142712</td>\n",
       "      <td>459.0</td>\n",
       "    </tr>\n",
       "    <tr>\n",
       "      <th>3</th>\n",
       "      <td>T4</td>\n",
       "      <td>C5342380</td>\n",
       "      <td>1973-09-14</td>\n",
       "      <td>F</td>\n",
       "      <td>MUMBAI</td>\n",
       "      <td>866503.21</td>\n",
       "      <td>2016-02-08</td>\n",
       "      <td>142714</td>\n",
       "      <td>2060.0</td>\n",
       "    </tr>\n",
       "    <tr>\n",
       "      <th>4</th>\n",
       "      <td>T5</td>\n",
       "      <td>C9031234</td>\n",
       "      <td>1988-03-24</td>\n",
       "      <td>F</td>\n",
       "      <td>NAVI MUMBAI</td>\n",
       "      <td>6714.43</td>\n",
       "      <td>2016-02-08</td>\n",
       "      <td>181156</td>\n",
       "      <td>1762.5</td>\n",
       "    </tr>\n",
       "  </tbody>\n",
       "</table>\n",
       "</div>"
      ],
      "text/plain": [
       "  TransactionID CustomerID CustomerDOB CustGender CustLocation  \\\n",
       "0            T1   C5841053  1994-10-01          F   JAMSHEDPUR   \n",
       "1            T2   C2142763  2057-04-04          M      JHAJJAR   \n",
       "2            T3   C4417068  1996-11-26          F       MUMBAI   \n",
       "3            T4   C5342380  1973-09-14          F       MUMBAI   \n",
       "4            T5   C9031234  1988-03-24          F  NAVI MUMBAI   \n",
       "\n",
       "   CustAccountBalance TransactionDate  TransactionTime  \\\n",
       "0            17819.05      2016-02-08           143207   \n",
       "1             2270.69      2016-02-08           141858   \n",
       "2            17874.44      2016-02-08           142712   \n",
       "3           866503.21      2016-02-08           142714   \n",
       "4             6714.43      2016-02-08           181156   \n",
       "\n",
       "   TransactionAmount (INR)  \n",
       "0                     25.0  \n",
       "1                  27999.0  \n",
       "2                    459.0  \n",
       "3                   2060.0  \n",
       "4                   1762.5  "
      ]
     },
     "execution_count": 2,
     "metadata": {},
     "output_type": "execute_result"
    }
   ],
   "source": [
    "tras = pd.read_csv(\"bank_transactions.csv\", parse_dates=['CustomerDOB', 'TransactionDate'])\n",
    "tras.head()"
   ]
  },
  {
   "cell_type": "code",
   "execution_count": 3,
   "id": "3414e844-1c8a-4fa6-8b1b-3822ff4286be",
   "metadata": {
    "id": "e1c9f2e8",
    "outputId": "d7bce11c-bb41-4222-de02-7d2966f513d6"
   },
   "outputs": [
    {
     "name": "stdout",
     "output_type": "stream",
     "text": [
      "<class 'pandas.core.frame.DataFrame'>\n",
      "RangeIndex: 1048567 entries, 0 to 1048566\n",
      "Data columns (total 9 columns):\n",
      " #   Column                   Non-Null Count    Dtype         \n",
      "---  ------                   --------------    -----         \n",
      " 0   TransactionID            1048567 non-null  object        \n",
      " 1   CustomerID               1048567 non-null  object        \n",
      " 2   CustomerDOB              1045170 non-null  datetime64[ns]\n",
      " 3   CustGender               1047467 non-null  object        \n",
      " 4   CustLocation             1048416 non-null  object        \n",
      " 5   CustAccountBalance       1046198 non-null  float64       \n",
      " 6   TransactionDate          1048567 non-null  datetime64[ns]\n",
      " 7   TransactionTime          1048567 non-null  int64         \n",
      " 8   TransactionAmount (INR)  1048567 non-null  float64       \n",
      "dtypes: datetime64[ns](2), float64(2), int64(1), object(4)\n",
      "memory usage: 72.0+ MB\n"
     ]
    }
   ],
   "source": [
    "tras.info()"
   ]
  },
  {
   "cell_type": "markdown",
   "id": "f9266d76-43ff-4129-921c-be4563f18f52",
   "metadata": {
    "id": "8f2ed250",
    "jp-MarkdownHeadingCollapsed": true,
    "tags": []
   },
   "source": [
    "### Dates\n",
    "___"
   ]
  },
  {
   "cell_type": "code",
   "execution_count": 4,
   "id": "c3564673-a4fc-422c-a5da-34abde98d336",
   "metadata": {
    "id": "b25a4231",
    "outputId": "96840b24-8989-46b3-aace-386e8266676b"
   },
   "outputs": [
    {
     "data": {
      "text/plain": [
       "<AxesSubplot: >"
      ]
     },
     "execution_count": 4,
     "metadata": {},
     "output_type": "execute_result"
    },
    {
     "data": {
      "image/png": "[encoded data removed]",
      "text/plain": [
       "<Figure size 640x480 with 1 Axes>"
      ]
     },
     "metadata": {},
     "output_type": "display_data"
    }
   ],
   "source": [
    "tras.CustomerDOB.dt.year.hist(bins=50)"
   ]
  },
  {
   "cell_type": "markdown",
   "id": "879e2573-da4f-4134-8d56-f26a9d70eb21",
   "metadata": {},
   "source": [
    "We can see \n",
    "1. people being born in the future => millanium bug\n",
    "2. people being born in 1800 => we consider there DOB to be unknown"
   ]
  },
  {
   "cell_type": "code",
   "execution_count": 5,
   "id": "38d94b69-7df3-46a5-a699-bc53a89efa73",
   "metadata": {
    "id": "66688a54"
   },
   "outputs": [],
   "source": [
    "tras.loc[tras.CustomerDOB.dt.year > 2016, 'CustomerDOB'] = \\\n",
    "tras.loc[tras.CustomerDOB.dt.year > 2016, 'CustomerDOB']\\\n",
    "- pd.DateOffset(years = 100)"
   ]
  },
  {
   "cell_type": "code",
   "execution_count": 6,
   "id": "8aa0a10d-11f1-4fc9-a50e-0daf170d2805",
   "metadata": {
    "id": "596ab891"
   },
   "outputs": [],
   "source": [
    "tras.loc[tras.CustomerDOB.dt.year == 1800, \"CustomerDOB\"] = pd.NaT"
   ]
  },
  {
   "cell_type": "code",
   "execution_count": 7,
   "id": "7caea5f4-096e-404b-a132-2a0aeea5e77f",
   "metadata": {
    "id": "3ed2fb3f",
    "outputId": "c57a48c9-5bc9-4555-c5b3-da293bdb20e6"
   },
   "outputs": [
    {
     "data": {
      "text/plain": [
       "<AxesSubplot: >"
      ]
     },
     "execution_count": 7,
     "metadata": {},
     "output_type": "execute_result"
    },
    {
     "data": {
      "image/png": "[encoded data removed]",
      "text/plain": [
       "<Figure size 640x480 with 1 Axes>"
      ]
     },
     "metadata": {},
     "output_type": "display_data"
    }
   ],
   "source": [
    "tras.CustomerDOB.dt.year.hist(bins=50)"
   ]
  },
  {
   "cell_type": "code",
   "execution_count": 8,
   "id": "2983bca6-7423-435d-bfc2-f6ef309e600c",
   "metadata": {
    "id": "329c80a5"
   },
   "outputs": [],
   "source": [
    "from datetime import datetime\n",
    "tras.TransactionTime = tras.TransactionTime.apply(lambda x: datetime.strptime(str(x).zfill(6), '%H%M%S'))"
   ]
  },
  {
   "cell_type": "markdown",
   "id": "dbb6757a-c4a2-4a7a-a89a-b80720321947",
   "metadata": {},
   "source": [
    "Missing values are not too many, so we drop them"
   ]
  },
  {
   "cell_type": "code",
   "execution_count": 9,
   "id": "c3641aef-281a-4b2c-a79b-83cc04e09c57",
   "metadata": {
    "id": "64a5611b",
    "outputId": "39f7dd99-b3a2-49fa-e1cd-1b56e1b0e8ea"
   },
   "outputs": [
    {
     "name": "stdout",
     "output_type": "stream",
     "text": [
      "NA rows: 0.0603156498344884\n"
     ]
    }
   ],
   "source": [
    "print('NA rows:',tras.isna().any(axis=1).sum() / tras.shape[0])\n",
    "tras.dropna(inplace=True)"
   ]
  },
  {
   "cell_type": "markdown",
   "id": "e26753f7-4edb-4fbd-afb0-ce66da5fd9f5",
   "metadata": {},
   "source": [
    "We now create a new feature that describes the age of the customer when doing the transaction"
   ]
  },
  {
   "cell_type": "code",
   "execution_count": 10,
   "id": "c3dbb6a8-6d8b-4d18-b292-3d0dab283f40",
   "metadata": {
    "id": "54f969f5",
    "scrolled": true
   },
   "outputs": [],
   "source": [
    "tras['CustomerAge'] = ((tras.TransactionDate - tras.CustomerDOB).dt.days / 365).round().astype(int)"
   ]
  },
  {
   "cell_type": "markdown",
   "id": "7bdae4d3-277c-4ea8-97da-1cae894ab486",
   "metadata": {
    "jp-MarkdownHeadingCollapsed": true,
    "tags": []
   },
   "source": [
    "### Locations\n",
    "___\n",
    "We notice that the locations are many and it may be difficult to handle all of them, so we try to clean them up and reduce the number of them, also because many of them are specifications of others, such as `MUMBAI` and `NAVI MUMBAI`."
   ]
  },
  {
   "cell_type": "code",
   "execution_count": 11,
   "id": "6dead1c2-766c-4a53-aedf-bee0aab11851",
   "metadata": {},
   "outputs": [
    {
     "data": {
      "text/plain": [
       "8164"
      ]
     },
     "execution_count": 11,
     "metadata": {},
     "output_type": "execute_result"
    }
   ],
   "source": [
    "tras.CustLocation.unique().size"
   ]
  },
  {
   "cell_type": "markdown",
   "id": "1e5724e7-1c80-4e25-8e1e-1c78e7feab09",
   "metadata": {},
   "source": [
    "Removing punctuation"
   ]
  },
  {
   "cell_type": "code",
   "execution_count": 46,
   "id": "efadf725-5020-4108-a302-b3f7095a9149",
   "metadata": {},
   "outputs": [],
   "source": [
    "import re\n",
    "tras['CleanLocation'] =\\\n",
    "    tras.CustLocation.apply(lambda loc : re.sub(r'[^\\w\\s]', '', loc))"
   ]
  },
  {
   "cell_type": "markdown",
   "id": "d47928e2-4c41-4203-bb52-e9501608132c",
   "metadata": {},
   "source": [
    "Now for every location we search for a shorter name that is present in the dataset. We check if the shorter version is a sub-string of the original name, if yes then we consider it to be the same location.\n",
    "\n",
    "Also if a city is not very frequent (less than 40 occurences) we assign it to `OTHER`."
   ]
  },
  {
   "cell_type": "code",
   "execution_count": 50,
   "id": "cea31571-1d7a-4228-a95e-a3c739979ec1",
   "metadata": {},
   "outputs": [],
   "source": [
    "unique_locations = tras.CleanLocation.value_counts()\n",
    "POPULARITY_THRESHOLD = 40\n",
    "popular_locations =  unique_locations[unique_locations > POPULARITY_THRESHOLD]\n",
    "unpopular_locations = unique_locations[unique_locations <= POPULARITY_THRESHOLD]\n",
    "\n",
    "def clean(city):\n",
    "    parts = city.split()\n",
    "\n",
    "    for p in parts:\n",
    "        if p in popular_locations.index:\n",
    "            return p\n",
    "        \n",
    "    return 'OTHER'\n",
    "\n",
    "mapping = dict(zip(unpopular_locations.index, unpopular_locations.index.map(clean)))\n",
    "tras.CleanLocation = tras.CleanLocation.map(lambda c: mapping[c] if c in mapping.keys() else c)"
   ]
  },
  {
   "cell_type": "markdown",
   "id": "5ff8b53c",
   "metadata": {},
   "source": [
    "We observe that we have succesfully reduced the size of the unique values, by a factor of 10."
   ]
  },
  {
   "cell_type": "code",
   "execution_count": 51,
   "id": "0f599af7-2ec3-4484-ac89-4188acd03eda",
   "metadata": {},
   "outputs": [
    {
     "data": {
      "text/plain": [
       "962"
      ]
     },
     "execution_count": 51,
     "metadata": {},
     "output_type": "execute_result"
    }
   ],
   "source": [
    "tras.CleanLocation.unique().size"
   ]
  },
  {
   "cell_type": "markdown",
   "id": "79c27405-f669-4343-a29c-fb89ff3fe5ee",
   "metadata": {
    "id": "c0a62675",
    "tags": []
   },
   "source": [
    "## 2.1.2 Group by customers\n",
    "\n",
    "We need to obtain the following features for each customer out of our original dataset:\n",
    "- Number of transactions\n",
    "- Number of transactions with a balance bigger than 100 USD\n",
    "- Average amount of the transactions\n",
    "- Average balance\n",
    "- Average difference between the balance and the transaction amount for each customer (this is mainly known in the banking world as utilisation).\n",
    "- Most common gender of the customer\n",
    "- Most frequent location of the customer\n"
   ]
  },
  {
   "cell_type": "code",
   "execution_count": 53,
   "id": "f9c89206-09f0-4fcc-b440-221cf2cd0a1b",
   "metadata": {},
   "outputs": [],
   "source": [
    "# Most frequent Age, Gender and Location\n",
    "custs = tras \\\n",
    "    .groupby('CustomerID')[['CustomerAge', 'CustGender', 'CleanLocation']] \\\n",
    "    .agg(lambda col: col.mode()[0])\n",
    "\n",
    "# Average of transaction amount and balance\n",
    "custs[['CustAccountBalance_avrg', 'TransactionAmount_avrg (INR)']] = \\\n",
    "    tras.groupby('CustomerID')[['CustAccountBalance', 'TransactionAmount (INR)']].mean()\n",
    "\n",
    "# Number of transactions\n",
    "custs['TransactionNum'] = tras.groupby('CustomerID')['TransactionAmount (INR)'].count()\n",
    "\n",
    "# Number of transactions over 100 INR dollars\n",
    "custs['TransactionNumGT100'] = tras.loc[tras['TransactionAmount (INR)'] > 100].groupby('CustomerID')['TransactionAmount (INR)'].count()\n",
    "custs.TransactionNumGT100.fillna(0, inplace=True)\n",
    "custs.TransactionNumGT100 = custs.TransactionNumGT100.astype(int)\n",
    "\n",
    "# Utilisation\n",
    "tras['utilisation'] = tras.CustAccountBalance - tras['TransactionAmount (INR)']\n",
    "custs['utilisation'] = tras.groupby('CustomerID')['utilisation'].mean()\n",
    "\n",
    "custs.to_csv('customers.tsv', sep=\"\\t\")\n",
    "custs.head()"
   ]
  },
  {
   "cell_type": "markdown",
   "id": "5da70003-3571-4914-8507-2693e1405791",
   "metadata": {
    "id": "862f41d9",
    "tags": []
   },
   "source": [
    "## 2.1.3 Engineer new features\n",
    "\n",
    "We have to extract some new features out of our original dataset. We picked the following features:\n",
    "- Most frequent day of week\n",
    "- Ever transactioned on weekend"
   ]
  },
  {
   "cell_type": "code",
   "execution_count": 109,
   "id": "3f14457c",
   "metadata": {},
   "outputs": [],
   "source": [
    "custs['dayOfWeek_Mode'] = tras.groupby('CustomerID')['TransactionDate'].agg(lambda d: d.dt.day_name().mode()[0])\n",
    "custs['weekend'] = tras.groupby('CustomerID', sort=False)['TransactionDate'].agg(lambda d: any(d.dt.dayofweek >= 5) )"
   ]
  },
  {
   "cell_type": "markdown",
   "id": "c022174d",
   "metadata": {},
   "source": [
    "- Average time between transactions"
   ]
  },
  {
   "cell_type": "code",
   "execution_count": 103,
   "id": "21a8aab2",
   "metadata": {},
   "outputs": [],
   "source": [
    "custs['avg_period'] = tras.groupby('CustomerID')['TransactionDate'].agg(lambda d: ((d.max() - d.min()) / d.count()).total_seconds())"
   ]
  },
  {
   "cell_type": "markdown",
   "id": "03770711",
   "metadata": {},
   "source": [
    "- Was ever in negative balance"
   ]
  },
  {
   "cell_type": "code",
   "execution_count": 94,
   "id": "4fa78c3c",
   "metadata": {},
   "outputs": [],
   "source": [
    "custs['NegativeBalance'] = tras[tras.CustAccountBalance <= 0].groupby('CustomerID')['CustAccountBalance'].count()\n",
    "custs['NegativeBalance'].fillna(0, inplace=True)"
   ]
  },
  {
   "cell_type": "markdown",
   "id": "f9e6e932",
   "metadata": {},
   "source": [
    "- Maximum expense over balance in one transaction\n",
    "- Mean expense over balance in one transaction"
   ]
  },
  {
   "cell_type": "code",
   "execution_count": 170,
   "id": "18b6eafa",
   "metadata": {},
   "outputs": [],
   "source": [
    "tras['impact'] = (tras['TransactionAmount (INR)'] +.1)/ (tras.CustAccountBalance +1)\n",
    "custs[['MaxImpact', 'AvgImpact']] = tras.groupby('CustomerID')['impact'].agg([max, 'mean'])"
   ]
  },
  {
   "cell_type": "markdown",
   "id": "a950b513",
   "metadata": {},
   "source": [
    "- Max Transaction\n",
    "- Min Transaction\n",
    "- Median Transaction\n",
    "- 25-percentile Transaction\n",
    "- 75-percentile Transaction\n",
    "- Standeard Deviation of Transaction"
   ]
  },
  {
   "cell_type": "code",
   "execution_count": 107,
   "id": "68756220",
   "metadata": {},
   "outputs": [],
   "source": [
    "from functions import percentile\n",
    "custs[[\n",
    "    'Max Transaction', 'Min Transaction', \n",
    "    'Median Transaction', '25-percentile Transaction', \n",
    "    '75-percentile Transaction', 'Standard Deviation Transaction']] \\\n",
    "    = tras.groupby('CustomerID')['TransactionAmount (INR)'] \\\n",
    "        .agg([max, min, 'median', percentile(25), percentile(75), 'std'])"
   ]
  },
  {
   "cell_type": "markdown",
   "id": "6e09f67b",
   "metadata": {},
   "source": [
    "- Median Balance\n",
    "- Max Balance\n",
    "- Min Balance\n",
    "- Standard Deviation of Balance"
   ]
  },
  {
   "cell_type": "code",
   "execution_count": 112,
   "id": "d0e15eaf",
   "metadata": {},
   "outputs": [],
   "source": [
    "custs[[\n",
    "    'Median Balance', 'Max Balance', \n",
    "    'Min Balance', 'Standard Deviation Balance']] \\\n",
    "    = tras.groupby('CustomerID', sort=False)['CustAccountBalance']\\\n",
    "        .agg(['median', max, min, 'std'])\\\n",
    "custs.fillna(0, inplace=True) # need to fill the NA values of the standard deviation with only one transaction"
   ]
  },
  {
   "cell_type": "markdown",
   "id": "1a021d01",
   "metadata": {},
   "source": [
    "- Season of birth\n",
    "- Decade of birth"
   ]
  },
  {
   "cell_type": "code",
   "execution_count": 126,
   "id": "ad92bf68",
   "metadata": {},
   "outputs": [],
   "source": [
    "SEASONS = {0: 'Winter', 1:'Spring', 2:'Summer',3:'Fall'}\n",
    "custs['seasonDOB'] = tras.groupby('CustomerID')['CustomerDOB'].agg('first').map(lambda dob: (dob.month - 1) // 3 ).map(SEASONS)\n",
    "\n",
    "custs['decadeDOB'] = tras.groupby('CustomerID')['CustomerDOB'].agg('first').map(lambda dob: str(dob.year//10 * 10))"
   ]
  },
  {
   "cell_type": "markdown",
   "id": "97d8d3f0",
   "metadata": {},
   "source": [
    "- Most frequent period of day (morning, noon, evening and night)\n",
    "- Ever transactioned at night"
   ]
  },
  {
   "cell_type": "code",
   "execution_count": 133,
   "id": "efb35b81",
   "metadata": {},
   "outputs": [],
   "source": [
    "DAY_PERIOD = {0: 'Night', 1: 'Morning', 2:'Afternoon', 3:'Evening'}\n",
    "tras['transaction_period'] = tras.TransactionTime.map(lambda time: time.hour // 6).map(DAY_PERIOD)\n",
    "custs['DayPeriodMode'] = tras.groupby('CustomerID')['TransactionTime'].agg(lambda p: p.mode()[0])\n",
    "\n",
    "custs['NightTransaction'] = tras.groupby('CustomerID', sort=False)['transaction_period'].agg(lambda d: any(d == 'Night') )"
   ]
  },
  {
   "cell_type": "markdown",
   "id": "2e1ed5a1-da41-49e4-b759-52eae3d59c3e",
   "metadata": {},
   "source": [
    "### Results:\n",
    "Finally we can enjoy our new enriched dataset of 27 features, of which:\n",
    "- 7 categorical\n",
    "- 20 numerical"
   ]
  },
  {
   "cell_type": "code",
   "execution_count": 14,
   "id": "553fb9fa",
   "metadata": {},
   "outputs": [
    {
     "data": {
      "text/html": [
       "<div>\n",
       "<style scoped>\n",
       "    .dataframe tbody tr th:only-of-type {\n",
       "        vertical-align: middle;\n",
       "    }\n",
       "\n",
       "    .dataframe tbody tr th {\n",
       "        vertical-align: top;\n",
       "    }\n",
       "\n",
       "    .dataframe thead th {\n",
       "        text-align: right;\n",
       "    }\n",
       "</style>\n",
       "<table border=\"1\" class=\"dataframe\">\n",
       "  <thead>\n",
       "    <tr style=\"text-align: right;\">\n",
       "      <th></th>\n",
       "      <th>CustomerAge</th>\n",
       "      <th>CustGender</th>\n",
       "      <th>CleanLocation</th>\n",
       "      <th>CustAccountBalance_avrg</th>\n",
       "      <th>TransactionAmount_avrg (INR)</th>\n",
       "      <th>TransactionNum</th>\n",
       "      <th>TransactionNumGT100</th>\n",
       "      <th>utilisation</th>\n",
       "      <th>dayOfWeek_Mode</th>\n",
       "      <th>avg_period</th>\n",
       "      <th>...</th>\n",
       "      <th>25-percentile Transaction</th>\n",
       "      <th>75-percentile Transaction</th>\n",
       "      <th>Standard Deviation of Transaction</th>\n",
       "      <th>weekend</th>\n",
       "      <th>Median Balance</th>\n",
       "      <th>Max Balance</th>\n",
       "      <th>Min Balance</th>\n",
       "      <th>Standard Deviation Balance</th>\n",
       "      <th>seasonDOB</th>\n",
       "      <th>NightTransaction</th>\n",
       "    </tr>\n",
       "    <tr>\n",
       "      <th>CustomerID</th>\n",
       "      <th></th>\n",
       "      <th></th>\n",
       "      <th></th>\n",
       "      <th></th>\n",
       "      <th></th>\n",
       "      <th></th>\n",
       "      <th></th>\n",
       "      <th></th>\n",
       "      <th></th>\n",
       "      <th></th>\n",
       "      <th></th>\n",
       "      <th></th>\n",
       "      <th></th>\n",
       "      <th></th>\n",
       "      <th></th>\n",
       "      <th></th>\n",
       "      <th></th>\n",
       "      <th></th>\n",
       "      <th></th>\n",
       "      <th></th>\n",
       "      <th></th>\n",
       "    </tr>\n",
       "  </thead>\n",
       "  <tbody>\n",
       "    <tr>\n",
       "      <th>C1010011</th>\n",
       "      <td>24</td>\n",
       "      <td>F</td>\n",
       "      <td>NEW DELHI</td>\n",
       "      <td>76340.635</td>\n",
       "      <td>2553.0</td>\n",
       "      <td>2</td>\n",
       "      <td>2</td>\n",
       "      <td>73787.635</td>\n",
       "      <td>Monday</td>\n",
       "      <td>777600.0</td>\n",
       "      <td>...</td>\n",
       "      <td>1454.50</td>\n",
       "      <td>3651.50</td>\n",
       "      <td>3107.027197</td>\n",
       "      <td>False</td>\n",
       "      <td>76340.635</td>\n",
       "      <td>120180.54</td>\n",
       "      <td>32500.73</td>\n",
       "      <td>61998.988224</td>\n",
       "      <td>Summer</td>\n",
       "      <td>True</td>\n",
       "    </tr>\n",
       "    <tr>\n",
       "      <th>C1010012</th>\n",
       "      <td>22</td>\n",
       "      <td>M</td>\n",
       "      <td>MUMBAI</td>\n",
       "      <td>24204.490</td>\n",
       "      <td>1499.0</td>\n",
       "      <td>1</td>\n",
       "      <td>1</td>\n",
       "      <td>22705.490</td>\n",
       "      <td>Sunday</td>\n",
       "      <td>0.0</td>\n",
       "      <td>...</td>\n",
       "      <td>1499.00</td>\n",
       "      <td>1499.00</td>\n",
       "      <td>0.000000</td>\n",
       "      <td>True</td>\n",
       "      <td>24204.490</td>\n",
       "      <td>24204.49</td>\n",
       "      <td>24204.49</td>\n",
       "      <td>0.000000</td>\n",
       "      <td>Summer</td>\n",
       "      <td>False</td>\n",
       "    </tr>\n",
       "    <tr>\n",
       "      <th>C1010014</th>\n",
       "      <td>24</td>\n",
       "      <td>F</td>\n",
       "      <td>MUMBAI</td>\n",
       "      <td>100112.950</td>\n",
       "      <td>727.5</td>\n",
       "      <td>2</td>\n",
       "      <td>2</td>\n",
       "      <td>99385.450</td>\n",
       "      <td>Friday</td>\n",
       "      <td>7862400.0</td>\n",
       "      <td>...</td>\n",
       "      <td>488.75</td>\n",
       "      <td>966.25</td>\n",
       "      <td>675.286976</td>\n",
       "      <td>False</td>\n",
       "      <td>100112.950</td>\n",
       "      <td>161848.76</td>\n",
       "      <td>38377.14</td>\n",
       "      <td>87307.619786</td>\n",
       "      <td>Spring</td>\n",
       "      <td>False</td>\n",
       "    </tr>\n",
       "    <tr>\n",
       "      <th>C1010018</th>\n",
       "      <td>26</td>\n",
       "      <td>F</td>\n",
       "      <td>CHAMPARAN</td>\n",
       "      <td>496.180</td>\n",
       "      <td>30.0</td>\n",
       "      <td>1</td>\n",
       "      <td>0</td>\n",
       "      <td>466.180</td>\n",
       "      <td>Thursday</td>\n",
       "      <td>0.0</td>\n",
       "      <td>...</td>\n",
       "      <td>30.00</td>\n",
       "      <td>30.00</td>\n",
       "      <td>0.000000</td>\n",
       "      <td>False</td>\n",
       "      <td>496.180</td>\n",
       "      <td>496.18</td>\n",
       "      <td>496.18</td>\n",
       "      <td>0.000000</td>\n",
       "      <td>Spring</td>\n",
       "      <td>False</td>\n",
       "    </tr>\n",
       "    <tr>\n",
       "      <th>C1010024</th>\n",
       "      <td>51</td>\n",
       "      <td>M</td>\n",
       "      <td>KOLKATA</td>\n",
       "      <td>87058.650</td>\n",
       "      <td>5000.0</td>\n",
       "      <td>1</td>\n",
       "      <td>1</td>\n",
       "      <td>82058.650</td>\n",
       "      <td>Thursday</td>\n",
       "      <td>0.0</td>\n",
       "      <td>...</td>\n",
       "      <td>5000.00</td>\n",
       "      <td>5000.00</td>\n",
       "      <td>0.000000</td>\n",
       "      <td>False</td>\n",
       "      <td>87058.650</td>\n",
       "      <td>87058.65</td>\n",
       "      <td>87058.65</td>\n",
       "      <td>0.000000</td>\n",
       "      <td>Spring</td>\n",
       "      <td>False</td>\n",
       "    </tr>\n",
       "  </tbody>\n",
       "</table>\n",
       "<p>5 rows × 26 columns</p>\n",
       "</div>"
      ],
      "text/plain": [
       "            CustomerAge CustGender CleanLocation  CustAccountBalance_avrg  \\\n",
       "CustomerID                                                                  \n",
       "C1010011             24          F     NEW DELHI                76340.635   \n",
       "C1010012             22          M        MUMBAI                24204.490   \n",
       "C1010014             24          F        MUMBAI               100112.950   \n",
       "C1010018             26          F     CHAMPARAN                  496.180   \n",
       "C1010024             51          M       KOLKATA                87058.650   \n",
       "\n",
       "            TransactionAmount_avrg (INR)  TransactionNum  TransactionNumGT100  \\\n",
       "CustomerID                                                                      \n",
       "C1010011                          2553.0               2                    2   \n",
       "C1010012                          1499.0               1                    1   \n",
       "C1010014                           727.5               2                    2   \n",
       "C1010018                            30.0               1                    0   \n",
       "C1010024                          5000.0               1                    1   \n",
       "\n",
       "            utilisation dayOfWeek_Mode  avg_period  ...  \\\n",
       "CustomerID                                          ...   \n",
       "C1010011      73787.635         Monday    777600.0  ...   \n",
       "C1010012      22705.490         Sunday         0.0  ...   \n",
       "C1010014      99385.450         Friday   7862400.0  ...   \n",
       "C1010018        466.180       Thursday         0.0  ...   \n",
       "C1010024      82058.650       Thursday         0.0  ...   \n",
       "\n",
       "            25-percentile Transaction  75-percentile Transaction  \\\n",
       "CustomerID                                                         \n",
       "C1010011                      1454.50                    3651.50   \n",
       "C1010012                      1499.00                    1499.00   \n",
       "C1010014                       488.75                     966.25   \n",
       "C1010018                        30.00                      30.00   \n",
       "C1010024                      5000.00                    5000.00   \n",
       "\n",
       "            Standard Deviation of Transaction  weekend  Median Balance  \\\n",
       "CustomerID                                                               \n",
       "C1010011                          3107.027197    False       76340.635   \n",
       "C1010012                             0.000000     True       24204.490   \n",
       "C1010014                           675.286976    False      100112.950   \n",
       "C1010018                             0.000000    False         496.180   \n",
       "C1010024                             0.000000    False       87058.650   \n",
       "\n",
       "            Max Balance  Min Balance  Standard Deviation Balance  seasonDOB  \\\n",
       "CustomerID                                                                    \n",
       "C1010011      120180.54     32500.73                61998.988224     Summer   \n",
       "C1010012       24204.49     24204.49                    0.000000     Summer   \n",
       "C1010014      161848.76     38377.14                87307.619786     Spring   \n",
       "C1010018         496.18       496.18                    0.000000     Spring   \n",
       "C1010024       87058.65     87058.65                    0.000000     Spring   \n",
       "\n",
       "            NightTransaction  \n",
       "CustomerID                    \n",
       "C1010011                True  \n",
       "C1010012               False  \n",
       "C1010014               False  \n",
       "C1010018               False  \n",
       "C1010024               False  \n",
       "\n",
       "[5 rows x 26 columns]"
      ]
     },
     "execution_count": 14,
     "metadata": {},
     "output_type": "execute_result"
    }
   ],
   "source": [
    "custs.to_csv('customers_enriched.csv')\n",
    "custs.head()"
   ]
  },
  {
   "cell_type": "markdown",
   "id": "2ea087eb-cb79-4081-9fa9-0a4345c78453",
   "metadata": {
    "tags": []
   },
   "source": [
    "# 2.2 Pick your features!\n",
    "Now that we have this many features we want to apply some dimensionality reduction to it, in order to ease the training of our model later.\n",
    "\n",
    "Since our model has both categorical and numerical features the optimal solution would've been to use the **FAMD** rather than the PCA, but due to shortage of time, and some very decent results, we will pick the **PCA** to decompose our features nonetheless.\n",
    "\n",
    "We will first perform some preprocessing to our data by making use of the `Pipeline` library of _scikit-learn_, and then apply the PCA."
   ]
  },
  {
   "cell_type": "code",
   "execution_count": 24,
   "id": "1ec53e7b-7977-4920-af6e-4370d744f32f",
   "metadata": {
    "cell_id": "eed9eb8bf344463ca4e8903fd708b774",
    "deepnote_cell_type": "code",
    "deepnote_to_be_reexecuted": false,
    "execution_millis": 1683,
    "execution_start": 1670676987556,
    "source_hash": "8acf73a4",
    "tags": []
   },
   "outputs": [],
   "source": [
    "import pandas as pd\n",
    "import numpy as np\n",
    "from sklearn.pipeline import make_pipeline\n",
    "from sklearn.preprocessing import MinMaxScaler, OrdinalEncoder\n",
    "from sklearn.compose import make_column_transformer\n",
    "from sklearn.compose import make_column_selector as col_selector\n",
    "from sklearn.decomposition import PCA\n",
    "\n",
    "custs = pd.read_csv('customers_enriched.csv', index_col='CustomerID')"
   ]
  },
  {
   "cell_type": "markdown",
   "id": "47ccd5c6",
   "metadata": {},
   "source": [
    "## Build the Pipeline\n",
    "Now we build the Pipeline that will handle our preprocessing:\n",
    "- An `OrdinalEncoder` for the **categorical** columns. While this is not optimal we notice that we still obtain some good results with it. \n",
    "- A `MinMaxScaler` for all the columns, as the PCA works so much better with scaled values, because otherwise values which have much higher variance might greatly influence the overall variance.\n",
    "Then we will pass everything into the PCA and we will select as many features as to guaranteee that at least 70% of the variance is covered"
   ]
  },
  {
   "cell_type": "code",
   "execution_count": 8,
   "id": "f34ad5b9",
   "metadata": {},
   "outputs": [
    {
     "data": {
      "text/html": [
       "<style>#sk-container-id-1 {color: black;background-color: white;}#sk-container-id-1 pre{padding: 0;}#sk-container-id-1 div.sk-toggleable {background-color: white;}#sk-container-id-1 label.sk-toggleable__label {cursor: pointer;display: block;width: 100%;margin-bottom: 0;padding: 0.3em;box-sizing: border-box;text-align: center;}#sk-container-id-1 label.sk-toggleable__label-arrow:before {content: \"▸\";float: left;margin-right: 0.25em;color: #696969;}#sk-container-id-1 label.sk-toggleable__label-arrow:hover:before {color: black;}#sk-container-id-1 div.sk-estimator:hover label.sk-toggleable__label-arrow:before {color: black;}#sk-container-id-1 div.sk-toggleable__content {max-height: 0;max-width: 0;overflow: hidden;text-align: left;background-color: #f0f8ff;}#sk-container-id-1 div.sk-toggleable__content pre {margin: 0.2em;color: black;border-radius: 0.25em;background-color: #f0f8ff;}#sk-container-id-1 input.sk-toggleable__control:checked~div.sk-toggleable__content {max-height: 200px;max-width: 100%;overflow: auto;}#sk-container-id-1 input.sk-toggleable__control:checked~label.sk-toggleable__label-arrow:before {content: \"▾\";}#sk-container-id-1 div.sk-estimator input.sk-toggleable__control:checked~label.sk-toggleable__label {background-color: #d4ebff;}#sk-container-id-1 div.sk-label input.sk-toggleable__control:checked~label.sk-toggleable__label {background-color: #d4ebff;}#sk-container-id-1 input.sk-hidden--visually {border: 0;clip: rect(1px 1px 1px 1px);clip: rect(1px, 1px, 1px, 1px);height: 1px;margin: -1px;overflow: hidden;padding: 0;position: absolute;width: 1px;}#sk-container-id-1 div.sk-estimator {font-family: monospace;background-color: #f0f8ff;border: 1px dotted black;border-radius: 0.25em;box-sizing: border-box;margin-bottom: 0.5em;}#sk-container-id-1 div.sk-estimator:hover {background-color: #d4ebff;}#sk-container-id-1 div.sk-parallel-item::after {content: \"\";width: 100%;border-bottom: 1px solid gray;flex-grow: 1;}#sk-container-id-1 div.sk-label:hover label.sk-toggleable__label {background-color: #d4ebff;}#sk-container-id-1 div.sk-serial::before {content: \"\";position: absolute;border-left: 1px solid gray;box-sizing: border-box;top: 0;bottom: 0;left: 50%;z-index: 0;}#sk-container-id-1 div.sk-serial {display: flex;flex-direction: column;align-items: center;background-color: white;padding-right: 0.2em;padding-left: 0.2em;position: relative;}#sk-container-id-1 div.sk-item {position: relative;z-index: 1;}#sk-container-id-1 div.sk-parallel {display: flex;align-items: stretch;justify-content: center;background-color: white;position: relative;}#sk-container-id-1 div.sk-item::before, #sk-container-id-1 div.sk-parallel-item::before {content: \"\";position: absolute;border-left: 1px solid gray;box-sizing: border-box;top: 0;bottom: 0;left: 50%;z-index: -1;}#sk-container-id-1 div.sk-parallel-item {display: flex;flex-direction: column;z-index: 1;position: relative;background-color: white;}#sk-container-id-1 div.sk-parallel-item:first-child::after {align-self: flex-end;width: 50%;}#sk-container-id-1 div.sk-parallel-item:last-child::after {align-self: flex-start;width: 50%;}#sk-container-id-1 div.sk-parallel-item:only-child::after {width: 0;}#sk-container-id-1 div.sk-dashed-wrapped {border: 1px dashed gray;margin: 0 0.4em 0.5em 0.4em;box-sizing: border-box;padding-bottom: 0.4em;background-color: white;}#sk-container-id-1 div.sk-label label {font-family: monospace;font-weight: bold;display: inline-block;line-height: 1.2em;}#sk-container-id-1 div.sk-label-container {text-align: center;}#sk-container-id-1 div.sk-container {/* jupyter's `normalize.less` sets `[hidden] { display: none; }` but bootstrap.min.css set `[hidden] { display: none !important; }` so we also need the `!important` here to be able to override the default hidden behavior on the sphinx rendered scikit-learn.org. See: https://github.com/scikit-learn/scikit-learn/issues/21755 */display: inline-block !important;position: relative;}#sk-container-id-1 div.sk-text-repr-fallback {display: none;}</style><div id=\"sk-container-id-1\" class=\"sk-top-container\"><div class=\"sk-text-repr-fallback\"><pre>Pipeline(steps=[(&#x27;columntransformer&#x27;,\n",
       "                 ColumnTransformer(transformers=[(&#x27;ordinalencoder&#x27;,\n",
       "                                                  OrdinalEncoder(handle_unknown=&#x27;use_encoded_value&#x27;,\n",
       "                                                                 unknown_value=-1),\n",
       "                                                  &lt;sklearn.compose._column_transformer.make_column_selector object at 0x7fc46de2a3b0&gt;),\n",
       "                                                 (&#x27;passthrough&#x27;, &#x27;passthrough&#x27;,\n",
       "                                                  &lt;sklearn.compose._column_transformer.make_column_selector object at 0x7fc46de2a4a0&gt;)])),\n",
       "                (&#x27;minmaxscaler&#x27;, MinMaxScaler()),\n",
       "                (&#x27;pca&#x27;, PCA(n_components=10))])</pre><b>In a Jupyter environment, please rerun this cell to show the HTML representation or trust the notebook. <br />On GitHub, the HTML representation is unable to render, please try loading this page with nbviewer.org.</b></div><div class=\"sk-container\" hidden><div class=\"sk-item sk-dashed-wrapped\"><div class=\"sk-label-container\"><div class=\"sk-label sk-toggleable\"><input class=\"sk-toggleable__control sk-hidden--visually\" id=\"sk-estimator-id-1\" type=\"checkbox\" ><label for=\"sk-estimator-id-1\" class=\"sk-toggleable__label sk-toggleable__label-arrow\">Pipeline</label><div class=\"sk-toggleable__content\"><pre>Pipeline(steps=[(&#x27;columntransformer&#x27;,\n",
       "                 ColumnTransformer(transformers=[(&#x27;ordinalencoder&#x27;,\n",
       "                                                  OrdinalEncoder(handle_unknown=&#x27;use_encoded_value&#x27;,\n",
       "                                                                 unknown_value=-1),\n",
       "                                                  &lt;sklearn.compose._column_transformer.make_column_selector object at 0x7fc46de2a3b0&gt;),\n",
       "                                                 (&#x27;passthrough&#x27;, &#x27;passthrough&#x27;,\n",
       "                                                  &lt;sklearn.compose._column_transformer.make_column_selector object at 0x7fc46de2a4a0&gt;)])),\n",
       "                (&#x27;minmaxscaler&#x27;, MinMaxScaler()),\n",
       "                (&#x27;pca&#x27;, PCA(n_components=10))])</pre></div></div></div><div class=\"sk-serial\"><div class=\"sk-item sk-dashed-wrapped\"><div class=\"sk-label-container\"><div class=\"sk-label sk-toggleable\"><input class=\"sk-toggleable__control sk-hidden--visually\" id=\"sk-estimator-id-2\" type=\"checkbox\" ><label for=\"sk-estimator-id-2\" class=\"sk-toggleable__label sk-toggleable__label-arrow\">columntransformer: ColumnTransformer</label><div class=\"sk-toggleable__content\"><pre>ColumnTransformer(transformers=[(&#x27;ordinalencoder&#x27;,\n",
       "                                 OrdinalEncoder(handle_unknown=&#x27;use_encoded_value&#x27;,\n",
       "                                                unknown_value=-1),\n",
       "                                 &lt;sklearn.compose._column_transformer.make_column_selector object at 0x7fc46de2a3b0&gt;),\n",
       "                                (&#x27;passthrough&#x27;, &#x27;passthrough&#x27;,\n",
       "                                 &lt;sklearn.compose._column_transformer.make_column_selector object at 0x7fc46de2a4a0&gt;)])</pre></div></div></div><div class=\"sk-parallel\"><div class=\"sk-parallel-item\"><div class=\"sk-item\"><div class=\"sk-label-container\"><div class=\"sk-label sk-toggleable\"><input class=\"sk-toggleable__control sk-hidden--visually\" id=\"sk-estimator-id-3\" type=\"checkbox\" ><label for=\"sk-estimator-id-3\" class=\"sk-toggleable__label sk-toggleable__label-arrow\">ordinalencoder</label><div class=\"sk-toggleable__content\"><pre>&lt;sklearn.compose._column_transformer.make_column_selector object at 0x7fc46de2a3b0&gt;</pre></div></div></div><div class=\"sk-serial\"><div class=\"sk-item\"><div class=\"sk-estimator sk-toggleable\"><input class=\"sk-toggleable__control sk-hidden--visually\" id=\"sk-estimator-id-4\" type=\"checkbox\" ><label for=\"sk-estimator-id-4\" class=\"sk-toggleable__label sk-toggleable__label-arrow\">OrdinalEncoder</label><div class=\"sk-toggleable__content\"><pre>OrdinalEncoder(handle_unknown=&#x27;use_encoded_value&#x27;, unknown_value=-1)</pre></div></div></div></div></div></div><div class=\"sk-parallel-item\"><div class=\"sk-item\"><div class=\"sk-label-container\"><div class=\"sk-label sk-toggleable\"><input class=\"sk-toggleable__control sk-hidden--visually\" id=\"sk-estimator-id-5\" type=\"checkbox\" ><label for=\"sk-estimator-id-5\" class=\"sk-toggleable__label sk-toggleable__label-arrow\">passthrough</label><div class=\"sk-toggleable__content\"><pre>&lt;sklearn.compose._column_transformer.make_column_selector object at 0x7fc46de2a4a0&gt;</pre></div></div></div><div class=\"sk-serial\"><div class=\"sk-item\"><div class=\"sk-estimator sk-toggleable\"><input class=\"sk-toggleable__control sk-hidden--visually\" id=\"sk-estimator-id-6\" type=\"checkbox\" ><label for=\"sk-estimator-id-6\" class=\"sk-toggleable__label sk-toggleable__label-arrow\">passthrough</label><div class=\"sk-toggleable__content\"><pre>passthrough</pre></div></div></div></div></div></div></div></div><div class=\"sk-item\"><div class=\"sk-estimator sk-toggleable\"><input class=\"sk-toggleable__control sk-hidden--visually\" id=\"sk-estimator-id-7\" type=\"checkbox\" ><label for=\"sk-estimator-id-7\" class=\"sk-toggleable__label sk-toggleable__label-arrow\">MinMaxScaler</label><div class=\"sk-toggleable__content\"><pre>MinMaxScaler()</pre></div></div></div><div class=\"sk-item\"><div class=\"sk-estimator sk-toggleable\"><input class=\"sk-toggleable__control sk-hidden--visually\" id=\"sk-estimator-id-8\" type=\"checkbox\" ><label for=\"sk-estimator-id-8\" class=\"sk-toggleable__label sk-toggleable__label-arrow\">PCA</label><div class=\"sk-toggleable__content\"><pre>PCA(n_components=10)</pre></div></div></div></div></div></div></div>"
      ],
      "text/plain": [
       "Pipeline(steps=[('columntransformer',\n",
       "                 ColumnTransformer(transformers=[('ordinalencoder',\n",
       "                                                  OrdinalEncoder(handle_unknown='use_encoded_value',\n",
       "                                                                 unknown_value=-1),\n",
       "                                                  <sklearn.compose._column_transformer.make_column_selector object at 0x7fc46de2a3b0>),\n",
       "                                                 ('passthrough', 'passthrough',\n",
       "                                                  <sklearn.compose._column_transformer.make_column_selector object at 0x7fc46de2a4a0>)])),\n",
       "                ('minmaxscaler', MinMaxScaler()),\n",
       "                ('pca', PCA(n_components=10))])"
      ]
     },
     "execution_count": 8,
     "metadata": {},
     "output_type": "execute_result"
    }
   ],
   "source": [
    "preprocess = make_column_transformer(\n",
    "    (OrdinalEncoder(\n",
    "        handle_unknown='use_encoded_value', \n",
    "        unknown_value=-1,\n",
    "        # min_frequency=1e-3,\n",
    "        ),col_selector(dtype_exclude=np.number)),\n",
    "    ('passthrough', col_selector(dtype_include=np.number))\n",
    ")\n",
    "pipe = make_pipeline(\n",
    "    preprocess,\n",
    "    MinMaxScaler(),\n",
    "    PCA(n_components=10)\n",
    ")\n",
    "\n",
    "pipe.fit(custs)"
   ]
  },
  {
   "cell_type": "markdown",
   "id": "282c356e-389c-475c-af72-7cbe4bc153d6",
   "metadata": {},
   "source": [
    "## Pick the optimal number of features\n",
    "Finally we see how many features we need to explain the variability of at least 70% of the data."
   ]
  },
  {
   "cell_type": "code",
   "execution_count": 9,
   "id": "7edcc021-e3dc-48e3-8e95-4b1f5e46da4d",
   "metadata": {
    "cell_id": "db9a4e6dff6d4a3da94b597127272b79",
    "deepnote_cell_type": "code",
    "deepnote_to_be_reexecuted": false,
    "execution_millis": 2,
    "execution_start": 1670677162643,
    "source_hash": "e222122",
    "tags": []
   },
   "outputs": [
    {
     "name": "stdout",
     "output_type": "stream",
     "text": [
      " 1 features explain 27.5% of the data\n",
      " 2 features explain 52.6% of the data\n",
      " 3 features explain 69.2% of the data\n",
      " 4 features explain 82.0% of the data\n",
      " 5 features explain 89.6% of the data\n",
      " 6 features explain 95.5% of the data\n",
      " 7 features explain 98.0% of the data\n",
      " 8 features explain 98.9% of the data\n",
      " 9 features explain 99.6% of the data\n",
      "10 features explain 99.9% of the data\n"
     ]
    }
   ],
   "source": [
    "n_features = 0\n",
    "pca_variance = pipe.named_steps['pca'].explained_variance_ratio_\n",
    "# pca_variance = pipe.explained_inertia_\n",
    "\n",
    "for i in range(1,len(pca_variance)+1):\n",
    "    variance_explained = pca_variance[:i].sum()\n",
    "    print(f'{i:2} features explain {round(variance_explained*100,1)}% of the data')\n",
    "    if n_features == 0 and variance_explained > .7:\n",
    "        n_features = i    "
   ]
  },
  {
   "cell_type": "markdown",
   "id": "c44486ec-5e2e-46e2-9415-b99d396bccf0",
   "metadata": {},
   "source": [
    "And we can save the new features as csv."
   ]
  },
  {
   "cell_type": "code",
   "execution_count": 11,
   "id": "1f922402-8a33-40c0-87bf-58d97dda6e1e",
   "metadata": {
    "cell_id": "db9a4e6dff6d4a3da94b597127272b79",
    "deepnote_cell_type": "code",
    "deepnote_to_be_reexecuted": false,
    "execution_millis": 2,
    "execution_start": 1670677162643,
    "source_hash": "e222122",
    "tags": []
   },
   "outputs": [
    {
     "data": {
      "text/html": [
       "<div>\n",
       "<style scoped>\n",
       "    .dataframe tbody tr th:only-of-type {\n",
       "        vertical-align: middle;\n",
       "    }\n",
       "\n",
       "    .dataframe tbody tr th {\n",
       "        vertical-align: top;\n",
       "    }\n",
       "\n",
       "    .dataframe thead th {\n",
       "        text-align: right;\n",
       "    }\n",
       "</style>\n",
       "<table border=\"1\" class=\"dataframe\">\n",
       "  <thead>\n",
       "    <tr style=\"text-align: right;\">\n",
       "      <th></th>\n",
       "      <th>0</th>\n",
       "      <th>1</th>\n",
       "      <th>2</th>\n",
       "      <th>3</th>\n",
       "    </tr>\n",
       "    <tr>\n",
       "      <th>CustomerID</th>\n",
       "      <th></th>\n",
       "      <th></th>\n",
       "      <th></th>\n",
       "      <th></th>\n",
       "    </tr>\n",
       "  </thead>\n",
       "  <tbody>\n",
       "    <tr>\n",
       "      <th>C1010011</th>\n",
       "      <td>0.032457</td>\n",
       "      <td>0.722161</td>\n",
       "      <td>0.177405</td>\n",
       "      <td>-0.380639</td>\n",
       "    </tr>\n",
       "    <tr>\n",
       "      <th>C1010012</th>\n",
       "      <td>0.493733</td>\n",
       "      <td>-0.514476</td>\n",
       "      <td>0.152509</td>\n",
       "      <td>0.208996</td>\n",
       "    </tr>\n",
       "    <tr>\n",
       "      <th>C1010014</th>\n",
       "      <td>0.098465</td>\n",
       "      <td>0.744928</td>\n",
       "      <td>-0.153900</td>\n",
       "      <td>-0.551840</td>\n",
       "    </tr>\n",
       "    <tr>\n",
       "      <th>C1010018</th>\n",
       "      <td>-0.104101</td>\n",
       "      <td>0.783404</td>\n",
       "      <td>-0.151967</td>\n",
       "      <td>0.111778</td>\n",
       "    </tr>\n",
       "    <tr>\n",
       "      <th>C1010024</th>\n",
       "      <td>-0.448586</td>\n",
       "      <td>-0.163735</td>\n",
       "      <td>-0.173863</td>\n",
       "      <td>0.094351</td>\n",
       "    </tr>\n",
       "  </tbody>\n",
       "</table>\n",
       "</div>"
      ],
      "text/plain": [
       "                   0         1         2         3\n",
       "CustomerID                                        \n",
       "C1010011    0.032457  0.722161  0.177405 -0.380639\n",
       "C1010012    0.493733 -0.514476  0.152509  0.208996\n",
       "C1010014    0.098465  0.744928 -0.153900 -0.551840\n",
       "C1010018   -0.104101  0.783404 -0.151967  0.111778\n",
       "C1010024   -0.448586 -0.163735 -0.173863  0.094351"
      ]
     },
     "execution_count": 11,
     "metadata": {},
     "output_type": "execute_result"
    }
   ],
   "source": [
    "X = pipe.transform(custs)\n",
    "\n",
    "reducted_data = pd.DataFrame(X)\n",
    "# Take only most important features\n",
    "reducted_data = reducted_data.iloc[:,:n_features]\n",
    "reducted_data.index = custs.index\n",
    "reducted_data.to_csv('reducted_data.csv')\n",
    "reducted_data.head()"
   ]
  },
  {
   "cell_type": "markdown",
   "id": "04d86022-eb0b-4c79-b76a-50e1118bfcbc",
   "metadata": {},
   "source": [
    "# 2.3 Clustering!\n",
    "We will implement K-means through MapReduce and try to get the optimal number of clusters, then we will compare the results with `scikit`'s KMeans++.\n",
    "\n",
    "We start by importing the necessary libraries and setup of `pyspark`."
   ]
  },
  {
   "cell_type": "code",
   "execution_count": 2,
   "id": "70ec1ff7-5f0a-4c28-8deb-522c648a1670",
   "metadata": {
    "cell_id": "88f560067d8b42ad80af0630de4df60f",
    "deepnote_cell_type": "code",
    "deepnote_to_be_reexecuted": false,
    "execution_millis": 93665,
    "execution_start": 1670604095532,
    "is_output_hidden": true,
    "source_hash": "ad9c9606",
    "tags": []
   },
   "outputs": [],
   "source": [
    "# Setup pyspark\n",
    "# ! sudo apt-get update\n",
    "# ! sudo mkdir -p /usr/share/man/man1\n",
    "# ! sudo apt-get install -y openjdk-11-jdk\n",
    "# ! pip install pyspark\n",
    "import pyspark\n",
    "import matplotlib.pyplot as plt\n",
    "import numpy as np\n",
    "import pandas as pd\n",
    "%matplotlib inline\n",
    "\n",
    "%load_ext autoreload\n",
    "%autoreload 2"
   ]
  },
  {
   "cell_type": "markdown",
   "id": "f710fc15-4d9f-4742-8d8c-55147596e50d",
   "metadata": {},
   "source": [
    "We can visualize in part our dataset by plotting some of the dimensions."
   ]
  },
  {
   "cell_type": "code",
   "execution_count": 3,
   "id": "a1bec120-c287-4271-b8bd-1d0f07a4b553",
   "metadata": {
    "cell_id": "8adf1865e8ab474f8cc582c2f403f123",
    "deepnote_cell_type": "code",
    "deepnote_to_be_reexecuted": false,
    "execution_millis": 1761,
    "execution_start": 1670006803991,
    "source_hash": "20bf3700",
    "tags": []
   },
   "outputs": [
    {
     "data": {
      "image/png": "[encoded data removed]",
      "text/plain": [
       "<Figure size 640x480 with 1 Axes>"
      ]
     },
     "metadata": {},
     "output_type": "display_data"
    }
   ],
   "source": [
    "reducted_data = pd.read_csv('reducted_data.csv', index_col='CustomerID')\n",
    "X = reducted_data.to_numpy()\n",
    "\n",
    "plt.scatter(X[:, 0], X[:, 1])\n",
    "plt.show()"
   ]
  },
  {
   "cell_type": "code",
   "execution_count": 20,
   "id": "34041ae3-f0d4-4741-9752-dc27dd801ec5",
   "metadata": {
    "cell_id": "91bfea2068994995a97ca692a8d779c3",
    "deepnote_cell_type": "code",
    "deepnote_to_be_reexecuted": false,
    "execution_millis": 10151,
    "execution_start": 1670006805761,
    "output_cleared": false,
    "source_hash": "12c3cec",
    "tags": []
   },
   "outputs": [
    {
     "name": "stderr",
     "output_type": "stream",
     "text": [
      "                                                                                \r"
     ]
    },
    {
     "data": {
      "image/png": "[encoded data removed]",
      "text/plain": [
       "<Figure size 300x300 with 1 Axes>"
      ]
     },
     "metadata": {},
     "output_type": "display_data"
    },
    {
     "name": "stderr",
     "output_type": "stream",
     "text": [
      "Exception in thread \"serve RDD 26\" java.net.SocketTimeoutException: Accept timed out\n",
      "\tat java.base/java.net.PlainSocketImpl.socketAccept(Native Method)\n",
      "\tat java.base/java.net.AbstractPlainSocketImpl.accept(AbstractPlainSocketImpl.java:474)\n",
      "\tat java.base/java.net.ServerSocket.implAccept(ServerSocket.java:565)\n",
      "\tat java.base/java.net.ServerSocket.accept(ServerSocket.java:533)\n",
      "\tat org.apache.spark.security.SocketAuthServer$$anon$1.run(SocketAuthServer.scala:64)\n",
      "                                                                                \r"
     ]
    },
    {
     "data": {
      "image/png": "[encoded data removed]",
      "text/plain": [
       "<Figure size 300x300 with 1 Axes>"
      ]
     },
     "metadata": {},
     "output_type": "display_data"
    },
    {
     "name": "stderr",
     "output_type": "stream",
     "text": [
      "                                                                                \r"
     ]
    },
    {
     "data": {
      "image/png": "[encoded data removed]",
      "text/plain": [
       "<Figure size 300x300 with 1 Axes>"
      ]
     },
     "metadata": {},
     "output_type": "display_data"
    },
    {
     "name": "stderr",
     "output_type": "stream",
     "text": [
      "                                                                                \r"
     ]
    },
    {
     "data": {
      "image/png": "[encoded data removed]",
      "text/plain": [
       "<Figure size 300x300 with 1 Axes>"
      ]
     },
     "metadata": {},
     "output_type": "display_data"
    },
    {
     "name": "stderr",
     "output_type": "stream",
     "text": [
      "                                                                                \r"
     ]
    },
    {
     "data": {
      "image/png": "[encoded data removed]",
      "text/plain": [
       "<Figure size 300x300 with 1 Axes>"
      ]
     },
     "metadata": {},
     "output_type": "display_data"
    },
    {
     "name": "stderr",
     "output_type": "stream",
     "text": [
      "                                                                                \r"
     ]
    },
    {
     "data": {
      "image/png": "[encoded data removed]",
      "text/plain": [
       "<Figure size 300x300 with 1 Axes>"
      ]
     },
     "metadata": {},
     "output_type": "display_data"
    },
    {
     "name": "stderr",
     "output_type": "stream",
     "text": [
      "                                                                                \r"
     ]
    }
   ],
   "source": [
    "from functions import k_means, display_clusters\n",
    "y, means = k_means(X,6, display=True, early_stopping=1e-5)"
   ]
  },
  {
   "cell_type": "code",
   "execution_count": 8,
   "id": "3e50a619-eb51-42b9-9a4b-0ea9fe88c793",
   "metadata": {
    "cell_id": "5874f7a0ff334ea3b6870990a1d42bfc",
    "deepnote_cell_type": "code",
    "deepnote_to_be_reexecuted": false,
    "execution_millis": 104,
    "execution_start": 1670008191112,
    "source_hash": "64c00a1",
    "tags": []
   },
   "outputs": [
    {
     "data": {
      "text/plain": [
       "(7.106274092123888, 1.9580357021555201)"
      ]
     },
     "execution_count": 8,
     "metadata": {},
     "output_type": "execute_result"
    }
   ],
   "source": [
    "from functions import avg_inter_cluster_distance, avg_intra_cluster_distance\n",
    "avg_inter_cluster_distance(X,y,means), avg_intra_cluster_distance(X,y,means)"
   ]
  },
  {
   "cell_type": "markdown",
   "id": "b17a9580-b979-4dff-b62f-73d34439bca8",
   "metadata": {},
   "source": [
    "We can now start the search for the optimal value of **K**. We will do by grid searching through the values $[2,11]$."
   ]
  },
  {
   "cell_type": "code",
   "execution_count": 9,
   "id": "3d0911b8-1de2-45dc-abd5-f6954a88b56a",
   "metadata": {},
   "outputs": [
    {
     "name": "stderr",
     "output_type": "stream",
     "text": [
      "                                                                                \r"
     ]
    }
   ],
   "source": [
    "Y = []\n",
    "means = []\n",
    "K_VALUES = range(2,11)\n",
    "for k in K_VALUES:\n",
    "    y, mean = k_means(X,k, display=False)\n",
    "    Y.append(y)\n",
    "    means.append(mean)\n",
    "    \n",
    "Y = np.stack(Y)"
   ]
  },
  {
   "cell_type": "code",
   "execution_count": 10,
   "id": "45b49d1c-7379-43e0-b892-f5982f951475",
   "metadata": {
    "cell_id": "63e3530c9b8e4b3a9f0c36a9b5b91e91",
    "deepnote_cell_type": "code",
    "deepnote_to_be_reexecuted": false,
    "execution_millis": 190871,
    "execution_start": 1670005157561,
    "source_hash": "9355fbc7",
    "tags": []
   },
   "outputs": [
    {
     "data": {
      "text/plain": [
       "Text(0.5, 0, 'k')"
      ]
     },
     "execution_count": 10,
     "metadata": {},
     "output_type": "execute_result"
    },
    {
     "data": {
      "image/png": "[encoded data removed]",
      "text/plain": [
       "<Figure size 640x480 with 1 Axes>"
      ]
     },
     "metadata": {},
     "output_type": "display_data"
    }
   ],
   "source": [
    "avg_inter_elbow = elbow(avg_inter_cluster_distance, X, Y, means, K_VALUES)\n",
    "plt.plot(avg_inter_elbow.keys(), avg_inter_elbow.values())\n",
    "plt.title('Inter-cluster distance')\n",
    "plt.ylabel('distance')\n",
    "plt.xlabel('k')"
   ]
  },
  {
   "cell_type": "code",
   "execution_count": 11,
   "id": "b879061f-02dd-4994-83c0-89a184ee3776",
   "metadata": {
    "cell_id": "df2932518ba2441e91cb5dd0098cbcab",
    "deepnote_cell_type": "code",
    "deepnote_to_be_reexecuted": false,
    "execution_millis": 617639,
    "execution_start": 1670008197062,
    "source_hash": "4c2d2c9",
    "tags": []
   },
   "outputs": [
    {
     "data": {
      "text/plain": [
       "Text(0.5, 0, 'k')"
      ]
     },
     "execution_count": 11,
     "metadata": {},
     "output_type": "execute_result"
    },
    {
     "data": {
      "image/png": "[encoded data removed]",
      "text/plain": [
       "<Figure size 640x480 with 1 Axes>"
      ]
     },
     "metadata": {},
     "output_type": "display_data"
    }
   ],
   "source": [
    "avg_intra_elbow = elbow(avg_intra_cluster_distance, X, Y, means, K_VALUES)\n",
    "plt.plot(avg_intra_elbow.keys(), avg_intra_elbow.values())\n",
    "plt.title('Intra-cluster distance')\n",
    "plt.ylabel('distance')\n",
    "plt.xlabel('k')"
   ]
  },
  {
   "cell_type": "markdown",
   "id": "db615980-f97d-4602-8169-53c26e1ccd6d",
   "metadata": {},
   "source": [
    "So now we can choose the optimal k."
   ]
  },
  {
   "cell_type": "code",
   "execution_count": 21,
   "id": "4ce93a22-8a7b-4fbf-b90c-651ea1e9ee6b",
   "metadata": {},
   "outputs": [],
   "source": [
    "OPTIMAL_K = 6\n",
    "y_optimal = Y[OPTIMAL_K - 2] # starts from 2"
   ]
  },
  {
   "cell_type": "markdown",
   "id": "ac2b645a-9566-465b-a5b1-7d9af00e10dc",
   "metadata": {},
   "source": [
    "### Compare against scikit\n",
    "Now we can confront our algorithm with the KMeans++ from `scikit`"
   ]
  },
  {
   "cell_type": "code",
   "execution_count": 16,
   "id": "8ca8339d-6fc0-4dd2-a1d0-800d61958bf7",
   "metadata": {
    "cell_id": "7f0caf71b0034c0196084813ad0d1ff0",
    "deepnote_cell_type": "code",
    "deepnote_to_be_reexecuted": false,
    "execution_millis": 789,
    "execution_start": 1670008021742,
    "source_hash": "8d1291f4",
    "tags": []
   },
   "outputs": [
    {
     "name": "stderr",
     "output_type": "stream",
     "text": [
      "Exception in thread \"serve RDD 1\" java.net.SocketTimeoutException: Accept timed out\n",
      "\tat java.base/java.net.PlainSocketImpl.socketAccept(Native Method)\n",
      "\tat java.base/java.net.AbstractPlainSocketImpl.accept(AbstractPlainSocketImpl.java:474)\n",
      "\tat java.base/java.net.ServerSocket.implAccept(ServerSocket.java:565)\n",
      "\tat java.base/java.net.ServerSocket.accept(ServerSocket.java:533)\n",
      "\tat org.apache.spark.security.SocketAuthServer$$anon$1.run(SocketAuthServer.scala:64)\n"
     ]
    },
    {
     "data": {
      "image/png": "[encoded data removed]",
      "text/plain": [
       "<Figure size 640x480 with 1 Axes>"
      ]
     },
     "metadata": {},
     "output_type": "display_data"
    }
   ],
   "source": [
    "from sklearn.cluster import KMeans\n",
    "\n",
    "kmeans = KMeans(n_clusters=OPTIMAL_K).fit(X)\n",
    "display_clusters(X, kmeans.labels_, kmeans.cluster_centers_)"
   ]
  },
  {
   "cell_type": "code",
   "execution_count": 17,
   "id": "c3e64940-ec3b-459a-ad1d-b49da80a087b",
   "metadata": {
    "cell_id": "fa0c384386ce4ebcb140c7342236eaa7",
    "deepnote_cell_type": "code",
    "deepnote_to_be_reexecuted": false,
    "execution_millis": 6732,
    "execution_start": 1670006538526,
    "source_hash": "6b8a2542",
    "tags": []
   },
   "outputs": [],
   "source": [
    "Y_sk = []\n",
    "means_sk = []\n",
    "K_VALUES = range(3,20)\n",
    "for k in K_VALUES:\n",
    "    km = KMeans(n_clusters=k).fit(X)\n",
    "    Y_sk.append( km.labels_ )\n",
    "    means_sk.append( km.cluster_centers_ )\n",
    "    \n",
    "Y_sk = np.stack(Y_sk)"
   ]
  },
  {
   "cell_type": "code",
   "execution_count": 18,
   "id": "3d44fcb5-8f09-46e8-9ba5-37f55f4a1cd9",
   "metadata": {
    "cell_id": "fa0c384386ce4ebcb140c7342236eaa7",
    "deepnote_cell_type": "code",
    "deepnote_to_be_reexecuted": false,
    "execution_millis": 6732,
    "execution_start": 1670006538526,
    "source_hash": "6b8a2542",
    "tags": []
   },
   "outputs": [
    {
     "data": {
      "text/plain": [
       "Text(0.5, 0, 'k')"
      ]
     },
     "execution_count": 18,
     "metadata": {},
     "output_type": "execute_result"
    },
    {
     "data": {
      "image/png": "[encoded data removed]",
      "text/plain": [
       "<Figure size 640x480 with 1 Axes>"
      ]
     },
     "metadata": {},
     "output_type": "display_data"
    }
   ],
   "source": [
    "avg_inter_elbow = elbow(avg_inter_cluster_distance, X, Y_sk, means_sk, K_VALUES )\n",
    "plt.plot(avg_inter_elbow.keys(), avg_inter_elbow.values())\n",
    "plt.title('Inter-cluster distance')\n",
    "plt.ylabel('distance')\n",
    "plt.xlabel('k')"
   ]
  },
  {
   "cell_type": "code",
   "execution_count": 20,
   "id": "18afeced-e08b-4b21-9608-a7c4f19f4395",
   "metadata": {},
   "outputs": [
    {
     "data": {
      "text/plain": [
       "Text(0.5, 0, 'k')"
      ]
     },
     "execution_count": 20,
     "metadata": {},
     "output_type": "execute_result"
    },
    {
     "data": {
      "image/png": "[encoded data removed]",
      "text/plain": [
       "<Figure size 640x480 with 1 Axes>"
      ]
     },
     "metadata": {},
     "output_type": "display_data"
    }
   ],
   "source": [
    "avg_intra_elbow = elbow(avg_intra_cluster_distance, X, Y_sk, means_sk, K_VALUES )\n",
    "plt.plot(avg_intra_elbow.keys(), avg_intra_elbow.values())\n",
    "plt.title('Intra-cluster distance')\n",
    "plt.ylabel('distance')\n",
    "plt.xlabel('k')"
   ]
  },
  {
   "cell_type": "markdown",
   "id": "6aefb697-3e03-47c9-a95a-0c8398034144",
   "metadata": {
    "tags": []
   },
   "source": [
    "# 2.4 Characterizing Clusters"
   ]
  },
  {
   "cell_type": "code",
   "execution_count": 29,
   "id": "fe339adf-488a-487f-a660-cb38af36cffe",
   "metadata": {},
   "outputs": [
    {
     "data": {
      "text/html": [
       "<div>\n",
       "<style scoped>\n",
       "    .dataframe tbody tr th:only-of-type {\n",
       "        vertical-align: middle;\n",
       "    }\n",
       "\n",
       "    .dataframe tbody tr th {\n",
       "        vertical-align: top;\n",
       "    }\n",
       "\n",
       "    .dataframe thead tr th {\n",
       "        text-align: left;\n",
       "    }\n",
       "\n",
       "    .dataframe thead tr:last-of-type th {\n",
       "        text-align: right;\n",
       "    }\n",
       "</style>\n",
       "<table border=\"1\" class=\"dataframe\">\n",
       "  <thead>\n",
       "    <tr>\n",
       "      <th></th>\n",
       "      <th colspan=\"4\" halign=\"left\">CustomerAge</th>\n",
       "      <th colspan=\"4\" halign=\"left\">CustAccountBalance_avrg</th>\n",
       "      <th colspan=\"4\" halign=\"left\">TransactionAmount_avrg (INR)</th>\n",
       "      <th colspan=\"4\" halign=\"left\">TransactionNum</th>\n",
       "      <th colspan=\"4\" halign=\"left\">TransactionNumGT100</th>\n",
       "      <th colspan=\"4\" halign=\"left\">utilisation</th>\n",
       "      <th colspan=\"4\" halign=\"left\">avg_period</th>\n",
       "      <th colspan=\"4\" halign=\"left\">NegativeBalance</th>\n",
       "      <th colspan=\"4\" halign=\"left\">MaxImpact</th>\n",
       "      <th colspan=\"4\" halign=\"left\">AvgImpact</th>\n",
       "      <th colspan=\"4\" halign=\"left\">Max Transaction</th>\n",
       "      <th colspan=\"4\" halign=\"left\">Min Transaction</th>\n",
       "      <th colspan=\"4\" halign=\"left\">Median Transaction</th>\n",
       "      <th colspan=\"4\" halign=\"left\">25-percentile Transaction</th>\n",
       "      <th colspan=\"4\" halign=\"left\">75-percentile Transaction</th>\n",
       "      <th colspan=\"4\" halign=\"left\">Standard Deviation of Transaction</th>\n",
       "      <th colspan=\"4\" halign=\"left\">Median Balance</th>\n",
       "      <th colspan=\"4\" halign=\"left\">Max Balance</th>\n",
       "      <th colspan=\"4\" halign=\"left\">Min Balance</th>\n",
       "      <th colspan=\"4\" halign=\"left\">Standard Deviation Balance</th>\n",
       "    </tr>\n",
       "    <tr>\n",
       "      <th></th>\n",
       "      <th>min</th>\n",
       "      <th>median</th>\n",
       "      <th>mean</th>\n",
       "      <th>max</th>\n",
       "      <th>min</th>\n",
       "      <th>median</th>\n",
       "      <th>mean</th>\n",
       "      <th>max</th>\n",
       "      <th>min</th>\n",
       "      <th>median</th>\n",
       "      <th>mean</th>\n",
       "      <th>max</th>\n",
       "      <th>min</th>\n",
       "      <th>median</th>\n",
       "      <th>mean</th>\n",
       "      <th>max</th>\n",
       "      <th>min</th>\n",
       "      <th>median</th>\n",
       "      <th>mean</th>\n",
       "      <th>max</th>\n",
       "      <th>min</th>\n",
       "      <th>median</th>\n",
       "      <th>mean</th>\n",
       "      <th>max</th>\n",
       "      <th>min</th>\n",
       "      <th>median</th>\n",
       "      <th>mean</th>\n",
       "      <th>max</th>\n",
       "      <th>min</th>\n",
       "      <th>median</th>\n",
       "      <th>mean</th>\n",
       "      <th>max</th>\n",
       "      <th>min</th>\n",
       "      <th>median</th>\n",
       "      <th>mean</th>\n",
       "      <th>max</th>\n",
       "      <th>min</th>\n",
       "      <th>median</th>\n",
       "      <th>mean</th>\n",
       "      <th>max</th>\n",
       "      <th>min</th>\n",
       "      <th>median</th>\n",
       "      <th>mean</th>\n",
       "      <th>max</th>\n",
       "      <th>min</th>\n",
       "      <th>median</th>\n",
       "      <th>mean</th>\n",
       "      <th>max</th>\n",
       "      <th>min</th>\n",
       "      <th>median</th>\n",
       "      <th>mean</th>\n",
       "      <th>max</th>\n",
       "      <th>min</th>\n",
       "      <th>median</th>\n",
       "      <th>mean</th>\n",
       "      <th>max</th>\n",
       "      <th>min</th>\n",
       "      <th>median</th>\n",
       "      <th>mean</th>\n",
       "      <th>max</th>\n",
       "      <th>min</th>\n",
       "      <th>median</th>\n",
       "      <th>mean</th>\n",
       "      <th>max</th>\n",
       "      <th>min</th>\n",
       "      <th>median</th>\n",
       "      <th>mean</th>\n",
       "      <th>max</th>\n",
       "      <th>min</th>\n",
       "      <th>median</th>\n",
       "      <th>mean</th>\n",
       "      <th>max</th>\n",
       "      <th>min</th>\n",
       "      <th>median</th>\n",
       "      <th>mean</th>\n",
       "      <th>max</th>\n",
       "      <th>min</th>\n",
       "      <th>median</th>\n",
       "      <th>mean</th>\n",
       "      <th>max</th>\n",
       "    </tr>\n",
       "    <tr>\n",
       "      <th>cluster</th>\n",
       "      <th></th>\n",
       "      <th></th>\n",
       "      <th></th>\n",
       "      <th></th>\n",
       "      <th></th>\n",
       "      <th></th>\n",
       "      <th></th>\n",
       "      <th></th>\n",
       "      <th></th>\n",
       "      <th></th>\n",
       "      <th></th>\n",
       "      <th></th>\n",
       "      <th></th>\n",
       "      <th></th>\n",
       "      <th></th>\n",
       "      <th></th>\n",
       "      <th></th>\n",
       "      <th></th>\n",
       "      <th></th>\n",
       "      <th></th>\n",
       "      <th></th>\n",
       "      <th></th>\n",
       "      <th></th>\n",
       "      <th></th>\n",
       "      <th></th>\n",
       "      <th></th>\n",
       "      <th></th>\n",
       "      <th></th>\n",
       "      <th></th>\n",
       "      <th></th>\n",
       "      <th></th>\n",
       "      <th></th>\n",
       "      <th></th>\n",
       "      <th></th>\n",
       "      <th></th>\n",
       "      <th></th>\n",
       "      <th></th>\n",
       "      <th></th>\n",
       "      <th></th>\n",
       "      <th></th>\n",
       "      <th></th>\n",
       "      <th></th>\n",
       "      <th></th>\n",
       "      <th></th>\n",
       "      <th></th>\n",
       "      <th></th>\n",
       "      <th></th>\n",
       "      <th></th>\n",
       "      <th></th>\n",
       "      <th></th>\n",
       "      <th></th>\n",
       "      <th></th>\n",
       "      <th></th>\n",
       "      <th></th>\n",
       "      <th></th>\n",
       "      <th></th>\n",
       "      <th></th>\n",
       "      <th></th>\n",
       "      <th></th>\n",
       "      <th></th>\n",
       "      <th></th>\n",
       "      <th></th>\n",
       "      <th></th>\n",
       "      <th></th>\n",
       "      <th></th>\n",
       "      <th></th>\n",
       "      <th></th>\n",
       "      <th></th>\n",
       "      <th></th>\n",
       "      <th></th>\n",
       "      <th></th>\n",
       "      <th></th>\n",
       "      <th></th>\n",
       "      <th></th>\n",
       "      <th></th>\n",
       "      <th></th>\n",
       "      <th></th>\n",
       "      <th></th>\n",
       "      <th></th>\n",
       "      <th></th>\n",
       "    </tr>\n",
       "  </thead>\n",
       "  <tbody>\n",
       "    <tr>\n",
       "      <th>0</th>\n",
       "      <td>0</td>\n",
       "      <td>29.0</td>\n",
       "      <td>31.143391</td>\n",
       "      <td>97</td>\n",
       "      <td>0.0</td>\n",
       "      <td>14604.355</td>\n",
       "      <td>107245.873860</td>\n",
       "      <td>1.150355e+08</td>\n",
       "      <td>0.0</td>\n",
       "      <td>394.000000</td>\n",
       "      <td>1396.714351</td>\n",
       "      <td>991132.22</td>\n",
       "      <td>1</td>\n",
       "      <td>1.0</td>\n",
       "      <td>1.074206</td>\n",
       "      <td>5</td>\n",
       "      <td>0</td>\n",
       "      <td>1.0</td>\n",
       "      <td>0.838926</td>\n",
       "      <td>5</td>\n",
       "      <td>-907524.12</td>\n",
       "      <td>13625.4050</td>\n",
       "      <td>105849.159508</td>\n",
       "      <td>1.150339e+08</td>\n",
       "      <td>0.0</td>\n",
       "      <td>0.0</td>\n",
       "      <td>2.434761e+05</td>\n",
       "      <td>14515200.0</td>\n",
       "      <td>0.0</td>\n",
       "      <td>0.0</td>\n",
       "      <td>0.002149</td>\n",
       "      <td>1.0</td>\n",
       "      <td>7.277259e-09</td>\n",
       "      <td>0.028541</td>\n",
       "      <td>8.856887</td>\n",
       "      <td>41978.316832</td>\n",
       "      <td>7.277259e-09</td>\n",
       "      <td>0.027525</td>\n",
       "      <td>8.187192</td>\n",
       "      <td>41978.316832</td>\n",
       "      <td>0.0</td>\n",
       "      <td>400.0</td>\n",
       "      <td>1472.561337</td>\n",
       "      <td>991132.22</td>\n",
       "      <td>0.0</td>\n",
       "      <td>346.000</td>\n",
       "      <td>1327.649864</td>\n",
       "      <td>991132.22</td>\n",
       "      <td>0.0</td>\n",
       "      <td>390.000</td>\n",
       "      <td>1390.382708</td>\n",
       "      <td>991132.22</td>\n",
       "      <td>0.0</td>\n",
       "      <td>371.00</td>\n",
       "      <td>1358.977877</td>\n",
       "      <td>991132.22</td>\n",
       "      <td>0.0</td>\n",
       "      <td>400.0</td>\n",
       "      <td>1431.058503</td>\n",
       "      <td>991132.22</td>\n",
       "      <td>0.0</td>\n",
       "      <td>0.0</td>\n",
       "      <td>98.212314</td>\n",
       "      <td>146003.408179</td>\n",
       "      <td>0.0</td>\n",
       "      <td>14460.5000</td>\n",
       "      <td>106710.601622</td>\n",
       "      <td>1.150355e+08</td>\n",
       "      <td>0.0</td>\n",
       "      <td>15089.420</td>\n",
       "      <td>113263.041107</td>\n",
       "      <td>115035495.1</td>\n",
       "      <td>0.0</td>\n",
       "      <td>12977.22</td>\n",
       "      <td>101793.413243</td>\n",
       "      <td>1.150355e+08</td>\n",
       "      <td>0.0</td>\n",
       "      <td>0.0</td>\n",
       "      <td>7784.928099</td>\n",
       "      <td>2.992597e+07</td>\n",
       "    </tr>\n",
       "    <tr>\n",
       "      <th>1</th>\n",
       "      <td>1</td>\n",
       "      <td>28.0</td>\n",
       "      <td>30.462304</td>\n",
       "      <td>96</td>\n",
       "      <td>0.0</td>\n",
       "      <td>17925.180</td>\n",
       "      <td>112914.908653</td>\n",
       "      <td>1.150355e+08</td>\n",
       "      <td>0.0</td>\n",
       "      <td>495.821667</td>\n",
       "      <td>1428.407446</td>\n",
       "      <td>561001.00</td>\n",
       "      <td>1</td>\n",
       "      <td>1.0</td>\n",
       "      <td>1.251370</td>\n",
       "      <td>6</td>\n",
       "      <td>0</td>\n",
       "      <td>1.0</td>\n",
       "      <td>1.006066</td>\n",
       "      <td>6</td>\n",
       "      <td>-551676.65</td>\n",
       "      <td>16926.6150</td>\n",
       "      <td>111486.501207</td>\n",
       "      <td>1.150308e+08</td>\n",
       "      <td>0.0</td>\n",
       "      <td>0.0</td>\n",
       "      <td>7.308014e+05</td>\n",
       "      <td>14472000.0</td>\n",
       "      <td>0.0</td>\n",
       "      <td>0.0</td>\n",
       "      <td>0.002719</td>\n",
       "      <td>2.0</td>\n",
       "      <td>3.816097e-08</td>\n",
       "      <td>0.035572</td>\n",
       "      <td>12.459563</td>\n",
       "      <td>100000.100000</td>\n",
       "      <td>3.816097e-08</td>\n",
       "      <td>0.031799</td>\n",
       "      <td>10.066469</td>\n",
       "      <td>100000.100000</td>\n",
       "      <td>0.0</td>\n",
       "      <td>501.0</td>\n",
       "      <td>1687.331102</td>\n",
       "      <td>724122.00</td>\n",
       "      <td>0.0</td>\n",
       "      <td>344.505</td>\n",
       "      <td>1207.246244</td>\n",
       "      <td>561001.00</td>\n",
       "      <td>0.0</td>\n",
       "      <td>477.000</td>\n",
       "      <td>1394.822863</td>\n",
       "      <td>561001.00</td>\n",
       "      <td>0.0</td>\n",
       "      <td>422.65</td>\n",
       "      <td>1300.580831</td>\n",
       "      <td>561001.00</td>\n",
       "      <td>0.0</td>\n",
       "      <td>500.0</td>\n",
       "      <td>1537.263531</td>\n",
       "      <td>561001.00</td>\n",
       "      <td>0.0</td>\n",
       "      <td>0.0</td>\n",
       "      <td>314.431629</td>\n",
       "      <td>511784.089233</td>\n",
       "      <td>0.0</td>\n",
       "      <td>17202.5500</td>\n",
       "      <td>109712.331449</td>\n",
       "      <td>1.150355e+08</td>\n",
       "      <td>0.0</td>\n",
       "      <td>20021.075</td>\n",
       "      <td>137119.217785</td>\n",
       "      <td>115035495.1</td>\n",
       "      <td>0.0</td>\n",
       "      <td>12171.48</td>\n",
       "      <td>92199.766175</td>\n",
       "      <td>1.150355e+08</td>\n",
       "      <td>0.0</td>\n",
       "      <td>0.0</td>\n",
       "      <td>29813.961997</td>\n",
       "      <td>8.134158e+07</td>\n",
       "    </tr>\n",
       "    <tr>\n",
       "      <th>2</th>\n",
       "      <td>2</td>\n",
       "      <td>27.0</td>\n",
       "      <td>29.481271</td>\n",
       "      <td>99</td>\n",
       "      <td>0.0</td>\n",
       "      <td>21782.840</td>\n",
       "      <td>99035.031641</td>\n",
       "      <td>8.224463e+07</td>\n",
       "      <td>0.0</td>\n",
       "      <td>525.595000</td>\n",
       "      <td>1571.584657</td>\n",
       "      <td>1380002.88</td>\n",
       "      <td>1</td>\n",
       "      <td>1.0</td>\n",
       "      <td>1.253454</td>\n",
       "      <td>5</td>\n",
       "      <td>0</td>\n",
       "      <td>1.0</td>\n",
       "      <td>1.031084</td>\n",
       "      <td>5</td>\n",
       "      <td>-1281342.55</td>\n",
       "      <td>20558.9200</td>\n",
       "      <td>97463.446984</td>\n",
       "      <td>8.224272e+07</td>\n",
       "      <td>0.0</td>\n",
       "      <td>0.0</td>\n",
       "      <td>9.877050e+05</td>\n",
       "      <td>14515200.0</td>\n",
       "      <td>0.0</td>\n",
       "      <td>0.0</td>\n",
       "      <td>0.002453</td>\n",
       "      <td>2.0</td>\n",
       "      <td>7.483844e-08</td>\n",
       "      <td>0.033115</td>\n",
       "      <td>9.740763</td>\n",
       "      <td>41989.100000</td>\n",
       "      <td>7.483844e-08</td>\n",
       "      <td>0.029411</td>\n",
       "      <td>7.512862</td>\n",
       "      <td>41322.355372</td>\n",
       "      <td>0.0</td>\n",
       "      <td>599.0</td>\n",
       "      <td>1840.516325</td>\n",
       "      <td>1380002.88</td>\n",
       "      <td>0.0</td>\n",
       "      <td>380.000</td>\n",
       "      <td>1307.453741</td>\n",
       "      <td>1380002.88</td>\n",
       "      <td>0.0</td>\n",
       "      <td>523.000</td>\n",
       "      <td>1566.982743</td>\n",
       "      <td>1380002.88</td>\n",
       "      <td>0.0</td>\n",
       "      <td>493.45</td>\n",
       "      <td>1437.116378</td>\n",
       "      <td>1380002.88</td>\n",
       "      <td>0.0</td>\n",
       "      <td>567.9</td>\n",
       "      <td>1703.658029</td>\n",
       "      <td>1380002.88</td>\n",
       "      <td>0.0</td>\n",
       "      <td>0.0</td>\n",
       "      <td>373.150143</td>\n",
       "      <td>205702.312395</td>\n",
       "      <td>0.0</td>\n",
       "      <td>21623.9100</td>\n",
       "      <td>98578.566851</td>\n",
       "      <td>8.224463e+07</td>\n",
       "      <td>0.0</td>\n",
       "      <td>24715.830</td>\n",
       "      <td>119912.899399</td>\n",
       "      <td>82244629.9</td>\n",
       "      <td>0.0</td>\n",
       "      <td>14791.01</td>\n",
       "      <td>78653.731556</td>\n",
       "      <td>8.224463e+07</td>\n",
       "      <td>0.0</td>\n",
       "      <td>0.0</td>\n",
       "      <td>28858.196720</td>\n",
       "      <td>3.532557e+07</td>\n",
       "    </tr>\n",
       "    <tr>\n",
       "      <th>3</th>\n",
       "      <td>4</td>\n",
       "      <td>27.0</td>\n",
       "      <td>29.231982</td>\n",
       "      <td>97</td>\n",
       "      <td>0.0</td>\n",
       "      <td>24192.600</td>\n",
       "      <td>104560.686632</td>\n",
       "      <td>8.224463e+07</td>\n",
       "      <td>0.0</td>\n",
       "      <td>624.852500</td>\n",
       "      <td>1598.458099</td>\n",
       "      <td>569500.27</td>\n",
       "      <td>1</td>\n",
       "      <td>1.0</td>\n",
       "      <td>1.365550</td>\n",
       "      <td>6</td>\n",
       "      <td>0</td>\n",
       "      <td>1.0</td>\n",
       "      <td>1.147012</td>\n",
       "      <td>5</td>\n",
       "      <td>-530765.10</td>\n",
       "      <td>22858.6525</td>\n",
       "      <td>102962.228533</td>\n",
       "      <td>8.224326e+07</td>\n",
       "      <td>0.0</td>\n",
       "      <td>0.0</td>\n",
       "      <td>1.231543e+06</td>\n",
       "      <td>14472000.0</td>\n",
       "      <td>0.0</td>\n",
       "      <td>0.0</td>\n",
       "      <td>0.002917</td>\n",
       "      <td>2.0</td>\n",
       "      <td>2.362088e-07</td>\n",
       "      <td>0.040104</td>\n",
       "      <td>11.668874</td>\n",
       "      <td>30600.100000</td>\n",
       "      <td>2.362088e-07</td>\n",
       "      <td>0.033918</td>\n",
       "      <td>8.884348</td>\n",
       "      <td>30600.100000</td>\n",
       "      <td>0.0</td>\n",
       "      <td>750.0</td>\n",
       "      <td>2004.712924</td>\n",
       "      <td>569500.27</td>\n",
       "      <td>0.0</td>\n",
       "      <td>398.365</td>\n",
       "      <td>1212.945720</td>\n",
       "      <td>569500.27</td>\n",
       "      <td>0.0</td>\n",
       "      <td>609.865</td>\n",
       "      <td>1580.899249</td>\n",
       "      <td>569500.27</td>\n",
       "      <td>0.0</td>\n",
       "      <td>529.00</td>\n",
       "      <td>1396.634777</td>\n",
       "      <td>569500.27</td>\n",
       "      <td>0.0</td>\n",
       "      <td>698.0</td>\n",
       "      <td>1789.905134</td>\n",
       "      <td>569500.27</td>\n",
       "      <td>0.0</td>\n",
       "      <td>0.0</td>\n",
       "      <td>545.655963</td>\n",
       "      <td>141245.993756</td>\n",
       "      <td>0.0</td>\n",
       "      <td>23692.6275</td>\n",
       "      <td>103247.325086</td>\n",
       "      <td>8.224463e+07</td>\n",
       "      <td>0.0</td>\n",
       "      <td>28498.640</td>\n",
       "      <td>136335.433960</td>\n",
       "      <td>82244629.9</td>\n",
       "      <td>0.0</td>\n",
       "      <td>13797.99</td>\n",
       "      <td>74387.595641</td>\n",
       "      <td>8.224463e+07</td>\n",
       "      <td>0.0</td>\n",
       "      <td>0.0</td>\n",
       "      <td>42811.032390</td>\n",
       "      <td>5.815379e+07</td>\n",
       "    </tr>\n",
       "    <tr>\n",
       "      <th>4</th>\n",
       "      <td>1</td>\n",
       "      <td>28.0</td>\n",
       "      <td>30.196206</td>\n",
       "      <td>97</td>\n",
       "      <td>0.0</td>\n",
       "      <td>20494.870</td>\n",
       "      <td>101099.503427</td>\n",
       "      <td>8.224463e+07</td>\n",
       "      <td>0.0</td>\n",
       "      <td>504.000000</td>\n",
       "      <td>1567.346564</td>\n",
       "      <td>720001.16</td>\n",
       "      <td>1</td>\n",
       "      <td>1.0</td>\n",
       "      <td>1.114594</td>\n",
       "      <td>6</td>\n",
       "      <td>0</td>\n",
       "      <td>1.0</td>\n",
       "      <td>0.921551</td>\n",
       "      <td>5</td>\n",
       "      <td>-705823.51</td>\n",
       "      <td>19394.2200</td>\n",
       "      <td>99532.156862</td>\n",
       "      <td>8.224303e+07</td>\n",
       "      <td>0.0</td>\n",
       "      <td>0.0</td>\n",
       "      <td>4.043966e+05</td>\n",
       "      <td>13089600.0</td>\n",
       "      <td>0.0</td>\n",
       "      <td>0.0</td>\n",
       "      <td>0.001990</td>\n",
       "      <td>1.0</td>\n",
       "      <td>9.525261e-08</td>\n",
       "      <td>0.028308</td>\n",
       "      <td>8.521044</td>\n",
       "      <td>28866.030928</td>\n",
       "      <td>9.525261e-08</td>\n",
       "      <td>0.026708</td>\n",
       "      <td>7.275711</td>\n",
       "      <td>15559.504950</td>\n",
       "      <td>0.0</td>\n",
       "      <td>536.0</td>\n",
       "      <td>1694.301800</td>\n",
       "      <td>720001.16</td>\n",
       "      <td>0.0</td>\n",
       "      <td>450.000</td>\n",
       "      <td>1444.169006</td>\n",
       "      <td>720001.16</td>\n",
       "      <td>0.0</td>\n",
       "      <td>501.000</td>\n",
       "      <td>1563.907144</td>\n",
       "      <td>720001.16</td>\n",
       "      <td>0.0</td>\n",
       "      <td>500.00</td>\n",
       "      <td>1504.002324</td>\n",
       "      <td>720001.16</td>\n",
       "      <td>0.0</td>\n",
       "      <td>522.0</td>\n",
       "      <td>1628.797805</td>\n",
       "      <td>720001.16</td>\n",
       "      <td>0.0</td>\n",
       "      <td>0.0</td>\n",
       "      <td>174.372890</td>\n",
       "      <td>267438.716516</td>\n",
       "      <td>0.0</td>\n",
       "      <td>20464.3400</td>\n",
       "      <td>100830.043998</td>\n",
       "      <td>8.224463e+07</td>\n",
       "      <td>0.0</td>\n",
       "      <td>21516.215</td>\n",
       "      <td>110235.035803</td>\n",
       "      <td>82244629.9</td>\n",
       "      <td>0.0</td>\n",
       "      <td>17133.53</td>\n",
       "      <td>92329.879795</td>\n",
       "      <td>8.224463e+07</td>\n",
       "      <td>0.0</td>\n",
       "      <td>0.0</td>\n",
       "      <td>12450.136579</td>\n",
       "      <td>5.815418e+07</td>\n",
       "    </tr>\n",
       "    <tr>\n",
       "      <th>5</th>\n",
       "      <td>0</td>\n",
       "      <td>29.0</td>\n",
       "      <td>30.610168</td>\n",
       "      <td>94</td>\n",
       "      <td>0.0</td>\n",
       "      <td>15480.650</td>\n",
       "      <td>102263.161358</td>\n",
       "      <td>6.979933e+07</td>\n",
       "      <td>0.0</td>\n",
       "      <td>400.000000</td>\n",
       "      <td>1373.792286</td>\n",
       "      <td>1560034.99</td>\n",
       "      <td>1</td>\n",
       "      <td>1.0</td>\n",
       "      <td>1.121426</td>\n",
       "      <td>5</td>\n",
       "      <td>0</td>\n",
       "      <td>1.0</td>\n",
       "      <td>0.881014</td>\n",
       "      <td>5</td>\n",
       "      <td>-1517547.10</td>\n",
       "      <td>14521.2450</td>\n",
       "      <td>100889.369072</td>\n",
       "      <td>6.977698e+07</td>\n",
       "      <td>0.0</td>\n",
       "      <td>0.0</td>\n",
       "      <td>4.298881e+05</td>\n",
       "      <td>14515200.0</td>\n",
       "      <td>0.0</td>\n",
       "      <td>0.0</td>\n",
       "      <td>0.002777</td>\n",
       "      <td>2.0</td>\n",
       "      <td>7.004635e-09</td>\n",
       "      <td>0.029847</td>\n",
       "      <td>12.272221</td>\n",
       "      <td>125000.100000</td>\n",
       "      <td>7.004635e-09</td>\n",
       "      <td>0.028165</td>\n",
       "      <td>11.177427</td>\n",
       "      <td>125000.100000</td>\n",
       "      <td>0.0</td>\n",
       "      <td>430.0</td>\n",
       "      <td>1495.428241</td>\n",
       "      <td>1560034.99</td>\n",
       "      <td>0.0</td>\n",
       "      <td>331.000</td>\n",
       "      <td>1263.449616</td>\n",
       "      <td>1560034.99</td>\n",
       "      <td>0.0</td>\n",
       "      <td>400.000</td>\n",
       "      <td>1362.968414</td>\n",
       "      <td>1560034.99</td>\n",
       "      <td>0.0</td>\n",
       "      <td>376.50</td>\n",
       "      <td>1313.158351</td>\n",
       "      <td>1560034.99</td>\n",
       "      <td>0.0</td>\n",
       "      <td>415.0</td>\n",
       "      <td>1428.772942</td>\n",
       "      <td>1560034.99</td>\n",
       "      <td>0.0</td>\n",
       "      <td>0.0</td>\n",
       "      <td>156.833051</td>\n",
       "      <td>258944.858995</td>\n",
       "      <td>0.0</td>\n",
       "      <td>15236.9600</td>\n",
       "      <td>101183.264637</td>\n",
       "      <td>6.979933e+07</td>\n",
       "      <td>0.0</td>\n",
       "      <td>16363.370</td>\n",
       "      <td>112548.523175</td>\n",
       "      <td>115035495.1</td>\n",
       "      <td>0.0</td>\n",
       "      <td>12686.65</td>\n",
       "      <td>93092.773160</td>\n",
       "      <td>6.979933e+07</td>\n",
       "      <td>0.0</td>\n",
       "      <td>0.0</td>\n",
       "      <td>13158.943501</td>\n",
       "      <td>8.122129e+07</td>\n",
       "    </tr>\n",
       "  </tbody>\n",
       "</table>\n",
       "</div>"
      ],
      "text/plain": [
       "        CustomerAge                       CustAccountBalance_avrg             \\\n",
       "                min median       mean max                     min     median   \n",
       "cluster                                                                        \n",
       "0                 0   29.0  31.143391  97                     0.0  14604.355   \n",
       "1                 1   28.0  30.462304  96                     0.0  17925.180   \n",
       "2                 2   27.0  29.481271  99                     0.0  21782.840   \n",
       "3                 4   27.0  29.231982  97                     0.0  24192.600   \n",
       "4                 1   28.0  30.196206  97                     0.0  20494.870   \n",
       "5                 0   29.0  30.610168  94                     0.0  15480.650   \n",
       "\n",
       "                                     TransactionAmount_avrg (INR)              \\\n",
       "                  mean           max                          min      median   \n",
       "cluster                                                                         \n",
       "0        107245.873860  1.150355e+08                          0.0  394.000000   \n",
       "1        112914.908653  1.150355e+08                          0.0  495.821667   \n",
       "2         99035.031641  8.224463e+07                          0.0  525.595000   \n",
       "3        104560.686632  8.224463e+07                          0.0  624.852500   \n",
       "4        101099.503427  8.224463e+07                          0.0  504.000000   \n",
       "5        102263.161358  6.979933e+07                          0.0  400.000000   \n",
       "\n",
       "                                 TransactionNum                       \\\n",
       "                mean         max            min median      mean max   \n",
       "cluster                                                                \n",
       "0        1396.714351   991132.22              1    1.0  1.074206   5   \n",
       "1        1428.407446   561001.00              1    1.0  1.251370   6   \n",
       "2        1571.584657  1380002.88              1    1.0  1.253454   5   \n",
       "3        1598.458099   569500.27              1    1.0  1.365550   6   \n",
       "4        1567.346564   720001.16              1    1.0  1.114594   6   \n",
       "5        1373.792286  1560034.99              1    1.0  1.121426   5   \n",
       "\n",
       "        TransactionNumGT100                      utilisation              \\\n",
       "                        min median      mean max         min      median   \n",
       "cluster                                                                    \n",
       "0                         0    1.0  0.838926   5  -907524.12  13625.4050   \n",
       "1                         0    1.0  1.006066   6  -551676.65  16926.6150   \n",
       "2                         0    1.0  1.031084   5 -1281342.55  20558.9200   \n",
       "3                         0    1.0  1.147012   5  -530765.10  22858.6525   \n",
       "4                         0    1.0  0.921551   5  -705823.51  19394.2200   \n",
       "5                         0    1.0  0.881014   5 -1517547.10  14521.2450   \n",
       "\n",
       "                                     avg_period                       \\\n",
       "                  mean           max        min median          mean   \n",
       "cluster                                                                \n",
       "0        105849.159508  1.150339e+08        0.0    0.0  2.434761e+05   \n",
       "1        111486.501207  1.150308e+08        0.0    0.0  7.308014e+05   \n",
       "2         97463.446984  8.224272e+07        0.0    0.0  9.877050e+05   \n",
       "3        102962.228533  8.224326e+07        0.0    0.0  1.231543e+06   \n",
       "4         99532.156862  8.224303e+07        0.0    0.0  4.043966e+05   \n",
       "5        100889.369072  6.977698e+07        0.0    0.0  4.298881e+05   \n",
       "\n",
       "                    NegativeBalance                           MaxImpact  \\\n",
       "                max             min median      mean  max           min   \n",
       "cluster                                                                   \n",
       "0        14515200.0             0.0    0.0  0.002149  1.0  7.277259e-09   \n",
       "1        14472000.0             0.0    0.0  0.002719  2.0  3.816097e-08   \n",
       "2        14515200.0             0.0    0.0  0.002453  2.0  7.483844e-08   \n",
       "3        14472000.0             0.0    0.0  0.002917  2.0  2.362088e-07   \n",
       "4        13089600.0             0.0    0.0  0.001990  1.0  9.525261e-08   \n",
       "5        14515200.0             0.0    0.0  0.002777  2.0  7.004635e-09   \n",
       "\n",
       "                                                AvgImpact            \\\n",
       "           median       mean            max           min    median   \n",
       "cluster                                                               \n",
       "0        0.028541   8.856887   41978.316832  7.277259e-09  0.027525   \n",
       "1        0.035572  12.459563  100000.100000  3.816097e-08  0.031799   \n",
       "2        0.033115   9.740763   41989.100000  7.483844e-08  0.029411   \n",
       "3        0.040104  11.668874   30600.100000  2.362088e-07  0.033918   \n",
       "4        0.028308   8.521044   28866.030928  9.525261e-08  0.026708   \n",
       "5        0.029847  12.272221  125000.100000  7.004635e-09  0.028165   \n",
       "\n",
       "                                  Max Transaction                      \\\n",
       "              mean            max             min median         mean   \n",
       "cluster                                                                 \n",
       "0         8.187192   41978.316832             0.0  400.0  1472.561337   \n",
       "1        10.066469  100000.100000             0.0  501.0  1687.331102   \n",
       "2         7.512862   41322.355372             0.0  599.0  1840.516325   \n",
       "3         8.884348   30600.100000             0.0  750.0  2004.712924   \n",
       "4         7.275711   15559.504950             0.0  536.0  1694.301800   \n",
       "5        11.177427  125000.100000             0.0  430.0  1495.428241   \n",
       "\n",
       "                    Min Transaction                                    \\\n",
       "                max             min   median         mean         max   \n",
       "cluster                                                                 \n",
       "0         991132.22             0.0  346.000  1327.649864   991132.22   \n",
       "1         724122.00             0.0  344.505  1207.246244   561001.00   \n",
       "2        1380002.88             0.0  380.000  1307.453741  1380002.88   \n",
       "3         569500.27             0.0  398.365  1212.945720   569500.27   \n",
       "4         720001.16             0.0  450.000  1444.169006   720001.16   \n",
       "5        1560034.99             0.0  331.000  1263.449616  1560034.99   \n",
       "\n",
       "        Median Transaction                                    \\\n",
       "                       min   median         mean         max   \n",
       "cluster                                                        \n",
       "0                      0.0  390.000  1390.382708   991132.22   \n",
       "1                      0.0  477.000  1394.822863   561001.00   \n",
       "2                      0.0  523.000  1566.982743  1380002.88   \n",
       "3                      0.0  609.865  1580.899249   569500.27   \n",
       "4                      0.0  501.000  1563.907144   720001.16   \n",
       "5                      0.0  400.000  1362.968414  1560034.99   \n",
       "\n",
       "        25-percentile Transaction                                   \\\n",
       "                              min  median         mean         max   \n",
       "cluster                                                              \n",
       "0                             0.0  371.00  1358.977877   991132.22   \n",
       "1                             0.0  422.65  1300.580831   561001.00   \n",
       "2                             0.0  493.45  1437.116378  1380002.88   \n",
       "3                             0.0  529.00  1396.634777   569500.27   \n",
       "4                             0.0  500.00  1504.002324   720001.16   \n",
       "5                             0.0  376.50  1313.158351  1560034.99   \n",
       "\n",
       "        75-percentile Transaction                                  \\\n",
       "                              min median         mean         max   \n",
       "cluster                                                             \n",
       "0                             0.0  400.0  1431.058503   991132.22   \n",
       "1                             0.0  500.0  1537.263531   561001.00   \n",
       "2                             0.0  567.9  1703.658029  1380002.88   \n",
       "3                             0.0  698.0  1789.905134   569500.27   \n",
       "4                             0.0  522.0  1628.797805   720001.16   \n",
       "5                             0.0  415.0  1428.772942  1560034.99   \n",
       "\n",
       "        Standard Deviation of Transaction                                    \\\n",
       "                                      min median        mean            max   \n",
       "cluster                                                                       \n",
       "0                                     0.0    0.0   98.212314  146003.408179   \n",
       "1                                     0.0    0.0  314.431629  511784.089233   \n",
       "2                                     0.0    0.0  373.150143  205702.312395   \n",
       "3                                     0.0    0.0  545.655963  141245.993756   \n",
       "4                                     0.0    0.0  174.372890  267438.716516   \n",
       "5                                     0.0    0.0  156.833051  258944.858995   \n",
       "\n",
       "        Median Balance                                          Max Balance  \\\n",
       "                   min      median           mean           max         min   \n",
       "cluster                                                                       \n",
       "0                  0.0  14460.5000  106710.601622  1.150355e+08         0.0   \n",
       "1                  0.0  17202.5500  109712.331449  1.150355e+08         0.0   \n",
       "2                  0.0  21623.9100   98578.566851  8.224463e+07         0.0   \n",
       "3                  0.0  23692.6275  103247.325086  8.224463e+07         0.0   \n",
       "4                  0.0  20464.3400  100830.043998  8.224463e+07         0.0   \n",
       "5                  0.0  15236.9600  101183.264637  6.979933e+07         0.0   \n",
       "\n",
       "                                               Min Balance            \\\n",
       "            median           mean          max         min    median   \n",
       "cluster                                                                \n",
       "0        15089.420  113263.041107  115035495.1         0.0  12977.22   \n",
       "1        20021.075  137119.217785  115035495.1         0.0  12171.48   \n",
       "2        24715.830  119912.899399   82244629.9         0.0  14791.01   \n",
       "3        28498.640  136335.433960   82244629.9         0.0  13797.99   \n",
       "4        21516.215  110235.035803   82244629.9         0.0  17133.53   \n",
       "5        16363.370  112548.523175  115035495.1         0.0  12686.65   \n",
       "\n",
       "                                     Standard Deviation Balance         \\\n",
       "                  mean           max                        min median   \n",
       "cluster                                                                  \n",
       "0        101793.413243  1.150355e+08                        0.0    0.0   \n",
       "1         92199.766175  1.150355e+08                        0.0    0.0   \n",
       "2         78653.731556  8.224463e+07                        0.0    0.0   \n",
       "3         74387.595641  8.224463e+07                        0.0    0.0   \n",
       "4         92329.879795  8.224463e+07                        0.0    0.0   \n",
       "5         93092.773160  6.979933e+07                        0.0    0.0   \n",
       "\n",
       "                                     \n",
       "                 mean           max  \n",
       "cluster                              \n",
       "0         7784.928099  2.992597e+07  \n",
       "1        29813.961997  8.134158e+07  \n",
       "2        28858.196720  3.532557e+07  \n",
       "3        42811.032390  5.815379e+07  \n",
       "4        12450.136579  5.815418e+07  \n",
       "5        13158.943501  8.122129e+07  "
      ]
     },
     "execution_count": 29,
     "metadata": {},
     "output_type": "execute_result"
    }
   ],
   "source": [
    "from sklearn.preprocessing import KBinsDiscretizer\n",
    "from functions import pivot\n",
    "custs['cluster'] = y_optimal\n",
    "\n",
    "pd.set_option('display.max_columns', None)\n",
    "custs.select_dtypes(include=np.number).groupby('cluster').agg([min, 'median','mean', max])"
   ]
  },
  {
   "cell_type": "markdown",
   "id": "291f7344-2f62-4e51-9d8e-5d489d168d65",
   "metadata": {},
   "source": [
    "We decide to pick `CustGender`, `MaxImpact` and `CustAccounBalance_avrg`, so we discretize them into 4 categories: Low, Mid-Low, Mid-High, High based on percentiles."
   ]
  },
  {
   "cell_type": "code",
   "execution_count": 34,
   "id": "b4d8aa80-60c8-4ba8-8e4c-d6c363fdd3ab",
   "metadata": {},
   "outputs": [
    {
     "data": {
      "text/html": [
       "<div>\n",
       "<style scoped>\n",
       "    .dataframe tbody tr th:only-of-type {\n",
       "        vertical-align: middle;\n",
       "    }\n",
       "\n",
       "    .dataframe tbody tr th {\n",
       "        vertical-align: top;\n",
       "    }\n",
       "\n",
       "    .dataframe thead th {\n",
       "        text-align: right;\n",
       "    }\n",
       "</style>\n",
       "<table border=\"1\" class=\"dataframe\">\n",
       "  <thead>\n",
       "    <tr style=\"text-align: right;\">\n",
       "      <th></th>\n",
       "      <th>MaxImpact_d</th>\n",
       "      <th>BalanceAvg_d</th>\n",
       "      <th>CustGender</th>\n",
       "    </tr>\n",
       "    <tr>\n",
       "      <th>CustomerID</th>\n",
       "      <th></th>\n",
       "      <th></th>\n",
       "      <th></th>\n",
       "    </tr>\n",
       "  </thead>\n",
       "  <tbody>\n",
       "    <tr>\n",
       "      <th>C1010011</th>\n",
       "      <td>Mid-High</td>\n",
       "      <td>High</td>\n",
       "      <td>F</td>\n",
       "    </tr>\n",
       "    <tr>\n",
       "      <th>C1010012</th>\n",
       "      <td>Mid-High</td>\n",
       "      <td>Mid-High</td>\n",
       "      <td>M</td>\n",
       "    </tr>\n",
       "    <tr>\n",
       "      <th>C1010014</th>\n",
       "      <td>Mid-Low</td>\n",
       "      <td>High</td>\n",
       "      <td>F</td>\n",
       "    </tr>\n",
       "    <tr>\n",
       "      <th>C1010018</th>\n",
       "      <td>Mid-High</td>\n",
       "      <td>Low</td>\n",
       "      <td>F</td>\n",
       "    </tr>\n",
       "    <tr>\n",
       "      <th>C1010024</th>\n",
       "      <td>Mid-High</td>\n",
       "      <td>High</td>\n",
       "      <td>M</td>\n",
       "    </tr>\n",
       "  </tbody>\n",
       "</table>\n",
       "</div>"
      ],
      "text/plain": [
       "           MaxImpact_d BalanceAvg_d CustGender\n",
       "CustomerID                                    \n",
       "C1010011      Mid-High         High          F\n",
       "C1010012      Mid-High     Mid-High          M\n",
       "C1010014       Mid-Low         High          F\n",
       "C1010018      Mid-High          Low          F\n",
       "C1010024      Mid-High         High          M"
      ]
     },
     "execution_count": 34,
     "metadata": {},
     "output_type": "execute_result"
    }
   ],
   "source": [
    "custs[['MaxImpact_d', 'BalanceAvg_d']] = KBinsDiscretizer(n_bins=4, subsample=None, encode='ordinal').fit_transform(custs[['MaxImpact', 'CustAccountBalance_avrg']])\n",
    "mapping = {0:'Low', 1:'Mid-Low', 2:'Mid-High', 3:'High'}\n",
    "custs[['MaxImpact_d', 'BalanceAvg_d']] = custs[['MaxImpact_d', 'BalanceAvg_d']].replace(mapping)"
   ]
  },
  {
   "cell_type": "markdown",
   "id": "1dd096c4-5394-45c5-ac39-d24fbf219aa2",
   "metadata": {},
   "source": [
    "We then look at the pivot tables, and notice that:\n",
    "- The gender of a customer is a perfect cut between a Cluster and another\n",
    "- Cluster 1 appears to include richer people \n",
    "- while 0 and 5 contain poorer people, and also people who tend to spend less in comparatively with the amount of money they have ( low impact )"
   ]
  },
  {
   "cell_type": "code",
   "execution_count": 91,
   "id": "778b3b75-b981-4321-8104-4725fa0c8446",
   "metadata": {},
   "outputs": [
    {
     "data": {
      "text/html": [
       "<div>\n",
       "<style scoped>\n",
       "    .dataframe tbody tr th:only-of-type {\n",
       "        vertical-align: middle;\n",
       "    }\n",
       "\n",
       "    .dataframe tbody tr th {\n",
       "        vertical-align: top;\n",
       "    }\n",
       "\n",
       "    .dataframe thead th {\n",
       "        text-align: right;\n",
       "    }\n",
       "</style>\n",
       "<table border=\"1\" class=\"dataframe\">\n",
       "  <thead>\n",
       "    <tr style=\"text-align: right;\">\n",
       "      <th>CustGender</th>\n",
       "      <th>F%</th>\n",
       "      <th>M%</th>\n",
       "    </tr>\n",
       "    <tr>\n",
       "      <th>cluster</th>\n",
       "      <th></th>\n",
       "      <th></th>\n",
       "    </tr>\n",
       "  </thead>\n",
       "  <tbody>\n",
       "    <tr>\n",
       "      <th>0</th>\n",
       "      <td>0.0</td>\n",
       "      <td>100.0</td>\n",
       "    </tr>\n",
       "    <tr>\n",
       "      <th>1</th>\n",
       "      <td>100.0</td>\n",
       "      <td>0.0</td>\n",
       "    </tr>\n",
       "    <tr>\n",
       "      <th>2</th>\n",
       "      <td>0.0</td>\n",
       "      <td>100.0</td>\n",
       "    </tr>\n",
       "    <tr>\n",
       "      <th>3</th>\n",
       "      <td>100.0</td>\n",
       "      <td>0.0</td>\n",
       "    </tr>\n",
       "    <tr>\n",
       "      <th>4</th>\n",
       "      <td>0.0</td>\n",
       "      <td>100.0</td>\n",
       "    </tr>\n",
       "    <tr>\n",
       "      <th>5</th>\n",
       "      <td>0.0</td>\n",
       "      <td>100.0</td>\n",
       "    </tr>\n",
       "    <tr>\n",
       "      <th>6</th>\n",
       "      <td>100.0</td>\n",
       "      <td>0.0</td>\n",
       "    </tr>\n",
       "  </tbody>\n",
       "</table>\n",
       "</div>"
      ],
      "text/plain": [
       "CustGender     F%     M%\n",
       "cluster                 \n",
       "0             0.0  100.0\n",
       "1           100.0    0.0\n",
       "2             0.0  100.0\n",
       "3           100.0    0.0\n",
       "4             0.0  100.0\n",
       "5             0.0  100.0\n",
       "6           100.0    0.0"
      ]
     },
     "execution_count": 91,
     "metadata": {},
     "output_type": "execute_result"
    }
   ],
   "source": [
    "pivot(custs, 'CustGender')"
   ]
  },
  {
   "cell_type": "code",
   "execution_count": 92,
   "id": "7fafee48-73a1-4cf7-bafe-0908b8593946",
   "metadata": {},
   "outputs": [
    {
     "data": {
      "text/html": [
       "<div>\n",
       "<style scoped>\n",
       "    .dataframe tbody tr th:only-of-type {\n",
       "        vertical-align: middle;\n",
       "    }\n",
       "\n",
       "    .dataframe tbody tr th {\n",
       "        vertical-align: top;\n",
       "    }\n",
       "\n",
       "    .dataframe thead th {\n",
       "        text-align: right;\n",
       "    }\n",
       "</style>\n",
       "<table border=\"1\" class=\"dataframe\">\n",
       "  <thead>\n",
       "    <tr style=\"text-align: right;\">\n",
       "      <th>BalanceAvg_d</th>\n",
       "      <th>High%</th>\n",
       "      <th>Low%</th>\n",
       "      <th>Mid-High%</th>\n",
       "      <th>Mid-Low%</th>\n",
       "    </tr>\n",
       "    <tr>\n",
       "      <th>cluster</th>\n",
       "      <th></th>\n",
       "      <th></th>\n",
       "      <th></th>\n",
       "      <th></th>\n",
       "    </tr>\n",
       "  </thead>\n",
       "  <tbody>\n",
       "    <tr>\n",
       "      <th>0</th>\n",
       "      <td>22.4</td>\n",
       "      <td>28.9</td>\n",
       "      <td>23.5</td>\n",
       "      <td>25.2</td>\n",
       "    </tr>\n",
       "    <tr>\n",
       "      <th>1</th>\n",
       "      <td>29.5</td>\n",
       "      <td>17.5</td>\n",
       "      <td>28.5</td>\n",
       "      <td>24.5</td>\n",
       "    </tr>\n",
       "    <tr>\n",
       "      <th>2</th>\n",
       "      <td>25.4</td>\n",
       "      <td>24.9</td>\n",
       "      <td>24.9</td>\n",
       "      <td>24.8</td>\n",
       "    </tr>\n",
       "    <tr>\n",
       "      <th>3</th>\n",
       "      <td>27.6</td>\n",
       "      <td>20.6</td>\n",
       "      <td>27.0</td>\n",
       "      <td>24.8</td>\n",
       "    </tr>\n",
       "    <tr>\n",
       "      <th>4</th>\n",
       "      <td>23.2</td>\n",
       "      <td>27.6</td>\n",
       "      <td>23.9</td>\n",
       "      <td>25.3</td>\n",
       "    </tr>\n",
       "    <tr>\n",
       "      <th>5</th>\n",
       "      <td>22.8</td>\n",
       "      <td>29.4</td>\n",
       "      <td>22.7</td>\n",
       "      <td>25.1</td>\n",
       "    </tr>\n",
       "    <tr>\n",
       "      <th>6</th>\n",
       "      <td>27.0</td>\n",
       "      <td>20.8</td>\n",
       "      <td>27.2</td>\n",
       "      <td>25.0</td>\n",
       "    </tr>\n",
       "  </tbody>\n",
       "</table>\n",
       "</div>"
      ],
      "text/plain": [
       "BalanceAvg_d  High%  Low%  Mid-High%  Mid-Low%\n",
       "cluster                                       \n",
       "0              22.4  28.9       23.5      25.2\n",
       "1              29.5  17.5       28.5      24.5\n",
       "2              25.4  24.9       24.9      24.8\n",
       "3              27.6  20.6       27.0      24.8\n",
       "4              23.2  27.6       23.9      25.3\n",
       "5              22.8  29.4       22.7      25.1\n",
       "6              27.0  20.8       27.2      25.0"
      ]
     },
     "execution_count": 92,
     "metadata": {},
     "output_type": "execute_result"
    }
   ],
   "source": [
    "pivot(custs, 'BalanceAvg_d')"
   ]
  },
  {
   "cell_type": "code",
   "execution_count": 93,
   "id": "8e8ed98a-bf80-4f2f-a2ef-3c5a90089023",
   "metadata": {},
   "outputs": [
    {
     "data": {
      "text/html": [
       "<div>\n",
       "<style scoped>\n",
       "    .dataframe tbody tr th:only-of-type {\n",
       "        vertical-align: middle;\n",
       "    }\n",
       "\n",
       "    .dataframe tbody tr th {\n",
       "        vertical-align: top;\n",
       "    }\n",
       "\n",
       "    .dataframe thead th {\n",
       "        text-align: right;\n",
       "    }\n",
       "</style>\n",
       "<table border=\"1\" class=\"dataframe\">\n",
       "  <thead>\n",
       "    <tr style=\"text-align: right;\">\n",
       "      <th>MaxImpact_d</th>\n",
       "      <th>High%</th>\n",
       "      <th>Low%</th>\n",
       "      <th>Mid-High%</th>\n",
       "      <th>Mid-Low%</th>\n",
       "    </tr>\n",
       "    <tr>\n",
       "      <th>cluster</th>\n",
       "      <th></th>\n",
       "      <th></th>\n",
       "      <th></th>\n",
       "      <th></th>\n",
       "    </tr>\n",
       "  </thead>\n",
       "  <tbody>\n",
       "    <tr>\n",
       "      <th>0</th>\n",
       "      <td>23.8</td>\n",
       "      <td>27.0</td>\n",
       "      <td>23.8</td>\n",
       "      <td>25.4</td>\n",
       "    </tr>\n",
       "    <tr>\n",
       "      <th>1</th>\n",
       "      <td>26.9</td>\n",
       "      <td>20.7</td>\n",
       "      <td>27.8</td>\n",
       "      <td>24.6</td>\n",
       "    </tr>\n",
       "    <tr>\n",
       "      <th>2</th>\n",
       "      <td>26.5</td>\n",
       "      <td>23.5</td>\n",
       "      <td>25.5</td>\n",
       "      <td>24.4</td>\n",
       "    </tr>\n",
       "    <tr>\n",
       "      <th>3</th>\n",
       "      <td>23.5</td>\n",
       "      <td>25.5</td>\n",
       "      <td>25.5</td>\n",
       "      <td>25.5</td>\n",
       "    </tr>\n",
       "    <tr>\n",
       "      <th>4</th>\n",
       "      <td>25.4</td>\n",
       "      <td>25.5</td>\n",
       "      <td>24.2</td>\n",
       "      <td>24.8</td>\n",
       "    </tr>\n",
       "    <tr>\n",
       "      <th>5</th>\n",
       "      <td>24.1</td>\n",
       "      <td>27.3</td>\n",
       "      <td>23.5</td>\n",
       "      <td>25.1</td>\n",
       "    </tr>\n",
       "    <tr>\n",
       "      <th>6</th>\n",
       "      <td>23.3</td>\n",
       "      <td>25.1</td>\n",
       "      <td>25.8</td>\n",
       "      <td>25.8</td>\n",
       "    </tr>\n",
       "  </tbody>\n",
       "</table>\n",
       "</div>"
      ],
      "text/plain": [
       "MaxImpact_d  High%  Low%  Mid-High%  Mid-Low%\n",
       "cluster                                      \n",
       "0             23.8  27.0       23.8      25.4\n",
       "1             26.9  20.7       27.8      24.6\n",
       "2             26.5  23.5       25.5      24.4\n",
       "3             23.5  25.5       25.5      25.5\n",
       "4             25.4  25.5       24.2      24.8\n",
       "5             24.1  27.3       23.5      25.1\n",
       "6             23.3  25.1       25.8      25.8"
      ]
     },
     "execution_count": 93,
     "metadata": {},
     "output_type": "execute_result"
    }
   ],
   "source": [
    "pivot(custs, 'MaxImpact_d')"
   ]
  },
  {
   "cell_type": "markdown",
   "id": "40cdec8e-9b24-4a78-9625-efc0b771657f",
   "metadata": {
    "cell_id": "e23c073576154f3386ae127e51d7c8c5",
    "deepnote_cell_type": "text-cell-h3",
    "formattedRanges": [],
    "is_collapsed": false,
    "tags": []
   },
   "source": [
    "# Bonus\n",
    "First we try the Gaussian Mixture model for clustering. It's a very fast algorithm, and works by fitting multiple Gaussians into the data, trying to reduce as much as possible the error. As it can be seen it's still very initialization dependent, and the wrong initialization could, and probably will, hand out wrong results."
   ]
  },
  {
   "cell_type": "code",
   "execution_count": 15,
   "id": "2b0c42ae-81c4-4868-b798-38d68132c758",
   "metadata": {
    "cell_id": "52ace9b333e24c66ba17e67e0b39a98e",
    "deepnote_cell_type": "code",
    "deepnote_to_be_reexecuted": false,
    "execution_millis": 582,
    "execution_start": 1670008125518,
    "source_hash": "8b084232",
    "tags": []
   },
   "outputs": [
    {
     "data": {
      "image/png": "[encoded data removed]",
      "text/plain": [
       "<Figure size 300x300 with 1 Axes>"
      ]
     },
     "metadata": {},
     "output_type": "display_data"
    }
   ],
   "source": [
    "from sklearn.mixture import GaussianMixture\n",
    "\n",
    "gauss = GaussianMixture(n_components=OPTIMAL_K).fit(X)\n",
    "display_clusters(X, gauss.predict(X), gauss.means_)"
   ]
  },
  {
   "cell_type": "markdown",
   "id": "96f499cb-7a27-4f4f-be3b-9b95f3bc4b58",
   "metadata": {},
   "source": [
    "The next algorithm that we will try is the **Birch** algorithm, which can perfectly clusterize put dataset, with no problems about random initialization."
   ]
  },
  {
   "cell_type": "code",
   "execution_count": 30,
   "id": "39a71b25-5e37-497b-8b17-67d87c5c0b8c",
   "metadata": {
    "cell_id": "ea3d19bffe14481a9b7536fe1c369d0e",
    "deepnote_cell_type": "code",
    "tags": []
   },
   "outputs": [
    {
     "data": {
      "image/png": "[encoded data removed]",
      "text/plain": [
       "<Figure size 300x300 with 1 Axes>"
      ]
     },
     "metadata": {},
     "output_type": "display_data"
    }
   ],
   "source": [
    "from sklearn.cluster import Birch\n",
    "\n",
    "birch = Birch(n_clusters=OPTIMAL_K).fit(X)\n",
    "display_clusters(X, birch.labels_)"
   ]
  }
 ],
 "metadata": {
  "kernelspec": {
   "display_name": "Python 3 (ipykernel)",
   "language": "python",
   "name": "python3"
  },
  "language_info": {
   "codemirror_mode": {
    "name": "ipython",
    "version": 3
   },
   "file_extension": ".py",
   "mimetype": "text/x-python",
   "name": "python",
   "nbconvert_exporter": "python",
   "pygments_lexer": "ipython3",
   "version": "3.10.8"
  },
  "vscode": {
   "interpreter": {
    "hash": "3934acf1a4a41e2d847cd85d523bfc68e098b1cf1c6c0879ca15a5d7119dcda4"
   }
  }
 },
 "nbformat": 4,
 "nbformat_minor": 5
}
