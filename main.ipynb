{
 "cells": [
  {
   "cell_type": "markdown",
   "id": "6aa50845-f5cf-4119-9be2-c31d0b4b84e4",
   "metadata": {
    "id": "2a4c3a65",
    "tags": []
   },
   "source": [
    "# 2.1 Getting your data + feature engineering\n",
    "___"
   ]
  },
  {
   "cell_type": "markdown",
   "id": "011a6d56-3f97-45e1-9708-3389d2336e0a",
   "metadata": {
    "id": "2a4c3a65",
    "tags": []
   },
   "source": [
    "## 2.1.1\n",
    "\n",
    "*Access to the data found in [this dataset](https://www.kaggle.com/datasets/shivamb/bank-customer-segmentation) (it is the same dataset from the previous question 1.1).*"
   ]
  },
  {
   "cell_type": "code",
   "execution_count": 1,
   "id": "21cc570c-72b1-44a4-895c-f79c1ee1e4a8",
   "metadata": {
    "id": "cc1da086"
   },
   "outputs": [],
   "source": [
    "import pandas as pd\n",
    "import numpy as np\n",
    "from tqdm import tqdm, tqdm_notebook\n",
    "tqdm.pandas()"
   ]
  },
  {
   "cell_type": "markdown",
   "id": "79a2e9ad-2aef-4f98-b5f3-4c908048a001",
   "metadata": {},
   "source": [
    "To start from the beginning"
   ]
  },
  {
   "cell_type": "code",
   "execution_count": 2,
   "id": "bf744e1a-5679-46fa-bf76-ec58452e04e5",
   "metadata": {
    "scrolled": true
   },
   "outputs": [
    {
     "data": {
      "text/html": [
       "<div>\n",
       "<style scoped>\n",
       "    .dataframe tbody tr th:only-of-type {\n",
       "        vertical-align: middle;\n",
       "    }\n",
       "\n",
       "    .dataframe tbody tr th {\n",
       "        vertical-align: top;\n",
       "    }\n",
       "\n",
       "    .dataframe thead th {\n",
       "        text-align: right;\n",
       "    }\n",
       "</style>\n",
       "<table border=\"1\" class=\"dataframe\">\n",
       "  <thead>\n",
       "    <tr style=\"text-align: right;\">\n",
       "      <th></th>\n",
       "      <th>TransactionID</th>\n",
       "      <th>CustomerID</th>\n",
       "      <th>CustomerDOB</th>\n",
       "      <th>CustGender</th>\n",
       "      <th>CustLocation</th>\n",
       "      <th>CustAccountBalance</th>\n",
       "      <th>TransactionDate</th>\n",
       "      <th>TransactionTime</th>\n",
       "      <th>TransactionAmount (INR)</th>\n",
       "    </tr>\n",
       "  </thead>\n",
       "  <tbody>\n",
       "    <tr>\n",
       "      <th>0</th>\n",
       "      <td>T1</td>\n",
       "      <td>C5841053</td>\n",
       "      <td>1994-10-01</td>\n",
       "      <td>F</td>\n",
       "      <td>JAMSHEDPUR</td>\n",
       "      <td>17819.05</td>\n",
       "      <td>2016-02-08</td>\n",
       "      <td>143207</td>\n",
       "      <td>25.0</td>\n",
       "    </tr>\n",
       "    <tr>\n",
       "      <th>1</th>\n",
       "      <td>T2</td>\n",
       "      <td>C2142763</td>\n",
       "      <td>2057-04-04</td>\n",
       "      <td>M</td>\n",
       "      <td>JHAJJAR</td>\n",
       "      <td>2270.69</td>\n",
       "      <td>2016-02-08</td>\n",
       "      <td>141858</td>\n",
       "      <td>27999.0</td>\n",
       "    </tr>\n",
       "    <tr>\n",
       "      <th>2</th>\n",
       "      <td>T3</td>\n",
       "      <td>C4417068</td>\n",
       "      <td>1996-11-26</td>\n",
       "      <td>F</td>\n",
       "      <td>MUMBAI</td>\n",
       "      <td>17874.44</td>\n",
       "      <td>2016-02-08</td>\n",
       "      <td>142712</td>\n",
       "      <td>459.0</td>\n",
       "    </tr>\n",
       "    <tr>\n",
       "      <th>3</th>\n",
       "      <td>T4</td>\n",
       "      <td>C5342380</td>\n",
       "      <td>1973-09-14</td>\n",
       "      <td>F</td>\n",
       "      <td>MUMBAI</td>\n",
       "      <td>866503.21</td>\n",
       "      <td>2016-02-08</td>\n",
       "      <td>142714</td>\n",
       "      <td>2060.0</td>\n",
       "    </tr>\n",
       "    <tr>\n",
       "      <th>4</th>\n",
       "      <td>T5</td>\n",
       "      <td>C9031234</td>\n",
       "      <td>1988-03-24</td>\n",
       "      <td>F</td>\n",
       "      <td>NAVI MUMBAI</td>\n",
       "      <td>6714.43</td>\n",
       "      <td>2016-02-08</td>\n",
       "      <td>181156</td>\n",
       "      <td>1762.5</td>\n",
       "    </tr>\n",
       "  </tbody>\n",
       "</table>\n",
       "</div>"
      ],
      "text/plain": [
       "  TransactionID CustomerID CustomerDOB CustGender CustLocation  \\\n",
       "0            T1   C5841053  1994-10-01          F   JAMSHEDPUR   \n",
       "1            T2   C2142763  2057-04-04          M      JHAJJAR   \n",
       "2            T3   C4417068  1996-11-26          F       MUMBAI   \n",
       "3            T4   C5342380  1973-09-14          F       MUMBAI   \n",
       "4            T5   C9031234  1988-03-24          F  NAVI MUMBAI   \n",
       "\n",
       "   CustAccountBalance TransactionDate  TransactionTime  \\\n",
       "0            17819.05      2016-02-08           143207   \n",
       "1             2270.69      2016-02-08           141858   \n",
       "2            17874.44      2016-02-08           142712   \n",
       "3           866503.21      2016-02-08           142714   \n",
       "4             6714.43      2016-02-08           181156   \n",
       "\n",
       "   TransactionAmount (INR)  \n",
       "0                     25.0  \n",
       "1                  27999.0  \n",
       "2                    459.0  \n",
       "3                   2060.0  \n",
       "4                   1762.5  "
      ]
     },
     "execution_count": 2,
     "metadata": {},
     "output_type": "execute_result"
    }
   ],
   "source": [
    "tras = pd.read_csv(\"bank_transactions.csv\", parse_dates=['CustomerDOB', 'TransactionDate'])\n",
    "tras.head()"
   ]
  },
  {
   "cell_type": "code",
   "execution_count": 3,
   "id": "3414e844-1c8a-4fa6-8b1b-3822ff4286be",
   "metadata": {
    "id": "e1c9f2e8",
    "outputId": "d7bce11c-bb41-4222-de02-7d2966f513d6"
   },
   "outputs": [
    {
     "name": "stdout",
     "output_type": "stream",
     "text": [
      "<class 'pandas.core.frame.DataFrame'>\n",
      "RangeIndex: 1048567 entries, 0 to 1048566\n",
      "Data columns (total 9 columns):\n",
      " #   Column                   Non-Null Count    Dtype         \n",
      "---  ------                   --------------    -----         \n",
      " 0   TransactionID            1048567 non-null  object        \n",
      " 1   CustomerID               1048567 non-null  object        \n",
      " 2   CustomerDOB              1045170 non-null  datetime64[ns]\n",
      " 3   CustGender               1047467 non-null  object        \n",
      " 4   CustLocation             1048416 non-null  object        \n",
      " 5   CustAccountBalance       1046198 non-null  float64       \n",
      " 6   TransactionDate          1048567 non-null  datetime64[ns]\n",
      " 7   TransactionTime          1048567 non-null  int64         \n",
      " 8   TransactionAmount (INR)  1048567 non-null  float64       \n",
      "dtypes: datetime64[ns](2), float64(2), int64(1), object(4)\n",
      "memory usage: 72.0+ MB\n"
     ]
    }
   ],
   "source": [
    "tras.info()"
   ]
  },
  {
   "cell_type": "markdown",
   "id": "f9266d76-43ff-4129-921c-be4563f18f52",
   "metadata": {
    "id": "8f2ed250",
    "tags": []
   },
   "source": [
    "## Data Cleaning\n",
    "\n",
    "### Dates\n",
    "___"
   ]
  },
  {
   "cell_type": "code",
   "execution_count": 4,
   "id": "c3564673-a4fc-422c-a5da-34abde98d336",
   "metadata": {
    "id": "b25a4231",
    "outputId": "96840b24-8989-46b3-aace-386e8266676b"
   },
   "outputs": [
    {
     "data": {
      "text/plain": [
       "<AxesSubplot: >"
      ]
     },
     "execution_count": 4,
     "metadata": {},
     "output_type": "execute_result"
    },
    {
     "data": {
      "image/png": "[encoded data removed]",
      "text/plain": [
       "<Figure size 640x480 with 1 Axes>"
      ]
     },
     "metadata": {},
     "output_type": "display_data"
    }
   ],
   "source": [
    "tras.CustomerDOB.dt.year.hist(bins=50)"
   ]
  },
  {
   "cell_type": "markdown",
   "id": "879e2573-da4f-4134-8d56-f26a9d70eb21",
   "metadata": {},
   "source": [
    "We can see \n",
    "1. people being born in the future => millanium bug\n",
    "2. people being born in 1800 => we consider there DOB to be unknown"
   ]
  },
  {
   "cell_type": "code",
   "execution_count": 5,
   "id": "38d94b69-7df3-46a5-a699-bc53a89efa73",
   "metadata": {
    "id": "66688a54"
   },
   "outputs": [],
   "source": [
    "tras.loc[tras.CustomerDOB.dt.year > 2016, 'CustomerDOB'] = \\\n",
    "tras.loc[tras.CustomerDOB.dt.year > 2016, 'CustomerDOB']\\\n",
    "- pd.DateOffset(years = 100)"
   ]
  },
  {
   "cell_type": "code",
   "execution_count": 6,
   "id": "8aa0a10d-11f1-4fc9-a50e-0daf170d2805",
   "metadata": {
    "id": "596ab891"
   },
   "outputs": [],
   "source": [
    "tras.loc[tras.CustomerDOB.dt.year == 1800, \"CustomerDOB\"] = pd.NaT"
   ]
  },
  {
   "cell_type": "code",
   "execution_count": 7,
   "id": "7caea5f4-096e-404b-a132-2a0aeea5e77f",
   "metadata": {
    "id": "3ed2fb3f",
    "outputId": "c57a48c9-5bc9-4555-c5b3-da293bdb20e6"
   },
   "outputs": [
    {
     "data": {
      "text/plain": [
       "<AxesSubplot: >"
      ]
     },
     "execution_count": 7,
     "metadata": {},
     "output_type": "execute_result"
    },
    {
     "data": {
      "image/png": "[encoded data removed]",
      "text/plain": [
       "<Figure size 640x480 with 1 Axes>"
      ]
     },
     "metadata": {},
     "output_type": "display_data"
    }
   ],
   "source": [
    "tras.CustomerDOB.dt.year.hist(bins=50)"
   ]
  },
  {
   "cell_type": "code",
   "execution_count": 8,
   "id": "2983bca6-7423-435d-bfc2-f6ef309e600c",
   "metadata": {
    "id": "329c80a5"
   },
   "outputs": [],
   "source": [
    "from datetime import datetime\n",
    "tras.TransactionTime = tras.TransactionTime.apply(lambda x: datetime.strptime(str(x).zfill(6), '%H%M%S'))"
   ]
  },
  {
   "cell_type": "markdown",
   "id": "dbb6757a-c4a2-4a7a-a89a-b80720321947",
   "metadata": {},
   "source": [
    "Missing values are not too many, so we drop them"
   ]
  },
  {
   "cell_type": "code",
   "execution_count": 9,
   "id": "c3641aef-281a-4b2c-a79b-83cc04e09c57",
   "metadata": {
    "id": "64a5611b",
    "outputId": "39f7dd99-b3a2-49fa-e1cd-1b56e1b0e8ea"
   },
   "outputs": [
    {
     "name": "stdout",
     "output_type": "stream",
     "text": [
      "NA rows: 0.0603156498344884\n"
     ]
    }
   ],
   "source": [
    "print('NA rows:',tras.isna().any(axis=1).sum() / tras.shape[0])\n",
    "tras.dropna(inplace=True)"
   ]
  },
  {
   "cell_type": "markdown",
   "id": "e26753f7-4edb-4fbd-afb0-ce66da5fd9f5",
   "metadata": {},
   "source": [
    "We now create a new feature that describes the age of the customer when doing the transaction"
   ]
  },
  {
   "cell_type": "code",
   "execution_count": 10,
   "id": "c3dbb6a8-6d8b-4d18-b292-3d0dab283f40",
   "metadata": {
    "id": "54f969f5",
    "scrolled": true
   },
   "outputs": [],
   "source": [
    "tras['CustomerAge'] = ((tras.TransactionDate - tras.CustomerDOB).dt.days / 365).round().astype(int)"
   ]
  },
  {
   "cell_type": "markdown",
   "id": "7bdae4d3-277c-4ea8-97da-1cae894ab486",
   "metadata": {},
   "source": [
    "### Locations\n",
    "___\n",
    "We notice that the locations are many and it may be difficult to handle all of them, so we try to clean them up and reduce the number of them, also because many of them are specifications of others, such as `MUMBAI` and `NAVI MUMBAI`."
   ]
  },
  {
   "cell_type": "code",
   "execution_count": 11,
   "id": "6dead1c2-766c-4a53-aedf-bee0aab11851",
   "metadata": {},
   "outputs": [
    {
     "data": {
      "text/plain": [
       "8164"
      ]
     },
     "execution_count": 11,
     "metadata": {},
     "output_type": "execute_result"
    }
   ],
   "source": [
    "tras.CustLocation.unique().size"
   ]
  },
  {
   "cell_type": "markdown",
   "id": "1e5724e7-1c80-4e25-8e1e-1c78e7feab09",
   "metadata": {},
   "source": [
    "Removing punctuation"
   ]
  },
  {
   "cell_type": "code",
   "execution_count": 46,
   "id": "efadf725-5020-4108-a302-b3f7095a9149",
   "metadata": {},
   "outputs": [],
   "source": [
    "import re\n",
    "tras['CleanLocation'] =\\\n",
    "    tras.CustLocation.apply(lambda loc : re.sub(r'[^\\w\\s]', '', loc))"
   ]
  },
  {
   "cell_type": "markdown",
   "id": "d47928e2-4c41-4203-bb52-e9501608132c",
   "metadata": {},
   "source": [
    "Now for every location we search for a shorter name that is present in the dataset. We check if the shorter version is a sub-string of the original name, if yes then we consider it to be the same location.\n",
    "\n",
    "Also if a city is not very frequent (less than 40 occurences) we assign it to `OTHER`."
   ]
  },
  {
   "cell_type": "code",
   "execution_count": 50,
   "id": "cea31571-1d7a-4228-a95e-a3c739979ec1",
   "metadata": {},
   "outputs": [],
   "source": [
    "unique_locations = tras.CleanLocation.value_counts()\n",
    "POPULARITY_THRESHOLD = 40\n",
    "popular_locations =  unique_locations[unique_locations > POPULARITY_THRESHOLD]\n",
    "unpopular_locations = unique_locations[unique_locations <= POPULARITY_THRESHOLD]\n",
    "\n",
    "def clean(city):\n",
    "    parts = city.split()\n",
    "\n",
    "    for p in parts:\n",
    "        if p in popular_locations.index:\n",
    "            return p\n",
    "        \n",
    "    return 'OTHER'\n",
    "\n",
    "mapping = dict(zip(unpopular_locations.index, unpopular_locations.index.map(clean)))\n",
    "tras.CleanLocation = tras.CleanLocation.map(lambda c: mapping[c] if c in mapping.keys() else c)"
   ]
  },
  {
   "cell_type": "markdown",
   "id": "5ff8b53c",
   "metadata": {},
   "source": [
    "We observe that we have succesfully reduced the size of the unique values, by a factor of 10."
   ]
  },
  {
   "cell_type": "code",
   "execution_count": 51,
   "id": "0f599af7-2ec3-4484-ac89-4188acd03eda",
   "metadata": {},
   "outputs": [
    {
     "data": {
      "text/plain": [
       "962"
      ]
     },
     "execution_count": 51,
     "metadata": {},
     "output_type": "execute_result"
    }
   ],
   "source": [
    "tras.CleanLocation.unique().size"
   ]
  },
  {
   "cell_type": "markdown",
   "id": "79c27405-f669-4343-a29c-fb89ff3fe5ee",
   "metadata": {
    "id": "c0a62675",
    "tags": []
   },
   "source": [
    "## 2.1.2\n",
    "\n",
    "Sometimes, the features (variables, fields) are not given in a dataset but can be created from it. The previous step is known as feature engineering. For example, the original dataset has several transactions done by the same customer. Then, we suggest you to group data by the client (using CustomerId) and, based on it, create the following new features for each CustomerId:\n",
    "\n",
    "*a) Number of transactions*\n",
    "\n",
    "*b) Number of transactions with a balance bigger than 100 USD*\n",
    "\n",
    "*c) Average amount of the transactions*\n",
    "\n",
    "*d) Average balance*\n",
    "\n",
    "*e) Average difference between the balance and the transaction amount for each customer (this is mainly known in the banking world as utilisation).*\n",
    "\n",
    "*f) Most common gender of the customer*\n",
    "\n",
    "*h) Most frequent location of the customer*\n",
    "\n",
    "*So, in the end, you should have for each CustomerID seven features.*"
   ]
  },
  {
   "cell_type": "code",
   "execution_count": 58,
   "id": "7ca472bb-7a01-4057-b25f-c53174cbad67",
   "metadata": {},
   "outputs": [
    {
     "data": {
      "text/html": [
       "<div>\n",
       "<style scoped>\n",
       "    .dataframe tbody tr th:only-of-type {\n",
       "        vertical-align: middle;\n",
       "    }\n",
       "\n",
       "    .dataframe tbody tr th {\n",
       "        vertical-align: top;\n",
       "    }\n",
       "\n",
       "    .dataframe thead th {\n",
       "        text-align: right;\n",
       "    }\n",
       "</style>\n",
       "<table border=\"1\" class=\"dataframe\">\n",
       "  <thead>\n",
       "    <tr style=\"text-align: right;\">\n",
       "      <th></th>\n",
       "      <th>CustomerAge</th>\n",
       "      <th>CustGender</th>\n",
       "      <th>CleanLocation</th>\n",
       "      <th>CustAccountBalance_avrg</th>\n",
       "      <th>TransactionAmount_avrg (INR)</th>\n",
       "    </tr>\n",
       "    <tr>\n",
       "      <th>CustomerID</th>\n",
       "      <th></th>\n",
       "      <th></th>\n",
       "      <th></th>\n",
       "      <th></th>\n",
       "      <th></th>\n",
       "    </tr>\n",
       "  </thead>\n",
       "  <tbody>\n",
       "    <tr>\n",
       "      <th>C1010011</th>\n",
       "      <td>24</td>\n",
       "      <td>F</td>\n",
       "      <td>NEW DELHI</td>\n",
       "      <td>76340.635</td>\n",
       "      <td>2553.0</td>\n",
       "    </tr>\n",
       "    <tr>\n",
       "      <th>C1010012</th>\n",
       "      <td>22</td>\n",
       "      <td>M</td>\n",
       "      <td>MUMBAI</td>\n",
       "      <td>24204.490</td>\n",
       "      <td>1499.0</td>\n",
       "    </tr>\n",
       "    <tr>\n",
       "      <th>C1010014</th>\n",
       "      <td>24</td>\n",
       "      <td>F</td>\n",
       "      <td>MUMBAI</td>\n",
       "      <td>100112.950</td>\n",
       "      <td>727.5</td>\n",
       "    </tr>\n",
       "    <tr>\n",
       "      <th>C1010018</th>\n",
       "      <td>26</td>\n",
       "      <td>F</td>\n",
       "      <td>CHAMPARAN</td>\n",
       "      <td>496.180</td>\n",
       "      <td>30.0</td>\n",
       "    </tr>\n",
       "    <tr>\n",
       "      <th>C1010024</th>\n",
       "      <td>51</td>\n",
       "      <td>M</td>\n",
       "      <td>KOLKATA</td>\n",
       "      <td>87058.650</td>\n",
       "      <td>5000.0</td>\n",
       "    </tr>\n",
       "    <tr>\n",
       "      <th>...</th>\n",
       "      <td>...</td>\n",
       "      <td>...</td>\n",
       "      <td>...</td>\n",
       "      <td>...</td>\n",
       "      <td>...</td>\n",
       "    </tr>\n",
       "    <tr>\n",
       "      <th>C9099836</th>\n",
       "      <td>26</td>\n",
       "      <td>M</td>\n",
       "      <td>BHIWANDI</td>\n",
       "      <td>133067.230</td>\n",
       "      <td>691.0</td>\n",
       "    </tr>\n",
       "    <tr>\n",
       "      <th>C9099877</th>\n",
       "      <td>20</td>\n",
       "      <td>M</td>\n",
       "      <td>BANGALORE</td>\n",
       "      <td>96063.460</td>\n",
       "      <td>222.0</td>\n",
       "    </tr>\n",
       "    <tr>\n",
       "      <th>C9099919</th>\n",
       "      <td>23</td>\n",
       "      <td>M</td>\n",
       "      <td>GUNTUR</td>\n",
       "      <td>5559.750</td>\n",
       "      <td>126.0</td>\n",
       "    </tr>\n",
       "    <tr>\n",
       "      <th>C9099941</th>\n",
       "      <td>21</td>\n",
       "      <td>M</td>\n",
       "      <td>CHENNAI</td>\n",
       "      <td>35295.920</td>\n",
       "      <td>50.0</td>\n",
       "    </tr>\n",
       "    <tr>\n",
       "      <th>C9099956</th>\n",
       "      <td>34</td>\n",
       "      <td>M</td>\n",
       "      <td>MUSSOORIE</td>\n",
       "      <td>6968.930</td>\n",
       "      <td>855.0</td>\n",
       "    </tr>\n",
       "  </tbody>\n",
       "</table>\n",
       "<p>839018 rows × 5 columns</p>\n",
       "</div>"
      ],
      "text/plain": [
       "            CustomerAge CustGender CleanLocation  CustAccountBalance_avrg  \\\n",
       "CustomerID                                                                  \n",
       "C1010011             24          F     NEW DELHI                76340.635   \n",
       "C1010012             22          M        MUMBAI                24204.490   \n",
       "C1010014             24          F        MUMBAI               100112.950   \n",
       "C1010018             26          F     CHAMPARAN                  496.180   \n",
       "C1010024             51          M       KOLKATA                87058.650   \n",
       "...                 ...        ...           ...                      ...   \n",
       "C9099836             26          M      BHIWANDI               133067.230   \n",
       "C9099877             20          M     BANGALORE                96063.460   \n",
       "C9099919             23          M        GUNTUR                 5559.750   \n",
       "C9099941             21          M       CHENNAI                35295.920   \n",
       "C9099956             34          M     MUSSOORIE                 6968.930   \n",
       "\n",
       "            TransactionAmount_avrg (INR)  \n",
       "CustomerID                                \n",
       "C1010011                          2553.0  \n",
       "C1010012                          1499.0  \n",
       "C1010014                           727.5  \n",
       "C1010018                            30.0  \n",
       "C1010024                          5000.0  \n",
       "...                                  ...  \n",
       "C9099836                           691.0  \n",
       "C9099877                           222.0  \n",
       "C9099919                           126.0  \n",
       "C9099941                            50.0  \n",
       "C9099956                           855.0  \n",
       "\n",
       "[839018 rows x 5 columns]"
      ]
     },
     "execution_count": 58,
     "metadata": {},
     "output_type": "execute_result"
    }
   ],
   "source": [
    "custs "
   ]
  },
  {
   "cell_type": "code",
   "execution_count": 53,
   "id": "f9c89206-09f0-4fcc-b440-221cf2cd0a1b",
   "metadata": {},
   "outputs": [],
   "source": [
    "custs = tras \\\n",
    "    .groupby('CustomerID')[['CustomerAge', 'CustGender', 'CleanLocation']] \\\n",
    "    .agg(lambda col: col.mode()[0])"
   ]
  },
  {
   "cell_type": "code",
   "execution_count": 54,
   "id": "2614f8bc-343e-475c-bbae-81fcde6f41cc",
   "metadata": {},
   "outputs": [],
   "source": [
    "custs[['CustAccountBalance_avrg', 'TransactionAmount_avrg (INR)']] = \\\n",
    "    tras.groupby('CustomerID')[['CustAccountBalance', 'TransactionAmount (INR)']].mean()"
   ]
  },
  {
   "cell_type": "code",
   "execution_count": 61,
   "id": "d4a4aa2c-12db-4608-96e1-81df887cd189",
   "metadata": {},
   "outputs": [],
   "source": [
    "custs['TransactionNum'] = tras.groupby('CustomerID')['TransactionAmount (INR)'].count()"
   ]
  },
  {
   "cell_type": "code",
   "execution_count": 65,
   "id": "da82723e-c913-4a7e-b240-231bc00e706c",
   "metadata": {},
   "outputs": [],
   "source": [
    "custs['TransactionNumGT100'] = tras.loc[tras['TransactionAmount (INR)'] > 100].groupby('CustomerID')['TransactionAmount (INR)'].count()\n",
    "custs.TransactionNumGT100.fillna(0, inplace=True)\n",
    "custs.TransactionNumGT100 = custs.TransactionNumGT100.astype(int)"
   ]
  },
  {
   "cell_type": "code",
   "execution_count": 69,
   "id": "26a97a57-ccc7-4a50-88a6-31eacd85e021",
   "metadata": {
    "id": "50c6c2f2"
   },
   "outputs": [],
   "source": [
    "tras['utilisation'] = tras.CustAccountBalance - tras['TransactionAmount (INR)']\n",
    "custs['utilisation'] = tras.groupby('CustomerID')['utilisation'].mean()"
   ]
  },
  {
   "cell_type": "markdown",
   "id": "0a62f6c5-5e15-4381-82ba-dd5e088afb5a",
   "metadata": {},
   "source": [
    "custs.to_csv('customers.tsv', sep=\"\\t\")\n",
    "custs.head()"
   ]
  },
  {
   "cell_type": "markdown",
   "id": "5da70003-3571-4914-8507-2693e1405791",
   "metadata": {
    "id": "862f41d9",
    "tags": []
   },
   "source": [
    "## 2.1.3\n",
    "\n",
    "Consider at least 20 additional features that can be generated for each CustomerId. Describe each of them and why you believe they will be helpful. Moreover, add it to the previous dataset (the one with seven features). In the end, you should have for each CustomerID at least 27 features (7 recommended + 20 suggested by you).\n",
    "\n",
    "We engineered the following features:\n",
    "- Most frequent day of week\n",
    "- Ever transactioned on weekend"
   ]
  },
  {
   "cell_type": "code",
   "execution_count": 109,
   "id": "3f14457c",
   "metadata": {},
   "outputs": [],
   "source": [
    "custs['dayOfWeek_Mode'] = tras.groupby('CustomerID')['TransactionDate'].agg(lambda d: d.dt.day_name().mode()[0])\n",
    "custs['weekend'] = tras.groupby('CustomerID', sort=False)['TransactionDate'].agg(lambda d: any(d.dt.dayofweek >= 5) )"
   ]
  },
  {
   "cell_type": "markdown",
   "id": "c022174d",
   "metadata": {},
   "source": [
    "- Average time between transactions"
   ]
  },
  {
   "cell_type": "code",
   "execution_count": 103,
   "id": "21a8aab2",
   "metadata": {},
   "outputs": [],
   "source": [
    "custs['avg_period'] = tras.groupby('CustomerID')['TransactionDate'].agg(lambda d: ((d.max() - d.min()) / d.count()).total_seconds())"
   ]
  },
  {
   "cell_type": "markdown",
   "id": "03770711",
   "metadata": {},
   "source": [
    "- Was ever in negative balance"
   ]
  },
  {
   "cell_type": "code",
   "execution_count": 94,
   "id": "4fa78c3c",
   "metadata": {},
   "outputs": [],
   "source": [
    "custs['NegativeBalance'] = tras[tras.CustAccountBalance <= 0].groupby('CustomerID')['CustAccountBalance'].count()\n",
    "custs['NegativeBalance'].fillna(0, inplace=True)"
   ]
  },
  {
   "cell_type": "markdown",
   "id": "f9e6e932",
   "metadata": {},
   "source": [
    "- Maximum expense over balance in one transaction\n",
    "- Mean expense over balance in one transaction"
   ]
  },
  {
   "cell_type": "code",
   "execution_count": 170,
   "id": "18b6eafa",
   "metadata": {},
   "outputs": [],
   "source": [
    "tras['impact'] = (tras['TransactionAmount (INR)'] +.1)/ (tras.CustAccountBalance +1)\n",
    "custs[['MaxImpact', 'AvgImpact']] = tras.groupby('CustomerID')['impact'].agg([max, 'mean'])"
   ]
  },
  {
   "cell_type": "markdown",
   "id": "a950b513",
   "metadata": {},
   "source": [
    "- Max Transaction\n",
    "- Min Transaction\n",
    "- Median Transaction\n",
    "- 25-percentile Transaction\n",
    "- 75-percentile Transaction\n",
    "- Standeard Deviation of Transaction"
   ]
  },
  {
   "cell_type": "code",
   "execution_count": 107,
   "id": "68756220",
   "metadata": {},
   "outputs": [],
   "source": [
    "def percentile(n):\n",
    "    def percentile_(x):\n",
    "        return np.percentile(x, n)\n",
    "    percentile_.__name__ = 'percentile_%s' % n\n",
    "    return percentile_\n",
    "\n",
    "custs[\n",
    "    ['Max Transaction', 'Min Transaction', \n",
    "     'Median Transaction', '25-percentile Transaction', \n",
    "     '75-percentile Transaction', 'Standard Deviation Transaction']] = tras \\\n",
    "        .groupby('CustomerID')['TransactionAmount (INR)'] \\\n",
    "        .agg([max, min, 'median', percentile(25), percentile(75), 'std'])"
   ]
  },
  {
   "cell_type": "markdown",
   "id": "6e09f67b",
   "metadata": {},
   "source": [
    "- Median Balance\n",
    "- Max Balance\n",
    "- Min Balance\n",
    "- Standard Deviation of Balance"
   ]
  },
  {
   "cell_type": "code",
   "execution_count": 112,
   "id": "d0e15eaf",
   "metadata": {},
   "outputs": [],
   "source": [
    "custs[['Median Balance', 'Max Balance', 'Min Balance', 'Standard Deviation Balance']] = \\\n",
    "    tras.groupby('CustomerID', sort=False)['CustAccountBalance']\\\n",
    "        .agg(['median', max, min, 'std'])"
   ]
  },
  {
   "cell_type": "markdown",
   "id": "1a021d01",
   "metadata": {},
   "source": [
    "- Season of birth\n",
    "- Decade of birth"
   ]
  },
  {
   "cell_type": "code",
   "execution_count": 126,
   "id": "ad92bf68",
   "metadata": {},
   "outputs": [],
   "source": [
    "SEASONS = {0: 'Winter', 1:'Spring', 2:'Summer',3:'Fall'}\n",
    "custs['seasonDOB'] = tras.groupby('CustomerID')['CustomerDOB'].agg('first').map(lambda dob: (dob.month - 1) // 3 ).map(SEASONS)\n",
    "\n",
    "custs['decadeDOB'] = tras.groupby('CustomerID')['CustomerDOB'].agg('first').map(lambda dob: str(dob.year//10 * 10))"
   ]
  },
  {
   "cell_type": "markdown",
   "id": "97d8d3f0",
   "metadata": {},
   "source": [
    "- Most frequent period of day (morning, noon, evening and night)\n",
    "- Ever transactioned at night"
   ]
  },
  {
   "cell_type": "code",
   "execution_count": 133,
   "id": "efb35b81",
   "metadata": {},
   "outputs": [],
   "source": [
    "DAY_PERIOD = {0: 'Night', 1: 'Morning', 2:'Afternoon', 3:'Evening'}\n",
    "tras['transaction_period'] = tras.TransactionTime.map(lambda time: time.hour // 6).map(DAY_PERIOD)\n",
    "custs['DayPeriodMode'] = tras.groupby('CustomerID')['TransactionTime'].agg(lambda p: p.mode()[0])\n",
    "\n",
    "custs['NightTransaction'] = tras.groupby('CustomerID', sort=False)['transaction_period'].agg(lambda d: any(d == 'Night') )"
   ]
  },
  {
   "cell_type": "code",
   "execution_count": 169,
   "id": "553fb9fa",
   "metadata": {},
   "outputs": [
    {
     "data": {
      "text/html": [
       "<div>\n",
       "<style scoped>\n",
       "    .dataframe tbody tr th:only-of-type {\n",
       "        vertical-align: middle;\n",
       "    }\n",
       "\n",
       "    .dataframe tbody tr th {\n",
       "        vertical-align: top;\n",
       "    }\n",
       "\n",
       "    .dataframe thead th {\n",
       "        text-align: right;\n",
       "    }\n",
       "</style>\n",
       "<table border=\"1\" class=\"dataframe\">\n",
       "  <thead>\n",
       "    <tr style=\"text-align: right;\">\n",
       "      <th></th>\n",
       "      <th>CustomerAge</th>\n",
       "      <th>CustGender</th>\n",
       "      <th>CleanLocation</th>\n",
       "      <th>CustAccountBalance_avrg</th>\n",
       "      <th>TransactionAmount_avrg (INR)</th>\n",
       "      <th>TransactionNum</th>\n",
       "      <th>TransactionNumGT100</th>\n",
       "      <th>utilisation</th>\n",
       "      <th>dayOfWeek_Mode</th>\n",
       "      <th>avg_period</th>\n",
       "      <th>...</th>\n",
       "      <th>25-percentile Transaction</th>\n",
       "      <th>75-percentile Transaction</th>\n",
       "      <th>Standard Deviation of Transaction</th>\n",
       "      <th>weekend</th>\n",
       "      <th>Median Balance</th>\n",
       "      <th>Max Balance</th>\n",
       "      <th>Min Balance</th>\n",
       "      <th>Standard Deviation Balance</th>\n",
       "      <th>seasonDOB</th>\n",
       "      <th>NightTransaction</th>\n",
       "    </tr>\n",
       "    <tr>\n",
       "      <th>CustomerID</th>\n",
       "      <th></th>\n",
       "      <th></th>\n",
       "      <th></th>\n",
       "      <th></th>\n",
       "      <th></th>\n",
       "      <th></th>\n",
       "      <th></th>\n",
       "      <th></th>\n",
       "      <th></th>\n",
       "      <th></th>\n",
       "      <th></th>\n",
       "      <th></th>\n",
       "      <th></th>\n",
       "      <th></th>\n",
       "      <th></th>\n",
       "      <th></th>\n",
       "      <th></th>\n",
       "      <th></th>\n",
       "      <th></th>\n",
       "      <th></th>\n",
       "      <th></th>\n",
       "    </tr>\n",
       "  </thead>\n",
       "  <tbody>\n",
       "    <tr>\n",
       "      <th>C1010011</th>\n",
       "      <td>24</td>\n",
       "      <td>F</td>\n",
       "      <td>NEW DELHI</td>\n",
       "      <td>76340.635</td>\n",
       "      <td>2553.0</td>\n",
       "      <td>2</td>\n",
       "      <td>2</td>\n",
       "      <td>73787.635</td>\n",
       "      <td>Monday</td>\n",
       "      <td>777600.0</td>\n",
       "      <td>...</td>\n",
       "      <td>1454.50</td>\n",
       "      <td>3651.50</td>\n",
       "      <td>3107.027197</td>\n",
       "      <td>False</td>\n",
       "      <td>76340.635</td>\n",
       "      <td>120180.54</td>\n",
       "      <td>32500.73</td>\n",
       "      <td>61998.988224</td>\n",
       "      <td>Summer</td>\n",
       "      <td>True</td>\n",
       "    </tr>\n",
       "    <tr>\n",
       "      <th>C1010012</th>\n",
       "      <td>22</td>\n",
       "      <td>M</td>\n",
       "      <td>MUMBAI</td>\n",
       "      <td>24204.490</td>\n",
       "      <td>1499.0</td>\n",
       "      <td>1</td>\n",
       "      <td>1</td>\n",
       "      <td>22705.490</td>\n",
       "      <td>Sunday</td>\n",
       "      <td>0.0</td>\n",
       "      <td>...</td>\n",
       "      <td>1499.00</td>\n",
       "      <td>1499.00</td>\n",
       "      <td>0.000000</td>\n",
       "      <td>True</td>\n",
       "      <td>24204.490</td>\n",
       "      <td>24204.49</td>\n",
       "      <td>24204.49</td>\n",
       "      <td>0.000000</td>\n",
       "      <td>Summer</td>\n",
       "      <td>False</td>\n",
       "    </tr>\n",
       "    <tr>\n",
       "      <th>C1010014</th>\n",
       "      <td>24</td>\n",
       "      <td>F</td>\n",
       "      <td>MUMBAI</td>\n",
       "      <td>100112.950</td>\n",
       "      <td>727.5</td>\n",
       "      <td>2</td>\n",
       "      <td>2</td>\n",
       "      <td>99385.450</td>\n",
       "      <td>Friday</td>\n",
       "      <td>7862400.0</td>\n",
       "      <td>...</td>\n",
       "      <td>488.75</td>\n",
       "      <td>966.25</td>\n",
       "      <td>675.286976</td>\n",
       "      <td>False</td>\n",
       "      <td>100112.950</td>\n",
       "      <td>161848.76</td>\n",
       "      <td>38377.14</td>\n",
       "      <td>87307.619786</td>\n",
       "      <td>Spring</td>\n",
       "      <td>False</td>\n",
       "    </tr>\n",
       "    <tr>\n",
       "      <th>C1010018</th>\n",
       "      <td>26</td>\n",
       "      <td>F</td>\n",
       "      <td>CHAMPARAN</td>\n",
       "      <td>496.180</td>\n",
       "      <td>30.0</td>\n",
       "      <td>1</td>\n",
       "      <td>0</td>\n",
       "      <td>466.180</td>\n",
       "      <td>Thursday</td>\n",
       "      <td>0.0</td>\n",
       "      <td>...</td>\n",
       "      <td>30.00</td>\n",
       "      <td>30.00</td>\n",
       "      <td>0.000000</td>\n",
       "      <td>False</td>\n",
       "      <td>496.180</td>\n",
       "      <td>496.18</td>\n",
       "      <td>496.18</td>\n",
       "      <td>0.000000</td>\n",
       "      <td>Spring</td>\n",
       "      <td>False</td>\n",
       "    </tr>\n",
       "    <tr>\n",
       "      <th>C1010024</th>\n",
       "      <td>51</td>\n",
       "      <td>M</td>\n",
       "      <td>KOLKATA</td>\n",
       "      <td>87058.650</td>\n",
       "      <td>5000.0</td>\n",
       "      <td>1</td>\n",
       "      <td>1</td>\n",
       "      <td>82058.650</td>\n",
       "      <td>Thursday</td>\n",
       "      <td>0.0</td>\n",
       "      <td>...</td>\n",
       "      <td>5000.00</td>\n",
       "      <td>5000.00</td>\n",
       "      <td>0.000000</td>\n",
       "      <td>False</td>\n",
       "      <td>87058.650</td>\n",
       "      <td>87058.65</td>\n",
       "      <td>87058.65</td>\n",
       "      <td>0.000000</td>\n",
       "      <td>Spring</td>\n",
       "      <td>False</td>\n",
       "    </tr>\n",
       "    <tr>\n",
       "      <th>...</th>\n",
       "      <td>...</td>\n",
       "      <td>...</td>\n",
       "      <td>...</td>\n",
       "      <td>...</td>\n",
       "      <td>...</td>\n",
       "      <td>...</td>\n",
       "      <td>...</td>\n",
       "      <td>...</td>\n",
       "      <td>...</td>\n",
       "      <td>...</td>\n",
       "      <td>...</td>\n",
       "      <td>...</td>\n",
       "      <td>...</td>\n",
       "      <td>...</td>\n",
       "      <td>...</td>\n",
       "      <td>...</td>\n",
       "      <td>...</td>\n",
       "      <td>...</td>\n",
       "      <td>...</td>\n",
       "      <td>...</td>\n",
       "      <td>...</td>\n",
       "    </tr>\n",
       "    <tr>\n",
       "      <th>C9099836</th>\n",
       "      <td>26</td>\n",
       "      <td>M</td>\n",
       "      <td>BHIWANDI</td>\n",
       "      <td>133067.230</td>\n",
       "      <td>691.0</td>\n",
       "      <td>1</td>\n",
       "      <td>1</td>\n",
       "      <td>132376.230</td>\n",
       "      <td>Friday</td>\n",
       "      <td>0.0</td>\n",
       "      <td>...</td>\n",
       "      <td>691.00</td>\n",
       "      <td>691.00</td>\n",
       "      <td>0.000000</td>\n",
       "      <td>False</td>\n",
       "      <td>133067.230</td>\n",
       "      <td>133067.23</td>\n",
       "      <td>133067.23</td>\n",
       "      <td>0.000000</td>\n",
       "      <td>Fall</td>\n",
       "      <td>True</td>\n",
       "    </tr>\n",
       "    <tr>\n",
       "      <th>C9099877</th>\n",
       "      <td>20</td>\n",
       "      <td>M</td>\n",
       "      <td>BANGALORE</td>\n",
       "      <td>96063.460</td>\n",
       "      <td>222.0</td>\n",
       "      <td>1</td>\n",
       "      <td>1</td>\n",
       "      <td>95841.460</td>\n",
       "      <td>Thursday</td>\n",
       "      <td>0.0</td>\n",
       "      <td>...</td>\n",
       "      <td>222.00</td>\n",
       "      <td>222.00</td>\n",
       "      <td>0.000000</td>\n",
       "      <td>False</td>\n",
       "      <td>96063.460</td>\n",
       "      <td>96063.46</td>\n",
       "      <td>96063.46</td>\n",
       "      <td>0.000000</td>\n",
       "      <td>Summer</td>\n",
       "      <td>False</td>\n",
       "    </tr>\n",
       "    <tr>\n",
       "      <th>C9099919</th>\n",
       "      <td>23</td>\n",
       "      <td>M</td>\n",
       "      <td>GUNTUR</td>\n",
       "      <td>5559.750</td>\n",
       "      <td>126.0</td>\n",
       "      <td>1</td>\n",
       "      <td>1</td>\n",
       "      <td>5433.750</td>\n",
       "      <td>Thursday</td>\n",
       "      <td>0.0</td>\n",
       "      <td>...</td>\n",
       "      <td>126.00</td>\n",
       "      <td>126.00</td>\n",
       "      <td>0.000000</td>\n",
       "      <td>False</td>\n",
       "      <td>5559.750</td>\n",
       "      <td>5559.75</td>\n",
       "      <td>5559.75</td>\n",
       "      <td>0.000000</td>\n",
       "      <td>Fall</td>\n",
       "      <td>False</td>\n",
       "    </tr>\n",
       "    <tr>\n",
       "      <th>C9099941</th>\n",
       "      <td>21</td>\n",
       "      <td>M</td>\n",
       "      <td>CHENNAI</td>\n",
       "      <td>35295.920</td>\n",
       "      <td>50.0</td>\n",
       "      <td>1</td>\n",
       "      <td>0</td>\n",
       "      <td>35245.920</td>\n",
       "      <td>Sunday</td>\n",
       "      <td>0.0</td>\n",
       "      <td>...</td>\n",
       "      <td>50.00</td>\n",
       "      <td>50.00</td>\n",
       "      <td>0.000000</td>\n",
       "      <td>True</td>\n",
       "      <td>35295.920</td>\n",
       "      <td>35295.92</td>\n",
       "      <td>35295.92</td>\n",
       "      <td>0.000000</td>\n",
       "      <td>Spring</td>\n",
       "      <td>False</td>\n",
       "    </tr>\n",
       "    <tr>\n",
       "      <th>C9099956</th>\n",
       "      <td>34</td>\n",
       "      <td>M</td>\n",
       "      <td>MUSSOORIE</td>\n",
       "      <td>6968.930</td>\n",
       "      <td>855.0</td>\n",
       "      <td>1</td>\n",
       "      <td>1</td>\n",
       "      <td>6113.930</td>\n",
       "      <td>Sunday</td>\n",
       "      <td>0.0</td>\n",
       "      <td>...</td>\n",
       "      <td>855.00</td>\n",
       "      <td>855.00</td>\n",
       "      <td>0.000000</td>\n",
       "      <td>True</td>\n",
       "      <td>6968.930</td>\n",
       "      <td>6968.93</td>\n",
       "      <td>6968.93</td>\n",
       "      <td>0.000000</td>\n",
       "      <td>Fall</td>\n",
       "      <td>False</td>\n",
       "    </tr>\n",
       "  </tbody>\n",
       "</table>\n",
       "<p>839018 rows × 27 columns</p>\n",
       "</div>"
      ],
      "text/plain": [
       "            CustomerAge CustGender CleanLocation  CustAccountBalance_avrg  \\\n",
       "CustomerID                                                                  \n",
       "C1010011             24          F     NEW DELHI                76340.635   \n",
       "C1010012             22          M        MUMBAI                24204.490   \n",
       "C1010014             24          F        MUMBAI               100112.950   \n",
       "C1010018             26          F     CHAMPARAN                  496.180   \n",
       "C1010024             51          M       KOLKATA                87058.650   \n",
       "...                 ...        ...           ...                      ...   \n",
       "C9099836             26          M      BHIWANDI               133067.230   \n",
       "C9099877             20          M     BANGALORE                96063.460   \n",
       "C9099919             23          M        GUNTUR                 5559.750   \n",
       "C9099941             21          M       CHENNAI                35295.920   \n",
       "C9099956             34          M     MUSSOORIE                 6968.930   \n",
       "\n",
       "            TransactionAmount_avrg (INR)  TransactionNum  TransactionNumGT100  \\\n",
       "CustomerID                                                                      \n",
       "C1010011                          2553.0               2                    2   \n",
       "C1010012                          1499.0               1                    1   \n",
       "C1010014                           727.5               2                    2   \n",
       "C1010018                            30.0               1                    0   \n",
       "C1010024                          5000.0               1                    1   \n",
       "...                                  ...             ...                  ...   \n",
       "C9099836                           691.0               1                    1   \n",
       "C9099877                           222.0               1                    1   \n",
       "C9099919                           126.0               1                    1   \n",
       "C9099941                            50.0               1                    0   \n",
       "C9099956                           855.0               1                    1   \n",
       "\n",
       "            utilisation dayOfWeek_Mode  avg_period  ...  \\\n",
       "CustomerID                                          ...   \n",
       "C1010011      73787.635         Monday    777600.0  ...   \n",
       "C1010012      22705.490         Sunday         0.0  ...   \n",
       "C1010014      99385.450         Friday   7862400.0  ...   \n",
       "C1010018        466.180       Thursday         0.0  ...   \n",
       "C1010024      82058.650       Thursday         0.0  ...   \n",
       "...                 ...            ...         ...  ...   \n",
       "C9099836     132376.230         Friday         0.0  ...   \n",
       "C9099877      95841.460       Thursday         0.0  ...   \n",
       "C9099919       5433.750       Thursday         0.0  ...   \n",
       "C9099941      35245.920         Sunday         0.0  ...   \n",
       "C9099956       6113.930         Sunday         0.0  ...   \n",
       "\n",
       "            25-percentile Transaction  75-percentile Transaction  \\\n",
       "CustomerID                                                         \n",
       "C1010011                      1454.50                    3651.50   \n",
       "C1010012                      1499.00                    1499.00   \n",
       "C1010014                       488.75                     966.25   \n",
       "C1010018                        30.00                      30.00   \n",
       "C1010024                      5000.00                    5000.00   \n",
       "...                               ...                        ...   \n",
       "C9099836                       691.00                     691.00   \n",
       "C9099877                       222.00                     222.00   \n",
       "C9099919                       126.00                     126.00   \n",
       "C9099941                        50.00                      50.00   \n",
       "C9099956                       855.00                     855.00   \n",
       "\n",
       "            Standard Deviation of Transaction  weekend  Median Balance  \\\n",
       "CustomerID                                                               \n",
       "C1010011                          3107.027197    False       76340.635   \n",
       "C1010012                             0.000000     True       24204.490   \n",
       "C1010014                           675.286976    False      100112.950   \n",
       "C1010018                             0.000000    False         496.180   \n",
       "C1010024                             0.000000    False       87058.650   \n",
       "...                                       ...      ...             ...   \n",
       "C9099836                             0.000000    False      133067.230   \n",
       "C9099877                             0.000000    False       96063.460   \n",
       "C9099919                             0.000000    False        5559.750   \n",
       "C9099941                             0.000000     True       35295.920   \n",
       "C9099956                             0.000000     True        6968.930   \n",
       "\n",
       "            Max Balance  Min Balance  Standard Deviation Balance  seasonDOB  \\\n",
       "CustomerID                                                                    \n",
       "C1010011      120180.54     32500.73                61998.988224     Summer   \n",
       "C1010012       24204.49     24204.49                    0.000000     Summer   \n",
       "C1010014      161848.76     38377.14                87307.619786     Spring   \n",
       "C1010018         496.18       496.18                    0.000000     Spring   \n",
       "C1010024       87058.65     87058.65                    0.000000     Spring   \n",
       "...                 ...          ...                         ...        ...   \n",
       "C9099836      133067.23    133067.23                    0.000000       Fall   \n",
       "C9099877       96063.46     96063.46                    0.000000     Summer   \n",
       "C9099919        5559.75      5559.75                    0.000000       Fall   \n",
       "C9099941       35295.92     35295.92                    0.000000     Spring   \n",
       "C9099956        6968.93      6968.93                    0.000000       Fall   \n",
       "\n",
       "            NightTransaction  \n",
       "CustomerID                    \n",
       "C1010011                True  \n",
       "C1010012               False  \n",
       "C1010014               False  \n",
       "C1010018               False  \n",
       "C1010024               False  \n",
       "...                      ...  \n",
       "C9099836                True  \n",
       "C9099877               False  \n",
       "C9099919               False  \n",
       "C9099941               False  \n",
       "C9099956               False  \n",
       "\n",
       "[839018 rows x 27 columns]"
      ]
     },
     "execution_count": 169,
     "metadata": {},
     "output_type": "execute_result"
    }
   ],
   "source": [
    "custs.fillna(0, inplace=True) # need to fill the NA values of the standard deviation with only one transaction\n",
    "custs.to_csv('customers_enriched.csv')\n",
    "custs"
   ]
  },
  {
   "cell_type": "markdown",
   "id": "2ea087eb-cb79-4081-9fa9-0a4345c78453",
   "metadata": {
    "tags": []
   },
   "source": [
    "## 2.2 Choose your features!\n",
    "Now that we have this many features we want to apply some dimensionality reduction to it, in order to ease the training of our model later.\n",
    "\n",
    "We will first perform some preprocessing to our data by making use of the `Pipeline` library of _scikit-learn_, and then apply the PCA."
   ]
  },
  {
   "cell_type": "code",
   "execution_count": 119,
   "id": "1ec53e7b-7977-4920-af6e-4370d744f32f",
   "metadata": {
    "cell_id": "eed9eb8bf344463ca4e8903fd708b774",
    "deepnote_cell_type": "code",
    "deepnote_to_be_reexecuted": false,
    "execution_millis": 1683,
    "execution_start": 1670676987556,
    "source_hash": "8acf73a4",
    "tags": []
   },
   "outputs": [],
   "source": [
    "import pandas as pd\n",
    "import numpy as np\n",
    "from sklearn.pipeline import make_pipeline\n",
    "from sklearn.preprocessing import OneHotEncoder, Normalizer, MinMaxScaler, OrdinalEncoder\n",
    "from sklearn.compose import make_column_transformer\n",
    "from sklearn.compose import make_column_selector as col_selector\n",
    "from sklearn.decomposition import PCA\n",
    "from prince import FAMD"
   ]
  },
  {
   "cell_type": "code",
   "execution_count": 10,
   "id": "a94a9bb6-b0b1-49d7-aec1-87e9954c4747",
   "metadata": {
    "cell_id": "3228eb0d6a9c44a98324b3709d1adb2b",
    "deepnote_cell_type": "code",
    "deepnote_to_be_reexecuted": false,
    "execution_millis": 11213,
    "execution_start": 1670676989246,
    "source_hash": "668300fd",
    "tags": []
   },
   "outputs": [
    {
     "data": {
      "text/html": [
       "<div>\n",
       "<style scoped>\n",
       "    .dataframe tbody tr th:only-of-type {\n",
       "        vertical-align: middle;\n",
       "    }\n",
       "\n",
       "    .dataframe tbody tr th {\n",
       "        vertical-align: top;\n",
       "    }\n",
       "\n",
       "    .dataframe thead th {\n",
       "        text-align: right;\n",
       "    }\n",
       "</style>\n",
       "<table border=\"1\" class=\"dataframe\">\n",
       "  <thead>\n",
       "    <tr style=\"text-align: right;\">\n",
       "      <th></th>\n",
       "      <th>CustomerAge</th>\n",
       "      <th>CustGender</th>\n",
       "      <th>CleanLocation</th>\n",
       "      <th>CustAccountBalance_avrg</th>\n",
       "      <th>TransactionAmount_avrg (INR)</th>\n",
       "      <th>TransactionNum</th>\n",
       "      <th>TransactionNumGT100</th>\n",
       "      <th>utilisation</th>\n",
       "      <th>dayOfWeek_Mode</th>\n",
       "      <th>avg_period</th>\n",
       "      <th>...</th>\n",
       "      <th>25-percentile Transaction</th>\n",
       "      <th>75-percentile Transaction</th>\n",
       "      <th>Standard Deviation of Transaction</th>\n",
       "      <th>weekend</th>\n",
       "      <th>Median Balance</th>\n",
       "      <th>Max Balance</th>\n",
       "      <th>Min Balance</th>\n",
       "      <th>Standard Deviation Balance</th>\n",
       "      <th>seasonDOB</th>\n",
       "      <th>NightTransaction</th>\n",
       "    </tr>\n",
       "    <tr>\n",
       "      <th>CustomerID</th>\n",
       "      <th></th>\n",
       "      <th></th>\n",
       "      <th></th>\n",
       "      <th></th>\n",
       "      <th></th>\n",
       "      <th></th>\n",
       "      <th></th>\n",
       "      <th></th>\n",
       "      <th></th>\n",
       "      <th></th>\n",
       "      <th></th>\n",
       "      <th></th>\n",
       "      <th></th>\n",
       "      <th></th>\n",
       "      <th></th>\n",
       "      <th></th>\n",
       "      <th></th>\n",
       "      <th></th>\n",
       "      <th></th>\n",
       "      <th></th>\n",
       "      <th></th>\n",
       "    </tr>\n",
       "  </thead>\n",
       "  <tbody>\n",
       "    <tr>\n",
       "      <th>C1010011</th>\n",
       "      <td>24</td>\n",
       "      <td>F</td>\n",
       "      <td>NEW DELHI</td>\n",
       "      <td>76340.635</td>\n",
       "      <td>2553.0</td>\n",
       "      <td>2</td>\n",
       "      <td>2</td>\n",
       "      <td>73787.635</td>\n",
       "      <td>Monday</td>\n",
       "      <td>777600.0</td>\n",
       "      <td>...</td>\n",
       "      <td>1454.50</td>\n",
       "      <td>3651.50</td>\n",
       "      <td>3107.027197</td>\n",
       "      <td>False</td>\n",
       "      <td>76340.635</td>\n",
       "      <td>120180.54</td>\n",
       "      <td>32500.73</td>\n",
       "      <td>61998.988224</td>\n",
       "      <td>Summer</td>\n",
       "      <td>True</td>\n",
       "    </tr>\n",
       "    <tr>\n",
       "      <th>C1010012</th>\n",
       "      <td>22</td>\n",
       "      <td>M</td>\n",
       "      <td>MUMBAI</td>\n",
       "      <td>24204.490</td>\n",
       "      <td>1499.0</td>\n",
       "      <td>1</td>\n",
       "      <td>1</td>\n",
       "      <td>22705.490</td>\n",
       "      <td>Sunday</td>\n",
       "      <td>0.0</td>\n",
       "      <td>...</td>\n",
       "      <td>1499.00</td>\n",
       "      <td>1499.00</td>\n",
       "      <td>0.000000</td>\n",
       "      <td>True</td>\n",
       "      <td>24204.490</td>\n",
       "      <td>24204.49</td>\n",
       "      <td>24204.49</td>\n",
       "      <td>0.000000</td>\n",
       "      <td>Summer</td>\n",
       "      <td>False</td>\n",
       "    </tr>\n",
       "    <tr>\n",
       "      <th>C1010014</th>\n",
       "      <td>24</td>\n",
       "      <td>F</td>\n",
       "      <td>MUMBAI</td>\n",
       "      <td>100112.950</td>\n",
       "      <td>727.5</td>\n",
       "      <td>2</td>\n",
       "      <td>2</td>\n",
       "      <td>99385.450</td>\n",
       "      <td>Friday</td>\n",
       "      <td>7862400.0</td>\n",
       "      <td>...</td>\n",
       "      <td>488.75</td>\n",
       "      <td>966.25</td>\n",
       "      <td>675.286976</td>\n",
       "      <td>False</td>\n",
       "      <td>100112.950</td>\n",
       "      <td>161848.76</td>\n",
       "      <td>38377.14</td>\n",
       "      <td>87307.619786</td>\n",
       "      <td>Spring</td>\n",
       "      <td>False</td>\n",
       "    </tr>\n",
       "    <tr>\n",
       "      <th>C1010018</th>\n",
       "      <td>26</td>\n",
       "      <td>F</td>\n",
       "      <td>CHAMPARAN</td>\n",
       "      <td>496.180</td>\n",
       "      <td>30.0</td>\n",
       "      <td>1</td>\n",
       "      <td>0</td>\n",
       "      <td>466.180</td>\n",
       "      <td>Thursday</td>\n",
       "      <td>0.0</td>\n",
       "      <td>...</td>\n",
       "      <td>30.00</td>\n",
       "      <td>30.00</td>\n",
       "      <td>0.000000</td>\n",
       "      <td>False</td>\n",
       "      <td>496.180</td>\n",
       "      <td>496.18</td>\n",
       "      <td>496.18</td>\n",
       "      <td>0.000000</td>\n",
       "      <td>Spring</td>\n",
       "      <td>False</td>\n",
       "    </tr>\n",
       "    <tr>\n",
       "      <th>C1010024</th>\n",
       "      <td>51</td>\n",
       "      <td>M</td>\n",
       "      <td>KOLKATA</td>\n",
       "      <td>87058.650</td>\n",
       "      <td>5000.0</td>\n",
       "      <td>1</td>\n",
       "      <td>1</td>\n",
       "      <td>82058.650</td>\n",
       "      <td>Thursday</td>\n",
       "      <td>0.0</td>\n",
       "      <td>...</td>\n",
       "      <td>5000.00</td>\n",
       "      <td>5000.00</td>\n",
       "      <td>0.000000</td>\n",
       "      <td>False</td>\n",
       "      <td>87058.650</td>\n",
       "      <td>87058.65</td>\n",
       "      <td>87058.65</td>\n",
       "      <td>0.000000</td>\n",
       "      <td>Spring</td>\n",
       "      <td>False</td>\n",
       "    </tr>\n",
       "  </tbody>\n",
       "</table>\n",
       "<p>5 rows × 26 columns</p>\n",
       "</div>"
      ],
      "text/plain": [
       "            CustomerAge CustGender CleanLocation  CustAccountBalance_avrg  \\\n",
       "CustomerID                                                                  \n",
       "C1010011             24          F     NEW DELHI                76340.635   \n",
       "C1010012             22          M        MUMBAI                24204.490   \n",
       "C1010014             24          F        MUMBAI               100112.950   \n",
       "C1010018             26          F     CHAMPARAN                  496.180   \n",
       "C1010024             51          M       KOLKATA                87058.650   \n",
       "\n",
       "            TransactionAmount_avrg (INR)  TransactionNum  TransactionNumGT100  \\\n",
       "CustomerID                                                                      \n",
       "C1010011                          2553.0               2                    2   \n",
       "C1010012                          1499.0               1                    1   \n",
       "C1010014                           727.5               2                    2   \n",
       "C1010018                            30.0               1                    0   \n",
       "C1010024                          5000.0               1                    1   \n",
       "\n",
       "            utilisation dayOfWeek_Mode  avg_period  ...  \\\n",
       "CustomerID                                          ...   \n",
       "C1010011      73787.635         Monday    777600.0  ...   \n",
       "C1010012      22705.490         Sunday         0.0  ...   \n",
       "C1010014      99385.450         Friday   7862400.0  ...   \n",
       "C1010018        466.180       Thursday         0.0  ...   \n",
       "C1010024      82058.650       Thursday         0.0  ...   \n",
       "\n",
       "            25-percentile Transaction  75-percentile Transaction  \\\n",
       "CustomerID                                                         \n",
       "C1010011                      1454.50                    3651.50   \n",
       "C1010012                      1499.00                    1499.00   \n",
       "C1010014                       488.75                     966.25   \n",
       "C1010018                        30.00                      30.00   \n",
       "C1010024                      5000.00                    5000.00   \n",
       "\n",
       "            Standard Deviation of Transaction  weekend  Median Balance  \\\n",
       "CustomerID                                                               \n",
       "C1010011                          3107.027197    False       76340.635   \n",
       "C1010012                             0.000000     True       24204.490   \n",
       "C1010014                           675.286976    False      100112.950   \n",
       "C1010018                             0.000000    False         496.180   \n",
       "C1010024                             0.000000    False       87058.650   \n",
       "\n",
       "            Max Balance  Min Balance  Standard Deviation Balance  seasonDOB  \\\n",
       "CustomerID                                                                    \n",
       "C1010011      120180.54     32500.73                61998.988224     Summer   \n",
       "C1010012       24204.49     24204.49                    0.000000     Summer   \n",
       "C1010014      161848.76     38377.14                87307.619786     Spring   \n",
       "C1010018         496.18       496.18                    0.000000     Spring   \n",
       "C1010024       87058.65     87058.65                    0.000000     Spring   \n",
       "\n",
       "            NightTransaction  \n",
       "CustomerID                    \n",
       "C1010011                True  \n",
       "C1010012               False  \n",
       "C1010014               False  \n",
       "C1010018               False  \n",
       "C1010024               False  \n",
       "\n",
       "[5 rows x 26 columns]"
      ]
     },
     "execution_count": 10,
     "metadata": {},
     "output_type": "execute_result"
    }
   ],
   "source": [
    "custs = pd.read_csv('customers_enriched.csv', index_col='CustomerID')\n",
    "custs.head()"
   ]
  },
  {
   "cell_type": "markdown",
   "id": "1317d375-dedb-4043-a928-7f9620165c68",
   "metadata": {},
   "source": [
    "Our original dataset has some problems: the columns regarding the logarithms of a quantity suffer from having some `-inf` values, so we cast all of the negative values to 0. This shouldn't be a problem. "
   ]
  },
  {
   "cell_type": "code",
   "execution_count": 23,
   "id": "64fb3665-9517-4268-9173-0e15bad5fe12",
   "metadata": {
    "cell_id": "76909b95a6464fe49e93fa30c79ed929",
    "deepnote_cell_type": "code",
    "deepnote_to_be_reexecuted": false,
    "execution_millis": 2242,
    "execution_start": 1670677000473,
    "source_hash": "ae2957fe",
    "tags": []
   },
   "outputs": [
    {
     "data": {
      "text/html": [
       "<div>\n",
       "<style scoped>\n",
       "    .dataframe tbody tr th:only-of-type {\n",
       "        vertical-align: middle;\n",
       "    }\n",
       "\n",
       "    .dataframe tbody tr th {\n",
       "        vertical-align: top;\n",
       "    }\n",
       "\n",
       "    .dataframe thead th {\n",
       "        text-align: right;\n",
       "    }\n",
       "</style>\n",
       "<table border=\"1\" class=\"dataframe\">\n",
       "  <thead>\n",
       "    <tr style=\"text-align: right;\">\n",
       "      <th></th>\n",
       "      <th>CustomerAge</th>\n",
       "      <th>CustAccountBalance_avrg</th>\n",
       "      <th>TransactionAmount_avrg (INR)</th>\n",
       "      <th>TransactionNum</th>\n",
       "      <th>TransactionNumGT100</th>\n",
       "      <th>utilisation</th>\n",
       "      <th>avg_period</th>\n",
       "      <th>NegativeBalance</th>\n",
       "      <th>MaxImpact</th>\n",
       "      <th>AvgImpact</th>\n",
       "      <th>Max Transaction</th>\n",
       "      <th>Min Transaction</th>\n",
       "      <th>Median Transaction</th>\n",
       "      <th>25-percentile Transaction</th>\n",
       "      <th>75-percentile Transaction</th>\n",
       "      <th>Standard Deviation of Transaction</th>\n",
       "      <th>Median Balance</th>\n",
       "      <th>Max Balance</th>\n",
       "      <th>Min Balance</th>\n",
       "      <th>Standard Deviation Balance</th>\n",
       "    </tr>\n",
       "  </thead>\n",
       "  <tbody>\n",
       "    <tr>\n",
       "      <th>count</th>\n",
       "      <td>839018.000000</td>\n",
       "      <td>8.390180e+05</td>\n",
       "      <td>8.390180e+05</td>\n",
       "      <td>839018.000000</td>\n",
       "      <td>839018.000000</td>\n",
       "      <td>8.390180e+05</td>\n",
       "      <td>8.390180e+05</td>\n",
       "      <td>839018.000000</td>\n",
       "      <td>8.390180e+05</td>\n",
       "      <td>8.390180e+05</td>\n",
       "      <td>8.390180e+05</td>\n",
       "      <td>8.390180e+05</td>\n",
       "      <td>8.390180e+05</td>\n",
       "      <td>8.390180e+05</td>\n",
       "      <td>8.390180e+05</td>\n",
       "      <td>839018.000000</td>\n",
       "      <td>8.390180e+05</td>\n",
       "      <td>8.390180e+05</td>\n",
       "      <td>8.390180e+05</td>\n",
       "      <td>8.390180e+05</td>\n",
       "    </tr>\n",
       "    <tr>\n",
       "      <th>mean</th>\n",
       "      <td>30.420416</td>\n",
       "      <td>1.056321e+05</td>\n",
       "      <td>1.453407e+03</td>\n",
       "      <td>1.174273</td>\n",
       "      <td>0.943205</td>\n",
       "      <td>1.041787e+05</td>\n",
       "      <td>5.785369e+05</td>\n",
       "      <td>0.002510</td>\n",
       "      <td>1.078497e+01</td>\n",
       "      <td>9.218893e+00</td>\n",
       "      <td>1.636700e+03</td>\n",
       "      <td>1.285703e+03</td>\n",
       "      <td>1.439341e+03</td>\n",
       "      <td>1.362358e+03</td>\n",
       "      <td>1.536640e+03</td>\n",
       "      <td>237.885236</td>\n",
       "      <td>1.043380e+05</td>\n",
       "      <td>1.209374e+05</td>\n",
       "      <td>9.174323e+04</td>\n",
       "      <td>1.984145e+04</td>\n",
       "    </tr>\n",
       "    <tr>\n",
       "      <th>std</th>\n",
       "      <td>8.442880</td>\n",
       "      <td>7.843302e+05</td>\n",
       "      <td>6.044735e+03</td>\n",
       "      <td>0.435111</td>\n",
       "      <td>0.554204</td>\n",
       "      <td>7.840215e+05</td>\n",
       "      <td>1.858237e+06</td>\n",
       "      <td>0.050157</td>\n",
       "      <td>3.768196e+02</td>\n",
       "      <td>3.451573e+02</td>\n",
       "      <td>6.627324e+03</td>\n",
       "      <td>5.883890e+03</td>\n",
       "      <td>6.029819e+03</td>\n",
       "      <td>5.916571e+03</td>\n",
       "      <td>6.250500e+03</td>\n",
       "      <td>2112.719709</td>\n",
       "      <td>7.825793e+05</td>\n",
       "      <td>8.785526e+05</td>\n",
       "      <td>7.542108e+05</td>\n",
       "      <td>3.134376e+05</td>\n",
       "    </tr>\n",
       "    <tr>\n",
       "      <th>min</th>\n",
       "      <td>0.000000</td>\n",
       "      <td>0.000000e+00</td>\n",
       "      <td>0.000000e+00</td>\n",
       "      <td>1.000000</td>\n",
       "      <td>0.000000</td>\n",
       "      <td>-1.517547e+06</td>\n",
       "      <td>0.000000e+00</td>\n",
       "      <td>0.000000</td>\n",
       "      <td>7.004635e-09</td>\n",
       "      <td>7.004635e-09</td>\n",
       "      <td>0.000000e+00</td>\n",
       "      <td>0.000000e+00</td>\n",
       "      <td>0.000000e+00</td>\n",
       "      <td>0.000000e+00</td>\n",
       "      <td>0.000000e+00</td>\n",
       "      <td>0.000000</td>\n",
       "      <td>0.000000e+00</td>\n",
       "      <td>0.000000e+00</td>\n",
       "      <td>0.000000e+00</td>\n",
       "      <td>0.000000e+00</td>\n",
       "    </tr>\n",
       "    <tr>\n",
       "      <th>25%</th>\n",
       "      <td>25.000000</td>\n",
       "      <td>5.364666e+03</td>\n",
       "      <td>1.800000e+02</td>\n",
       "      <td>1.000000</td>\n",
       "      <td>1.000000</td>\n",
       "      <td>4.560395e+03</td>\n",
       "      <td>0.000000e+00</td>\n",
       "      <td>0.000000</td>\n",
       "      <td>8.012312e-03</td>\n",
       "      <td>7.686907e-03</td>\n",
       "      <td>1.950000e+02</td>\n",
       "      <td>1.250000e+02</td>\n",
       "      <td>1.780000e+02</td>\n",
       "      <td>1.631287e+02</td>\n",
       "      <td>1.880000e+02</td>\n",
       "      <td>0.000000</td>\n",
       "      <td>5.299935e+03</td>\n",
       "      <td>5.640640e+03</td>\n",
       "      <td>3.673240e+03</td>\n",
       "      <td>0.000000e+00</td>\n",
       "    </tr>\n",
       "    <tr>\n",
       "      <th>50%</th>\n",
       "      <td>28.000000</td>\n",
       "      <td>1.768083e+04</td>\n",
       "      <td>4.749950e+02</td>\n",
       "      <td>1.000000</td>\n",
       "      <td>1.000000</td>\n",
       "      <td>1.663460e+04</td>\n",
       "      <td>0.000000e+00</td>\n",
       "      <td>0.000000</td>\n",
       "      <td>3.182726e-02</td>\n",
       "      <td>2.931723e-02</td>\n",
       "      <td>5.000000e+02</td>\n",
       "      <td>3.590000e+02</td>\n",
       "      <td>4.650000e+02</td>\n",
       "      <td>4.250400e+02</td>\n",
       "      <td>4.990000e+02</td>\n",
       "      <td>0.000000</td>\n",
       "      <td>1.736082e+04</td>\n",
       "      <td>1.917630e+04</td>\n",
       "      <td>1.335720e+04</td>\n",
       "      <td>0.000000e+00</td>\n",
       "    </tr>\n",
       "    <tr>\n",
       "      <th>75%</th>\n",
       "      <td>34.000000</td>\n",
       "      <td>5.722422e+04</td>\n",
       "      <td>1.175060e+03</td>\n",
       "      <td>1.000000</td>\n",
       "      <td>1.000000</td>\n",
       "      <td>5.571657e+04</td>\n",
       "      <td>0.000000e+00</td>\n",
       "      <td>0.000000</td>\n",
       "      <td>1.561972e-01</td>\n",
       "      <td>1.384151e-01</td>\n",
       "      <td>1.315000e+03</td>\n",
       "      <td>1.000000e+03</td>\n",
       "      <td>1.154590e+03</td>\n",
       "      <td>1.065000e+03</td>\n",
       "      <td>1.250000e+03</td>\n",
       "      <td>0.000000</td>\n",
       "      <td>5.608183e+04</td>\n",
       "      <td>6.380247e+04</td>\n",
       "      <td>4.478974e+04</td>\n",
       "      <td>0.000000e+00</td>\n",
       "    </tr>\n",
       "    <tr>\n",
       "      <th>max</th>\n",
       "      <td>99.000000</td>\n",
       "      <td>1.150355e+08</td>\n",
       "      <td>1.560035e+06</td>\n",
       "      <td>6.000000</td>\n",
       "      <td>6.000000</td>\n",
       "      <td>1.150339e+08</td>\n",
       "      <td>1.451520e+07</td>\n",
       "      <td>2.000000</td>\n",
       "      <td>1.250001e+05</td>\n",
       "      <td>1.250001e+05</td>\n",
       "      <td>1.560035e+06</td>\n",
       "      <td>1.560035e+06</td>\n",
       "      <td>1.560035e+06</td>\n",
       "      <td>1.560035e+06</td>\n",
       "      <td>1.560035e+06</td>\n",
       "      <td>511784.089233</td>\n",
       "      <td>1.150355e+08</td>\n",
       "      <td>1.150355e+08</td>\n",
       "      <td>1.150355e+08</td>\n",
       "      <td>8.134158e+07</td>\n",
       "    </tr>\n",
       "  </tbody>\n",
       "</table>\n",
       "</div>"
      ],
      "text/plain": [
       "         CustomerAge  CustAccountBalance_avrg  TransactionAmount_avrg (INR)  \\\n",
       "count  839018.000000             8.390180e+05                  8.390180e+05   \n",
       "mean       30.420416             1.056321e+05                  1.453407e+03   \n",
       "std         8.442880             7.843302e+05                  6.044735e+03   \n",
       "min         0.000000             0.000000e+00                  0.000000e+00   \n",
       "25%        25.000000             5.364666e+03                  1.800000e+02   \n",
       "50%        28.000000             1.768083e+04                  4.749950e+02   \n",
       "75%        34.000000             5.722422e+04                  1.175060e+03   \n",
       "max        99.000000             1.150355e+08                  1.560035e+06   \n",
       "\n",
       "       TransactionNum  TransactionNumGT100   utilisation    avg_period  \\\n",
       "count   839018.000000        839018.000000  8.390180e+05  8.390180e+05   \n",
       "mean         1.174273             0.943205  1.041787e+05  5.785369e+05   \n",
       "std          0.435111             0.554204  7.840215e+05  1.858237e+06   \n",
       "min          1.000000             0.000000 -1.517547e+06  0.000000e+00   \n",
       "25%          1.000000             1.000000  4.560395e+03  0.000000e+00   \n",
       "50%          1.000000             1.000000  1.663460e+04  0.000000e+00   \n",
       "75%          1.000000             1.000000  5.571657e+04  0.000000e+00   \n",
       "max          6.000000             6.000000  1.150339e+08  1.451520e+07   \n",
       "\n",
       "       NegativeBalance     MaxImpact     AvgImpact  Max Transaction  \\\n",
       "count    839018.000000  8.390180e+05  8.390180e+05     8.390180e+05   \n",
       "mean          0.002510  1.078497e+01  9.218893e+00     1.636700e+03   \n",
       "std           0.050157  3.768196e+02  3.451573e+02     6.627324e+03   \n",
       "min           0.000000  7.004635e-09  7.004635e-09     0.000000e+00   \n",
       "25%           0.000000  8.012312e-03  7.686907e-03     1.950000e+02   \n",
       "50%           0.000000  3.182726e-02  2.931723e-02     5.000000e+02   \n",
       "75%           0.000000  1.561972e-01  1.384151e-01     1.315000e+03   \n",
       "max           2.000000  1.250001e+05  1.250001e+05     1.560035e+06   \n",
       "\n",
       "       Min Transaction  Median Transaction  25-percentile Transaction  \\\n",
       "count     8.390180e+05        8.390180e+05               8.390180e+05   \n",
       "mean      1.285703e+03        1.439341e+03               1.362358e+03   \n",
       "std       5.883890e+03        6.029819e+03               5.916571e+03   \n",
       "min       0.000000e+00        0.000000e+00               0.000000e+00   \n",
       "25%       1.250000e+02        1.780000e+02               1.631287e+02   \n",
       "50%       3.590000e+02        4.650000e+02               4.250400e+02   \n",
       "75%       1.000000e+03        1.154590e+03               1.065000e+03   \n",
       "max       1.560035e+06        1.560035e+06               1.560035e+06   \n",
       "\n",
       "       75-percentile Transaction  Standard Deviation of Transaction  \\\n",
       "count               8.390180e+05                      839018.000000   \n",
       "mean                1.536640e+03                         237.885236   \n",
       "std                 6.250500e+03                        2112.719709   \n",
       "min                 0.000000e+00                           0.000000   \n",
       "25%                 1.880000e+02                           0.000000   \n",
       "50%                 4.990000e+02                           0.000000   \n",
       "75%                 1.250000e+03                           0.000000   \n",
       "max                 1.560035e+06                      511784.089233   \n",
       "\n",
       "       Median Balance   Max Balance   Min Balance  Standard Deviation Balance  \n",
       "count    8.390180e+05  8.390180e+05  8.390180e+05                8.390180e+05  \n",
       "mean     1.043380e+05  1.209374e+05  9.174323e+04                1.984145e+04  \n",
       "std      7.825793e+05  8.785526e+05  7.542108e+05                3.134376e+05  \n",
       "min      0.000000e+00  0.000000e+00  0.000000e+00                0.000000e+00  \n",
       "25%      5.299935e+03  5.640640e+03  3.673240e+03                0.000000e+00  \n",
       "50%      1.736082e+04  1.917630e+04  1.335720e+04                0.000000e+00  \n",
       "75%      5.608183e+04  6.380247e+04  4.478974e+04                0.000000e+00  \n",
       "max      1.150355e+08  1.150355e+08  1.150355e+08                8.134158e+07  "
      ]
     },
     "execution_count": 23,
     "metadata": {},
     "output_type": "execute_result"
    }
   ],
   "source": [
    "custs.describe()"
   ]
  },
  {
   "attachments": {},
   "cell_type": "markdown",
   "id": "969fcd86-4240-4bb0-9b6a-5bdf7d8b4227",
   "metadata": {},
   "source": [
    "Now we build the Pipeline that will handle our preprocessing:\n",
    "- A `MinMaxScaler` for the **numerical** columns, as the PCA works so much better with scaled values, because otherwise values which have much higher variance might greatly influence the overall variance.\n",
    "\n",
    "Then we pass everything to a **FAMD** decomposer, which is optimal in this case since we have both Numerical and categroical columns"
   ]
  },
  {
   "cell_type": "code",
   "execution_count": 149,
   "id": "a42eb61b-4830-4e38-826a-55d990132a9a",
   "metadata": {
    "tags": []
   },
   "outputs": [],
   "source": [
    "# we remove the location column because it has too many unique values\n",
    "# and therefore gives problems with the FAMD\n",
    "custs_scaled = custs.loc[:, custs.columns != 'CleanLocation'].copy()\n",
    "# fisrt we cast all boolean variables to string, due to requirements of FAMD library of \n",
    "# having all categorical columns of same dtype\n",
    "bool_cols = custs_scaled.select_dtypes(include=['bool']).columns\n",
    "custs[bool_cols] = custs_scaled[bool_cols].astype('str')\n",
    "# then we scale every numeric column\n",
    "numeric_col = custs_scaled.select_dtypes(include=np.number).columns\n",
    "custs_scaled[numeric_col] = MinMaxScaler().fit_transform(custs_scaled[numeric_col])\n",
    "\n",
    "\n",
    "# and finally we fit the model\n",
    "pipe = prince.FAMD(n_components=11).fit(custs_scaled)"
   ]
  },
  {
   "attachments": {},
   "cell_type": "markdown",
   "id": "47ccd5c6",
   "metadata": {},
   "source": [
    "Now we build the Pipeline that will handle our preprocessing:\n",
    "- An `OrdinalEncoder` for the **categorical** columns. While this is not optimal\n",
    "- A `MinMaxScaler` for the **numerical** columns, as the PCA works so much better with scaled values, because otherwise values which have much higher variance might greatly influence the overall variance."
   ]
  },
  {
   "cell_type": "code",
   "execution_count": 145,
   "id": "1b0e309c",
   "metadata": {},
   "outputs": [
    {
     "data": {
      "text/plain": [
       "Pipeline(steps=[('columntransformer',\n",
       "                 ColumnTransformer(transformers=[('minmaxscaler',\n",
       "                                                  MinMaxScaler(),\n",
       "                                                  <sklearn.compose._column_transformer.make_column_selector object at 0x000001A1FC78EA60>)])),\n",
       "                ('pca', PCA(n_components=10))])"
      ]
     },
     "execution_count": 145,
     "metadata": {},
     "output_type": "execute_result"
    }
   ],
   "source": [
    "# OneHot\n",
    "preprocess = make_column_transformer(\n",
    "    # (OneHotEncoder(\n",
    "    #     handle_unknown='ignore', \n",
    "    #     sparse=False\n",
    "    #     ),col_selector(dtype_exclude=np.number)),\n",
    "    (MinMaxScaler(), col_selector(dtype_include=np.number))\n",
    ")\n",
    "pipe = make_pipeline(\n",
    "    preprocess,\n",
    "    PCA(n_components=10)\n",
    ")\n",
    "\n",
    "pipe.fit(custs.loc[:, custs.columns != 'CleanLocation'])"
   ]
  },
  {
   "cell_type": "code",
   "execution_count": 134,
   "id": "f34ad5b9",
   "metadata": {},
   "outputs": [
    {
     "data": {
      "text/plain": [
       "Pipeline(steps=[('columntransformer',\n",
       "                 ColumnTransformer(transformers=[('ordinalencoder',\n",
       "                                                  OrdinalEncoder(handle_unknown='use_encoded_value',\n",
       "                                                                 unknown_value=-1),\n",
       "                                                  <sklearn.compose._column_transformer.make_column_selector object at 0x000001A2BD2007F0>),\n",
       "                                                 ('passthrough', 'passthrough',\n",
       "                                                  <sklearn.compose._column_transformer.make_column_selector object at 0x000001A2BD200910>)])),\n",
       "                ('minmaxscaler', MinMaxScaler()),\n",
       "                ('pca', PCA(n_components=10))])"
      ]
     },
     "execution_count": 134,
     "metadata": {},
     "output_type": "execute_result"
    }
   ],
   "source": [
    "# Ordinal w/ location\n",
    "preprocess = make_column_transformer(\n",
    "    (OrdinalEncoder(\n",
    "        handle_unknown='use_encoded_value', \n",
    "        unknown_value=-1,\n",
    "        # min_frequency=1e-3,\n",
    "        ),col_selector(dtype_exclude=np.number)),\n",
    "    ('passthrough', col_selector(dtype_include=np.number))\n",
    ")\n",
    "pipe = make_pipeline(\n",
    "    preprocess,\n",
    "    MinMaxScaler(),\n",
    "    PCA(n_components=10)\n",
    ")\n",
    "\n",
    "pipe.fit(custs)"
   ]
  },
  {
   "cell_type": "code",
   "execution_count": null,
   "id": "f34ad5b9",
   "metadata": {},
   "outputs": [
    {
     "data": {
      "text/plain": [
       "Pipeline(steps=[('columntransformer',\n",
       "                 ColumnTransformer(transformers=[('ordinalencoder',\n",
       "                                                  OrdinalEncoder(handle_unknown='use_encoded_value',\n",
       "                                                                 unknown_value=-1),\n",
       "                                                  <sklearn.compose._column_transformer.make_column_selector object at 0x000001A2BD2007F0>),\n",
       "                                                 ('passthrough', 'passthrough',\n",
       "                                                  <sklearn.compose._column_transformer.make_column_selector object at 0x000001A2BD200910>)])),\n",
       "                ('minmaxscaler', MinMaxScaler()),\n",
       "                ('pca', PCA(n_components=10))])"
      ]
     },
     "metadata": {},
     "output_type": "display_data"
    }
   ],
   "source": [
    "# Ordinal w/o location\n",
    "preprocess = make_column_transformer(\n",
    "    (OrdinalEncoder(\n",
    "        handle_unknown='use_encoded_value', \n",
    "        unknown_value=-1,\n",
    "        # min_frequency=1e-3,\n",
    "        ),col_selector(dtype_exclude=np.number)),\n",
    "    ('passthrough', col_selector(dtype_include=np.number))\n",
    ")\n",
    "pipe = make_pipeline(\n",
    "    preprocess,\n",
    "    MinMaxScaler(),\n",
    "    PCA(n_components=10)\n",
    ")\n",
    "\n",
    "pipe.fit(custs.loc[:, custs.columns != 'CleanLocation'])"
   ]
  },
  {
   "cell_type": "markdown",
   "id": "282c356e-389c-475c-af72-7cbe4bc153d6",
   "metadata": {},
   "source": [
    "Finally we see how many features we need to explain the variability of at least 70% of the data."
   ]
  },
  {
   "cell_type": "code",
   "execution_count": 152,
   "id": "7edcc021-e3dc-48e3-8e95-4b1f5e46da4d",
   "metadata": {
    "cell_id": "db9a4e6dff6d4a3da94b597127272b79",
    "deepnote_cell_type": "code",
    "deepnote_to_be_reexecuted": false,
    "execution_millis": 2,
    "execution_start": 1670677162643,
    "source_hash": "e222122",
    "tags": []
   },
   "outputs": [
    {
     "name": "stdout",
     "output_type": "stream",
     "text": [
      " 1 features explain 12.8% of the data\n",
      " 2 features explain 23.2% of the data\n",
      " 3 features explain 33.2% of the data\n",
      " 4 features explain 39.5% of the data\n",
      " 5 features explain 44.8% of the data\n",
      " 6 features explain 49.6% of the data\n",
      " 7 features explain 54.4% of the data\n",
      " 8 features explain 59.1% of the data\n",
      " 9 features explain 63.9% of the data\n",
      "10 features explain 68.3% of the data\n",
      "11 features explain 72.8% of the data\n"
     ]
    }
   ],
   "source": [
    "n_features = 0\n",
    "# pca_variance = pipe.named_steps['pca'].explained_variance_ratio_\n",
    "pca_variance = pipe.explained_inertia_\n",
    "\n",
    "for i in range(1,len(pca_variance)+1):\n",
    "    variance_explained = pca_variance[:i].sum()\n",
    "    print(f'{i:2} features explain {round(variance_explained*100,1)}% of the data')\n",
    "    if n_features == 0 and variance_explained > .7:\n",
    "        n_features = i    "
   ]
  },
  {
   "cell_type": "markdown",
   "id": "c44486ec-5e2e-46e2-9415-b99d396bccf0",
   "metadata": {},
   "source": [
    "And we can save the new features as csv."
   ]
  },
  {
   "cell_type": "code",
   "execution_count": 153,
   "id": "1f922402-8a33-40c0-87bf-58d97dda6e1e",
   "metadata": {
    "cell_id": "db9a4e6dff6d4a3da94b597127272b79",
    "deepnote_cell_type": "code",
    "deepnote_to_be_reexecuted": false,
    "execution_millis": 2,
    "execution_start": 1670677162643,
    "source_hash": "e222122",
    "tags": []
   },
   "outputs": [
    {
     "data": {
      "text/html": [
       "<div>\n",
       "<style scoped>\n",
       "    .dataframe tbody tr th:only-of-type {\n",
       "        vertical-align: middle;\n",
       "    }\n",
       "\n",
       "    .dataframe tbody tr th {\n",
       "        vertical-align: top;\n",
       "    }\n",
       "\n",
       "    .dataframe thead th {\n",
       "        text-align: right;\n",
       "    }\n",
       "</style>\n",
       "<table border=\"1\" class=\"dataframe\">\n",
       "  <thead>\n",
       "    <tr style=\"text-align: right;\">\n",
       "      <th></th>\n",
       "      <th>0</th>\n",
       "      <th>1</th>\n",
       "      <th>2</th>\n",
       "      <th>3</th>\n",
       "      <th>4</th>\n",
       "      <th>5</th>\n",
       "      <th>6</th>\n",
       "      <th>7</th>\n",
       "      <th>8</th>\n",
       "      <th>9</th>\n",
       "      <th>10</th>\n",
       "    </tr>\n",
       "    <tr>\n",
       "      <th>CustomerID</th>\n",
       "      <th></th>\n",
       "      <th></th>\n",
       "      <th></th>\n",
       "      <th></th>\n",
       "      <th></th>\n",
       "      <th></th>\n",
       "      <th></th>\n",
       "      <th></th>\n",
       "      <th></th>\n",
       "      <th></th>\n",
       "      <th></th>\n",
       "    </tr>\n",
       "  </thead>\n",
       "  <tbody>\n",
       "    <tr>\n",
       "      <th>C1010011</th>\n",
       "      <td>0.218322</td>\n",
       "      <td>-0.122544</td>\n",
       "      <td>0.225391</td>\n",
       "      <td>1.836425</td>\n",
       "      <td>1.623576</td>\n",
       "      <td>-1.924429</td>\n",
       "      <td>-0.570852</td>\n",
       "      <td>-0.531729</td>\n",
       "      <td>-0.919618</td>\n",
       "      <td>0.758990</td>\n",
       "      <td>-0.420821</td>\n",
       "    </tr>\n",
       "    <tr>\n",
       "      <th>C1010012</th>\n",
       "      <td>-0.015170</td>\n",
       "      <td>0.026299</td>\n",
       "      <td>-1.251637</td>\n",
       "      <td>-0.646848</td>\n",
       "      <td>-0.045960</td>\n",
       "      <td>-0.534530</td>\n",
       "      <td>-0.812424</td>\n",
       "      <td>0.246257</td>\n",
       "      <td>0.354389</td>\n",
       "      <td>-0.681937</td>\n",
       "      <td>0.190770</td>\n",
       "    </tr>\n",
       "    <tr>\n",
       "      <th>C1010014</th>\n",
       "      <td>-0.052327</td>\n",
       "      <td>-0.006459</td>\n",
       "      <td>0.167024</td>\n",
       "      <td>2.159015</td>\n",
       "      <td>0.465348</td>\n",
       "      <td>0.692304</td>\n",
       "      <td>0.251915</td>\n",
       "      <td>1.049555</td>\n",
       "      <td>-0.101270</td>\n",
       "      <td>-0.671565</td>\n",
       "      <td>0.165964</td>\n",
       "    </tr>\n",
       "    <tr>\n",
       "      <th>C1010018</th>\n",
       "      <td>-0.317886</td>\n",
       "      <td>-0.141582</td>\n",
       "      <td>0.632142</td>\n",
       "      <td>0.440718</td>\n",
       "      <td>-0.855020</td>\n",
       "      <td>-0.220879</td>\n",
       "      <td>0.411580</td>\n",
       "      <td>0.678463</td>\n",
       "      <td>-0.932080</td>\n",
       "      <td>0.124716</td>\n",
       "      <td>0.344032</td>\n",
       "    </tr>\n",
       "    <tr>\n",
       "      <th>C1010024</th>\n",
       "      <td>0.554921</td>\n",
       "      <td>-0.204962</td>\n",
       "      <td>0.708819</td>\n",
       "      <td>-0.578982</td>\n",
       "      <td>0.013419</td>\n",
       "      <td>0.184725</td>\n",
       "      <td>0.363835</td>\n",
       "      <td>0.837239</td>\n",
       "      <td>-0.540500</td>\n",
       "      <td>0.130857</td>\n",
       "      <td>0.271339</td>\n",
       "    </tr>\n",
       "  </tbody>\n",
       "</table>\n",
       "</div>"
      ],
      "text/plain": [
       "                  0         1         2         3         4         5   \\\n",
       "CustomerID                                                               \n",
       "C1010011    0.218322 -0.122544  0.225391  1.836425  1.623576 -1.924429   \n",
       "C1010012   -0.015170  0.026299 -1.251637 -0.646848 -0.045960 -0.534530   \n",
       "C1010014   -0.052327 -0.006459  0.167024  2.159015  0.465348  0.692304   \n",
       "C1010018   -0.317886 -0.141582  0.632142  0.440718 -0.855020 -0.220879   \n",
       "C1010024    0.554921 -0.204962  0.708819 -0.578982  0.013419  0.184725   \n",
       "\n",
       "                  6         7         8         9         10  \n",
       "CustomerID                                                    \n",
       "C1010011   -0.570852 -0.531729 -0.919618  0.758990 -0.420821  \n",
       "C1010012   -0.812424  0.246257  0.354389 -0.681937  0.190770  \n",
       "C1010014    0.251915  1.049555 -0.101270 -0.671565  0.165964  \n",
       "C1010018    0.411580  0.678463 -0.932080  0.124716  0.344032  \n",
       "C1010024    0.363835  0.837239 -0.540500  0.130857  0.271339  "
      ]
     },
     "execution_count": 153,
     "metadata": {},
     "output_type": "execute_result"
    }
   ],
   "source": [
    "X = famd.transform(custs)\n",
    "\n",
    "reducted_data = pd.DataFrame(X)\n",
    "# Take only most important features\n",
    "reducted_data = reducted_data.iloc[:,:n_features]\n",
    "reducted_data.index = custs.index\n",
    "reducted_data.to_csv('reducted_data.csv')\n",
    "reducted_data.head()"
   ]
  },
  {
   "cell_type": "markdown",
   "id": "04d86022-eb0b-4c79-b76a-50e1118bfcbc",
   "metadata": {},
   "source": [
    "## 2.3 Clustering!\n",
    "We will implement K-means through MapReduce and try to get the optimal number of clusters, then we will compare the results with `scikit`'s KMeans++.\n",
    "\n",
    "We start by importing the necessary libraries and setup of `pyspark`."
   ]
  },
  {
   "cell_type": "code",
   "execution_count": 116,
   "id": "70ec1ff7-5f0a-4c28-8deb-522c648a1670",
   "metadata": {
    "cell_id": "88f560067d8b42ad80af0630de4df60f",
    "deepnote_cell_type": "code",
    "deepnote_to_be_reexecuted": false,
    "execution_millis": 93665,
    "execution_start": 1670604095532,
    "is_output_hidden": true,
    "source_hash": "ad9c9606",
    "tags": []
   },
   "outputs": [
    {
     "ename": "ModuleNotFoundError",
     "evalue": "No module named 'pyspark'",
     "output_type": "error",
     "traceback": [
      "\u001b[1;31m---------------------------------------------------------------------------\u001b[0m",
      "\u001b[1;31mModuleNotFoundError\u001b[0m                       Traceback (most recent call last)",
      "\u001b[1;32m~\\AppData\\Local\\Temp\\ipykernel_9780\\3096421083.py\u001b[0m in \u001b[0;36m<module>\u001b[1;34m\u001b[0m\n\u001b[0;32m      4\u001b[0m \u001b[1;31m# ! sudo apt-get install -y openjdk-11-jdk\u001b[0m\u001b[1;33m\u001b[0m\u001b[1;33m\u001b[0m\u001b[0m\n\u001b[0;32m      5\u001b[0m \u001b[1;31m# ! pip install pyspark\u001b[0m\u001b[1;33m\u001b[0m\u001b[1;33m\u001b[0m\u001b[0m\n\u001b[1;32m----> 6\u001b[1;33m \u001b[1;32mimport\u001b[0m \u001b[0mpyspark\u001b[0m\u001b[1;33m\u001b[0m\u001b[1;33m\u001b[0m\u001b[0m\n\u001b[0m\u001b[0;32m      7\u001b[0m \u001b[1;32mimport\u001b[0m \u001b[0mmatplotlib\u001b[0m\u001b[1;33m.\u001b[0m\u001b[0mpyplot\u001b[0m \u001b[1;32mas\u001b[0m \u001b[0mplt\u001b[0m\u001b[1;33m\u001b[0m\u001b[1;33m\u001b[0m\u001b[0m\n\u001b[0;32m      8\u001b[0m \u001b[1;32mimport\u001b[0m \u001b[0mnumpy\u001b[0m \u001b[1;32mas\u001b[0m \u001b[0mnp\u001b[0m\u001b[1;33m\u001b[0m\u001b[1;33m\u001b[0m\u001b[0m\n",
      "\u001b[1;31mModuleNotFoundError\u001b[0m: No module named 'pyspark'"
     ]
    }
   ],
   "source": [
    "# Setup pyspark\n",
    "# ! sudo apt-get update\n",
    "# ! sudo mkdir -p /usr/share/man/man1\n",
    "# ! sudo apt-get install -y openjdk-11-jdk\n",
    "# ! pip install pyspark\n",
    "import pyspark\n",
    "import matplotlib.pyplot as plt\n",
    "import numpy as np\n",
    "import pandas as pd\n",
    "%matplotlib inline\n",
    "\n",
    "from functions import k_means, display_clusters\n",
    "from sklearn.metrics import silhouette_score\n",
    "from functions import avg_inter_cluster_distance, avg_intra_cluster_distance, elbow\n",
    "%load_ext autoreload\n",
    "%autoreload 2\n",
    "\n",
    "sc = pyspark.SparkContext('local')\n",
    "sc.setLogLevel('OFF')"
   ]
  },
  {
   "cell_type": "markdown",
   "id": "f710fc15-4d9f-4742-8d8c-55147596e50d",
   "metadata": {},
   "source": [
    "We can visualize in part our dataset by plotting some of the dimensions."
   ]
  },
  {
   "cell_type": "code",
   "execution_count": 154,
   "id": "a1bec120-c287-4271-b8bd-1d0f07a4b553",
   "metadata": {
    "cell_id": "8adf1865e8ab474f8cc582c2f403f123",
    "deepnote_cell_type": "code",
    "deepnote_to_be_reexecuted": false,
    "execution_millis": 1761,
    "execution_start": 1670006803991,
    "source_hash": "20bf3700",
    "tags": []
   },
   "outputs": [
    {
     "data": {
      "image/png": "[encoded data removed]",
      "text/plain": [
       "<Figure size 640x480 with 1 Axes>"
      ]
     },
     "metadata": {},
     "output_type": "display_data"
    }
   ],
   "source": [
    "reducted_data = pd.read_csv('reducted_data.csv', index_col='CustomerID')\n",
    "X = reducted_data.to_numpy()\n",
    "\n",
    "plt.scatter(X[:, 0], X[:, 1])\n",
    "plt.show()"
   ]
  },
  {
   "cell_type": "code",
   "execution_count": 115,
   "id": "34041ae3-f0d4-4741-9752-dc27dd801ec5",
   "metadata": {
    "cell_id": "91bfea2068994995a97ca692a8d779c3",
    "deepnote_cell_type": "code",
    "deepnote_to_be_reexecuted": false,
    "execution_millis": 10151,
    "execution_start": 1670006805761,
    "output_cleared": false,
    "source_hash": "12c3cec",
    "tags": []
   },
   "outputs": [
    {
     "ename": "NameError",
     "evalue": "name 'k_means' is not defined",
     "output_type": "error",
     "traceback": [
      "\u001b[1;31m---------------------------------------------------------------------------\u001b[0m",
      "\u001b[1;31mNameError\u001b[0m                                 Traceback (most recent call last)",
      "\u001b[1;32m~\\AppData\\Local\\Temp\\ipykernel_9780\\1878906727.py\u001b[0m in \u001b[0;36m<module>\u001b[1;34m\u001b[0m\n\u001b[1;32m----> 1\u001b[1;33m \u001b[0my\u001b[0m\u001b[1;33m,\u001b[0m \u001b[0mmeans\u001b[0m \u001b[1;33m=\u001b[0m \u001b[0mk_means\u001b[0m\u001b[1;33m(\u001b[0m\u001b[0mX\u001b[0m\u001b[1;33m,\u001b[0m\u001b[1;36m6\u001b[0m\u001b[1;33m,\u001b[0m \u001b[0mdisplay\u001b[0m\u001b[1;33m=\u001b[0m\u001b[1;32mTrue\u001b[0m\u001b[1;33m)\u001b[0m\u001b[1;33m\u001b[0m\u001b[1;33m\u001b[0m\u001b[0m\n\u001b[0m",
      "\u001b[1;31mNameError\u001b[0m: name 'k_means' is not defined"
     ]
    }
   ],
   "source": [
    "y, means = k_means(X,6, display=True)"
   ]
  },
  {
   "cell_type": "code",
   "execution_count": 35,
   "id": "3e50a619-eb51-42b9-9a4b-0ea9fe88c793",
   "metadata": {
    "cell_id": "5874f7a0ff334ea3b6870990a1d42bfc",
    "deepnote_cell_type": "code",
    "deepnote_to_be_reexecuted": false,
    "execution_millis": 104,
    "execution_start": 1670008191112,
    "source_hash": "64c00a1",
    "tags": []
   },
   "outputs": [
    {
     "ename": "ValueError",
     "evalue": "operands could not be broadcast together with shapes (78540,7) (2,7) ",
     "output_type": "error",
     "traceback": [
      "\u001b[0;31m---------------------------------------------------------------------------\u001b[0m",
      "\u001b[0;31mValueError\u001b[0m                                Traceback (most recent call last)",
      "Cell \u001b[0;32mIn [35], line 2\u001b[0m\n\u001b[1;32m      1\u001b[0m K_VALUES \u001b[38;5;241m=\u001b[39m \u001b[38;5;28mrange\u001b[39m(\u001b[38;5;241m2\u001b[39m,\u001b[38;5;241m11\u001b[39m)\n\u001b[0;32m----> 2\u001b[0m \u001b[43mavg_inter_cluster_distance\u001b[49m\u001b[43m(\u001b[49m\u001b[43mX\u001b[49m\u001b[43m,\u001b[49m\u001b[43my\u001b[49m\u001b[43m,\u001b[49m\u001b[43mmeans\u001b[49m\u001b[43m)\u001b[49m, avg_intra_cluster_distance(X,y,means)\n",
      "File \u001b[0;32m~/Documenti/GitHub/ADM_HW_4/functions/clustering.py:69\u001b[0m, in \u001b[0;36mavg_inter_cluster_distance\u001b[0;34m(X, y, means)\u001b[0m\n\u001b[1;32m     67\u001b[0m \u001b[38;5;28;01mdef\u001b[39;00m \u001b[38;5;21mavg_inter_cluster_distance\u001b[39m(X,y,means):\n\u001b[1;32m     68\u001b[0m     \u001b[38;5;124;03m'''Average Centroid Linkage Distance'''\u001b[39;00m\n\u001b[0;32m---> 69\u001b[0m     dist \u001b[38;5;241m=\u001b[39m \u001b[43mdistance_matrix\u001b[49m\u001b[43m(\u001b[49m\u001b[43mX\u001b[49m\u001b[43m,\u001b[49m\u001b[43my\u001b[49m\u001b[43m,\u001b[49m\u001b[43mmeans\u001b[49m\u001b[43m)\u001b[49m\n\u001b[1;32m     70\u001b[0m     rest \u001b[38;5;241m=\u001b[39m []\n\u001b[1;32m     71\u001b[0m     \u001b[38;5;28;01mfor\u001b[39;00m i \u001b[38;5;129;01min\u001b[39;00m \u001b[38;5;28mrange\u001b[39m(dist\u001b[38;5;241m.\u001b[39mshape[\u001b[38;5;241m1\u001b[39m]): \n",
      "File \u001b[0;32m~/Documenti/GitHub/ADM_HW_4/functions/clustering.py:58\u001b[0m, in \u001b[0;36mdistance_matrix\u001b[0;34m(X, y, means)\u001b[0m\n\u001b[1;32m     56\u001b[0m         cluster \u001b[38;5;241m=\u001b[39m X[y\u001b[38;5;241m==\u001b[39mj]\n\u001b[1;32m     57\u001b[0m         \u001b[38;5;66;03m# find all the distances from the centroid\u001b[39;00m\n\u001b[0;32m---> 58\u001b[0m         dist[i,j] \u001b[38;5;241m=\u001b[39m np\u001b[38;5;241m.\u001b[39mlinalg\u001b[38;5;241m.\u001b[39mnorm(\u001b[43mcluster\u001b[49m\u001b[43m \u001b[49m\u001b[38;5;241;43m-\u001b[39;49m\u001b[43m \u001b[49m\u001b[43mmeans\u001b[49m\u001b[43m[\u001b[49m\u001b[43mi\u001b[49m\u001b[43m]\u001b[49m, axis\u001b[38;5;241m=\u001b[39m\u001b[38;5;241m1\u001b[39m)\u001b[38;5;241m.\u001b[39mmean()\n\u001b[1;32m     59\u001b[0m \u001b[38;5;28;01mreturn\u001b[39;00m dist \u001b[38;5;241m/\u001b[39m np\u001b[38;5;241m.\u001b[39mvar(X)\n",
      "\u001b[0;31mValueError\u001b[0m: operands could not be broadcast together with shapes (78540,7) (2,7) "
     ]
    }
   ],
   "source": [
    "avg_inter_cluster_distance(X,y,means), avg_intra_cluster_distance(X,y,means)"
   ]
  },
  {
   "cell_type": "markdown",
   "id": "b17a9580-b979-4dff-b62f-73d34439bca8",
   "metadata": {},
   "source": [
    "We can now start the search for the optimal value of **K**. We will do by grid searching through the values $[2,7]$."
   ]
  },
  {
   "cell_type": "code",
   "execution_count": 12,
   "id": "3d0911b8-1de2-45dc-abd5-f6954a88b56a",
   "metadata": {},
   "outputs": [
    {
     "name": "stdout",
     "output_type": "stream",
     "text": [
      "22/12/10 19:31:27 WARN TaskSetManager: Stage 36 contains a task of very large size (70582 KiB). The maximum recommended task size is 1000 KiB.\n"
     ]
    },
    {
     "name": "stderr",
     "output_type": "stream",
     "text": [
      "                                                                                \r"
     ]
    },
    {
     "name": "stdout",
     "output_type": "stream",
     "text": [
      "22/12/10 19:31:28 WARN TaskSetManager: Stage 37 contains a task of very large size (70582 KiB). The maximum recommended task size is 1000 KiB.\n"
     ]
    },
    {
     "name": "stderr",
     "output_type": "stream",
     "text": [
      "                                                                                \r"
     ]
    },
    {
     "name": "stdout",
     "output_type": "stream",
     "text": [
      "22/12/10 19:31:29 WARN TaskSetManager: Stage 38 contains a task of very large size (70582 KiB). The maximum recommended task size is 1000 KiB.\n"
     ]
    },
    {
     "name": "stderr",
     "output_type": "stream",
     "text": [
      "Exception in thread \"serve RDD 59\" java.net.SocketTimeoutException: Accept timed out\n",
      "\tat java.base/java.net.PlainSocketImpl.socketAccept(Native Method)\n",
      "\tat java.base/java.net.AbstractPlainSocketImpl.accept(AbstractPlainSocketImpl.java:474)\n",
      "\tat java.base/java.net.ServerSocket.implAccept(ServerSocket.java:565)\n",
      "\tat java.base/java.net.ServerSocket.accept(ServerSocket.java:533)\n",
      "\tat org.apache.spark.security.SocketAuthServer$$anon$1.run(SocketAuthServer.scala:64)\n",
      "                                                                                \r"
     ]
    },
    {
     "name": "stdout",
     "output_type": "stream",
     "text": [
      "22/12/10 19:31:45 WARN TaskSetManager: Stage 39 contains a task of very large size (70582 KiB). The maximum recommended task size is 1000 KiB.\n"
     ]
    },
    {
     "name": "stderr",
     "output_type": "stream",
     "text": [
      "                                                                                \r"
     ]
    },
    {
     "name": "stdout",
     "output_type": "stream",
     "text": [
      "22/12/10 19:31:58 WARN TaskSetManager: Stage 40 contains a task of very large size (70582 KiB). The maximum recommended task size is 1000 KiB.\n"
     ]
    },
    {
     "name": "stderr",
     "output_type": "stream",
     "text": [
      "                                                                                \r"
     ]
    },
    {
     "name": "stdout",
     "output_type": "stream",
     "text": [
      "22/12/10 19:32:11 WARN TaskSetManager: Stage 42 contains a task of very large size (70582 KiB). The maximum recommended task size is 1000 KiB.\n"
     ]
    },
    {
     "name": "stderr",
     "output_type": "stream",
     "text": [
      "                                                                                \r"
     ]
    },
    {
     "name": "stdout",
     "output_type": "stream",
     "text": [
      "22/12/10 19:32:31 WARN TaskSetManager: Stage 43 contains a task of very large size (70582 KiB). The maximum recommended task size is 1000 KiB.\n"
     ]
    },
    {
     "name": "stderr",
     "output_type": "stream",
     "text": [
      "                                                                                \r"
     ]
    },
    {
     "name": "stdout",
     "output_type": "stream",
     "text": [
      "22/12/10 19:32:32 WARN TaskSetManager: Stage 44 contains a task of very large size (70582 KiB). The maximum recommended task size is 1000 KiB.\n"
     ]
    },
    {
     "name": "stderr",
     "output_type": "stream",
     "text": [
      "                                                                                \r"
     ]
    },
    {
     "name": "stdout",
     "output_type": "stream",
     "text": [
      "22/12/10 19:32:33 WARN TaskSetManager: Stage 45 contains a task of very large size (70582 KiB). The maximum recommended task size is 1000 KiB.\n"
     ]
    },
    {
     "name": "stderr",
     "output_type": "stream",
     "text": [
      "                                                                                \r"
     ]
    },
    {
     "name": "stdout",
     "output_type": "stream",
     "text": [
      "22/12/10 19:32:52 WARN TaskSetManager: Stage 46 contains a task of very large size (70582 KiB). The maximum recommended task size is 1000 KiB.\n"
     ]
    },
    {
     "name": "stderr",
     "output_type": "stream",
     "text": [
      "                                                                                \r"
     ]
    },
    {
     "name": "stdout",
     "output_type": "stream",
     "text": [
      "22/12/10 19:33:07 WARN TaskSetManager: Stage 47 contains a task of very large size (70582 KiB). The maximum recommended task size is 1000 KiB.\n"
     ]
    },
    {
     "name": "stderr",
     "output_type": "stream",
     "text": [
      "                                                                                \r"
     ]
    },
    {
     "name": "stdout",
     "output_type": "stream",
     "text": [
      "22/12/10 19:33:23 WARN TaskSetManager: Stage 49 contains a task of very large size (70582 KiB). The maximum recommended task size is 1000 KiB.\n"
     ]
    },
    {
     "name": "stderr",
     "output_type": "stream",
     "text": [
      "                                                                                \r"
     ]
    },
    {
     "name": "stdout",
     "output_type": "stream",
     "text": [
      "22/12/10 19:33:46 WARN TaskSetManager: Stage 50 contains a task of very large size (70582 KiB). The maximum recommended task size is 1000 KiB.\n"
     ]
    },
    {
     "name": "stderr",
     "output_type": "stream",
     "text": [
      "                                                                                \r"
     ]
    },
    {
     "name": "stdout",
     "output_type": "stream",
     "text": [
      "22/12/10 19:33:47 WARN TaskSetManager: Stage 51 contains a task of very large size (70582 KiB). The maximum recommended task size is 1000 KiB.\n"
     ]
    },
    {
     "name": "stderr",
     "output_type": "stream",
     "text": [
      "                                                                                \r"
     ]
    },
    {
     "name": "stdout",
     "output_type": "stream",
     "text": [
      "22/12/10 19:33:48 WARN TaskSetManager: Stage 52 contains a task of very large size (70582 KiB). The maximum recommended task size is 1000 KiB.\n"
     ]
    },
    {
     "name": "stderr",
     "output_type": "stream",
     "text": [
      "                                                                                \r"
     ]
    },
    {
     "name": "stdout",
     "output_type": "stream",
     "text": [
      "22/12/10 19:34:10 WARN TaskSetManager: Stage 53 contains a task of very large size (70582 KiB). The maximum recommended task size is 1000 KiB.\n"
     ]
    },
    {
     "name": "stderr",
     "output_type": "stream",
     "text": [
      "                                                                                \r"
     ]
    },
    {
     "name": "stdout",
     "output_type": "stream",
     "text": [
      "22/12/10 19:34:28 WARN TaskSetManager: Stage 54 contains a task of very large size (70582 KiB). The maximum recommended task size is 1000 KiB.\n"
     ]
    },
    {
     "name": "stderr",
     "output_type": "stream",
     "text": [
      "                                                                                \r"
     ]
    },
    {
     "name": "stdout",
     "output_type": "stream",
     "text": [
      "22/12/10 19:34:47 WARN TaskSetManager: Stage 56 contains a task of very large size (70582 KiB). The maximum recommended task size is 1000 KiB.\n"
     ]
    },
    {
     "name": "stderr",
     "output_type": "stream",
     "text": [
      "                                                                                \r"
     ]
    },
    {
     "name": "stdout",
     "output_type": "stream",
     "text": [
      "22/12/10 19:35:09 WARN TaskSetManager: Stage 57 contains a task of very large size (70582 KiB). The maximum recommended task size is 1000 KiB.\n"
     ]
    },
    {
     "name": "stderr",
     "output_type": "stream",
     "text": [
      "                                                                                \r"
     ]
    },
    {
     "name": "stdout",
     "output_type": "stream",
     "text": [
      "22/12/10 19:35:27 WARN TaskSetManager: Stage 58 contains a task of very large size (70582 KiB). The maximum recommended task size is 1000 KiB.\n"
     ]
    },
    {
     "name": "stderr",
     "output_type": "stream",
     "text": [
      "                                                                                \r"
     ]
    },
    {
     "name": "stdout",
     "output_type": "stream",
     "text": [
      "22/12/10 19:35:47 WARN TaskSetManager: Stage 60 contains a task of very large size (70582 KiB). The maximum recommended task size is 1000 KiB.\n"
     ]
    },
    {
     "name": "stderr",
     "output_type": "stream",
     "text": [
      "                                                                                \r"
     ]
    },
    {
     "name": "stdout",
     "output_type": "stream",
     "text": [
      "22/12/10 19:36:08 WARN TaskSetManager: Stage 61 contains a task of very large size (70582 KiB). The maximum recommended task size is 1000 KiB.\n"
     ]
    },
    {
     "name": "stderr",
     "output_type": "stream",
     "text": [
      "                                                                                \r"
     ]
    },
    {
     "name": "stdout",
     "output_type": "stream",
     "text": [
      "22/12/10 19:36:26 WARN TaskSetManager: Stage 62 contains a task of very large size (70582 KiB). The maximum recommended task size is 1000 KiB.\n"
     ]
    },
    {
     "name": "stderr",
     "output_type": "stream",
     "text": [
      "                                                                                \r"
     ]
    },
    {
     "name": "stdout",
     "output_type": "stream",
     "text": [
      "22/12/10 19:36:46 WARN TaskSetManager: Stage 64 contains a task of very large size (70582 KiB). The maximum recommended task size is 1000 KiB.\n"
     ]
    },
    {
     "name": "stderr",
     "output_type": "stream",
     "text": [
      "                                                                                \r"
     ]
    },
    {
     "name": "stdout",
     "output_type": "stream",
     "text": [
      "22/12/10 19:37:11 WARN TaskSetManager: Stage 65 contains a task of very large size (70582 KiB). The maximum recommended task size is 1000 KiB.\n"
     ]
    },
    {
     "name": "stderr",
     "output_type": "stream",
     "text": [
      "                                                                                \r"
     ]
    },
    {
     "name": "stdout",
     "output_type": "stream",
     "text": [
      "22/12/10 19:37:12 WARN TaskSetManager: Stage 66 contains a task of very large size (70582 KiB). The maximum recommended task size is 1000 KiB.\n"
     ]
    },
    {
     "name": "stderr",
     "output_type": "stream",
     "text": [
      "                                                                                \r"
     ]
    },
    {
     "name": "stdout",
     "output_type": "stream",
     "text": [
      "22/12/10 19:37:14 WARN TaskSetManager: Stage 67 contains a task of very large size (70582 KiB). The maximum recommended task size is 1000 KiB.\n"
     ]
    },
    {
     "name": "stderr",
     "output_type": "stream",
     "text": [
      "                                                                                \r"
     ]
    },
    {
     "name": "stdout",
     "output_type": "stream",
     "text": [
      "22/12/10 19:37:38 WARN TaskSetManager: Stage 68 contains a task of very large size (70582 KiB). The maximum recommended task size is 1000 KiB.\n"
     ]
    },
    {
     "name": "stderr",
     "output_type": "stream",
     "text": [
      "                                                                                \r"
     ]
    },
    {
     "name": "stdout",
     "output_type": "stream",
     "text": [
      "22/12/10 19:38:00 WARN TaskSetManager: Stage 69 contains a task of very large size (70582 KiB). The maximum recommended task size is 1000 KiB.\n"
     ]
    },
    {
     "name": "stderr",
     "output_type": "stream",
     "text": [
      "                                                                                \r"
     ]
    },
    {
     "name": "stdout",
     "output_type": "stream",
     "text": [
      "22/12/10 19:38:22 WARN TaskSetManager: Stage 71 contains a task of very large size (70582 KiB). The maximum recommended task size is 1000 KiB.\n"
     ]
    },
    {
     "name": "stderr",
     "output_type": "stream",
     "text": [
      "                                                                                \r"
     ]
    },
    {
     "name": "stdout",
     "output_type": "stream",
     "text": [
      "22/12/10 19:38:47 WARN TaskSetManager: Stage 72 contains a task of very large size (70582 KiB). The maximum recommended task size is 1000 KiB.\n"
     ]
    },
    {
     "name": "stderr",
     "output_type": "stream",
     "text": [
      "                                                                                \r"
     ]
    },
    {
     "name": "stdout",
     "output_type": "stream",
     "text": [
      "22/12/10 19:39:08 WARN TaskSetManager: Stage 73 contains a task of very large size (70582 KiB). The maximum recommended task size is 1000 KiB.\n"
     ]
    },
    {
     "name": "stderr",
     "output_type": "stream",
     "text": [
      "                                                                                \r"
     ]
    },
    {
     "name": "stdout",
     "output_type": "stream",
     "text": [
      "22/12/10 19:39:30 WARN TaskSetManager: Stage 75 contains a task of very large size (70582 KiB). The maximum recommended task size is 1000 KiB.\n"
     ]
    },
    {
     "name": "stderr",
     "output_type": "stream",
     "text": [
      "                                                                                \r"
     ]
    },
    {
     "name": "stdout",
     "output_type": "stream",
     "text": [
      "22/12/10 19:39:55 WARN TaskSetManager: Stage 76 contains a task of very large size (70582 KiB). The maximum recommended task size is 1000 KiB.\n"
     ]
    },
    {
     "name": "stderr",
     "output_type": "stream",
     "text": [
      "                                                                                \r"
     ]
    },
    {
     "name": "stdout",
     "output_type": "stream",
     "text": [
      "22/12/10 19:40:17 WARN TaskSetManager: Stage 77 contains a task of very large size (70582 KiB). The maximum recommended task size is 1000 KiB.\n"
     ]
    },
    {
     "name": "stderr",
     "output_type": "stream",
     "text": [
      "                                                                                \r"
     ]
    },
    {
     "name": "stdout",
     "output_type": "stream",
     "text": [
      "22/12/10 19:40:41 WARN TaskSetManager: Stage 79 contains a task of very large size (70582 KiB). The maximum recommended task size is 1000 KiB.\n"
     ]
    },
    {
     "name": "stderr",
     "output_type": "stream",
     "text": [
      "                                                                                \r"
     ]
    },
    {
     "name": "stdout",
     "output_type": "stream",
     "text": [
      "22/12/10 19:41:14 WARN TaskSetManager: Stage 80 contains a task of very large size (70582 KiB). The maximum recommended task size is 1000 KiB.\n"
     ]
    },
    {
     "name": "stderr",
     "output_type": "stream",
     "text": [
      "                                                                                \r"
     ]
    },
    {
     "name": "stdout",
     "output_type": "stream",
     "text": [
      "22/12/10 19:41:15 WARN TaskSetManager: Stage 81 contains a task of very large size (70582 KiB). The maximum recommended task size is 1000 KiB.\n"
     ]
    },
    {
     "name": "stderr",
     "output_type": "stream",
     "text": [
      "                                                                                \r"
     ]
    },
    {
     "name": "stdout",
     "output_type": "stream",
     "text": [
      "22/12/10 19:41:17 WARN TaskSetManager: Stage 82 contains a task of very large size (70582 KiB). The maximum recommended task size is 1000 KiB.\n"
     ]
    },
    {
     "name": "stderr",
     "output_type": "stream",
     "text": [
      "                                                                                \r"
     ]
    },
    {
     "name": "stdout",
     "output_type": "stream",
     "text": [
      "22/12/10 19:41:48 WARN TaskSetManager: Stage 83 contains a task of very large size (70582 KiB). The maximum recommended task size is 1000 KiB.\n"
     ]
    },
    {
     "name": "stderr",
     "output_type": "stream",
     "text": [
      "                                                                                \r"
     ]
    },
    {
     "name": "stdout",
     "output_type": "stream",
     "text": [
      "22/12/10 19:42:16 WARN TaskSetManager: Stage 84 contains a task of very large size (70582 KiB). The maximum recommended task size is 1000 KiB.\n"
     ]
    },
    {
     "name": "stderr",
     "output_type": "stream",
     "text": [
      "                                                                                \r"
     ]
    },
    {
     "name": "stdout",
     "output_type": "stream",
     "text": [
      "22/12/10 19:42:45 WARN TaskSetManager: Stage 86 contains a task of very large size (70582 KiB). The maximum recommended task size is 1000 KiB.\n"
     ]
    },
    {
     "name": "stderr",
     "output_type": "stream",
     "text": [
      "                                                                                \r"
     ]
    },
    {
     "name": "stdout",
     "output_type": "stream",
     "text": [
      "22/12/10 19:43:15 WARN TaskSetManager: Stage 87 contains a task of very large size (70582 KiB). The maximum recommended task size is 1000 KiB.\n"
     ]
    },
    {
     "name": "stderr",
     "output_type": "stream",
     "text": [
      "                                                                                \r"
     ]
    },
    {
     "name": "stdout",
     "output_type": "stream",
     "text": [
      "22/12/10 19:43:40 WARN TaskSetManager: Stage 88 contains a task of very large size (70582 KiB). The maximum recommended task size is 1000 KiB.\n"
     ]
    },
    {
     "name": "stderr",
     "output_type": "stream",
     "text": [
      "                                                                                \r"
     ]
    },
    {
     "name": "stdout",
     "output_type": "stream",
     "text": [
      "22/12/10 19:44:07 WARN TaskSetManager: Stage 90 contains a task of very large size (70582 KiB). The maximum recommended task size is 1000 KiB.\n"
     ]
    },
    {
     "name": "stderr",
     "output_type": "stream",
     "text": [
      "                                                                                \r"
     ]
    },
    {
     "name": "stdout",
     "output_type": "stream",
     "text": [
      "22/12/10 19:44:37 WARN TaskSetManager: Stage 91 contains a task of very large size (70582 KiB). The maximum recommended task size is 1000 KiB.\n"
     ]
    },
    {
     "name": "stderr",
     "output_type": "stream",
     "text": [
      "                                                                                \r"
     ]
    },
    {
     "name": "stdout",
     "output_type": "stream",
     "text": [
      "22/12/10 19:45:03 WARN TaskSetManager: Stage 92 contains a task of very large size (70582 KiB). The maximum recommended task size is 1000 KiB.\n"
     ]
    },
    {
     "name": "stderr",
     "output_type": "stream",
     "text": [
      "                                                                                \r"
     ]
    },
    {
     "name": "stdout",
     "output_type": "stream",
     "text": [
      "22/12/10 19:45:31 WARN TaskSetManager: Stage 94 contains a task of very large size (70582 KiB). The maximum recommended task size is 1000 KiB.\n"
     ]
    },
    {
     "name": "stderr",
     "output_type": "stream",
     "text": [
      "                                                                                \r"
     ]
    },
    {
     "name": "stdout",
     "output_type": "stream",
     "text": [
      "22/12/10 19:45:59 WARN TaskSetManager: Stage 95 contains a task of very large size (70582 KiB). The maximum recommended task size is 1000 KiB.\n"
     ]
    },
    {
     "name": "stderr",
     "output_type": "stream",
     "text": [
      "                                                                                \r"
     ]
    },
    {
     "name": "stdout",
     "output_type": "stream",
     "text": [
      "22/12/10 19:46:24 WARN TaskSetManager: Stage 96 contains a task of very large size (70582 KiB). The maximum recommended task size is 1000 KiB.\n"
     ]
    },
    {
     "name": "stderr",
     "output_type": "stream",
     "text": [
      "                                                                                \r"
     ]
    },
    {
     "name": "stdout",
     "output_type": "stream",
     "text": [
      "22/12/10 19:46:50 WARN TaskSetManager: Stage 98 contains a task of very large size (70582 KiB). The maximum recommended task size is 1000 KiB.\n"
     ]
    },
    {
     "name": "stderr",
     "output_type": "stream",
     "text": [
      "                                                                                \r"
     ]
    },
    {
     "ename": "ValueError",
     "evalue": "all input arrays must have the same shape",
     "output_type": "error",
     "traceback": [
      "\u001b[0;31m---------------------------------------------------------------------------\u001b[0m",
      "\u001b[0;31mValueError\u001b[0m                                Traceback (most recent call last)",
      "Cell \u001b[0;32mIn [12], line 9\u001b[0m\n\u001b[1;32m      6\u001b[0m     means\u001b[38;5;241m.\u001b[39mappend(mean)\n\u001b[1;32m      8\u001b[0m Y \u001b[38;5;241m=\u001b[39m np\u001b[38;5;241m.\u001b[39mstack(Y)\n\u001b[0;32m----> 9\u001b[0m means \u001b[38;5;241m=\u001b[39m \u001b[43mnp\u001b[49m\u001b[38;5;241;43m.\u001b[39;49m\u001b[43mstack\u001b[49m\u001b[43m(\u001b[49m\u001b[43mmeans\u001b[49m\u001b[43m)\u001b[49m\u001b[38;5;241m.\u001b[39mT\n",
      "File \u001b[0;32m<__array_function__ internals>:180\u001b[0m, in \u001b[0;36mstack\u001b[0;34m(*args, **kwargs)\u001b[0m\n",
      "File \u001b[0;32m~/.local/lib/python3.10/site-packages/numpy/core/shape_base.py:426\u001b[0m, in \u001b[0;36mstack\u001b[0;34m(arrays, axis, out)\u001b[0m\n\u001b[1;32m    424\u001b[0m shapes \u001b[38;5;241m=\u001b[39m {arr\u001b[38;5;241m.\u001b[39mshape \u001b[38;5;28;01mfor\u001b[39;00m arr \u001b[38;5;129;01min\u001b[39;00m arrays}\n\u001b[1;32m    425\u001b[0m \u001b[38;5;28;01mif\u001b[39;00m \u001b[38;5;28mlen\u001b[39m(shapes) \u001b[38;5;241m!=\u001b[39m \u001b[38;5;241m1\u001b[39m:\n\u001b[0;32m--> 426\u001b[0m     \u001b[38;5;28;01mraise\u001b[39;00m \u001b[38;5;167;01mValueError\u001b[39;00m(\u001b[38;5;124m'\u001b[39m\u001b[38;5;124mall input arrays must have the same shape\u001b[39m\u001b[38;5;124m'\u001b[39m)\n\u001b[1;32m    428\u001b[0m result_ndim \u001b[38;5;241m=\u001b[39m arrays[\u001b[38;5;241m0\u001b[39m]\u001b[38;5;241m.\u001b[39mndim \u001b[38;5;241m+\u001b[39m \u001b[38;5;241m1\u001b[39m\n\u001b[1;32m    429\u001b[0m axis \u001b[38;5;241m=\u001b[39m normalize_axis_index(axis, result_ndim)\n",
      "\u001b[0;31mValueError\u001b[0m: all input arrays must have the same shape"
     ]
    }
   ],
   "source": [
    "Y = []\n",
    "means = []\n",
    "K_VALUES = range(2,11)\n",
    "for k in K_VALUES:\n",
    "    y, mean = k_means(X,k, display=False)\n",
    "    Y.append(y)\n",
    "    means.append(mean)\n",
    "    \n",
    "Y = np.stack(Y)"
   ]
  },
  {
   "cell_type": "code",
   "execution_count": 27,
   "id": "45b49d1c-7379-43e0-b892-f5982f951475",
   "metadata": {
    "cell_id": "63e3530c9b8e4b3a9f0c36a9b5b91e91",
    "deepnote_cell_type": "code",
    "deepnote_to_be_reexecuted": false,
    "execution_millis": 190871,
    "execution_start": 1670005157561,
    "source_hash": "9355fbc7",
    "tags": []
   },
   "outputs": [
    {
     "data": {
      "text/plain": [
       "Text(0.5, 0, 'k')"
      ]
     },
     "execution_count": 27,
     "metadata": {},
     "output_type": "execute_result"
    },
    {
     "data": {
      "image/png": "[encoded data removed]",
      "text/plain": [
       "<Figure size 640x480 with 1 Axes>"
      ]
     },
     "metadata": {},
     "output_type": "display_data"
    }
   ],
   "source": [
    "avg_inter_elbow = elbow(avg_inter_cluster_distance, X, Y, means, K_VALUES)\n",
    "plt.plot(avg_inter_elbow.keys(), avg_inter_elbow.values())\n",
    "plt.title('Inter-cluster distance')\n",
    "plt.ylabel('distance')\n",
    "plt.xlabel('k')"
   ]
  },
  {
   "cell_type": "code",
   "execution_count": 29,
   "id": "b879061f-02dd-4994-83c0-89a184ee3776",
   "metadata": {
    "cell_id": "df2932518ba2441e91cb5dd0098cbcab",
    "deepnote_cell_type": "code",
    "deepnote_to_be_reexecuted": false,
    "execution_millis": 617639,
    "execution_start": 1670008197062,
    "source_hash": "4c2d2c9",
    "tags": []
   },
   "outputs": [
    {
     "data": {
      "text/plain": [
       "Text(0.5, 0, 'k')"
      ]
     },
     "execution_count": 29,
     "metadata": {},
     "output_type": "execute_result"
    },
    {
     "data": {
      "image/png": "[encoded data removed]",
      "text/plain": [
       "<Figure size 640x480 with 1 Axes>"
      ]
     },
     "metadata": {},
     "output_type": "display_data"
    }
   ],
   "source": [
    "avg_intra_elbow = elbow(avg_intra_cluster_distance, X, Y, means, K_VALUES)\n",
    "plt.plot(avg_intra_elbow.keys(), avg_intra_elbow.values())\n",
    "plt.title('Intra-cluster distance')\n",
    "plt.ylabel('distance')\n",
    "plt.xlabel('k')"
   ]
  },
  {
   "cell_type": "code",
   "execution_count": 30,
   "id": "3efb957e-dd53-4863-a93c-9d6adf417735",
   "metadata": {
    "cell_id": "0e17678c0aec44b0adb93f33f194cb3c",
    "deepnote_cell_type": "code",
    "deepnote_to_be_reexecuted": false,
    "execution_millis": 246255,
    "execution_start": 1670006964562,
    "source_hash": "23bc1849",
    "tags": []
   },
   "outputs": [
    {
     "ename": "KeyboardInterrupt",
     "evalue": "",
     "output_type": "error",
     "traceback": [
      "\u001b[0;31m---------------------------------------------------------------------------\u001b[0m",
      "\u001b[0;31mKeyboardInterrupt\u001b[0m                         Traceback (most recent call last)",
      "Cell \u001b[0;32mIn [30], line 2\u001b[0m\n\u001b[1;32m      1\u001b[0m silhouette_func \u001b[38;5;241m=\u001b[39m \u001b[38;5;28;01mlambda\u001b[39;00m X, k, means: silhouette_score(X,k)\n\u001b[0;32m----> 2\u001b[0m silhouette_elbow \u001b[38;5;241m=\u001b[39m \u001b[43melbow\u001b[49m\u001b[43m(\u001b[49m\u001b[43msilhouette_func\u001b[49m\u001b[43m,\u001b[49m\u001b[43m \u001b[49m\u001b[43mX\u001b[49m\u001b[43m,\u001b[49m\u001b[43m \u001b[49m\u001b[43mY\u001b[49m\u001b[43m,\u001b[49m\u001b[43m \u001b[49m\u001b[43mmeans\u001b[49m\u001b[43m,\u001b[49m\u001b[43m \u001b[49m\u001b[38;5;28;43mrange\u001b[39;49m\u001b[43m(\u001b[49m\u001b[38;5;241;43m2\u001b[39;49m\u001b[43m,\u001b[49m\u001b[38;5;241;43m7\u001b[39;49m\u001b[43m)\u001b[49m\u001b[43m)\u001b[49m\n\u001b[1;32m      3\u001b[0m plt\u001b[38;5;241m.\u001b[39mplot(silhouette_elbow\u001b[38;5;241m.\u001b[39mkeys(), silhouette_elbow\u001b[38;5;241m.\u001b[39mvalues())\n\u001b[1;32m      4\u001b[0m plt\u001b[38;5;241m.\u001b[39mtitle(\u001b[38;5;124m'\u001b[39m\u001b[38;5;124mSilhouette score\u001b[39m\u001b[38;5;124m'\u001b[39m)\n",
      "File \u001b[0;32m~/Documenti/GitHub/ADM_HW_4/functions/clustering.py:119\u001b[0m, in \u001b[0;36melbow\u001b[0;34m(func, X, Y, means, k_values)\u001b[0m\n\u001b[1;32m    117\u001b[0m \u001b[38;5;28;01mfor\u001b[39;00m i, k \u001b[38;5;129;01min\u001b[39;00m \u001b[38;5;28menumerate\u001b[39m(k_values):\n\u001b[1;32m    118\u001b[0m     y \u001b[38;5;241m=\u001b[39m Y[i,:]\n\u001b[0;32m--> 119\u001b[0m     score[k] \u001b[38;5;241m+\u001b[39m\u001b[38;5;241m=\u001b[39m \u001b[43mfunc\u001b[49m\u001b[43m(\u001b[49m\u001b[43mX\u001b[49m\u001b[43m,\u001b[49m\u001b[43my\u001b[49m\u001b[43m,\u001b[49m\u001b[43m \u001b[49m\u001b[43mmeans\u001b[49m\u001b[43m[\u001b[49m\u001b[43mi\u001b[49m\u001b[43m]\u001b[49m\u001b[43m)\u001b[49m\n\u001b[1;32m    121\u001b[0m \u001b[38;5;28;01mreturn\u001b[39;00m score\n",
      "Cell \u001b[0;32mIn [30], line 1\u001b[0m, in \u001b[0;36m<lambda>\u001b[0;34m(X, k, means)\u001b[0m\n\u001b[0;32m----> 1\u001b[0m silhouette_func \u001b[38;5;241m=\u001b[39m \u001b[38;5;28;01mlambda\u001b[39;00m X, k, means: \u001b[43msilhouette_score\u001b[49m\u001b[43m(\u001b[49m\u001b[43mX\u001b[49m\u001b[43m,\u001b[49m\u001b[43mk\u001b[49m\u001b[43m)\u001b[49m\n\u001b[1;32m      2\u001b[0m silhouette_elbow \u001b[38;5;241m=\u001b[39m elbow(silhouette_func, X, Y, means, \u001b[38;5;28mrange\u001b[39m(\u001b[38;5;241m2\u001b[39m,\u001b[38;5;241m7\u001b[39m))\n\u001b[1;32m      3\u001b[0m plt\u001b[38;5;241m.\u001b[39mplot(silhouette_elbow\u001b[38;5;241m.\u001b[39mkeys(), silhouette_elbow\u001b[38;5;241m.\u001b[39mvalues())\n",
      "File \u001b[0;32m~/.local/lib/python3.10/site-packages/sklearn/metrics/cluster/_unsupervised.py:117\u001b[0m, in \u001b[0;36msilhouette_score\u001b[0;34m(X, labels, metric, sample_size, random_state, **kwds)\u001b[0m\n\u001b[1;32m    115\u001b[0m     \u001b[38;5;28;01melse\u001b[39;00m:\n\u001b[1;32m    116\u001b[0m         X, labels \u001b[38;5;241m=\u001b[39m X[indices], labels[indices]\n\u001b[0;32m--> 117\u001b[0m \u001b[38;5;28;01mreturn\u001b[39;00m np\u001b[38;5;241m.\u001b[39mmean(\u001b[43msilhouette_samples\u001b[49m\u001b[43m(\u001b[49m\u001b[43mX\u001b[49m\u001b[43m,\u001b[49m\u001b[43m \u001b[49m\u001b[43mlabels\u001b[49m\u001b[43m,\u001b[49m\u001b[43m \u001b[49m\u001b[43mmetric\u001b[49m\u001b[38;5;241;43m=\u001b[39;49m\u001b[43mmetric\u001b[49m\u001b[43m,\u001b[49m\u001b[43m \u001b[49m\u001b[38;5;241;43m*\u001b[39;49m\u001b[38;5;241;43m*\u001b[39;49m\u001b[43mkwds\u001b[49m\u001b[43m)\u001b[49m)\n",
      "File \u001b[0;32m~/.local/lib/python3.10/site-packages/sklearn/metrics/cluster/_unsupervised.py:237\u001b[0m, in \u001b[0;36msilhouette_samples\u001b[0;34m(X, labels, metric, **kwds)\u001b[0m\n\u001b[1;32m    233\u001b[0m kwds[\u001b[38;5;124m\"\u001b[39m\u001b[38;5;124mmetric\u001b[39m\u001b[38;5;124m\"\u001b[39m] \u001b[38;5;241m=\u001b[39m metric\n\u001b[1;32m    234\u001b[0m reduce_func \u001b[38;5;241m=\u001b[39m functools\u001b[38;5;241m.\u001b[39mpartial(\n\u001b[1;32m    235\u001b[0m     _silhouette_reduce, labels\u001b[38;5;241m=\u001b[39mlabels, label_freqs\u001b[38;5;241m=\u001b[39mlabel_freqs\n\u001b[1;32m    236\u001b[0m )\n\u001b[0;32m--> 237\u001b[0m results \u001b[38;5;241m=\u001b[39m \u001b[38;5;28;43mzip\u001b[39;49m\u001b[43m(\u001b[49m\u001b[38;5;241;43m*\u001b[39;49m\u001b[43mpairwise_distances_chunked\u001b[49m\u001b[43m(\u001b[49m\u001b[43mX\u001b[49m\u001b[43m,\u001b[49m\u001b[43m \u001b[49m\u001b[43mreduce_func\u001b[49m\u001b[38;5;241;43m=\u001b[39;49m\u001b[43mreduce_func\u001b[49m\u001b[43m,\u001b[49m\u001b[43m \u001b[49m\u001b[38;5;241;43m*\u001b[39;49m\u001b[38;5;241;43m*\u001b[39;49m\u001b[43mkwds\u001b[49m\u001b[43m)\u001b[49m\u001b[43m)\u001b[49m\n\u001b[1;32m    238\u001b[0m intra_clust_dists, inter_clust_dists \u001b[38;5;241m=\u001b[39m results\n\u001b[1;32m    239\u001b[0m intra_clust_dists \u001b[38;5;241m=\u001b[39m np\u001b[38;5;241m.\u001b[39mconcatenate(intra_clust_dists)\n",
      "File \u001b[0;32m~/.local/lib/python3.10/site-packages/sklearn/metrics/pairwise.py:1850\u001b[0m, in \u001b[0;36mpairwise_distances_chunked\u001b[0;34m(X, Y, reduce_func, metric, n_jobs, working_memory, **kwds)\u001b[0m\n\u001b[1;32m   1848\u001b[0m \u001b[38;5;28;01melse\u001b[39;00m:\n\u001b[1;32m   1849\u001b[0m     X_chunk \u001b[38;5;241m=\u001b[39m X[sl]\n\u001b[0;32m-> 1850\u001b[0m D_chunk \u001b[38;5;241m=\u001b[39m \u001b[43mpairwise_distances\u001b[49m\u001b[43m(\u001b[49m\u001b[43mX_chunk\u001b[49m\u001b[43m,\u001b[49m\u001b[43m \u001b[49m\u001b[43mY\u001b[49m\u001b[43m,\u001b[49m\u001b[43m \u001b[49m\u001b[43mmetric\u001b[49m\u001b[38;5;241;43m=\u001b[39;49m\u001b[43mmetric\u001b[49m\u001b[43m,\u001b[49m\u001b[43m \u001b[49m\u001b[43mn_jobs\u001b[49m\u001b[38;5;241;43m=\u001b[39;49m\u001b[43mn_jobs\u001b[49m\u001b[43m,\u001b[49m\u001b[43m \u001b[49m\u001b[38;5;241;43m*\u001b[39;49m\u001b[38;5;241;43m*\u001b[39;49m\u001b[43mkwds\u001b[49m\u001b[43m)\u001b[49m\n\u001b[1;32m   1851\u001b[0m \u001b[38;5;28;01mif\u001b[39;00m (X \u001b[38;5;129;01mis\u001b[39;00m Y \u001b[38;5;129;01mor\u001b[39;00m Y \u001b[38;5;129;01mis\u001b[39;00m \u001b[38;5;28;01mNone\u001b[39;00m) \u001b[38;5;129;01mand\u001b[39;00m PAIRWISE_DISTANCE_FUNCTIONS\u001b[38;5;241m.\u001b[39mget(\n\u001b[1;32m   1852\u001b[0m     metric, \u001b[38;5;28;01mNone\u001b[39;00m\n\u001b[1;32m   1853\u001b[0m ) \u001b[38;5;129;01mis\u001b[39;00m euclidean_distances:\n\u001b[1;32m   1854\u001b[0m     \u001b[38;5;66;03m# zeroing diagonal, taking care of aliases of \"euclidean\",\u001b[39;00m\n\u001b[1;32m   1855\u001b[0m     \u001b[38;5;66;03m# i.e. \"l2\"\u001b[39;00m\n\u001b[1;32m   1856\u001b[0m     D_chunk\u001b[38;5;241m.\u001b[39mflat[sl\u001b[38;5;241m.\u001b[39mstart :: _num_samples(X) \u001b[38;5;241m+\u001b[39m \u001b[38;5;241m1\u001b[39m] \u001b[38;5;241m=\u001b[39m \u001b[38;5;241m0\u001b[39m\n",
      "File \u001b[0;32m~/.local/lib/python3.10/site-packages/sklearn/metrics/pairwise.py:2022\u001b[0m, in \u001b[0;36mpairwise_distances\u001b[0;34m(X, Y, metric, n_jobs, force_all_finite, **kwds)\u001b[0m\n\u001b[1;32m   2019\u001b[0m         \u001b[38;5;28;01mreturn\u001b[39;00m distance\u001b[38;5;241m.\u001b[39msquareform(distance\u001b[38;5;241m.\u001b[39mpdist(X, metric\u001b[38;5;241m=\u001b[39mmetric, \u001b[38;5;241m*\u001b[39m\u001b[38;5;241m*\u001b[39mkwds))\n\u001b[1;32m   2020\u001b[0m     func \u001b[38;5;241m=\u001b[39m partial(distance\u001b[38;5;241m.\u001b[39mcdist, metric\u001b[38;5;241m=\u001b[39mmetric, \u001b[38;5;241m*\u001b[39m\u001b[38;5;241m*\u001b[39mkwds)\n\u001b[0;32m-> 2022\u001b[0m \u001b[38;5;28;01mreturn\u001b[39;00m \u001b[43m_parallel_pairwise\u001b[49m\u001b[43m(\u001b[49m\u001b[43mX\u001b[49m\u001b[43m,\u001b[49m\u001b[43m \u001b[49m\u001b[43mY\u001b[49m\u001b[43m,\u001b[49m\u001b[43m \u001b[49m\u001b[43mfunc\u001b[49m\u001b[43m,\u001b[49m\u001b[43m \u001b[49m\u001b[43mn_jobs\u001b[49m\u001b[43m,\u001b[49m\u001b[43m \u001b[49m\u001b[38;5;241;43m*\u001b[39;49m\u001b[38;5;241;43m*\u001b[39;49m\u001b[43mkwds\u001b[49m\u001b[43m)\u001b[49m\n",
      "File \u001b[0;32m~/.local/lib/python3.10/site-packages/sklearn/metrics/pairwise.py:1563\u001b[0m, in \u001b[0;36m_parallel_pairwise\u001b[0;34m(X, Y, func, n_jobs, **kwds)\u001b[0m\n\u001b[1;32m   1560\u001b[0m X, Y, dtype \u001b[38;5;241m=\u001b[39m _return_float_dtype(X, Y)\n\u001b[1;32m   1562\u001b[0m \u001b[38;5;28;01mif\u001b[39;00m effective_n_jobs(n_jobs) \u001b[38;5;241m==\u001b[39m \u001b[38;5;241m1\u001b[39m:\n\u001b[0;32m-> 1563\u001b[0m     \u001b[38;5;28;01mreturn\u001b[39;00m \u001b[43mfunc\u001b[49m\u001b[43m(\u001b[49m\u001b[43mX\u001b[49m\u001b[43m,\u001b[49m\u001b[43m \u001b[49m\u001b[43mY\u001b[49m\u001b[43m,\u001b[49m\u001b[43m \u001b[49m\u001b[38;5;241;43m*\u001b[39;49m\u001b[38;5;241;43m*\u001b[39;49m\u001b[43mkwds\u001b[49m\u001b[43m)\u001b[49m\n\u001b[1;32m   1565\u001b[0m \u001b[38;5;66;03m# enforce a threading backend to prevent data communication overhead\u001b[39;00m\n\u001b[1;32m   1566\u001b[0m fd \u001b[38;5;241m=\u001b[39m delayed(_dist_wrapper)\n",
      "File \u001b[0;32m~/.local/lib/python3.10/site-packages/sklearn/metrics/pairwise.py:328\u001b[0m, in \u001b[0;36meuclidean_distances\u001b[0;34m(X, Y, Y_norm_squared, squared, X_norm_squared)\u001b[0m\n\u001b[1;32m    322\u001b[0m     \u001b[38;5;28;01mif\u001b[39;00m Y_norm_squared\u001b[38;5;241m.\u001b[39mshape \u001b[38;5;241m!=\u001b[39m (\u001b[38;5;241m1\u001b[39m, Y\u001b[38;5;241m.\u001b[39mshape[\u001b[38;5;241m0\u001b[39m]):\n\u001b[1;32m    323\u001b[0m         \u001b[38;5;28;01mraise\u001b[39;00m \u001b[38;5;167;01mValueError\u001b[39;00m(\n\u001b[1;32m    324\u001b[0m             \u001b[38;5;124mf\u001b[39m\u001b[38;5;124m\"\u001b[39m\u001b[38;5;124mIncompatible dimensions for Y of shape \u001b[39m\u001b[38;5;132;01m{\u001b[39;00mY\u001b[38;5;241m.\u001b[39mshape\u001b[38;5;132;01m}\u001b[39;00m\u001b[38;5;124m and \u001b[39m\u001b[38;5;124m\"\u001b[39m\n\u001b[1;32m    325\u001b[0m             \u001b[38;5;124mf\u001b[39m\u001b[38;5;124m\"\u001b[39m\u001b[38;5;124mY_norm_squared of shape \u001b[39m\u001b[38;5;132;01m{\u001b[39;00moriginal_shape\u001b[38;5;132;01m}\u001b[39;00m\u001b[38;5;124m.\u001b[39m\u001b[38;5;124m\"\u001b[39m\n\u001b[1;32m    326\u001b[0m         )\n\u001b[0;32m--> 328\u001b[0m \u001b[38;5;28;01mreturn\u001b[39;00m \u001b[43m_euclidean_distances\u001b[49m\u001b[43m(\u001b[49m\u001b[43mX\u001b[49m\u001b[43m,\u001b[49m\u001b[43m \u001b[49m\u001b[43mY\u001b[49m\u001b[43m,\u001b[49m\u001b[43m \u001b[49m\u001b[43mX_norm_squared\u001b[49m\u001b[43m,\u001b[49m\u001b[43m \u001b[49m\u001b[43mY_norm_squared\u001b[49m\u001b[43m,\u001b[49m\u001b[43m \u001b[49m\u001b[43msquared\u001b[49m\u001b[43m)\u001b[49m\n",
      "File \u001b[0;32m~/.local/lib/python3.10/site-packages/sklearn/metrics/pairwise.py:369\u001b[0m, in \u001b[0;36m_euclidean_distances\u001b[0;34m(X, Y, X_norm_squared, Y_norm_squared, squared)\u001b[0m\n\u001b[1;32m    366\u001b[0m     distances \u001b[38;5;241m=\u001b[39m _euclidean_distances_upcast(X, XX, Y, YY)\n\u001b[1;32m    367\u001b[0m \u001b[38;5;28;01melse\u001b[39;00m:\n\u001b[1;32m    368\u001b[0m     \u001b[38;5;66;03m# if dtype is already float64, no need to chunk and upcast\u001b[39;00m\n\u001b[0;32m--> 369\u001b[0m     distances \u001b[38;5;241m=\u001b[39m \u001b[38;5;241m-\u001b[39m\u001b[38;5;241m2\u001b[39m \u001b[38;5;241m*\u001b[39m \u001b[43msafe_sparse_dot\u001b[49m\u001b[43m(\u001b[49m\u001b[43mX\u001b[49m\u001b[43m,\u001b[49m\u001b[43m \u001b[49m\u001b[43mY\u001b[49m\u001b[38;5;241;43m.\u001b[39;49m\u001b[43mT\u001b[49m\u001b[43m,\u001b[49m\u001b[43m \u001b[49m\u001b[43mdense_output\u001b[49m\u001b[38;5;241;43m=\u001b[39;49m\u001b[38;5;28;43;01mTrue\u001b[39;49;00m\u001b[43m)\u001b[49m\n\u001b[1;32m    370\u001b[0m     distances \u001b[38;5;241m+\u001b[39m\u001b[38;5;241m=\u001b[39m XX\n\u001b[1;32m    371\u001b[0m     distances \u001b[38;5;241m+\u001b[39m\u001b[38;5;241m=\u001b[39m YY\n",
      "File \u001b[0;32m~/.local/lib/python3.10/site-packages/sklearn/utils/extmath.py:155\u001b[0m, in \u001b[0;36msafe_sparse_dot\u001b[0;34m(a, b, dense_output)\u001b[0m\n\u001b[1;32m    151\u001b[0m \u001b[38;5;28;01melse\u001b[39;00m:\n\u001b[1;32m    152\u001b[0m     ret \u001b[38;5;241m=\u001b[39m a \u001b[38;5;241m@\u001b[39m b\n\u001b[1;32m    154\u001b[0m \u001b[38;5;28;01mif\u001b[39;00m (\n\u001b[0;32m--> 155\u001b[0m     \u001b[43msparse\u001b[49m\u001b[38;5;241;43m.\u001b[39;49m\u001b[43missparse\u001b[49m\u001b[43m(\u001b[49m\u001b[43ma\u001b[49m\u001b[43m)\u001b[49m\n\u001b[1;32m    156\u001b[0m     \u001b[38;5;129;01mand\u001b[39;00m sparse\u001b[38;5;241m.\u001b[39missparse(b)\n\u001b[1;32m    157\u001b[0m     \u001b[38;5;129;01mand\u001b[39;00m dense_output\n\u001b[1;32m    158\u001b[0m     \u001b[38;5;129;01mand\u001b[39;00m \u001b[38;5;28mhasattr\u001b[39m(ret, \u001b[38;5;124m\"\u001b[39m\u001b[38;5;124mtoarray\u001b[39m\u001b[38;5;124m\"\u001b[39m)\n\u001b[1;32m    159\u001b[0m ):\n\u001b[1;32m    160\u001b[0m     \u001b[38;5;28;01mreturn\u001b[39;00m ret\u001b[38;5;241m.\u001b[39mtoarray()\n\u001b[1;32m    161\u001b[0m \u001b[38;5;28;01mreturn\u001b[39;00m ret\n",
      "File \u001b[0;32m~/.local/lib/python3.10/site-packages/scipy/sparse/_base.py:1301\u001b[0m, in \u001b[0;36misspmatrix\u001b[0;34m(x)\u001b[0m\n\u001b[1;32m   1297\u001b[0m         \u001b[38;5;28;01melse\u001b[39;00m:\n\u001b[1;32m   1298\u001b[0m             \u001b[38;5;28;01mreturn\u001b[39;00m np\u001b[38;5;241m.\u001b[39mzeros(\u001b[38;5;28mself\u001b[39m\u001b[38;5;241m.\u001b[39mshape, dtype\u001b[38;5;241m=\u001b[39m\u001b[38;5;28mself\u001b[39m\u001b[38;5;241m.\u001b[39mdtype, order\u001b[38;5;241m=\u001b[39morder)\n\u001b[0;32m-> 1301\u001b[0m \u001b[38;5;28;01mdef\u001b[39;00m \u001b[38;5;21misspmatrix\u001b[39m(x):\n\u001b[1;32m   1302\u001b[0m     \u001b[38;5;124;03m\"\"\"Is x of a sparse matrix type?\u001b[39;00m\n\u001b[1;32m   1303\u001b[0m \n\u001b[1;32m   1304\u001b[0m \u001b[38;5;124;03m    Parameters\u001b[39;00m\n\u001b[0;32m   (...)\u001b[0m\n\u001b[1;32m   1326\u001b[0m \u001b[38;5;124;03m    False\u001b[39;00m\n\u001b[1;32m   1327\u001b[0m \u001b[38;5;124;03m    \"\"\"\u001b[39;00m\n\u001b[1;32m   1328\u001b[0m     \u001b[38;5;28;01mreturn\u001b[39;00m \u001b[38;5;28misinstance\u001b[39m(x, spmatrix)\n",
      "\u001b[0;31mKeyboardInterrupt\u001b[0m: "
     ]
    }
   ],
   "source": [
    "silhouette_func = lambda X, k, means: silhouette_score(X,k)\n",
    "silhouette_elbow = elbow(silhouette_func, X, Y, means, K_VALUES)\n",
    "plt.plot(cluster_centers_uette_elbow.keys(), silhouette_elbow.values())\n",
    "plt.title('Silhouette score')\n",
    "plt.ylabel('score')\n",
    "plt.xlabel('k')"
   ]
  },
  {
   "cell_type": "markdown",
   "id": "db615980-f97d-4602-8169-53c26e1ccd6d",
   "metadata": {},
   "source": [
    "So now we can choose the optimal k."
   ]
  },
  {
   "cell_type": "code",
   "execution_count": 31,
   "id": "4ce93a22-8a7b-4fbf-b90c-651ea1e9ee6b",
   "metadata": {},
   "outputs": [],
   "source": [
    "OPTIMAL_K = 5"
   ]
  },
  {
   "cell_type": "markdown",
   "id": "ac2b645a-9566-465b-a5b1-7d9af00e10dc",
   "metadata": {},
   "source": [
    "### Compare against scikit\n",
    "Now we can confront our algorithm with the KMeans++ from `scikit`"
   ]
  },
  {
   "cell_type": "code",
   "execution_count": 59,
   "id": "8ca8339d-6fc0-4dd2-a1d0-800d61958bf7",
   "metadata": {
    "cell_id": "7f0caf71b0034c0196084813ad0d1ff0",
    "deepnote_cell_type": "code",
    "deepnote_to_be_reexecuted": false,
    "execution_millis": 789,
    "execution_start": 1670008021742,
    "source_hash": "8d1291f4",
    "tags": []
   },
   "outputs": [
    {
     "data": {
      "image/png": "[encoded data removed]",
      "text/plain": [
       "<Figure size 640x480 with 1 Axes>"
      ]
     },
     "metadata": {},
     "output_type": "display_data"
    }
   ],
   "source": [
    "from sklearn.cluster import KMeans\n",
    "\n",
    "kmeans = KMeans(n_clusters=OPTIMAL_K).fit(X)\n",
    "display_clusters(X, kmeans.labels_, kmeans.cluster_centers_)"
   ]
  },
  {
   "cell_type": "code",
   "execution_count": null,
   "id": "c3e64940-ec3b-459a-ad1d-b49da80a087b",
   "metadata": {
    "cell_id": "fa0c384386ce4ebcb140c7342236eaa7",
    "deepnote_cell_type": "code",
    "deepnote_to_be_reexecuted": false,
    "execution_millis": 6732,
    "execution_start": 1670006538526,
    "source_hash": "6b8a2542",
    "tags": []
   },
   "outputs": [],
   "source": [
    "Y_sk = []\n",
    "means_sk = []\n",
    "K_VALUES = range(3,20)\n",
    "for k in K_VALUES:\n",
    "    km = KMeans(n_clusters=k).fit(X)\n",
    "    Y_sk.append( km.labels_ )\n",
    "    means_sk.append( km.cluster_centers_ )\n",
    "    \n",
    "Y_sk = np.stack(Y_sk)"
   ]
  },
  {
   "cell_type": "code",
   "execution_count": 44,
   "id": "3d44fcb5-8f09-46e8-9ba5-37f55f4a1cd9",
   "metadata": {
    "cell_id": "fa0c384386ce4ebcb140c7342236eaa7",
    "deepnote_cell_type": "code",
    "deepnote_to_be_reexecuted": false,
    "execution_millis": 6732,
    "execution_start": 1670006538526,
    "source_hash": "6b8a2542",
    "tags": []
   },
   "outputs": [
    {
     "data": {
      "text/plain": [
       "Text(0.5, 0, 'k')"
      ]
     },
     "execution_count": 44,
     "metadata": {},
     "output_type": "execute_result"
    },
    {
     "data": {
      "image/png": "[encoded data removed]",
      "text/plain": [
       "<Figure size 640x480 with 1 Axes>"
      ]
     },
     "metadata": {},
     "output_type": "display_data"
    }
   ],
   "source": [
    "avg_inter_elbow = elbow(avg_inter_cluster_distance, X, Y_sk, means_sk, K_VALUES )\n",
    "plt.plot(avg_inter_elbow.keys(), avg_inter_elbow.values())\n",
    "plt.title('Inter-cluster distance')\n",
    "plt.ylabel('distance')\n",
    "plt.xlabel('k')"
   ]
  },
  {
   "cell_type": "code",
   "execution_count": 45,
   "id": "18afeced-e08b-4b21-9608-a7c4f19f4395",
   "metadata": {},
   "outputs": [
    {
     "data": {
      "text/plain": [
       "Text(0.5, 0, 'k')"
      ]
     },
     "execution_count": 45,
     "metadata": {},
     "output_type": "execute_result"
    },
    {
     "data": {
      "image/png": "[encoded data removed]",
      "text/plain": [
       "<Figure size 640x480 with 1 Axes>"
      ]
     },
     "metadata": {},
     "output_type": "display_data"
    }
   ],
   "source": [
    "avg_intra_elbow = elbow(avg_intra_cluster_distance, X, Y_sk, means_sk, K_VALUES )\n",
    "plt.plot(avg_intra_elbow.keys(), avg_intra_elbow.values())\n",
    "plt.title('Intra-cluster distance')\n",
    "plt.ylabel('distance')\n",
    "plt.xlabel('k')"
   ]
  },
  {
   "cell_type": "markdown",
   "id": "6aefb697-3e03-47c9-a95a-0c8398034144",
   "metadata": {
    "tags": []
   },
   "source": [
    "## 2.4 Analysis"
   ]
  },
  {
   "cell_type": "markdown",
   "id": "40cdec8e-9b24-4a78-9625-efc0b771657f",
   "metadata": {
    "cell_id": "e23c073576154f3386ae127e51d7c8c5",
    "deepnote_cell_type": "text-cell-h3",
    "formattedRanges": [],
    "is_collapsed": false,
    "tags": []
   },
   "source": [
    "## Bonus"
   ]
  },
  {
   "cell_type": "code",
   "execution_count": 46,
   "id": "2b0c42ae-81c4-4868-b798-38d68132c758",
   "metadata": {
    "cell_id": "52ace9b333e24c66ba17e67e0b39a98e",
    "deepnote_cell_type": "code",
    "deepnote_to_be_reexecuted": false,
    "execution_millis": 582,
    "execution_start": 1670008125518,
    "source_hash": "8b084232",
    "tags": []
   },
   "outputs": [
    {
     "ename": "MemoryError",
     "evalue": "Unable to allocate 2.56 TiB for an array with shape (351975182653,) and data type float64",
     "output_type": "error",
     "traceback": [
      "\u001b[0;31m---------------------------------------------------------------------------\u001b[0m",
      "\u001b[0;31mMemoryError\u001b[0m                               Traceback (most recent call last)",
      "Cell \u001b[0;32mIn [46], line 3\u001b[0m\n\u001b[1;32m      1\u001b[0m \u001b[38;5;28;01mfrom\u001b[39;00m \u001b[38;5;21;01msklearn\u001b[39;00m\u001b[38;5;21;01m.\u001b[39;00m\u001b[38;5;21;01mcluster\u001b[39;00m \u001b[38;5;28;01mimport\u001b[39;00m AgglomerativeClustering\n\u001b[0;32m----> 3\u001b[0m birch \u001b[38;5;241m=\u001b[39m \u001b[43mAgglomerativeClustering\u001b[49m\u001b[43m(\u001b[49m\u001b[43mn_clusters\u001b[49m\u001b[38;5;241;43m=\u001b[39;49m\u001b[43mOPTIMAL_K\u001b[49m\u001b[43m)\u001b[49m\u001b[38;5;241;43m.\u001b[39;49m\u001b[43mfit\u001b[49m\u001b[43m(\u001b[49m\u001b[43mX\u001b[49m\u001b[43m)\u001b[49m\n\u001b[1;32m      4\u001b[0m display_clusters(X, birch\u001b[38;5;241m.\u001b[39mlabels_)\n",
      "File \u001b[0;32m~/.local/lib/python3.10/site-packages/sklearn/cluster/_agglomerative.py:915\u001b[0m, in \u001b[0;36mAgglomerativeClustering.fit\u001b[0;34m(self, X, y)\u001b[0m\n\u001b[1;32m    897\u001b[0m \u001b[38;5;124;03m\"\"\"Fit the hierarchical clustering from features, or distance matrix.\u001b[39;00m\n\u001b[1;32m    898\u001b[0m \n\u001b[1;32m    899\u001b[0m \u001b[38;5;124;03mParameters\u001b[39;00m\n\u001b[0;32m   (...)\u001b[0m\n\u001b[1;32m    912\u001b[0m \u001b[38;5;124;03m    Returns the fitted instance.\u001b[39;00m\n\u001b[1;32m    913\u001b[0m \u001b[38;5;124;03m\"\"\"\u001b[39;00m\n\u001b[1;32m    914\u001b[0m X \u001b[38;5;241m=\u001b[39m \u001b[38;5;28mself\u001b[39m\u001b[38;5;241m.\u001b[39m_validate_data(X, ensure_min_samples\u001b[38;5;241m=\u001b[39m\u001b[38;5;241m2\u001b[39m)\n\u001b[0;32m--> 915\u001b[0m \u001b[38;5;28;01mreturn\u001b[39;00m \u001b[38;5;28;43mself\u001b[39;49m\u001b[38;5;241;43m.\u001b[39;49m\u001b[43m_fit\u001b[49m\u001b[43m(\u001b[49m\u001b[43mX\u001b[49m\u001b[43m)\u001b[49m\n",
      "File \u001b[0;32m~/.local/lib/python3.10/site-packages/sklearn/cluster/_agglomerative.py:998\u001b[0m, in \u001b[0;36mAgglomerativeClustering._fit\u001b[0;34m(self, X)\u001b[0m\n\u001b[1;32m    994\u001b[0m distance_threshold \u001b[38;5;241m=\u001b[39m \u001b[38;5;28mself\u001b[39m\u001b[38;5;241m.\u001b[39mdistance_threshold\n\u001b[1;32m    996\u001b[0m return_distance \u001b[38;5;241m=\u001b[39m (distance_threshold \u001b[38;5;129;01mis\u001b[39;00m \u001b[38;5;129;01mnot\u001b[39;00m \u001b[38;5;28;01mNone\u001b[39;00m) \u001b[38;5;129;01mor\u001b[39;00m \u001b[38;5;28mself\u001b[39m\u001b[38;5;241m.\u001b[39mcompute_distances\n\u001b[0;32m--> 998\u001b[0m out \u001b[38;5;241m=\u001b[39m \u001b[43mmemory\u001b[49m\u001b[38;5;241;43m.\u001b[39;49m\u001b[43mcache\u001b[49m\u001b[43m(\u001b[49m\u001b[43mtree_builder\u001b[49m\u001b[43m)\u001b[49m\u001b[43m(\u001b[49m\n\u001b[1;32m    999\u001b[0m \u001b[43m    \u001b[49m\u001b[43mX\u001b[49m\u001b[43m,\u001b[49m\n\u001b[1;32m   1000\u001b[0m \u001b[43m    \u001b[49m\u001b[43mconnectivity\u001b[49m\u001b[38;5;241;43m=\u001b[39;49m\u001b[43mconnectivity\u001b[49m\u001b[43m,\u001b[49m\n\u001b[1;32m   1001\u001b[0m \u001b[43m    \u001b[49m\u001b[43mn_clusters\u001b[49m\u001b[38;5;241;43m=\u001b[39;49m\u001b[43mn_clusters\u001b[49m\u001b[43m,\u001b[49m\n\u001b[1;32m   1002\u001b[0m \u001b[43m    \u001b[49m\u001b[43mreturn_distance\u001b[49m\u001b[38;5;241;43m=\u001b[39;49m\u001b[43mreturn_distance\u001b[49m\u001b[43m,\u001b[49m\n\u001b[1;32m   1003\u001b[0m \u001b[43m    \u001b[49m\u001b[38;5;241;43m*\u001b[39;49m\u001b[38;5;241;43m*\u001b[39;49m\u001b[43mkwargs\u001b[49m\u001b[43m,\u001b[49m\n\u001b[1;32m   1004\u001b[0m \u001b[43m\u001b[49m\u001b[43m)\u001b[49m\n\u001b[1;32m   1005\u001b[0m (\u001b[38;5;28mself\u001b[39m\u001b[38;5;241m.\u001b[39mchildren_, \u001b[38;5;28mself\u001b[39m\u001b[38;5;241m.\u001b[39mn_connected_components_, \u001b[38;5;28mself\u001b[39m\u001b[38;5;241m.\u001b[39mn_leaves_, parents) \u001b[38;5;241m=\u001b[39m out[\n\u001b[1;32m   1006\u001b[0m     :\u001b[38;5;241m4\u001b[39m\n\u001b[1;32m   1007\u001b[0m ]\n\u001b[1;32m   1009\u001b[0m \u001b[38;5;28;01mif\u001b[39;00m return_distance:\n",
      "File \u001b[0;32m~/.local/lib/python3.10/site-packages/joblib/memory.py:349\u001b[0m, in \u001b[0;36mNotMemorizedFunc.__call__\u001b[0;34m(self, *args, **kwargs)\u001b[0m\n\u001b[1;32m    348\u001b[0m \u001b[38;5;28;01mdef\u001b[39;00m \u001b[38;5;21m__call__\u001b[39m(\u001b[38;5;28mself\u001b[39m, \u001b[38;5;241m*\u001b[39margs, \u001b[38;5;241m*\u001b[39m\u001b[38;5;241m*\u001b[39mkwargs):\n\u001b[0;32m--> 349\u001b[0m     \u001b[38;5;28;01mreturn\u001b[39;00m \u001b[38;5;28;43mself\u001b[39;49m\u001b[38;5;241;43m.\u001b[39;49m\u001b[43mfunc\u001b[49m\u001b[43m(\u001b[49m\u001b[38;5;241;43m*\u001b[39;49m\u001b[43margs\u001b[49m\u001b[43m,\u001b[49m\u001b[43m \u001b[49m\u001b[38;5;241;43m*\u001b[39;49m\u001b[38;5;241;43m*\u001b[39;49m\u001b[43mkwargs\u001b[49m\u001b[43m)\u001b[49m\n",
      "File \u001b[0;32m~/.local/lib/python3.10/site-packages/sklearn/cluster/_agglomerative.py:270\u001b[0m, in \u001b[0;36mward_tree\u001b[0;34m(X, connectivity, n_clusters, return_distance)\u001b[0m\n\u001b[1;32m    260\u001b[0m     warnings\u001b[38;5;241m.\u001b[39mwarn(\n\u001b[1;32m    261\u001b[0m         \u001b[38;5;124m\"\u001b[39m\u001b[38;5;124mPartial build of the tree is implemented \u001b[39m\u001b[38;5;124m\"\u001b[39m\n\u001b[1;32m    262\u001b[0m         \u001b[38;5;124m\"\u001b[39m\u001b[38;5;124monly for structured clustering (i.e. with \u001b[39m\u001b[38;5;124m\"\u001b[39m\n\u001b[0;32m   (...)\u001b[0m\n\u001b[1;32m    267\u001b[0m         stacklevel\u001b[38;5;241m=\u001b[39m\u001b[38;5;241m2\u001b[39m,\n\u001b[1;32m    268\u001b[0m     )\n\u001b[1;32m    269\u001b[0m X \u001b[38;5;241m=\u001b[39m np\u001b[38;5;241m.\u001b[39mrequire(X, requirements\u001b[38;5;241m=\u001b[39m\u001b[38;5;124m\"\u001b[39m\u001b[38;5;124mW\u001b[39m\u001b[38;5;124m\"\u001b[39m)\n\u001b[0;32m--> 270\u001b[0m out \u001b[38;5;241m=\u001b[39m \u001b[43mhierarchy\u001b[49m\u001b[38;5;241;43m.\u001b[39;49m\u001b[43mward\u001b[49m\u001b[43m(\u001b[49m\u001b[43mX\u001b[49m\u001b[43m)\u001b[49m\n\u001b[1;32m    271\u001b[0m children_ \u001b[38;5;241m=\u001b[39m out[:, :\u001b[38;5;241m2\u001b[39m]\u001b[38;5;241m.\u001b[39mastype(np\u001b[38;5;241m.\u001b[39mintp)\n\u001b[1;32m    273\u001b[0m \u001b[38;5;28;01mif\u001b[39;00m return_distance:\n",
      "File \u001b[0;32m~/.local/lib/python3.10/site-packages/scipy/cluster/hierarchy.py:834\u001b[0m, in \u001b[0;36mward\u001b[0;34m(y)\u001b[0m\n\u001b[1;32m    738\u001b[0m \u001b[38;5;28;01mdef\u001b[39;00m \u001b[38;5;21mward\u001b[39m(y):\n\u001b[1;32m    739\u001b[0m     \u001b[38;5;124;03m\"\"\"\u001b[39;00m\n\u001b[1;32m    740\u001b[0m \u001b[38;5;124;03m    Perform Ward's linkage on a condensed distance matrix.\u001b[39;00m\n\u001b[1;32m    741\u001b[0m \n\u001b[0;32m   (...)\u001b[0m\n\u001b[1;32m    832\u001b[0m \n\u001b[1;32m    833\u001b[0m \u001b[38;5;124;03m    \"\"\"\u001b[39;00m\n\u001b[0;32m--> 834\u001b[0m     \u001b[38;5;28;01mreturn\u001b[39;00m \u001b[43mlinkage\u001b[49m\u001b[43m(\u001b[49m\u001b[43my\u001b[49m\u001b[43m,\u001b[49m\u001b[43m \u001b[49m\u001b[43mmethod\u001b[49m\u001b[38;5;241;43m=\u001b[39;49m\u001b[38;5;124;43m'\u001b[39;49m\u001b[38;5;124;43mward\u001b[39;49m\u001b[38;5;124;43m'\u001b[39;49m\u001b[43m,\u001b[49m\u001b[43m \u001b[49m\u001b[43mmetric\u001b[49m\u001b[38;5;241;43m=\u001b[39;49m\u001b[38;5;124;43m'\u001b[39;49m\u001b[38;5;124;43meuclidean\u001b[39;49m\u001b[38;5;124;43m'\u001b[39;49m\u001b[43m)\u001b[49m\n",
      "File \u001b[0;32m~/.local/lib/python3.10/site-packages/scipy/cluster/hierarchy.py:1060\u001b[0m, in \u001b[0;36mlinkage\u001b[0;34m(y, method, metric, optimal_ordering)\u001b[0m\n\u001b[1;32m   1056\u001b[0m         \u001b[38;5;28;01mif\u001b[39;00m np\u001b[38;5;241m.\u001b[39mall(y \u001b[38;5;241m>\u001b[39m\u001b[38;5;241m=\u001b[39m \u001b[38;5;241m0\u001b[39m) \u001b[38;5;129;01mand\u001b[39;00m np\u001b[38;5;241m.\u001b[39mallclose(y, y\u001b[38;5;241m.\u001b[39mT):\n\u001b[1;32m   1057\u001b[0m             _warning(\u001b[38;5;124m'\u001b[39m\u001b[38;5;124mThe symmetric non-negative hollow observation \u001b[39m\u001b[38;5;124m'\u001b[39m\n\u001b[1;32m   1058\u001b[0m                      \u001b[38;5;124m'\u001b[39m\u001b[38;5;124mmatrix looks suspiciously like an uncondensed \u001b[39m\u001b[38;5;124m'\u001b[39m\n\u001b[1;32m   1059\u001b[0m                      \u001b[38;5;124m'\u001b[39m\u001b[38;5;124mdistance matrix\u001b[39m\u001b[38;5;124m'\u001b[39m)\n\u001b[0;32m-> 1060\u001b[0m     y \u001b[38;5;241m=\u001b[39m \u001b[43mdistance\u001b[49m\u001b[38;5;241;43m.\u001b[39;49m\u001b[43mpdist\u001b[49m\u001b[43m(\u001b[49m\u001b[43my\u001b[49m\u001b[43m,\u001b[49m\u001b[43m \u001b[49m\u001b[43mmetric\u001b[49m\u001b[43m)\u001b[49m\n\u001b[1;32m   1061\u001b[0m \u001b[38;5;28;01melse\u001b[39;00m:\n\u001b[1;32m   1062\u001b[0m     \u001b[38;5;28;01mraise\u001b[39;00m \u001b[38;5;167;01mValueError\u001b[39;00m(\u001b[38;5;124m\"\u001b[39m\u001b[38;5;124m`y` must be 1 or 2 dimensional.\u001b[39m\u001b[38;5;124m\"\u001b[39m)\n",
      "File \u001b[0;32m~/.local/lib/python3.10/site-packages/scipy/spatial/distance.py:2233\u001b[0m, in \u001b[0;36mpdist\u001b[0;34m(X, metric, out, **kwargs)\u001b[0m\n\u001b[1;32m   2231\u001b[0m \u001b[38;5;28;01mif\u001b[39;00m metric_info \u001b[38;5;129;01mis\u001b[39;00m \u001b[38;5;129;01mnot\u001b[39;00m \u001b[38;5;28;01mNone\u001b[39;00m:\n\u001b[1;32m   2232\u001b[0m     pdist_fn \u001b[38;5;241m=\u001b[39m metric_info\u001b[38;5;241m.\u001b[39mpdist_func\n\u001b[0;32m-> 2233\u001b[0m     \u001b[38;5;28;01mreturn\u001b[39;00m \u001b[43mpdist_fn\u001b[49m\u001b[43m(\u001b[49m\u001b[43mX\u001b[49m\u001b[43m,\u001b[49m\u001b[43m \u001b[49m\u001b[43mout\u001b[49m\u001b[38;5;241;43m=\u001b[39;49m\u001b[43mout\u001b[49m\u001b[43m,\u001b[49m\u001b[43m \u001b[49m\u001b[38;5;241;43m*\u001b[39;49m\u001b[38;5;241;43m*\u001b[39;49m\u001b[43mkwargs\u001b[49m\u001b[43m)\u001b[49m\n\u001b[1;32m   2234\u001b[0m \u001b[38;5;28;01melif\u001b[39;00m mstr\u001b[38;5;241m.\u001b[39mstartswith(\u001b[38;5;124m\"\u001b[39m\u001b[38;5;124mtest_\u001b[39m\u001b[38;5;124m\"\u001b[39m):\n\u001b[1;32m   2235\u001b[0m     metric_info \u001b[38;5;241m=\u001b[39m _TEST_METRICS\u001b[38;5;241m.\u001b[39mget(mstr, \u001b[38;5;28;01mNone\u001b[39;00m)\n",
      "\u001b[0;31mMemoryError\u001b[0m: Unable to allocate 2.56 TiB for an array with shape (351975182653,) and data type float64"
     ]
    }
   ],
   "source": [
    "from sklearn.cluster import AgglomerativeClustering\n",
    "\n",
    "birch = AgglomerativeClustering(n_clusters=OPTIMAL_K).fit(X)\n",
    "display_clusters(X, birch.labels_)"
   ]
  },
  {
   "cell_type": "code",
   "execution_count": 43,
   "id": "39a71b25-5e37-497b-8b17-67d87c5c0b8c",
   "metadata": {
    "cell_id": "ea3d19bffe14481a9b7536fe1c369d0e",
    "deepnote_cell_type": "code",
    "tags": []
   },
   "outputs": [
    {
     "data": {
      "image/png": "[encoded data removed]",
      "text/plain": [
       "<Figure size 640x480 with 1 Axes>"
      ]
     },
     "metadata": {},
     "output_type": "display_data"
    }
   ],
   "source": [
    "from sklearn.cluster import Birch\n",
    "\n",
    "birch = Birch(n_clusters=OPTIMAL_K).fit(X)\n",
    "display_clusters(X, birch.labels_)"
   ]
  }
 ],
 "metadata": {
  "kernelspec": {
   "display_name": "base",
   "language": "python",
   "name": "python3"
  },
  "language_info": {
   "codemirror_mode": {
    "name": "ipython",
    "version": 3
   },
   "file_extension": ".py",
   "mimetype": "text/x-python",
   "name": "python",
   "nbconvert_exporter": "python",
   "pygments_lexer": "ipython3",
   "version": "3.9.13"
  },
  "vscode": {
   "interpreter": {
    "hash": "3934acf1a4a41e2d847cd85d523bfc68e098b1cf1c6c0879ca15a5d7119dcda4"
   }
  }
 },
 "nbformat": 4,
 "nbformat_minor": 5
}
